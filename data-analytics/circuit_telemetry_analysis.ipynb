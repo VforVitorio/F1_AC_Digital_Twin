{
 "cells": [
  {
   "cell_type": "markdown",
   "id": "443ef8a4",
   "metadata": {},
   "source": [
    "# Circuit Telemetry Analysis & Visualization"
   ]
  },
  {
   "cell_type": "markdown",
   "id": "f8a5bb35",
   "metadata": {},
   "source": [
    "This notebook analyzes Assetto Corsa telemetry data from any circuit and creates comprehensive track visualizations for AI training support.\n",
    "\n",
    "### Key Features:\n",
    "- **Circuit-agnostic analysis** - Works with any AC track (Monza, Silverstone, etc.)\n",
    "- **Automatic track optimization** - Rotates and scales circuit for optimal display\n",
    "- **Multi-variable visualization** - 6 different telemetry views in interactive plots\n",
    "\n",
    "### Analysis Components:\n",
    "\n",
    "1. **Data Loading & Inspection**\n",
    "   - Telemetry data overview (coordinates, speed, distance)\n",
    "   - Available variables summary (steering, grip, flags, etc.)\n",
    "\n",
    "2. **Track Layout Optimization** \n",
    "   - Automatic rotation for best horizontal fit\n",
    "   - Coordinate centering and scaling\n",
    "\n",
    "3. **Interactive Visualizations** (Plotly)\n",
    "   - **Speed map** - Track colored by speed zones\n",
    "   - **Steering map** - Cornering analysis \n",
    "   - **Throttle/Brake map** - Acceleration/braking zones\n",
    "   - **Gear map** - Transmission usage patterns\n",
    "   - **RPM map** - Engine performance zones\n",
    "   - **Surface Grip map** - Track condition analysis\n",
    "\n",
    "### Variables Used:\n",
    "`Speed_kmh`, `RPM`, `Throttle`, `Brake`, `Steering`, `Gear`, `SurfaceGrip`, `X`, `Y`, `Z`\n",
    "\n",
    "### Output:\n",
    "Interactive multi-subplot visualization showing complete telemetry analysis for driving pattern recognition and AI training data preparation."
   ]
  },
  {
   "cell_type": "markdown",
   "id": "08a53228",
   "metadata": {},
   "source": [
    "---"
   ]
  },
  {
   "cell_type": "markdown",
   "id": "ff69935e",
   "metadata": {},
   "source": [
    "## 1. Import Libraries and Data Loading"
   ]
  },
  {
   "cell_type": "markdown",
   "id": "28a5bf09",
   "metadata": {},
   "source": [
    "Import essential libraries for telemetry analysis and visualization\n",
    "\n",
    "- **pandas/numpy**: Data manipulation and mathematical operations\n",
    "- **matplotlib**: Static plotting and animation capabilities\n",
    "- **plotly**: Interactive visualizations for detailed telemetry analysis"
   ]
  },
  {
   "cell_type": "code",
   "execution_count": 1,
   "id": "fc1cd891",
   "metadata": {},
   "outputs": [],
   "source": [
    "import pandas as pd\n",
    "import numpy as np\n",
    "import matplotlib.pyplot as plt\n",
    "import matplotlib.animation as animation\n",
    "from matplotlib.patches import Circle\n",
    "import plotly.graph_objects as go\n",
    "import plotly.express as px\n",
    "from plotly.subplots import make_subplots"
   ]
  },
  {
   "cell_type": "code",
   "execution_count": null,
   "id": "2bc3dcd4",
   "metadata": {},
   "outputs": [],
   "source": []
  },
  {
   "cell_type": "markdown",
   "id": "5a43ec27",
   "metadata": {},
   "source": [
    "#### 1.1 📊 Telemetry Data Loading & Inspection\n",
    "**Purpose**: Load AC telemetry data and analyze available variables for circuit analysis\n",
    "- **Data overview**: Check coordinate ranges, speed limits, and total distance\n",
    "- **Variable discovery**: Identify new telemetry fields (steering, grip, flags)\n",
    "- **Quality assessment**: Validate data completeness for visualization pipeline"
   ]
  },
  {
   "cell_type": "code",
   "execution_count": 8,
   "id": "8fca6b38",
   "metadata": {},
   "outputs": [
    {
     "name": "stdout",
     "output_type": "stream",
     "text": [
      "=== MONZA ASSETTO CORSA DATA ===\n",
      "Total points: 814\n",
      "Coordinates - X: -212.2 to 1045.4\n",
      "Coordinates - Y: -11.3 to 1.6 (height)\n",
      "Coordinates - Z: -1276.7 to 889.5\n",
      "Speed: 77.1 - 335.0 km/h\n",
      "Total distance: 5748.6 m\n"
     ]
    },
    {
     "data": {
      "text/plain": [
       "Index(['Distance', 'Timestamp', 'Speed_kmh', 'RPM', 'Throttle', 'Brake',\n",
       "       'Steering', 'Gear', 'CompletedLaps', 'iCurrentTime_ms',\n",
       "       'CurrentLapTime_str', 'iLastTime_ms', 'iBestTime_ms', 'LapNumberTotal',\n",
       "       'CurrentSectorIndex', 'LastSectorTime_ms', 'IsInPit', 'IsInPitLane',\n",
       "       'TyreCompound', 'X', 'Y', 'Z', 'Flag', 'SurfaceGrip'],\n",
       "      dtype='object')"
      ]
     },
     "execution_count": 8,
     "metadata": {},
     "output_type": "execute_result"
    }
   ],
   "source": [
    "# Load telemetry data\n",
    "df = pd.read_csv('../TELEMETRY/LAPS_OUTPUT/lap_2_telemetry.csv')\n",
    "\n",
    "# Analyze available coordinates\n",
    "print(\"=== MONZA ASSETTO CORSA DATA ===\")\n",
    "print(f\"Total points: {len(df)}\")\n",
    "print(f\"Coordinates - X: {df['X'].min():.1f} to {df['X'].max():.1f}\")\n",
    "print(f\"Coordinates - Y: {df['Y'].min():.1f} to {df['Y'].max():.1f} (height)\")  \n",
    "print(f\"Coordinates - Z: {df['Z'].min():.1f} to {df['Z'].max():.1f}\")\n",
    "print(f\"Speed: {df['Speed_kmh'].min():.1f} - {df['Speed_kmh'].max():.1f} km/h\")\n",
    "print(f\"Total distance: {df['Distance'].max():.1f} m\")\n",
    "\n",
    "\n",
    "df.columns"
   ]
  },
  {
   "cell_type": "code",
   "execution_count": 3,
   "id": "a9d57c23",
   "metadata": {},
   "outputs": [
    {
     "name": "stdout",
     "output_type": "stream",
     "text": [
      "\n",
      "=== NEW AVAILABLE VARIABLES ===\n",
      "Steering: -0.879 to 0.782\n",
      "SurfaceGrip: [1.]\n",
      "TyreCompound: ['Soft (S)']\n",
      "Flag: [0]\n"
     ]
    }
   ],
   "source": [
    "# New available variables\n",
    "print(f\"\\n=== NEW AVAILABLE VARIABLES ===\")\n",
    "print(f\"Steering: {df['Steering'].min():.3f} to {df['Steering'].max():.3f}\")\n",
    "print(f\"SurfaceGrip: {df['SurfaceGrip'].unique()}\")\n",
    "print(f\"TyreCompound: {df['TyreCompound'].unique()}\")\n",
    "print(f\"Flag: {df['Flag'].unique()}\")"
   ]
  },
  {
   "cell_type": "markdown",
   "id": "575391f8",
   "metadata": {},
   "source": [
    "---"
   ]
  },
  {
   "cell_type": "markdown",
   "id": "52ad32bf",
   "metadata": {},
   "source": [
    "## 2. Coordinate optimization "
   ]
  },
  {
   "cell_type": "markdown",
   "id": "b7371222",
   "metadata": {},
   "source": [
    "#### 2.1 🔧 Circuit Coordinate Transformation Functions\n",
    "\n",
    "**Purpose**: Implement geometric utilities to optimize circuit layout visualization through coordinate transformations.\n",
    "\n",
    "**What will be accomplished:**\n",
    "- Center coordinates to eliminate positioning offsets\n",
    "- Apply 2D rotations for optimal track orientation\n",
    "- Calculate aspect ratios to maximize horizontal display space\n",
    "\n",
    "**Function Details:**\n",
    "\n",
    "**`center_coordinates(x, z)`**: Translates coordinates to origin (0,0) by subtracting mean values. Essential for subsequent rotation operations.\n",
    "\n",
    "**`rotate_coordinates(x, z, angle_rad)`**: Applies 2D rotation matrix using standard trigonometric formulas to test different circuit orientations.\n",
    "\n",
    "**`calculate_aspect_ratio(x, z)`**: Computes width/height ratio to identify orientations that best utilize horizontal screen space. Includes division-by-zero protection."
   ]
  },
  {
   "cell_type": "code",
   "execution_count": 4,
   "id": "34e5eb09",
   "metadata": {},
   "outputs": [],
   "source": [
    "def center_coordinates(x, z):\n",
    "    \"\"\"\n",
    "    Center coordinate arrays around their mean values.\n",
    "    \n",
    "    Args:\n",
    "        x (np.array): X coordinate values\n",
    "        z (np.array): Z coordinate values\n",
    "        \n",
    "    Returns:\n",
    "        tuple: Centered (x, z) coordinates as numpy arrays\n",
    "    \"\"\"\n",
    "    return x - np.mean(x), z - np.mean(z)\n",
    "\n",
    "def rotate_coordinates(x, z, angle_rad):\n",
    "    \"\"\"\n",
    "    Apply 2D rotation transformation to coordinate arrays.\n",
    "    \n",
    "    Args:\n",
    "        x (np.array): X coordinate values\n",
    "        z (np.array): Z coordinate values\n",
    "        angle_rad (float): Rotation angle in radians\n",
    "        \n",
    "    Returns:\n",
    "        tuple: Rotated (x_rot, z_rot) coordinates as numpy arrays\n",
    "    \"\"\"\n",
    "    x_rot = x * np.cos(angle_rad) - z * np.sin(angle_rad)\n",
    "    z_rot = x * np.sin(angle_rad) + z * np.cos(angle_rad)\n",
    "    return x_rot, z_rot\n",
    "\n",
    "def calculate_aspect_ratio(x, z):\n",
    "    \"\"\"\n",
    "    Calculate the width-to-height aspect ratio of coordinate bounds.\n",
    "    \n",
    "    Args:\n",
    "        x (np.array): X coordinate values\n",
    "        z (np.array): Z coordinate values\n",
    "        \n",
    "    Returns:\n",
    "        float: Aspect ratio (width/height) with small epsilon to avoid division by zero\n",
    "    \"\"\"\n",
    "    width = np.max(x) - np.min(x)\n",
    "    height = np.max(z) - np.min(z)\n",
    "    return width / (height + 0.001)"
   ]
  },
  {
   "cell_type": "markdown",
   "id": "33a19286",
   "metadata": {},
   "source": [
    "#### 2.2 🔄 Circuit Layout Optimization Algorithm\n",
    "\n",
    "**Purpose**: Automatically determine the optimal circuit orientation for horizontal display by testing multiple rotation angles.\n",
    "\n",
    "**What will be accomplished:**\n",
    "- Center the circuit coordinates around origin\n",
    "- Test 18 different rotation angles (0° to 170° in 10° increments)\n",
    "- Find the rotation that maximizes horizontal aspect ratio\n",
    "- Return optimally oriented coordinates\n",
    "\n",
    "**Algorithm Details:**\n",
    "\n",
    "**Initialization**: Centers coordinates and sets tracking variables for best rotation angle and aspect ratio.\n",
    "\n",
    "**Rotation Testing Loop**: Iterates through angles, applies rotation transformation, calculates aspect ratio, and tracks the configuration with highest width-to-height ratio.\n",
    "\n",
    "**Output**: Returns the optimally rotated coordinates and prints the best rotation angle with its aspect ratio for verification."
   ]
  },
  {
   "cell_type": "code",
   "execution_count": 5,
   "id": "189d33e7",
   "metadata": {},
   "outputs": [],
   "source": [
    "def optimize_circuit_layout(track_x, track_z):\n",
    "    \"\"\"\n",
    "    Find optimal circuit orientation by maximizing aspect ratio through rotation.\n",
    "    \n",
    "    Tests different rotation angles (0-180 degrees) to find the orientation\n",
    "    that maximizes the track's width-to-height ratio for better visualization.\n",
    "    \n",
    "    Args:\n",
    "        track_x (np.array): Raw X coordinate values from telemetry\n",
    "        track_z (np.array): Raw Z coordinate values from telemetry\n",
    "        \n",
    "    Returns:\n",
    "        tuple: Optimized (x, z) coordinates with best orientation\n",
    "    \"\"\"\n",
    "    \n",
    "    # Center coordinates\n",
    "    x_centered, z_centered = center_coordinates(track_x, track_z)\n",
    "    \n",
    "    # Find best rotation angle\n",
    "    best_ratio = 0\n",
    "    best_rotation = 0\n",
    "    best_coords = (x_centered, z_centered)\n",
    "    \n",
    "    for angle_deg in range(0, 180, 10):\n",
    "        angle_rad = np.radians(angle_deg)\n",
    "        x_rot, z_rot = rotate_coordinates(x_centered, z_centered, angle_rad)\n",
    "        ratio = calculate_aspect_ratio(x_rot, z_rot)\n",
    "        \n",
    "        if ratio > best_ratio:\n",
    "            best_ratio = ratio\n",
    "            best_rotation = angle_deg\n",
    "            best_coords = (x_rot, z_rot)\n",
    "    \n",
    "    print(f\"Best rotation: {best_rotation}°, ratio: {best_ratio:.2f}\")\n",
    "    return best_coords"
   ]
  },
  {
   "cell_type": "markdown",
   "id": "4fad0707",
   "metadata": {},
   "source": [
    "#### 2.3 📊 Data Preparation & Layout Optimization Execution\n",
    "\n",
    "**Purpose**: Extract coordinate data from telemetry DataFrame, apply optimization algorithm, and prepare variables for visualization.\n",
    "\n",
    "**What will be accomplished:**\n",
    "- Extract X, Z coordinates from telemetry data (AC coordinate system: Z is horizontal)\n",
    "- Apply the optimization algorithm to find best circuit orientation\n",
    "- Prepare telemetry variables dictionary for subsequent plotting functions\n",
    "\n",
    "**Implementation:**\n",
    "- **Coordinate extraction**: Gets raw X,Z values; Y (height) extracted but unused for 2D maps\n",
    "- **Layout optimization**: Calls `optimize_circuit_layout()` to get centered and rotated coordinates\n",
    "- **Variable preparation**: Creates dictionary with key telemetry metrics for visualization pipeline"
   ]
  },
  {
   "cell_type": "code",
   "execution_count": null,
   "id": "5eea42df",
   "metadata": {},
   "outputs": [],
   "source": [
    "def prepare_circuit_data(df):\n",
    "    \"\"\"\n",
    "    Extract track coordinates from telemetry data and optimize layout.\n",
    "    \n",
    "    Processes the X and Z position data from the loaded telemetry DataFrame,\n",
    "    applies coordinate optimization for better visualization, and prepares\n",
    "    telemetry variables for multi-variable analysis.\n",
    "    \n",
    "    Args:\n",
    "        df (pd.DataFrame): Telemetry data with position and vehicle metrics\n",
    "        \n",
    "    Returns:\n",
    "        tuple: (track_x, track_z, telemetry_vars) - Optimized coordinates and variables dict\n",
    "    \"\"\"\n",
    "    # Extract coordinates (AC coordinate system: Z is horizontal)\n",
    "    coords_raw = {\n",
    "        'x': df['X'].values,\n",
    "        'z': df['Z'].values,  \n",
    "        'y': df['Y'].values  # Height (unused for 2D maps)\n",
    "    }\n",
    "    \n",
    "    # Optimize layout for horizontal display\n",
    "    track_x, track_z = optimize_circuit_layout(coords_raw['x'], coords_raw['z'])\n",
    "    \n",
    "    # Prepare telemetry variables for visualization\n",
    "    telemetry_vars = {\n",
    "        'speeds': df['Speed_kmh'].values,\n",
    "        'steering': df['Steering'].values,\n",
    "        'surface_grip': df['SurfaceGrip'].values\n",
    "    }\n",
    "    \n",
    "    return track_x, track_z, telemetry_vars"
   ]
  },
  {
   "cell_type": "markdown",
   "id": "eef18d51",
   "metadata": {},
   "source": [
    "#### 2.4 🚀 Execute Circuit Data Preparation\n",
    "\n",
    "**Purpose**: Apply the complete coordinate optimization pipeline to the loaded telemetry data.\n",
    "\n",
    "**What will be accomplished:**\n",
    "- Extract X, Z coordinates from the Monza telemetry DataFrame\n",
    "- Apply automatic layout optimization to find best horizontal orientation\n",
    "- Prepare telemetry variable arrays for visualization pipeline\n",
    "- Store optimized coordinates and variables for subsequent plotting functions"
   ]
  },
  {
   "cell_type": "code",
   "execution_count": 7,
   "id": "6c7ed773",
   "metadata": {},
   "outputs": [
    {
     "ename": "NameError",
     "evalue": "name 'track_x' is not defined",
     "output_type": "error",
     "traceback": [
      "\u001b[31m---------------------------------------------------------------------------\u001b[39m",
      "\u001b[31mNameError\u001b[39m                                 Traceback (most recent call last)",
      "\u001b[36mCell\u001b[39m\u001b[36m \u001b[39m\u001b[32mIn[7]\u001b[39m\u001b[32m, line 2\u001b[39m\n\u001b[32m      1\u001b[39m \u001b[38;5;66;03m# Execute data preparation\u001b[39;00m\n\u001b[32m----> \u001b[39m\u001b[32m2\u001b[39m track_x, track_z, telemetry_vars = \u001b[43mprepare_circuit_data\u001b[49m\u001b[43m(\u001b[49m\u001b[43mdf\u001b[49m\u001b[43m)\u001b[49m\n",
      "\u001b[36mCell\u001b[39m\u001b[36m \u001b[39m\u001b[32mIn[6]\u001b[39m\u001b[32m, line 21\u001b[39m, in \u001b[36mprepare_circuit_data\u001b[39m\u001b[34m(df)\u001b[39m\n\u001b[32m     15\u001b[39m \u001b[38;5;66;03m# Extract coordinates (AC coordinate system: Z is horizontal)\u001b[39;00m\n\u001b[32m     16\u001b[39m coords_raw = {\n\u001b[32m     17\u001b[39m     \u001b[33m'\u001b[39m\u001b[33mx\u001b[39m\u001b[33m'\u001b[39m: df[\u001b[33m'\u001b[39m\u001b[33mX\u001b[39m\u001b[33m'\u001b[39m].values,\n\u001b[32m     18\u001b[39m     \u001b[33m'\u001b[39m\u001b[33mz\u001b[39m\u001b[33m'\u001b[39m: df[\u001b[33m'\u001b[39m\u001b[33mZ\u001b[39m\u001b[33m'\u001b[39m].values,  \n\u001b[32m     19\u001b[39m }\n\u001b[32m---> \u001b[39m\u001b[32m21\u001b[39m \u001b[38;5;28;01mreturn\u001b[39;00m \u001b[43mtrack_x\u001b[49m, track_z, telemetry_vars\n",
      "\u001b[31mNameError\u001b[39m: name 'track_x' is not defined"
     ]
    }
   ],
   "source": [
    "# Execute data preparation\n",
    "track_x, track_z, telemetry_vars = prepare_circuit_data(df)"
   ]
  },
  {
   "cell_type": "code",
   "execution_count": null,
   "id": "e475ed67",
   "metadata": {},
   "outputs": [],
   "source": [
    "def create_track_trace(x, y, data, colorscale, name, precision=1):\n",
    "    \"\"\"\n",
    "    Create a single track trace with telemetry data visualization.\n",
    "    \n",
    "    Args:\n",
    "        x (np.array): X coordinates for track path\n",
    "        y (np.array): Y coordinates for track path  \n",
    "        data (np.array): Telemetry data values for color mapping\n",
    "        colorscale (str): Plotly colorscale name for data visualization\n",
    "        name (str): Display name for the trace\n",
    "        precision (int): Decimal precision for hover display\n",
    "        \n",
    "    Returns:\n",
    "        go.Scatter: Plotly scatter trace with color-coded telemetry data\n",
    "    \"\"\"\n",
    "    return go.Scatter(\n",
    "        x=x, y=y, mode='markers+lines',\n",
    "        marker=dict(color=data, colorscale=colorscale, size=4),\n",
    "        line=dict(width=1, color='rgba(0,0,0,0.3)'),\n",
    "        name=name,\n",
    "        hovertemplate=f'{name}: %{{marker.color:.{precision}f}}<br>X: %{{x:.0f}}<br>Z: %{{y:.0f}}'\n",
    "    )\n",
    "\n",
    "def create_subplot_grid():\n",
    "    \"\"\"\n",
    "    Create empty subplot grid with titles for telemetry visualization.\n",
    "    \n",
    "    Returns:\n",
    "        plotly.subplots: 3x2 subplot grid with predefined titles\n",
    "    \"\"\"\n",
    "    return make_subplots(\n",
    "        rows=3, cols=2,\n",
    "        subplot_titles=('Speed', 'Steering', 'Throttle/Brake', 'Gear', 'RPM', 'Surface Grip'),\n",
    "        specs=[[{\"type\": \"scatter\"}] * 2] * 3\n",
    "    )\n",
    "\n",
    "def setup_subplot_layout(fig):\n",
    "    \"\"\"\n",
    "    Configure axes and layout properties for all subplots.\n",
    "    \n",
    "    Args:\n",
    "        fig (plotly.graph_objects.Figure): Figure object with subplots to configure\n",
    "    \"\"\"\n",
    "    fig.update_layout(title='AC Circuit - Complete Telemetry Analysis', showlegend=False, height=1000)\n",
    "    \n",
    "    for row in range(1, 4):\n",
    "        for col in range(1, 3):\n",
    "            fig.update_xaxes(title_text=\"X Position (m)\", row=row, col=col)\n",
    "            fig.update_yaxes(title_text=\"Z Position (m)\", row=row, col=col, \n",
    "                           scaleanchor=f\"x{(row-1)*2+col}\", scaleratio=1)\n",
    "\n",
    "def get_telemetry_configs(df, telemetry_vars):\n",
    "    \"\"\"\n",
    "    Define telemetry data configurations for multi-variable visualization.\n",
    "    \n",
    "    Args:\n",
    "        df (pd.DataFrame): Telemetry data containing vehicle metrics\n",
    "        telemetry_vars (dict): Dictionary with prepared telemetry arrays\n",
    "        \n",
    "    Returns:\n",
    "        list: List of tuples containing (data, colorscale, name, precision) for each plot\n",
    "    \"\"\"\n",
    "    return [\n",
    "        (telemetry_vars['speeds'], 'Viridis', 'Speed', 1),\n",
    "        (telemetry_vars['steering'], 'RdBu', 'Steering', 3),\n",
    "        (df['Throttle'] - df['Brake'], 'RdYlGn', 'T/B', 2),\n",
    "        (df['Gear'], 'Plasma', 'Gear', 0),\n",
    "        (df['RPM'], 'Hot', 'RPM', 0),\n",
    "        (telemetry_vars['surface_grip'], 'Blues', 'Surface Grip', 2)\n",
    "    ]"
   ]
  },
  {
   "cell_type": "markdown",
   "id": "538d9816",
   "metadata": {},
   "source": [
    "---\n",
    "\n",
    "## 3. Interactive Visualization Functions\n",
    "\n",
    "#### 3.1 📊 Plotly Track Visualization Components\n",
    "\n",
    "**Purpose**: Implement modular functions to create interactive multi-variable telemetry visualizations using Plotly.\n",
    "\n",
    "**What will be accomplished:**\n",
    "- **Track trace creation**: Generate individual track plots with color-coded telemetry data\n",
    "- **Subplot grid setup**: Create organized 3x2 layout for six different telemetry aspects  \n",
    "- **Layout configuration**: Apply consistent styling, axis scaling, and hover interactions\n",
    "- **Telemetry data mapping**: Define configurations for speed, steering, throttle/brake, gear, RPM, and surface grip analysis\n",
    "\n",
    "**Function Overview:**\n",
    "- `create_track_trace()`: Individual trace with color mapping and hover details\n",
    "- `create_subplot_grid()`: 3x2 subplot framework with predefined titles\n",
    "- `setup_subplot_layout()`: Axis scaling, labels, and visual styling\n",
    "- `get_telemetry_configs()`: Data and colorscale definitions for each telemetry variable"
   ]
  },
  {
   "cell_type": "code",
   "execution_count": null,
   "id": "aed4f0c3",
   "metadata": {},
   "outputs": [],
   "source": [
    "def create_circuit_telemetry_visualization(df, track_x, track_z, telemetry_vars):\n",
    "    \"\"\"\n",
    "    Create comprehensive interactive multi-variable circuit telemetry visualization.\n",
    "    \n",
    "    Generates a 3x2 subplot grid showing six different telemetry aspects:\n",
    "    speed zones, steering analysis, throttle/brake patterns, gear usage,\n",
    "    RPM distribution, and surface grip conditions.\n",
    "    \n",
    "    Args:\n",
    "        df (pd.DataFrame): Complete telemetry data with vehicle metrics\n",
    "        track_x (np.array): Optimized X coordinates for track layout\n",
    "        track_z (np.array): Optimized Z coordinates for track layout  \n",
    "        telemetry_vars (dict): Dictionary containing prepared telemetry arrays\n",
    "    \"\"\"\n",
    "    \n",
    "    fig = create_subplot_grid()\n",
    "    telemetry_configs = get_telemetry_configs(df, telemetry_vars)\n",
    "    positions = [(1,1), (1,2), (2,1), (2,2), (3,1), (3,2)]\n",
    "    \n",
    "    # Add all traces\n",
    "    for (data, colorscale, name, precision), (row, col) in zip(telemetry_configs, positions):\n",
    "        trace = create_track_trace(track_x, track_z, data, colorscale, name, precision)\n",
    "        fig.add_trace(trace, row=row, col=col)\n",
    "    \n",
    "    setup_subplot_layout(fig)\n",
    "    fig.show()"
   ]
  },
  {
   "cell_type": "markdown",
   "id": "a4f1308d",
   "metadata": {},
   "source": [
    "#### 3.2 🎯 Complete Multi-Variable Visualization Pipeline\n",
    "\n",
    "**Purpose**: Orchestrate the creation of comprehensive interactive telemetry analysis with six synchronized track views.\n",
    "\n",
    "**What will be accomplished:**\n",
    "- **Speed analysis**: Color-coded track showing velocity zones and racing lines\n",
    "- **Steering analysis**: Track colored by steering input intensity for cornering evaluation  \n",
    "- **Throttle/Brake patterns**: Combined visualization showing acceleration and braking zones\n",
    "- **Gear usage mapping**: Track segments colored by transmission gear for performance analysis\n",
    "- **RPM distribution**: Engine performance zones across the circuit layout\n",
    "- **Surface grip conditions**: Track surface quality analysis for setup optimization\n",
    "\n",
    "**Visualization Features:**\n",
    "- Interactive hover details with precise telemetry values\n",
    "- Synchronized axis scaling across all subplots for consistent spatial reference\n",
    "- Color-coded legends optimized for each telemetry variable type\n",
    "- Comprehensive title and layout styling for professional analysis presentation"
   ]
  },
  {
   "cell_type": "code",
   "execution_count": null,
   "id": "90d1da8a",
   "metadata": {},
   "outputs": [
    {
     "data": {
      "application/vnd.plotly.v1+json": {
       "config": {
        "plotlyServerURL": "https://plot.ly"
       },
       "data": [
        {
         "hovertemplate": "Speed: %{marker.color:.1f}<br>X: %{x:.0f}<br>Z: %{y:.0f}",
         "line": {
          "color": "rgba(0,0,0,0.3)",
          "width": 1
         },
         "marker": {
          "color": {
           "bdata": "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",
           "dtype": "f8"
          },
          "colorscale": [
           [
            0,
            "#440154"
           ],
           [
            0.1111111111111111,
            "#482878"
           ],
           [
            0.2222222222222222,
            "#3e4989"
           ],
           [
            0.3333333333333333,
            "#31688e"
           ],
           [
            0.4444444444444444,
            "#26828e"
           ],
           [
            0.5555555555555556,
            "#1f9e89"
           ],
           [
            0.6666666666666666,
            "#35b779"
           ],
           [
            0.7777777777777778,
            "#6ece58"
           ],
           [
            0.8888888888888888,
            "#b5de2b"
           ],
           [
            1,
            "#fde725"
           ]
          ],
          "size": 4
         },
         "mode": "markers+lines",
         "name": "Speed",
         "type": "scatter",
         "x": {
          "bdata": "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",
          "dtype": "f8"
         },
         "xaxis": "x",
         "y": {
          "bdata": "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",
          "dtype": "f8"
         },
         "yaxis": "y"
        },
        {
         "hovertemplate": "Steering: %{marker.color:.3f}<br>X: %{x:.0f}<br>Z: %{y:.0f}",
         "line": {
          "color": "rgba(0,0,0,0.3)",
          "width": 1
         },
         "marker": {
          "color": {
           "bdata": "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",
           "dtype": "f8"
          },
          "colorscale": [
           [
            0,
            "rgb(103,0,31)"
           ],
           [
            0.1,
            "rgb(178,24,43)"
           ],
           [
            0.2,
            "rgb(214,96,77)"
           ],
           [
            0.3,
            "rgb(244,165,130)"
           ],
           [
            0.4,
            "rgb(253,219,199)"
           ],
           [
            0.5,
            "rgb(247,247,247)"
           ],
           [
            0.6,
            "rgb(209,229,240)"
           ],
           [
            0.7,
            "rgb(146,197,222)"
           ],
           [
            0.8,
            "rgb(67,147,195)"
           ],
           [
            0.9,
            "rgb(33,102,172)"
           ],
           [
            1,
            "rgb(5,48,97)"
           ]
          ],
          "size": 4
         },
         "mode": "markers+lines",
         "name": "Steering",
         "type": "scatter",
         "x": {
          "bdata": "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",
          "dtype": "f8"
         },
         "xaxis": "x2",
         "y": {
          "bdata": "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",
          "dtype": "f8"
         },
         "yaxis": "y2"
        },
        {
         "hovertemplate": "T/B: %{marker.color:.2f}<br>X: %{x:.0f}<br>Z: %{y:.0f}",
         "line": {
          "color": "rgba(0,0,0,0.3)",
          "width": 1
         },
         "marker": {
          "color": {
           "bdata": "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",
           "dtype": "f8"
          },
          "colorscale": [
           [
            0,
            "rgb(165,0,38)"
           ],
           [
            0.1,
            "rgb(215,48,39)"
           ],
           [
            0.2,
            "rgb(244,109,67)"
           ],
           [
            0.3,
            "rgb(253,174,97)"
           ],
           [
            0.4,
            "rgb(254,224,139)"
           ],
           [
            0.5,
            "rgb(255,255,191)"
           ],
           [
            0.6,
            "rgb(217,239,139)"
           ],
           [
            0.7,
            "rgb(166,217,106)"
           ],
           [
            0.8,
            "rgb(102,189,99)"
           ],
           [
            0.9,
            "rgb(26,152,80)"
           ],
           [
            1,
            "rgb(0,104,55)"
           ]
          ],
          "size": 4
         },
         "mode": "markers+lines",
         "name": "T/B",
         "type": "scatter",
         "x": {
          "bdata": "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",
          "dtype": "f8"
         },
         "xaxis": "x3",
         "y": {
          "bdata": "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",
          "dtype": "f8"
         },
         "yaxis": "y3"
        },
        {
         "hovertemplate": "Gear: %{marker.color:.0f}<br>X: %{x:.0f}<br>Z: %{y:.0f}",
         "line": {
          "color": "rgba(0,0,0,0.3)",
          "width": 1
         },
         "marker": {
          "color": {
           "bdata": "CAgICAgICAgICAgICAgICAgICAgICAgICAgICAgICAgICAgICAgICAgICAgICAgICAgICAgICAgICAgICAgICAgICAgICAgICAgICAgICAgICAgICAgICAgICAgICAgHBwcHBgYGBgUFBQUEBAQEAwMDAwICAgIBAQEBAQEBAQEBAQEBAQEBAQEBAQEBAQECAgICAgICAgICAwMDAwMDAwMDAwQEBAQEBAQEBAQFBQUFBQUFBQUFBgYGBgYGBgYGBgYHBwcHBwcHBwcHBwcHBwcHBwcHBwcHBwcHBwcHBwcHBwcHBwcHBwcHCAgICAgICAgICAgICAgICAgICAgICAgICAgICAgICAgICAgICAgICAgICAgICAgICAgICAgIBwcHBwYGBgYFBQUFBAQEBAMDAwMCAgICAgICAgICAgICAAMDAwMDAwMDAwAEBAQEBAQEBAQABQUFBQUFBQUFAAYGBgYGBgYGBgYGBwcHBwcHBwcHBwcHBwcHBwcGBgYGBgYGBQUFBQUFBQUFBQUFBQUFBQUFBgYGBgYGBgYGBgYGBgYHBwcHBwcHBwcHBgYGBgUFBQUFBQUFBQUFBQUFBQUFBQYGBgYGBgYGBgYGAAcHBwcHBwcHBwcHBwcHBwcHBwcHBwcHBwcHBwcHCAgICAgICAgICAgICAgICAgICAgICAgICAgICAgICAgICAgICAgICAgICAgICAgICAgICAgICAgICAgICAgICAgIBwcHBwYGBgYFBQUFBQUFBQUFBQUFBQUFBQUFBQUFBQUFBQUFBQUFBgYGBgYGBgYGBgYGBgYGBgAHBwcHBwcHBwcHBwcHBwcHBwcHBwcHBwcHBwcHBwcHBwcICAgICAgICAgICAgICAgICAgICAgICAgICAgICAgICAgICAgICAgICAgICAgICAgICAgICAgICAgICAgICAgICAgICAgIBwcHBwcHBwYGBgYGBgYGBgYFBQUFBQUFBQUFBQUFBQUFBQUFBQUFBQUFAAYGBgYGBgYGBgYGBgYGBwcHBwcHBwcHBwcHBwcHBwcHBwcHBwcHBwcHBwgICAgICAgICAgICA==",
           "dtype": "i1"
          },
          "colorscale": [
           [
            0,
            "#0d0887"
           ],
           [
            0.1111111111111111,
            "#46039f"
           ],
           [
            0.2222222222222222,
            "#7201a8"
           ],
           [
            0.3333333333333333,
            "#9c179e"
           ],
           [
            0.4444444444444444,
            "#bd3786"
           ],
           [
            0.5555555555555556,
            "#d8576b"
           ],
           [
            0.6666666666666666,
            "#ed7953"
           ],
           [
            0.7777777777777778,
            "#fb9f3a"
           ],
           [
            0.8888888888888888,
            "#fdca26"
           ],
           [
            1,
            "#f0f921"
           ]
          ],
          "size": 4
         },
         "mode": "markers+lines",
         "name": "Gear",
         "type": "scatter",
         "x": {
          "bdata": "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",
          "dtype": "f8"
         },
         "xaxis": "x4",
         "y": {
          "bdata": "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",
          "dtype": "f8"
         },
         "yaxis": "y4"
        },
        {
         "hovertemplate": "RPM: %{marker.color:.0f}<br>X: %{x:.0f}<br>Z: %{y:.0f}",
         "line": {
          "color": "rgba(0,0,0,0.3)",
          "width": 1
         },
         "marker": {
          "color": {
           "bdata": "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",
           "dtype": "i2"
          },
          "colorscale": [
           [
            0,
            "rgb(0,0,0)"
           ],
           [
            0.3333333333333333,
            "rgb(230,0,0)"
           ],
           [
            0.6666666666666666,
            "rgb(255,210,0)"
           ],
           [
            1,
            "rgb(255,255,255)"
           ]
          ],
          "size": 4
         },
         "mode": "markers+lines",
         "name": "RPM",
         "type": "scatter",
         "x": {
          "bdata": "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",
          "dtype": "f8"
         },
         "xaxis": "x5",
         "y": {
          "bdata": "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",
          "dtype": "f8"
         },
         "yaxis": "y5"
        },
        {
         "hovertemplate": "Surface Grip: %{marker.color:.2f}<br>X: %{x:.0f}<br>Z: %{y:.0f}",
         "line": {
          "color": "rgba(0,0,0,0.3)",
          "width": 1
         },
         "marker": {
          "color": {
           "bdata": "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",
           "dtype": "f8"
          },
          "colorscale": [
           [
            0,
            "rgb(247,251,255)"
           ],
           [
            0.125,
            "rgb(222,235,247)"
           ],
           [
            0.25,
            "rgb(198,219,239)"
           ],
           [
            0.375,
            "rgb(158,202,225)"
           ],
           [
            0.5,
            "rgb(107,174,214)"
           ],
           [
            0.625,
            "rgb(66,146,198)"
           ],
           [
            0.75,
            "rgb(33,113,181)"
           ],
           [
            0.875,
            "rgb(8,81,156)"
           ],
           [
            1,
            "rgb(8,48,107)"
           ]
          ],
          "size": 4
         },
         "mode": "markers+lines",
         "name": "Surface Grip",
         "type": "scatter",
         "x": {
          "bdata": "UK1hUdaRjMD3R5fzkFSMwKTUtrIZF4zAnemCgZnXi8C75dO/8ZeLwLbdOOkkWIvAnN/DkRIai8BUEX3L1tuKwC/VDO+Pm4rA/L1lBihbisBrxXPkjRyKwIEgQof424nAq3sM8zSdicDH+58GXF6JwIZzX3eDHYnAUB81f33eiMDxhPIPep2IwD4KoMpOXojAwIvK6hQfiMAjk8Lh4t2HwFLCIm2dnIfAR737TC9dh8DRpv8NwRuHwPDHirsv3IbA7h5GkqSahsC+sSa4DVmGwBdUFI1YGYbAONWyBqbXhcDSznIOwJmFwE5t1M7pV4XAjvEWaQAWhcDKUyud89WEwNB9C5Tik4TAnFCIq69ThMAEa5ykdxGEwJ7k8Ycc0YPAzeFjD6eQg8AyO84NJUyDwFg4DphqC4PAxucGd5HKgsDM4fygmomCwPvlrq6VRoLApPOIzXwDgsC0uZFRTcKBwDa0LsEWf4HAjKG1SM89gcCK52jVgvqAwCItXrwmuYDAckqFRMN1gMC2XqkBVjKAwFBthM/I4X/AWxmFVwZbf8D41jEAZ9R+wJVxyDjQVX7AGL0kG3DLfcCuQ3Xb+0h9wAfMeyOLwnzA9fEnzfw/fMAoPpNmXLl7wL9SZiKGNnvATupeAoivesASSX9WXyh6wIhtbeMCqXnA0LFc8JMhecB6Yh8IA554wLgKBZdfFnjAwQgduq2Od8AnX0th9Qp3wFivF4U7h3bALNephH//dcDOyYIPuHt1wBhoHxfh73TAIdWKq/NrdMBmUjDs8+dzwHCJtNPeX3PAzjnnUa7bcsDzvHi2aldywLYck+cS03HAjdkly6RKccAxfdRTJMJwwFfZGc2OPXDAGbVdo7Bpb8DDXReOEVhuwBRQVnFQTm3A9oD9iFg8bMAzoaK1UTJrwB5coJEnKGrA+mksU9YVacCxyUn75wxowDQvoX2+BWfA3vZGTewQZsCTbai/bR9lwADOWX1QP2TASYGE+6BiY8BzDgccZ5ZiwHDncyeV02HAquvKpCUPYcAr5eXxkl9gwC5MMD6laF/AdnqI4V8uXsAspY7P2fxcwFIEHof/3FvAQkv5cb/XWsC3Lk3aZOJZwKE3RfMN9FjAqTZR3lcTWMCbUnP1ZkVXwG2Ne4xifVbAfFfoVy/HVcCpJlo1zhdVwI4td/JSc1TAgEKaLPHcU8DWXDsRUjtTwCDD2PyHo1LA79zQmWgKUsCeCzfoboJRwFWU9Mr1+FDAhra+L952UMAPwTS2/gRQwFiQ1YZoPU/AqNN5t6h5TsDK/r6bGrJNwPwgAyXn40zAVtUpB+r8S8BkZXJaQwlLwPiOoivIAkrAAnCQo8XxSMC4uoHjHNtHwO51G9Lhx0bArv4sRpqyRcD6VMJWlotEwLBX3ZJgf0PAcG9fTw9kQsCC3+2LKkdBwNZ9oWpIK0DAJPcL17BGPsAAQvgr6R88wOh4ej/OGDrAAEOf6BwIOMD464i+aS42wGgui30DaTTAYNcGhommMsAohh0QxNEwwPB06ejC7C3AoPOBrKoXKsAwRsqX3hgmwKAb4GOMCiLAwHySS6eZG8AgOM0Nab0SwIBsPum3XwLAADTpseoByD8A80HNedsEQOBHkapXFxVAIHkkr+sGIEAgN9zMX7IlQPCKVbhjjStAoCwojN6eMEDgtHqbrb4zQAjL62N/4TZAoDICl/03OkBQmy5mX6o9QAiNXzrpgEBAKIA/eE5iQkB4TRQmEiZEQDwQNkuSFUZAuPbtbkQGSECMaHZGVBVKQHDcTlvXM0xALKn1RPVgTkCkYnhWuj1QQNb42rAua1FAWmKyiBqPUkBeN+qoqrlTQJKQ7Ise9FRAKgt/pW0tVkDqg1O3G3lXQGpO8Fwew1hANs1r6hAVWkA8VncnuHhbQOLH5ACe41xAhgtd5yJVXkBmyT8QgcFfQGdg3oVJn2BA2cmVHJBaYUAHigilbhhiQM5Js1bd3mJAefpaJOynY0Af1sj7umdkQNfC8fQONmVA6Re0NQAHZkB/m/ziidpmQFkf7xussGdAzyLKUaJ8aEAP3diFI1hpQNu2AlKGNmpAj3JEQTcRa0DZZeL5cvVrQH8lb9gt1mxAI47T8+m5bUCJGgsAeaBuQIsXa6z2l29A6hCUlfhBcEAoVOU30LxwQFAvCpgoNXFAqtRvtjeycUBwIAZMQjByQBLNpI9uq3JAaLOB7GMnc0Ak7Iyw0KdzQP5EWbEWJXRAahty17KmdEBKSiMMySh1QEbJTp2So3VA5oO5QFgmdkDOcNr3eqV2QL5I8mSVKHdAYmgUVs2nd0AkI9ovuip4QJg8gO9srXhAXkXk0+4reUCYl3W8/al5QDZGp6cHL3pApPhUjsSrekCWkKzgyCd7QBLEacurpntAAi93E/4gfECatoLHIp58QAJrvZFaGn1AGrAhOvuRfUCS2zyQqgh+QIqyChdghX5AYGDQQ8/5fkDmzC4i9mx/QLQvCHu43n9AAyzxhikpgECbwhHReWCAQMWxnwmtmIBA3Lgfv2zOgECEhs42agOBQCfaOe0tOYFAYyB/PhJugUCYWkI6F6KBQAh8SVi704FAd2I62/sFgkAUyg+ZSjeCQIJeFDjRZIJAJ3sGnECUgkDFi3ZEu8KCQNolo1FT8IJA/s2kcIAag0B4f6xrpUaDQDmi1CwecoNAmiyh4Lqbg0BeE1Hwy8SDQCc0tZCZ7oNAOB1iur0WhEAOSIQF60CEQD7EaRtLaIRAEyI33UGPhECsz4KC97aEQEcvNjEe3YRAoVuUFQsEhUBQ46fXryqFQCw/sQzsToVAavOGxmF1hUBeTdVk55uFQBqEZzeLwoVA0s17wSPohUCGlLx1zA2GQCaO3Dx7M4ZAGpZ7OU9ahkCMcoawIIGGQJTwHYfxp4ZAijfq3azNhkAYDcFcXfKGQMkvo+WjGodA9Uz1v75Ah0AWZKDO8GaHQAyi3EBXjodADT3ouci1h0BH+69mG9yHQDe2GJufA4hAXlCXF9soiEByD+zQ3VCIQBknrpz4dIhANl/kUIiXiECcmnm9nbiIQH0np44u2YhAxeEjJEX4iEADkYD8BhWJQJagC2RnMIlAgUHpJjtLiUC3Kcw1D2SJQHEcuEyqfIlAomoue2GUiUCbNTBuNquJQGBXuebJwIlAJmKpVP7ViUBiJMWm2uqJQKkeDo/u/4lACqnaMocUikC+OJbHYyiKQLyYBb4dPYpAxJG8SBVTikAOmSYtj2mKQOansDDyf4pAViCje8mWikBRSu94q66KQIusCYIsxopAcimbu8veikA5GG0WKviKQM8KtS7IEItA5ZEWw6wsi0C+2zAa/0eLQE8dcwf+Y4tAO6v/fcR/i0DSZkhqVZqLQPGL8P97tItAlnqwzoHNi0Der4nKIOeLQBGrpTcv/4tAL+ephWoYjEA08+JXEzGMQDZA0BZoSIxAh8VX3RhgjEDQ+rY0S3aMQHntE3L5jYxANqgY8/2ljEA346jmeL6MQOhO55a11oxAzLE2OHfvjEAtRZNQcQmNQChUeKlFI41AcnvOSpU+jUAo+Ad41VqNQNve66dOdo1AhocElG2UjUCursLNYbSNQOUoXvtd0o1ACbE2A+7yjUA2AIlENROOQMypNxMnNY5A6KGV7cZXjkAjZCv0KnuOQApvauA4no5A9K9G6vDBjkBkKDl1i+iOQAYBheV4DI9AlZVe5kgzj0BaYHaakVmPQCMBc3ylgY9ABJs7ziSpj0CQcAa+ldOPQKNPeNci/I9AWKPyRJMSkEBAd/UaTieQQBIBxfOJPZBANeUB9hBSkEAAcwK0EmiQQFpPmIuZfZBAtB0lReuTkED4ZmhiYKqQQP2Lpy9NwJBAtm5asv7WkECMEAuKBe2QQDRRAF6LA5FADRmbEqkZkUDuHgF7YS6RQN8kM19yQZFA98L8oiRTkUCYnmDLsGKRQEk26rsOcZFAxn2Q1fV9kUDmeRFaoIiRQBzg7qISkpFAQtgB8N6ZkUB1GLjhn5+RQIZvMny8o5FAQWlNphOmkUCAPwJps6aRQHhGSy6UpZFA267Wos6ikUDR4acaF56RQO1qFEkDmJFAU1If9m+QkUB66BhqN4eRQDb02diefJFAC54n+YNxkUDODgCvl2SRQOC865WMVpFAALUkfONHkUB5UNAe9jeRQCwBLy/eJ5FANr+q1r8WkUCOMzVUGQWRQNTMlSZ585BAYynGAMjgkECV0zLMtc6QQKlMjBcCu5BALl4NZM2mkECrth0NHZKQQPSVkXOkfZBAhd2VE9pokECXYk5CKFOQQAWv9vndPZBAVTr3qb4nkECKgwxlexGQQG5QWM+C949AcGj92NPLj0DyJp8Vj56PQDL8bAtdco9AqEvihTVDj0D+Q5cddBaPQM7tnKlf6Y5ABpeCAoq6jkCkCeiMqoyOQAxiIWBjXo5AoFLY4EsujkAogvB3PP+NQFjyRkxrzo1A3GujpFOdjUBUm++vAG+NQGxvoHcKQY1ApFFsIQ0WjUBka06MS+uMQKoyc7bkwYxAPLgrOZSZjED2YNRrO3GMQFzLIRGfR4xA0rx815oejECAWkK/MfWLQOrqtgtxyYtA1v5sj4agi0Bon4wmz3aLQI5Yx3lWTotAyDf1H/Yli0Ckbe8rd/yKQGDg1M8U04pAfaCJo1WsikBtdxyCP4KKQOhbqv+6WYpA2kZE/LIyikBerYBjtAuKQAbozJ+C5IlAsDFqtvq8iUAMzN7oaJKJQGA2ka2kaYlA9VCr7EtAiUA8I3j7WBaJQAOhuh4s6YhAs2uBqEC/iECEzZc1IpKIQHjIpwh3ZIhAju7v65w3iECmJljI1wiIQKHYLhyG2YdArrPHcQirh0BOQg3gmHqHQNZV+4wgS4dA0qD2LMwZh0ANJMDohemGQFglyj5gt4ZApCh+R9GHhkDF0qRiBVWGQGCskHD1IYZAbvkBvynwhUD2QOOWGr6FQIxwr+s/ioVAwA5DT6BXhUCJt6tWHCOFQHr13LY77oRAzfbMkoO6hECuxjMfOIOEQFjaueOkToRAZimYcqUZhEBxdy7dO+SDQJH2tD/JrINAJNkNSuV0g0BWsTLmOz6DQGrh8mcjB4NArNkMvzvMgkDOqkKL+pWCQH5FdkbsW4JAJDq7hXYhgkDgqrlETOiBQC9SUnyzroFAZmJEZCFxgUAORAf8WjiBQPpO8Fi0+YBA51uDKBe+gEBmrbnW64GAQCzZWAdjQ4BANKGVxmoEgEDYneh5cJF/QNtaKWELDn9AIA/BWSKVfkCtq40YBRR+QPmCxmIskn1AWfntbJQTfUCtKd9qZZR8QJLztP35DHxAZcaLq9SMe0DusRVNSAx7QIJaJxVYi3pAIK5j2BsGekCaHRrwbYR5QDDzvsyI+nhA3gvufjR4eEDc1x+Go/F3QGYMySy7cndAnAnANaHrdkBOE4RjQ2h2QKh0Hzmk4HVAqpYXrcBYdUCire8zntB0QBH3mM43THRAect3KY3Hc0AlCQz6mj5zQDEW+xtyuXJAaKUwvwk0ckDC3dVuXqpxQH1pzkF/IHFAL6pUKXyacEClfySMNxBwQDJLz26sE29Auv1az2n+bUCAd7jFEflsQFz4MysC42tA4gtg1V/EakD0IonUBr5pQFgS3dT4pmhA8A7z5u2XZ0CDCNrPiIBmQFh0QyUNaWVAIl/ac8NZZEDbMpJHRUJjQFxV4NwAM2JAVvw0i40bYUCx0tlcRAxgQDZI4DPf+V1AoJ9krmHKW0CTm15hWZpZQFa34D2gaVdArk1Ak59IVUAw5ylH5yZTQMBGK6ZvBFFAM90OIoSATUBOc4kXuVpJQBJZ0VOR8URABwsbLtioQEB0oFe1Izo4QJyS9Jmf0S9AwuV38zKAHECgAJPIe2Txv1qQFkEzZCLAFcu9BzC8MMAMElBUDik4wB1GdC/cDD/ABlCIPAjrQsCjdabMKSlGwJ2DGv+HKknANmbPFeIbTMBs87ieotFOwBN+tWGSsVDA+0JZ1vfqUcADpyWERjZTwOaeK1ZSZ1TAjsCr9AmNVcBsfY+wILhWwKcBoHd93lfAwMA6nYnwWMCpLEiJoBtawOZhUnQuNFvAinsG499LXMCqIV3+XWpdwCScxK4sh17AIk/hAACkX8BpadvOXl1gwFqk8wvx5mDA74nogRV9YcBv7ue48BdiwDSica5guGLABszQtXBZY8D7qRYTGQBkwHdvqlwIsWTAghkplYBlZcBoCcNvUhlmwK1jSWhl0WbAj86i3OCSZ8D7YMt6XVFowNCc0PZxEGnAf5ZBerLaacB7HMzitZpqwETSkd2SYWvApkFLkqEjbMAMEkLdeO1swAHjcoVEum3AJhDmXxmEbsAy1gh3z1BvwO1m1h85EHDAoOzQJbN/cMDEsjiWZOZwwDLYDaPEU3HAnr8Kq4a+ccDqwrG47CxywCPc0FsxmHLAH8pC77cGc8AKdq9b4nFzwOu6PLwA4HPA0uh+zb1KdMCihAAgu7h0wMCBHwneJnXACturl6COdcCkKC/oRwB2wEznWgyebnbANG8Q0GTWdsApghaxI0h3wJDEkA9usHfAs0svbKIfeMBabwV9Cox4wFoyI2w7/HjA3JCy9eRsecAMiOBetNp5wFA625QDSXrAGoPSfXq+esDyz129rS17wDvpqPRRnXvA3BS5fdIQfMBO4CWKjoF8wBy3ZWlb9nzAuEgYV19ofcAa+/6HgN59wEAb48DIUX7Ax9yyW6/FfsCyfMZkvz1/wB+RUF7msn/Arm/9L08UgMDydF8+PlGAwDgbbWOsjIDABhXTpv7LgMDDImLx+AeBwNJb11oyRIHAOzCEQ6eAgcAqJa5eK7+BwG+ax2jk/YHAjbu/8/E6gsCSCtDkAXqCwF1yX/tSt4LAZlCikbz0gsDEXGJf+TWDwJ/L4GWTc4PAzweSDkWxg8BiWe46zPKDwN93cwaqMITA33Sk6rhshMAGTo1IeK6EwFHKFzCC7ITAXghDCXgshcAjFaDUlmqFwPtFRqbBqIXAAHwTkPrmhcBUkjqPJSeGwLnmErR+ZYbAQG1Gi9ClhsCdVMwTOeaGwL3Pg2a5JofAt9myYGtlh8CQtIUsM6SHwIllH3345IfA7qmBa9UliMDc7EPv4mSIwFJc1ScHpIjAOrxIoBXniMCwieindSSJwDR7G++7ZYnAG9FsKCWlicAyEn3ih+aJwJjqirwLJorAWkFpjp1lisBhrLumLKeKwKsQlavK6IrAC2Riw3cqi8A8EBftQ2qLwITGrGcMrIvA/0XkBfLri8ABsUPc1C2MwHzX5U/Fb4zAoxjCvdGvjMD/PS186e+MwMBRuk4MMI3A7BP9PilyjcCjXqPISLSNwPT2Yq109I3AwVLQ/Y02jsC5InvboniOwN4WIY7FuI7AspAw2N76jsCnIa6dBD2PwNm2ybVGfY/AeKpYzJa9j8BXqvCe8v2PwJiT2gsvH5DAycfQOWdAkMAyBxURqWGQwEwfCtH4gZDAnA5aeEmjkMCbesbeo8OQwEP76Or+5JDAsqWSzmEGkcBio7q90yaRwH/yoXdRSJHAM6hyIu5okcAxYrcZWIqRwPK5FVnOqJHA+AJA+AfJkcDav+cUi+WRwLNLOAHZApLAfRKWwyEfksDeX0ZmmDmSwBFtuVMSVJLA8Posc61tksB5jI4rLYeSwGgAdjVbn5LAmN8Jhhu3ksBDoIKfBc+SwA7X1O9c5pLAp3WhkBn9ksDjeign2RGTwL5+SybJJ5PAJIEOULk7k8CsmT1qTk+TwIO9OfE0YZPAUyL3R1lyk8DIwkZ9MIGTwDMwVRzlj5PAInCY30yck8DabQ4LlaeTwN17CmnFsJPA9UH7ix+5k8CyGFs28L+TwD2RzqCGxZPAB+k9efrJk8AQyYAb2M2TwPD6t74r0ZPAWDaWwjvUk8BT7LRTvtaTwMCyody72JPA0Y/LBPzZk8A5hPdKc9qTwNocFhwK2pPAosccjbnYk8DGoQZSataTwHwSQxsg05PAWLLODwfPk8DIajho1MmTwGRTLAnJw5PAZCiY0YW8k8C8C3ZYhLSTwJq95FtFq5PAZr+M3k+hk8CkiONSGZaTwIqsEH/qiZPAmqRAeSN9k8BedunLbm+TwLi9WVnVYJPA7ayEE9hQk8B3J0HV8D+TwFx2oU4hLpPABGMYdgQck8CcPrutHwmTwB6KzQLh9JLAG6Xs4ojgksAPesiJ4MqSwIqdUzAytZLAwdl37DSeksDl0NQDTYeSwMRKdc8rb5LAnrYZdEtXksAXFzU9DD+SwABEeEW9JZLAykcgDeUMksBG76M3CfORwJTeQ/Xr2JHAG4ms0R3AkcCGjnITiaWRwP6eSyG7ipHAoNukx4JwkcAo2inORlWRwPzmR6ihOpHAtVn9EvkekcAiTEFN7gORwMyIgMe16JDAVEYhBKnLkMAB2ntUG7CQwD4vmfqNk5DAWrgRkod4kMBiGe1PzVqQwIhxGiicPpDACZrH4UIikMALbz/v4QSQwCA0OGVu0I/ANwsBSQSVj8Dfrsa3WVmPwEbGofw+H4/AEkcH4TPjjsAe/+UD7KaOwL36QnkkbI7Ai012IBUxjsDLwpdB8/ONwMVRtBaKto3AzgbRI7F6jcDSUAgHoT6NwLiqENhbAo3AhWTiZAPEjMA=",
          "dtype": "f8"
         },
         "xaxis": "x6",
         "y": {
          "bdata": "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",
          "dtype": "f8"
         },
         "yaxis": "y6"
        }
       ],
       "layout": {
        "annotations": [
         {
          "font": {
           "size": 16
          },
          "showarrow": false,
          "text": "Speed",
          "x": 0.225,
          "xanchor": "center",
          "xref": "paper",
          "y": 1,
          "yanchor": "bottom",
          "yref": "paper"
         },
         {
          "font": {
           "size": 16
          },
          "showarrow": false,
          "text": "Steering",
          "x": 0.775,
          "xanchor": "center",
          "xref": "paper",
          "y": 1,
          "yanchor": "bottom",
          "yref": "paper"
         },
         {
          "font": {
           "size": 16
          },
          "showarrow": false,
          "text": "Throttle/Brake",
          "x": 0.225,
          "xanchor": "center",
          "xref": "paper",
          "y": 0.6111111111111112,
          "yanchor": "bottom",
          "yref": "paper"
         },
         {
          "font": {
           "size": 16
          },
          "showarrow": false,
          "text": "Gear",
          "x": 0.775,
          "xanchor": "center",
          "xref": "paper",
          "y": 0.6111111111111112,
          "yanchor": "bottom",
          "yref": "paper"
         },
         {
          "font": {
           "size": 16
          },
          "showarrow": false,
          "text": "RPM",
          "x": 0.225,
          "xanchor": "center",
          "xref": "paper",
          "y": 0.22222222222222224,
          "yanchor": "bottom",
          "yref": "paper"
         },
         {
          "font": {
           "size": 16
          },
          "showarrow": false,
          "text": "Surface Grip",
          "x": 0.775,
          "xanchor": "center",
          "xref": "paper",
          "y": 0.22222222222222224,
          "yanchor": "bottom",
          "yref": "paper"
         }
        ],
        "height": 1000,
        "showlegend": false,
        "template": {
         "data": {
          "bar": [
           {
            "error_x": {
             "color": "#2a3f5f"
            },
            "error_y": {
             "color": "#2a3f5f"
            },
            "marker": {
             "line": {
              "color": "#E5ECF6",
              "width": 0.5
             },
             "pattern": {
              "fillmode": "overlay",
              "size": 10,
              "solidity": 0.2
             }
            },
            "type": "bar"
           }
          ],
          "barpolar": [
           {
            "marker": {
             "line": {
              "color": "#E5ECF6",
              "width": 0.5
             },
             "pattern": {
              "fillmode": "overlay",
              "size": 10,
              "solidity": 0.2
             }
            },
            "type": "barpolar"
           }
          ],
          "carpet": [
           {
            "aaxis": {
             "endlinecolor": "#2a3f5f",
             "gridcolor": "white",
             "linecolor": "white",
             "minorgridcolor": "white",
             "startlinecolor": "#2a3f5f"
            },
            "baxis": {
             "endlinecolor": "#2a3f5f",
             "gridcolor": "white",
             "linecolor": "white",
             "minorgridcolor": "white",
             "startlinecolor": "#2a3f5f"
            },
            "type": "carpet"
           }
          ],
          "choropleth": [
           {
            "colorbar": {
             "outlinewidth": 0,
             "ticks": ""
            },
            "type": "choropleth"
           }
          ],
          "contour": [
           {
            "colorbar": {
             "outlinewidth": 0,
             "ticks": ""
            },
            "colorscale": [
             [
              0,
              "#0d0887"
             ],
             [
              0.1111111111111111,
              "#46039f"
             ],
             [
              0.2222222222222222,
              "#7201a8"
             ],
             [
              0.3333333333333333,
              "#9c179e"
             ],
             [
              0.4444444444444444,
              "#bd3786"
             ],
             [
              0.5555555555555556,
              "#d8576b"
             ],
             [
              0.6666666666666666,
              "#ed7953"
             ],
             [
              0.7777777777777778,
              "#fb9f3a"
             ],
             [
              0.8888888888888888,
              "#fdca26"
             ],
             [
              1,
              "#f0f921"
             ]
            ],
            "type": "contour"
           }
          ],
          "contourcarpet": [
           {
            "colorbar": {
             "outlinewidth": 0,
             "ticks": ""
            },
            "type": "contourcarpet"
           }
          ],
          "heatmap": [
           {
            "colorbar": {
             "outlinewidth": 0,
             "ticks": ""
            },
            "colorscale": [
             [
              0,
              "#0d0887"
             ],
             [
              0.1111111111111111,
              "#46039f"
             ],
             [
              0.2222222222222222,
              "#7201a8"
             ],
             [
              0.3333333333333333,
              "#9c179e"
             ],
             [
              0.4444444444444444,
              "#bd3786"
             ],
             [
              0.5555555555555556,
              "#d8576b"
             ],
             [
              0.6666666666666666,
              "#ed7953"
             ],
             [
              0.7777777777777778,
              "#fb9f3a"
             ],
             [
              0.8888888888888888,
              "#fdca26"
             ],
             [
              1,
              "#f0f921"
             ]
            ],
            "type": "heatmap"
           }
          ],
          "histogram": [
           {
            "marker": {
             "pattern": {
              "fillmode": "overlay",
              "size": 10,
              "solidity": 0.2
             }
            },
            "type": "histogram"
           }
          ],
          "histogram2d": [
           {
            "colorbar": {
             "outlinewidth": 0,
             "ticks": ""
            },
            "colorscale": [
             [
              0,
              "#0d0887"
             ],
             [
              0.1111111111111111,
              "#46039f"
             ],
             [
              0.2222222222222222,
              "#7201a8"
             ],
             [
              0.3333333333333333,
              "#9c179e"
             ],
             [
              0.4444444444444444,
              "#bd3786"
             ],
             [
              0.5555555555555556,
              "#d8576b"
             ],
             [
              0.6666666666666666,
              "#ed7953"
             ],
             [
              0.7777777777777778,
              "#fb9f3a"
             ],
             [
              0.8888888888888888,
              "#fdca26"
             ],
             [
              1,
              "#f0f921"
             ]
            ],
            "type": "histogram2d"
           }
          ],
          "histogram2dcontour": [
           {
            "colorbar": {
             "outlinewidth": 0,
             "ticks": ""
            },
            "colorscale": [
             [
              0,
              "#0d0887"
             ],
             [
              0.1111111111111111,
              "#46039f"
             ],
             [
              0.2222222222222222,
              "#7201a8"
             ],
             [
              0.3333333333333333,
              "#9c179e"
             ],
             [
              0.4444444444444444,
              "#bd3786"
             ],
             [
              0.5555555555555556,
              "#d8576b"
             ],
             [
              0.6666666666666666,
              "#ed7953"
             ],
             [
              0.7777777777777778,
              "#fb9f3a"
             ],
             [
              0.8888888888888888,
              "#fdca26"
             ],
             [
              1,
              "#f0f921"
             ]
            ],
            "type": "histogram2dcontour"
           }
          ],
          "mesh3d": [
           {
            "colorbar": {
             "outlinewidth": 0,
             "ticks": ""
            },
            "type": "mesh3d"
           }
          ],
          "parcoords": [
           {
            "line": {
             "colorbar": {
              "outlinewidth": 0,
              "ticks": ""
             }
            },
            "type": "parcoords"
           }
          ],
          "pie": [
           {
            "automargin": true,
            "type": "pie"
           }
          ],
          "scatter": [
           {
            "fillpattern": {
             "fillmode": "overlay",
             "size": 10,
             "solidity": 0.2
            },
            "type": "scatter"
           }
          ],
          "scatter3d": [
           {
            "line": {
             "colorbar": {
              "outlinewidth": 0,
              "ticks": ""
             }
            },
            "marker": {
             "colorbar": {
              "outlinewidth": 0,
              "ticks": ""
             }
            },
            "type": "scatter3d"
           }
          ],
          "scattercarpet": [
           {
            "marker": {
             "colorbar": {
              "outlinewidth": 0,
              "ticks": ""
             }
            },
            "type": "scattercarpet"
           }
          ],
          "scattergeo": [
           {
            "marker": {
             "colorbar": {
              "outlinewidth": 0,
              "ticks": ""
             }
            },
            "type": "scattergeo"
           }
          ],
          "scattergl": [
           {
            "marker": {
             "colorbar": {
              "outlinewidth": 0,
              "ticks": ""
             }
            },
            "type": "scattergl"
           }
          ],
          "scattermap": [
           {
            "marker": {
             "colorbar": {
              "outlinewidth": 0,
              "ticks": ""
             }
            },
            "type": "scattermap"
           }
          ],
          "scattermapbox": [
           {
            "marker": {
             "colorbar": {
              "outlinewidth": 0,
              "ticks": ""
             }
            },
            "type": "scattermapbox"
           }
          ],
          "scatterpolar": [
           {
            "marker": {
             "colorbar": {
              "outlinewidth": 0,
              "ticks": ""
             }
            },
            "type": "scatterpolar"
           }
          ],
          "scatterpolargl": [
           {
            "marker": {
             "colorbar": {
              "outlinewidth": 0,
              "ticks": ""
             }
            },
            "type": "scatterpolargl"
           }
          ],
          "scatterternary": [
           {
            "marker": {
             "colorbar": {
              "outlinewidth": 0,
              "ticks": ""
             }
            },
            "type": "scatterternary"
           }
          ],
          "surface": [
           {
            "colorbar": {
             "outlinewidth": 0,
             "ticks": ""
            },
            "colorscale": [
             [
              0,
              "#0d0887"
             ],
             [
              0.1111111111111111,
              "#46039f"
             ],
             [
              0.2222222222222222,
              "#7201a8"
             ],
             [
              0.3333333333333333,
              "#9c179e"
             ],
             [
              0.4444444444444444,
              "#bd3786"
             ],
             [
              0.5555555555555556,
              "#d8576b"
             ],
             [
              0.6666666666666666,
              "#ed7953"
             ],
             [
              0.7777777777777778,
              "#fb9f3a"
             ],
             [
              0.8888888888888888,
              "#fdca26"
             ],
             [
              1,
              "#f0f921"
             ]
            ],
            "type": "surface"
           }
          ],
          "table": [
           {
            "cells": {
             "fill": {
              "color": "#EBF0F8"
             },
             "line": {
              "color": "white"
             }
            },
            "header": {
             "fill": {
              "color": "#C8D4E3"
             },
             "line": {
              "color": "white"
             }
            },
            "type": "table"
           }
          ]
         },
         "layout": {
          "annotationdefaults": {
           "arrowcolor": "#2a3f5f",
           "arrowhead": 0,
           "arrowwidth": 1
          },
          "autotypenumbers": "strict",
          "coloraxis": {
           "colorbar": {
            "outlinewidth": 0,
            "ticks": ""
           }
          },
          "colorscale": {
           "diverging": [
            [
             0,
             "#8e0152"
            ],
            [
             0.1,
             "#c51b7d"
            ],
            [
             0.2,
             "#de77ae"
            ],
            [
             0.3,
             "#f1b6da"
            ],
            [
             0.4,
             "#fde0ef"
            ],
            [
             0.5,
             "#f7f7f7"
            ],
            [
             0.6,
             "#e6f5d0"
            ],
            [
             0.7,
             "#b8e186"
            ],
            [
             0.8,
             "#7fbc41"
            ],
            [
             0.9,
             "#4d9221"
            ],
            [
             1,
             "#276419"
            ]
           ],
           "sequential": [
            [
             0,
             "#0d0887"
            ],
            [
             0.1111111111111111,
             "#46039f"
            ],
            [
             0.2222222222222222,
             "#7201a8"
            ],
            [
             0.3333333333333333,
             "#9c179e"
            ],
            [
             0.4444444444444444,
             "#bd3786"
            ],
            [
             0.5555555555555556,
             "#d8576b"
            ],
            [
             0.6666666666666666,
             "#ed7953"
            ],
            [
             0.7777777777777778,
             "#fb9f3a"
            ],
            [
             0.8888888888888888,
             "#fdca26"
            ],
            [
             1,
             "#f0f921"
            ]
           ],
           "sequentialminus": [
            [
             0,
             "#0d0887"
            ],
            [
             0.1111111111111111,
             "#46039f"
            ],
            [
             0.2222222222222222,
             "#7201a8"
            ],
            [
             0.3333333333333333,
             "#9c179e"
            ],
            [
             0.4444444444444444,
             "#bd3786"
            ],
            [
             0.5555555555555556,
             "#d8576b"
            ],
            [
             0.6666666666666666,
             "#ed7953"
            ],
            [
             0.7777777777777778,
             "#fb9f3a"
            ],
            [
             0.8888888888888888,
             "#fdca26"
            ],
            [
             1,
             "#f0f921"
            ]
           ]
          },
          "colorway": [
           "#636efa",
           "#EF553B",
           "#00cc96",
           "#ab63fa",
           "#FFA15A",
           "#19d3f3",
           "#FF6692",
           "#B6E880",
           "#FF97FF",
           "#FECB52"
          ],
          "font": {
           "color": "#2a3f5f"
          },
          "geo": {
           "bgcolor": "white",
           "lakecolor": "white",
           "landcolor": "#E5ECF6",
           "showlakes": true,
           "showland": true,
           "subunitcolor": "white"
          },
          "hoverlabel": {
           "align": "left"
          },
          "hovermode": "closest",
          "mapbox": {
           "style": "light"
          },
          "paper_bgcolor": "white",
          "plot_bgcolor": "#E5ECF6",
          "polar": {
           "angularaxis": {
            "gridcolor": "white",
            "linecolor": "white",
            "ticks": ""
           },
           "bgcolor": "#E5ECF6",
           "radialaxis": {
            "gridcolor": "white",
            "linecolor": "white",
            "ticks": ""
           }
          },
          "scene": {
           "xaxis": {
            "backgroundcolor": "#E5ECF6",
            "gridcolor": "white",
            "gridwidth": 2,
            "linecolor": "white",
            "showbackground": true,
            "ticks": "",
            "zerolinecolor": "white"
           },
           "yaxis": {
            "backgroundcolor": "#E5ECF6",
            "gridcolor": "white",
            "gridwidth": 2,
            "linecolor": "white",
            "showbackground": true,
            "ticks": "",
            "zerolinecolor": "white"
           },
           "zaxis": {
            "backgroundcolor": "#E5ECF6",
            "gridcolor": "white",
            "gridwidth": 2,
            "linecolor": "white",
            "showbackground": true,
            "ticks": "",
            "zerolinecolor": "white"
           }
          },
          "shapedefaults": {
           "line": {
            "color": "#2a3f5f"
           }
          },
          "ternary": {
           "aaxis": {
            "gridcolor": "white",
            "linecolor": "white",
            "ticks": ""
           },
           "baxis": {
            "gridcolor": "white",
            "linecolor": "white",
            "ticks": ""
           },
           "bgcolor": "#E5ECF6",
           "caxis": {
            "gridcolor": "white",
            "linecolor": "white",
            "ticks": ""
           }
          },
          "title": {
           "x": 0.05
          },
          "xaxis": {
           "automargin": true,
           "gridcolor": "white",
           "linecolor": "white",
           "ticks": "",
           "title": {
            "standoff": 15
           },
           "zerolinecolor": "white",
           "zerolinewidth": 2
          },
          "yaxis": {
           "automargin": true,
           "gridcolor": "white",
           "linecolor": "white",
           "ticks": "",
           "title": {
            "standoff": 15
           },
           "zerolinecolor": "white",
           "zerolinewidth": 2
          }
         }
        },
        "title": {
         "text": "AC Circuit - Complete Telemetry Analysis"
        },
        "xaxis": {
         "anchor": "y",
         "domain": [
          0,
          0.45
         ],
         "title": {
          "text": "X Position (m)"
         }
        },
        "xaxis2": {
         "anchor": "y2",
         "domain": [
          0.55,
          1
         ],
         "title": {
          "text": "X Position (m)"
         }
        },
        "xaxis3": {
         "anchor": "y3",
         "domain": [
          0,
          0.45
         ],
         "title": {
          "text": "X Position (m)"
         }
        },
        "xaxis4": {
         "anchor": "y4",
         "domain": [
          0.55,
          1
         ],
         "title": {
          "text": "X Position (m)"
         }
        },
        "xaxis5": {
         "anchor": "y5",
         "domain": [
          0,
          0.45
         ],
         "title": {
          "text": "X Position (m)"
         }
        },
        "xaxis6": {
         "anchor": "y6",
         "domain": [
          0.55,
          1
         ],
         "title": {
          "text": "X Position (m)"
         }
        },
        "yaxis": {
         "anchor": "x",
         "domain": [
          0.7777777777777778,
          1
         ],
         "scaleanchor": "x",
         "scaleratio": 1,
         "title": {
          "text": "Z Position (m)"
         }
        },
        "yaxis2": {
         "anchor": "x2",
         "domain": [
          0.7777777777777778,
          1
         ],
         "scaleanchor": "x2",
         "scaleratio": 1,
         "title": {
          "text": "Z Position (m)"
         }
        },
        "yaxis3": {
         "anchor": "x3",
         "domain": [
          0.3888888888888889,
          0.6111111111111112
         ],
         "scaleanchor": "x3",
         "scaleratio": 1,
         "title": {
          "text": "Z Position (m)"
         }
        },
        "yaxis4": {
         "anchor": "x4",
         "domain": [
          0.3888888888888889,
          0.6111111111111112
         ],
         "scaleanchor": "x4",
         "scaleratio": 1,
         "title": {
          "text": "Z Position (m)"
         }
        },
        "yaxis5": {
         "anchor": "x5",
         "domain": [
          0,
          0.22222222222222224
         ],
         "scaleanchor": "x5",
         "scaleratio": 1,
         "title": {
          "text": "Z Position (m)"
         }
        },
        "yaxis6": {
         "anchor": "x6",
         "domain": [
          0,
          0.22222222222222224
         ],
         "scaleanchor": "x6",
         "scaleratio": 1,
         "title": {
          "text": "Z Position (m)"
         }
        }
       }
      }
     },
     "metadata": {},
     "output_type": "display_data"
    }
   ],
   "source": [
    "# Create visualization\n",
    "create_circuit_telemetry_visualization(df, track_x, track_z, telemetry_vars)"
   ]
  },
  {
   "cell_type": "markdown",
   "id": "8f4c7bbe",
   "metadata": {},
   "source": [
    "#### 3.3 🏁 Execute Complete Telemetry Visualization\n",
    "\n",
    "**Purpose**: Generate the final interactive multi-variable circuit analysis visualization.\n",
    "\n",
    "**Expected Output:**\n",
    "- **Six synchronized track views** showing different telemetry aspects\n",
    "- **Interactive hover functionality** with precise data values at each track position  \n",
    "- **Professional layout** suitable for racing analysis and AI training data preparation\n",
    "- **Comprehensive telemetry coverage** for complete driving pattern recognition\n",
    "\n",
    "**Analysis Applications:**\n",
    "- **Racing line optimization**: Speed and steering pattern analysis\n",
    "- **Vehicle setup insights**: Gear usage and RPM distribution evaluation\n",
    "- **Track surface analysis**: Surface grip condition mapping for tire strategy\n",
    "- **AI training preparation**: Multi-dimensional telemetry data for machine learning models"
   ]
  }
 ],
 "metadata": {
  "kernelspec": {
   "display_name": "F1_AC_Digital_Twin_Env",
   "language": "python",
   "name": "python3"
  },
  "language_info": {
   "codemirror_mode": {
    "name": "ipython",
    "version": 3
   },
   "file_extension": ".py",
   "mimetype": "text/x-python",
   "name": "python",
   "nbconvert_exporter": "python",
   "pygments_lexer": "ipython3",
   "version": "3.11.13"
  }
 },
 "nbformat": 4,
 "nbformat_minor": 5
}
