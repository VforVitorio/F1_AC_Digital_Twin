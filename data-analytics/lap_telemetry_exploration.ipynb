{
 "cells": [
  {
   "cell_type": "markdown",
   "id": "584c11ee",
   "metadata": {},
   "source": [
    "# Lap Telemetry Exploration"
   ]
  },
  {
   "cell_type": "markdown",
   "id": "c977b943",
   "metadata": {},
   "source": [
    "This notebook analyzes telemetry data collected from hotlaps in Assetto Corsa, providing detailed insights into driving performance and car behavior.\n",
    "\n",
    "**Session Configuration:**\n",
    "* **Track**: Autodromo Nazionale Monza\n",
    "* **Car**: Aston Martin AMR24 (2024 Formula 1)\n",
    "* **Session Type**: Hotlap Analysis\n",
    "\n",
    "**Analysis Features:**\n",
    "* Lap-by-lap telemetry breakdown with normalized distances\n",
    "* Interactive visualizations with hover data\n",
    "* Comprehensive driving input analysis (throttle, brake, steering)\n",
    "* Performance metrics and sector analysis"
   ]
  },
  {
   "cell_type": "markdown",
   "id": "7f4bdb29",
   "metadata": {},
   "source": [
    "---"
   ]
  },
  {
   "cell_type": "markdown",
   "id": "86ba757d",
   "metadata": {},
   "source": [
    "## 1. Dependencies and Configuration"
   ]
  },
  {
   "cell_type": "code",
   "execution_count": 1,
   "id": "ea1f1da3",
   "metadata": {},
   "outputs": [],
   "source": [
    "%matplotlib inline\n",
    "import pandas as pd\n",
    "import numpy as np\n",
    "import matplotlib.pyplot as plt\n",
    "import plotly.graph_objects as go\n",
    "import plotly.subplots as sp\n",
    "from plotly.subplots import make_subplots\n",
    "from pathlib import Path\n",
    "import os\n",
    "from IPython.display import display, HTML"
   ]
  },
  {
   "cell_type": "markdown",
   "id": "fe159894",
   "metadata": {},
   "source": [
    "---"
   ]
  },
  {
   "cell_type": "markdown",
   "id": "14f22e6f",
   "metadata": {},
   "source": [
    "## 2. Data Loading and Preprocessing\n",
    "\n",
    "The following cell implements intelligent telemetry file discovery and data normalization:\n",
    "\n",
    "**Automatic File Discovery:**\n",
    "- Searches multiple common locations for telemetry CSV files\n",
    "- Automatically selects the most recent file based on creation time\n",
    "- Supports various project directory structures\n",
    "\n",
    "**Data Normalization:**\n",
    "- Standardizes column names across different CSV formats and versions\n",
    "- Handles missing columns with appropriate defaults\n",
    "- Creates distance measurements for analysis (relative or absolute)\n",
    "- Ensures data type consistency for numerical analysis"
   ]
  },
  {
   "cell_type": "code",
   "execution_count": 2,
   "id": "5fa9836d",
   "metadata": {},
   "outputs": [
    {
     "name": "stdout",
     "output_type": "stream",
     "text": [
      "Loading telemetry file: ../TELEMETRY\\telemetry_2025-09-12_19-00-17.csv\n",
      "Columns after normalization: ['Timestamp', 'Speed_kmh', 'RPM', 'Throttle', 'Brake', 'Steering', 'Gear', 'CompletedLaps', 'iCurrentTime_ms', 'CurrentLapTime_str', 'iLastTime_ms', 'iBestTime_ms', 'DistanceTraveled_m', 'LapNumberTotal', 'CurrentSectorIndex', 'LastSectorTime_ms', 'IsInPit', 'IsInPitLane', 'TyreCompound', 'X', 'Y', 'Z', 'Flag', 'SurfaceGrip', 'Distance']\n",
      "Rows: 3411\n",
      "Data range:\n",
      "  - Laps: 0 to 4\n",
      "  - Speed: 58.2 to 339.4 km/h\n",
      "  - First few rows:\n"
     ]
    },
    {
     "data": {
      "application/vnd.microsoft.datawrangler.viewer.v0+json": {
       "columns": [
        {
         "name": "index",
         "rawType": "int64",
         "type": "integer"
        },
        {
         "name": "Timestamp",
         "rawType": "int64",
         "type": "integer"
        },
        {
         "name": "Speed_kmh",
         "rawType": "float64",
         "type": "float"
        },
        {
         "name": "RPM",
         "rawType": "int64",
         "type": "integer"
        },
        {
         "name": "Throttle",
         "rawType": "float64",
         "type": "float"
        },
        {
         "name": "Brake",
         "rawType": "float64",
         "type": "float"
        },
        {
         "name": "Steering",
         "rawType": "float64",
         "type": "float"
        },
        {
         "name": "Gear",
         "rawType": "int64",
         "type": "integer"
        },
        {
         "name": "CompletedLaps",
         "rawType": "int64",
         "type": "integer"
        },
        {
         "name": "iCurrentTime_ms",
         "rawType": "int64",
         "type": "integer"
        },
        {
         "name": "CurrentLapTime_str",
         "rawType": "object",
         "type": "string"
        },
        {
         "name": "iLastTime_ms",
         "rawType": "int64",
         "type": "integer"
        },
        {
         "name": "iBestTime_ms",
         "rawType": "int64",
         "type": "integer"
        },
        {
         "name": "DistanceTraveled_m",
         "rawType": "float64",
         "type": "float"
        },
        {
         "name": "LapNumberTotal",
         "rawType": "int64",
         "type": "integer"
        },
        {
         "name": "CurrentSectorIndex",
         "rawType": "int64",
         "type": "integer"
        },
        {
         "name": "LastSectorTime_ms",
         "rawType": "int64",
         "type": "integer"
        },
        {
         "name": "IsInPit",
         "rawType": "bool",
         "type": "boolean"
        },
        {
         "name": "IsInPitLane",
         "rawType": "bool",
         "type": "boolean"
        },
        {
         "name": "TyreCompound",
         "rawType": "object",
         "type": "string"
        },
        {
         "name": "X",
         "rawType": "float64",
         "type": "float"
        },
        {
         "name": "Y",
         "rawType": "float64",
         "type": "float"
        },
        {
         "name": "Z",
         "rawType": "float64",
         "type": "float"
        },
        {
         "name": "Flag",
         "rawType": "int64",
         "type": "integer"
        },
        {
         "name": "SurfaceGrip",
         "rawType": "float64",
         "type": "float"
        },
        {
         "name": "Distance",
         "rawType": "float64",
         "type": "float"
        }
       ],
       "ref": "45251009-a77c-4d1f-88b9-ad5c6f45e179",
       "rows": [
        [
         "0",
         "1757696073",
         "58.25",
         "7604",
         "1.0",
         "0.0",
         "0.11",
         "1",
         "0",
         "8925",
         "0:08.925",
         "0",
         "0",
         "16983.812",
         "0",
         "0",
         "0",
         "False",
         "False",
         "Soft (S)",
         "43.03802490234375",
         "-10.094680786132812",
         "675.4391479492188",
         "0",
         "1.0",
         "16983.812"
        ],
        [
         "1",
         "1757696074",
         "61.92",
         "8113",
         "1.0",
         "0.0",
         "0.075",
         "1",
         "0",
         "9036",
         "0:09.036",
         "0",
         "0",
         "16985.631",
         "0",
         "0",
         "0",
         "False",
         "False",
         "Soft (S)",
         "42.93094253540039",
         "-10.10452651977539",
         "677.2877807617188",
         "0",
         "1.0",
         "16985.631"
        ],
        [
         "2",
         "1757696074",
         "65.47",
         "8713",
         "1.0",
         "0.0",
         "0.048",
         "1",
         "0",
         "9141",
         "0:09.141",
         "0",
         "0",
         "16987.477",
         "0",
         "0",
         "0",
         "False",
         "False",
         "Soft (S)",
         "42.80092239379883",
         "-10.115252494812012",
         "679.142578125",
         "0",
         "1.0",
         "16987.477"
        ],
        [
         "3",
         "1757696074",
         "69.07",
         "9155",
         "1.0",
         "0.0",
         "0.028",
         "1",
         "0",
         "9240",
         "0:09.240",
         "0",
         "0",
         "16989.355",
         "0",
         "0",
         "0",
         "False",
         "False",
         "Soft (S)",
         "42.65532684326172",
         "-10.12541389465332",
         "680.9891357421875",
         "0",
         "1.0",
         "16989.355"
        ],
        [
         "4",
         "1757696074",
         "72.61",
         "9611",
         "1.0",
         "0.0",
         "0.015",
         "1",
         "0",
         "9342",
         "0:09.342",
         "0",
         "0",
         "16991.359",
         "0",
         "0",
         "0",
         "False",
         "False",
         "Soft (S)",
         "42.48543167114258",
         "-10.137288093566896",
         "682.9893188476562",
         "0",
         "1.0",
         "16991.359"
        ]
       ],
       "shape": {
        "columns": 25,
        "rows": 5
       }
      },
      "text/html": [
       "<div>\n",
       "<style scoped>\n",
       "    .dataframe tbody tr th:only-of-type {\n",
       "        vertical-align: middle;\n",
       "    }\n",
       "\n",
       "    .dataframe tbody tr th {\n",
       "        vertical-align: top;\n",
       "    }\n",
       "\n",
       "    .dataframe thead th {\n",
       "        text-align: right;\n",
       "    }\n",
       "</style>\n",
       "<table border=\"1\" class=\"dataframe\">\n",
       "  <thead>\n",
       "    <tr style=\"text-align: right;\">\n",
       "      <th></th>\n",
       "      <th>Timestamp</th>\n",
       "      <th>Speed_kmh</th>\n",
       "      <th>RPM</th>\n",
       "      <th>Throttle</th>\n",
       "      <th>Brake</th>\n",
       "      <th>Steering</th>\n",
       "      <th>Gear</th>\n",
       "      <th>CompletedLaps</th>\n",
       "      <th>iCurrentTime_ms</th>\n",
       "      <th>CurrentLapTime_str</th>\n",
       "      <th>...</th>\n",
       "      <th>LastSectorTime_ms</th>\n",
       "      <th>IsInPit</th>\n",
       "      <th>IsInPitLane</th>\n",
       "      <th>TyreCompound</th>\n",
       "      <th>X</th>\n",
       "      <th>Y</th>\n",
       "      <th>Z</th>\n",
       "      <th>Flag</th>\n",
       "      <th>SurfaceGrip</th>\n",
       "      <th>Distance</th>\n",
       "    </tr>\n",
       "  </thead>\n",
       "  <tbody>\n",
       "    <tr>\n",
       "      <th>0</th>\n",
       "      <td>1757696073</td>\n",
       "      <td>58.25</td>\n",
       "      <td>7604</td>\n",
       "      <td>1.0</td>\n",
       "      <td>0.0</td>\n",
       "      <td>0.110</td>\n",
       "      <td>1</td>\n",
       "      <td>0</td>\n",
       "      <td>8925</td>\n",
       "      <td>0:08.925</td>\n",
       "      <td>...</td>\n",
       "      <td>0</td>\n",
       "      <td>False</td>\n",
       "      <td>False</td>\n",
       "      <td>Soft (S)</td>\n",
       "      <td>43.038025</td>\n",
       "      <td>-10.094681</td>\n",
       "      <td>675.439148</td>\n",
       "      <td>0</td>\n",
       "      <td>1.0</td>\n",
       "      <td>16983.812</td>\n",
       "    </tr>\n",
       "    <tr>\n",
       "      <th>1</th>\n",
       "      <td>1757696074</td>\n",
       "      <td>61.92</td>\n",
       "      <td>8113</td>\n",
       "      <td>1.0</td>\n",
       "      <td>0.0</td>\n",
       "      <td>0.075</td>\n",
       "      <td>1</td>\n",
       "      <td>0</td>\n",
       "      <td>9036</td>\n",
       "      <td>0:09.036</td>\n",
       "      <td>...</td>\n",
       "      <td>0</td>\n",
       "      <td>False</td>\n",
       "      <td>False</td>\n",
       "      <td>Soft (S)</td>\n",
       "      <td>42.930943</td>\n",
       "      <td>-10.104527</td>\n",
       "      <td>677.287781</td>\n",
       "      <td>0</td>\n",
       "      <td>1.0</td>\n",
       "      <td>16985.631</td>\n",
       "    </tr>\n",
       "    <tr>\n",
       "      <th>2</th>\n",
       "      <td>1757696074</td>\n",
       "      <td>65.47</td>\n",
       "      <td>8713</td>\n",
       "      <td>1.0</td>\n",
       "      <td>0.0</td>\n",
       "      <td>0.048</td>\n",
       "      <td>1</td>\n",
       "      <td>0</td>\n",
       "      <td>9141</td>\n",
       "      <td>0:09.141</td>\n",
       "      <td>...</td>\n",
       "      <td>0</td>\n",
       "      <td>False</td>\n",
       "      <td>False</td>\n",
       "      <td>Soft (S)</td>\n",
       "      <td>42.800922</td>\n",
       "      <td>-10.115252</td>\n",
       "      <td>679.142578</td>\n",
       "      <td>0</td>\n",
       "      <td>1.0</td>\n",
       "      <td>16987.477</td>\n",
       "    </tr>\n",
       "    <tr>\n",
       "      <th>3</th>\n",
       "      <td>1757696074</td>\n",
       "      <td>69.07</td>\n",
       "      <td>9155</td>\n",
       "      <td>1.0</td>\n",
       "      <td>0.0</td>\n",
       "      <td>0.028</td>\n",
       "      <td>1</td>\n",
       "      <td>0</td>\n",
       "      <td>9240</td>\n",
       "      <td>0:09.240</td>\n",
       "      <td>...</td>\n",
       "      <td>0</td>\n",
       "      <td>False</td>\n",
       "      <td>False</td>\n",
       "      <td>Soft (S)</td>\n",
       "      <td>42.655327</td>\n",
       "      <td>-10.125414</td>\n",
       "      <td>680.989136</td>\n",
       "      <td>0</td>\n",
       "      <td>1.0</td>\n",
       "      <td>16989.355</td>\n",
       "    </tr>\n",
       "    <tr>\n",
       "      <th>4</th>\n",
       "      <td>1757696074</td>\n",
       "      <td>72.61</td>\n",
       "      <td>9611</td>\n",
       "      <td>1.0</td>\n",
       "      <td>0.0</td>\n",
       "      <td>0.015</td>\n",
       "      <td>1</td>\n",
       "      <td>0</td>\n",
       "      <td>9342</td>\n",
       "      <td>0:09.342</td>\n",
       "      <td>...</td>\n",
       "      <td>0</td>\n",
       "      <td>False</td>\n",
       "      <td>False</td>\n",
       "      <td>Soft (S)</td>\n",
       "      <td>42.485432</td>\n",
       "      <td>-10.137288</td>\n",
       "      <td>682.989319</td>\n",
       "      <td>0</td>\n",
       "      <td>1.0</td>\n",
       "      <td>16991.359</td>\n",
       "    </tr>\n",
       "  </tbody>\n",
       "</table>\n",
       "<p>5 rows × 25 columns</p>\n",
       "</div>"
      ],
      "text/plain": [
       "    Timestamp  Speed_kmh   RPM  Throttle  Brake  Steering  Gear  \\\n",
       "0  1757696073      58.25  7604       1.0    0.0     0.110     1   \n",
       "1  1757696074      61.92  8113       1.0    0.0     0.075     1   \n",
       "2  1757696074      65.47  8713       1.0    0.0     0.048     1   \n",
       "3  1757696074      69.07  9155       1.0    0.0     0.028     1   \n",
       "4  1757696074      72.61  9611       1.0    0.0     0.015     1   \n",
       "\n",
       "   CompletedLaps  iCurrentTime_ms CurrentLapTime_str  ...  LastSectorTime_ms  \\\n",
       "0              0             8925           0:08.925  ...                  0   \n",
       "1              0             9036           0:09.036  ...                  0   \n",
       "2              0             9141           0:09.141  ...                  0   \n",
       "3              0             9240           0:09.240  ...                  0   \n",
       "4              0             9342           0:09.342  ...                  0   \n",
       "\n",
       "   IsInPit  IsInPitLane  TyreCompound          X          Y           Z  Flag  \\\n",
       "0    False        False      Soft (S)  43.038025 -10.094681  675.439148     0   \n",
       "1    False        False      Soft (S)  42.930943 -10.104527  677.287781     0   \n",
       "2    False        False      Soft (S)  42.800922 -10.115252  679.142578     0   \n",
       "3    False        False      Soft (S)  42.655327 -10.125414  680.989136     0   \n",
       "4    False        False      Soft (S)  42.485432 -10.137288  682.989319     0   \n",
       "\n",
       "  SurfaceGrip   Distance  \n",
       "0         1.0  16983.812  \n",
       "1         1.0  16985.631  \n",
       "2         1.0  16987.477  \n",
       "3         1.0  16989.355  \n",
       "4         1.0  16991.359  \n",
       "\n",
       "[5 rows x 25 columns]"
      ]
     },
     "metadata": {},
     "output_type": "display_data"
    }
   ],
   "source": [
    "# Automatically find the most recent telemetry CSV file\n",
    "import glob\n",
    "import os\n",
    "\n",
    "# Try different possible locations for telemetry files\n",
    "possible_paths = [\n",
    "    \"TELEMETRY/*.csv\",           # if running from project root\n",
    "    \"../TELEMETRY/*.csv\",        # if running from subdirectory (like data-analytics)\n",
    "    \"../../TELEMETRY/*.csv\",     # if running from deeper subdirectory\n",
    "    \"*.csv\"                      # current directory\n",
    "]\n",
    "\n",
    "telemetry_file = None\n",
    "for pattern in possible_paths:\n",
    "    files = glob.glob(pattern)\n",
    "    if files:\n",
    "        # Get the most recent file\n",
    "        telemetry_file = max(files, key=os.path.getctime)\n",
    "        break\n",
    "\n",
    "if telemetry_file is None:\n",
    "    print(\"No telemetry CSV files found. Please check the file path.\")\n",
    "    print(\"Current working directory:\", os.getcwd())\n",
    "    print(\"Looking for files in these patterns:\", possible_paths)\n",
    "    raise FileNotFoundError(\"No telemetry CSV files found\")\n",
    "\n",
    "print(f\"Loading telemetry file: {telemetry_file}\")\n",
    "df = pd.read_csv(telemetry_file)\n",
    "\n",
    "# Normalize / common rename (adapt to your CSV)\n",
    "col_map = {}\n",
    "# common variants -> normalized names used below\n",
    "if 'Speed (km/h)' in df.columns:\n",
    "    col_map['Speed (km/h)'] = 'Speed_kmh'\n",
    "if 'Speed_kmh' not in df.columns and 'Speed' in df.columns:\n",
    "    col_map['Speed'] = 'Speed_kmh'\n",
    "if 'iCurrentTime' in df.columns and 'iCurrentTime_ms' not in df.columns:\n",
    "    col_map['iCurrentTime'] = 'iCurrentTime_ms'\n",
    "if 'iLastTime' in df.columns and 'iLastTime_ms' not in df.columns:\n",
    "    col_map['iLastTime'] = 'iLastTime_ms'\n",
    "if 'iBestTime' in df.columns and 'iBestTime_ms' not in df.columns:\n",
    "    col_map['iBestTime'] = 'iBestTime_ms'\n",
    "if 'CarX' in df.columns and 'X' not in df.columns:\n",
    "    col_map['CarX'] = 'X'\n",
    "if 'CarY' in df.columns and 'Y' not in df.columns:\n",
    "    col_map['CarY'] = 'Y'\n",
    "if 'CarZ' in df.columns and 'Z' not in df.columns:\n",
    "    col_map['CarZ'] = 'Z'\n",
    "\n",
    "df = df.rename(columns=col_map)\n",
    "\n",
    "# Ensure essential columns exist; set defaults if missing\n",
    "if 'Completed Laps' in df.columns:\n",
    "    df = df.rename(columns={'Completed Laps': 'CompletedLaps'})\n",
    "elif 'CompletedLaps' not in df.columns:\n",
    "    raise KeyError(\"CSV must contain 'CompletedLaps' or 'Completed Laps' column\")\n",
    "\n",
    "if 'Speed_kmh' not in df.columns:\n",
    "    df['Speed_kmh'] = np.nan\n",
    "if 'Throttle' not in df.columns:\n",
    "    df['Throttle'] = np.nan\n",
    "if 'Brake' not in df.columns:\n",
    "    df['Brake'] = np.nan\n",
    "if 'Steering' not in df.columns:\n",
    "    # maybe steerAngle\n",
    "    for candidate in ['steerAngle','SteeringAngle','Steering']:\n",
    "        if candidate in df.columns:\n",
    "            df = df.rename(columns={candidate:'Steering'})\n",
    "            break\n",
    "    else:\n",
    "        df['Steering'] = np.nan\n",
    "\n",
    "# If distance column exists, use it, else build an index-based distance proxy\n",
    "if 'DistanceTraveled_m' in df.columns:\n",
    "    df['Distance'] = df['DistanceTraveled_m']\n",
    "elif 'Distance' in df.columns:\n",
    "    df['Distance'] = df['Distance']\n",
    "else:\n",
    "    df['Distance'] = np.arange(len(df))\n",
    "\n",
    "# Convert CompletedLaps to int for grouping\n",
    "df['CompletedLaps'] = df['CompletedLaps'].fillna(0).astype(int)\n",
    "\n",
    "print(\"Columns after normalization:\", list(df.columns))\n",
    "print(\"Rows:\", len(df))\n",
    "print(\"Data range:\")\n",
    "print(f\"  - Laps: {df['CompletedLaps'].min()} to {df['CompletedLaps'].max()}\")\n",
    "print(f\"  - Speed: {df['Speed_kmh'].min():.1f} to {df['Speed_kmh'].max():.1f} km/h\")\n",
    "print(f\"  - First few rows:\")\n",
    "display(df.head())"
   ]
  },
  {
   "cell_type": "markdown",
   "id": "4aa39e0f",
   "metadata": {},
   "source": [
    "---"
   ]
  },
  {
   "cell_type": "markdown",
   "id": "6b717a3f",
   "metadata": {},
   "source": [
    "## 3. Lap Data Extraction and Helper Functions"
   ]
  },
  {
   "cell_type": "code",
   "execution_count": null,
   "id": "8e28c2f6",
   "metadata": {},
   "outputs": [
    {
     "name": "stdout",
     "output_type": "stream",
     "text": [
      "Available laps: [1, 2, 3, 4]\n"
     ]
    }
   ],
   "source": [
    "# Helper function for lap data extraction and lap list preparation\n",
    "\n",
    "def rows_for_lap(df, lap_number: int) -> pd.DataFrame:\n",
    "    \"\"\"\n",
    "    Extract telemetry data for a specific lap from the complete dataset.\n",
    "    \n",
    "    AC's lap counting logic: data recorded DURING lap K has CompletedLaps == K-1.\n",
    "    This is because CompletedLaps represents the number of laps already finished,\n",
    "    not the current lap being driven.\n",
    "    \n",
    "    Args:\n",
    "        df (pd.DataFrame): Complete telemetry dataset\n",
    "        lap_number (int): Target lap number (1-based, e.g., 1 for first lap)\n",
    "        \n",
    "    Returns:\n",
    "        pd.DataFrame: Filtered dataset containing only data from the specified lap\n",
    "        \n",
    "    Example:\n",
    "        - To get data from lap 1: look for CompletedLaps == 0\n",
    "        - To get data from lap 2: look for CompletedLaps == 1\n",
    "        - etc.\n",
    "    \"\"\"\n",
    "    target = lap_number - 1\n",
    "    return df[df['CompletedLaps'] == target].reset_index(drop=True)\n",
    "\n",
    "# Build available laps list based on data range\n",
    "max_completed = int(df['CompletedLaps'].max())\n",
    "available_laps = list(range(1, max_completed + 1))\n",
    "print(f\"Available laps for analysis: {available_laps}\")\n",
    "print(f\"Total laps detected: {len(available_laps)}\")\n"
   ]
  },
  {
   "cell_type": "markdown",
   "id": "59b8392c",
   "metadata": {},
   "source": [
    "## 4. Comprehensive Telemetry Dashboard (All Laps)"
   ]
  },
  {
   "cell_type": "code",
   "execution_count": null,
   "id": "13eed0a2",
   "metadata": {},
   "outputs": [
    {
     "data": {
      "application/vnd.plotly.v1+json": {
       "config": {
        "plotlyServerURL": "https://plot.ly"
       },
       "data": [
        {
         "hovertemplate": "Distance: %{x:.1f}m<br>Gear: %{y}<extra></extra>",
         "line": {
          "color": "#FF6B35",
          "shape": "hv",
          "width": 3
         },
         "mode": "lines",
         "name": "Gear",
         "type": "scatter",
         "x": {
          "bdata": "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",
          "dtype": "f8"
         },
         "xaxis": "x",
         "y": {
          "bdata": "AQEBAQEBAQEBAQACAgICAgICAgICAgICAwMDAwMDAwMDAwQEBAQEBAQEBAQEBAQEBAQEBAQEAwMDAwMDAwMDAwMDAwMDAwMDAwMEBAQEBAQEBAQEBAQEBQUFBQUFBQUFBQUFBQUFBQUFBQUFBQYGBgYGBgYGBgYGBgYGBgYGBgcHBwcHBwcHBwcHBwcHBwcHBwcHBwcHBwcHBwcHBwcHBwcHBwcHBwcHBwcHBwcHBwAICAgICAgICAgICAgICAgICAgICAgICAgICAgICAgICAgICAgICAgICAgICAgICAgICAgICAgICAgICAgICAgICAgICAgICAgICAgHBwcHBgYGBgUFBQUEBAQEAwMDAwICAgIBAQEBAQEBAQEBAQEBAQEBAQEBAQEBAQEBAQEBAQICAgICAgICAgIDAwMDAwMDAwMDBAQEBAQEBAQEBAUFBQUFBQUFBQUGBgYGBgYGBgYGBwcHBwcHBwcHBwcHBwcHBwcHBwcHBwcHBwcHBwcHBwcHBwcICAgICAgICAgICAgICAgICAgICAgICAgICAgICAgICAgICAgICAgICAgICAgICAgICAgICAgICAgHBwcHBgYGBgUFBQUEBAQEAwMDAwICAgICAgICAgICAgICAwMDAwMDAwMDAwQEBAQEBAQEBAQFBQUFBQUFBQUFBgYGBgYGBgYGBgcHBwcHBwcHBwcHBwcHBwcHBgYGBgYGBgYGBgYGBgYGBgYGBgYGBgYGBgYGBgYGBgYGBgYGBgcHBwcHBwcHBwcGBgYGBQUFBQUFBQUFBQUFBQUFBQUFBgYGBgYGBgYGBgYGBgcHBwcHBwcHBwcHBwcHBwcHBwcHBwcHBwcHBwcACAgICAgICAgICAgICAgICAgICAgICAgICAgICAgICAgICAgICAgICAgICAgICAgICAgICAgICAgICAgICAgICAgHBwcHBgYGBgAFBQUFBQUFBQUFBQUFBQUFBQUFBQUFBQUFBQUFBQUGBgYGBgYGBgYGBgYGBgYGBwcHBwcHBwcHBwcHBwcHBwcHBwcHBwcHBwcHBwcHBwcHCAgICAgICAgICAgICAgICAgICAgICAgICAgICAgICAgICAgICAgICAgICAgICAgICAgICAgICAgICAgICAgICAgICAgICAAHBwcABgYGBgYGBgYGBgYGBgYFBQUFBQUFBQUFBQUFBQUFBQUFBQUFBQYGBgYGBgYGBgYGBgYHBwcHBwcHBwcHBwcHBwcHBwcHBwcHBwcHBwcHBwcICAgICAgICAgICA==",
          "dtype": "i1"
         },
         "yaxis": "y"
        },
        {
         "hovertemplate": "Distance: %{x:.1f}m<br>Speed: %{y:.1f} km/h<extra></extra>",
         "line": {
          "color": "#004E89",
          "width": 3
         },
         "mode": "lines",
         "name": "Speed",
         "type": "scatter",
         "x": {
          "bdata": "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",
          "dtype": "f8"
         },
         "xaxis": "x2",
         "y": {
          "bdata": "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",
          "dtype": "f8"
         },
         "yaxis": "y2"
        },
        {
         "hovertemplate": "Distance: %{x:.1f}m<br>RPM: %{y:.0f}<extra></extra>",
         "line": {
          "color": "#FF9F1C",
          "width": 3
         },
         "mode": "lines",
         "name": "RPM",
         "type": "scatter",
         "x": {
          "bdata": "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",
          "dtype": "f8"
         },
         "xaxis": "x3",
         "y": {
          "bdata": "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",
          "dtype": "i2"
         },
         "yaxis": "y3"
        },
        {
         "hovertemplate": "Distance: %{x:.1f}m<br>Throttle: %{y:.3f}<extra></extra>",
         "line": {
          "color": "#2E8B57",
          "width": 3
         },
         "mode": "lines",
         "name": "Throttle",
         "type": "scatter",
         "x": {
          "bdata": "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",
          "dtype": "f8"
         },
         "xaxis": "x4",
         "y": {
          "bdata": "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",
          "dtype": "f8"
         },
         "yaxis": "y4"
        },
        {
         "hovertemplate": "Distance: %{x:.1f}m<br>Brake: %{y:.3f}<extra></extra>",
         "line": {
          "color": "#DC143C",
          "width": 3
         },
         "mode": "lines",
         "name": "Brake",
         "type": "scatter",
         "x": {
          "bdata": "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",
          "dtype": "f8"
         },
         "xaxis": "x5",
         "y": {
          "bdata": "AAAAAAAAAAAAAAAAAAAAAAAAAAAAAAAAAAAAAAAAAAAAAAAAAAAAAAAAAAAAAAAAAAAAAAAAAAAAAAAAAAAAAAAAAAAAAAAAAAAAAAAAAAAAAAAAAAAAAAAAAAAAAAAAAAAAAAAAAAAAAAAAAAAAAAAAAAAAAAAAAAAAAAAAAAAAAAAAAAAAAAAAAAAAAAAAAAAAAAAAAAAAAAAAAAAAAAAAAAAAAAAAAAAAAAAAAAAAAAAAAAAAAAAAAAAAAAAAAAAAAAAAAAAAAAAAAAAAAAAAAAAAAAAAAAAAAAAAAAAAAAAAAAAAAAAAAAAAAAAAAAAAAAAAAAAAAAAAAAAAAAAAAAAAAAAAAAAAAAAAAAAAAAAAAAAAAAAAAAAAAAAAAAAAAAAAAAAAAAAAAAAAAAAAAAAAAAAAAAAAAAAAAAAAAAAAAAAAAAAAAAAAAAAAAAAAAAAAAAAAAAAAAAAAAAAAAAAAAAAAAAAAAAAAAAAAAAAAAAAAAAAAAAAAAAAAAAAAAAAAAAAAAAAAAAAAAAAAAAAAAAAAAAAAAAAAAAAAAAAAAAAAAAAAAAAAAAAAAAAAAAAAAAAAAAAAAAAAAAAAAAAAAAAAAAAAAAAAAAAAAAAAAAAAAAAAAAAAAAAAAAAAAAAAAAAAAAAAAAAAAAAAAAAAAAAAAAAAAAAAAAAAAAAAAAAAAAAAAAAAAAAAAAAAAAAAAAAAAAAAAAAAAAAAAAAAAAAAAAAAAAAAAAAAAAAAAAAAAAAAAAAAAAAAAAAAAAAAAAAAAAAAAAAAAAAAAAAAAAAAAAAAAAAAAAAAAAAAAAAAAAAAAAAAAAAAAAAAAAAAAAAAAAAAAAAAAAAAAAAAAAAAAAAAAAAAAAAAAAAAAAAAAAAAAAAAAAAAAAAAAAAAAAAAAAAAAAAAAAAAAAAAAAAAAAAAAAAAAAAAAAAAAAAAAAAAAAAAAAAAAAAAAAAAAAAAAAAAAAAAAAAAAAAAAAAAAAAAAAAAAAAAAAAAAAAAAAAAAAAAAAAAAAAAAAAAAAAAAAAAAAAAAAAAAAAAAAAAAAAAAAAAAAAAAAAAAAAAAAAAAAAAAAAAAAAAAAAAAAAAAAAAAAAAAAAAAAAAAAAAAAAAAAAAAAAAAAAAAAAAAAAAAAAAAAAAAAAAAAAAAAAAAAAAAAAAAAAAAAAAAAAAAAAAAAAAAAAAAAAAAAAAAAAAAAAAAAAAAAAAAAAAAAAAAAAAAAAAAAAAAAAAAAAAAAAAAAAAAAAAAAAAAAAAAAAAAAAAAAAAAAAAAAAAAAAAAAAAAAAAAAAAAAAAAAAAAAAAAAAAAAAAAAAAAAAAAAAAAAAAAAAAAAAAAAAAAAAAAAAAAAAAAAAAAAAAAAAAAAAAAAAAAAAAAAAAAAAAAAAAAAAAAAAAAAAAAAAAAAAAAAAAAAAAAAAAAAAAAAAAAAAAAAAAAAAAAAAAAAAAAAAAAAAAAAAAAAAAAAAAAAAAAAAAAAAAAAAAAAAAAAAAAAAAAAAAAAAAAAAAAAAAAAAAAAAAAAAAAAAAAAAAAAAAAAAAAAAAAAAAAAAAAAAAAAAAAAAAAAAAAAAAAAAAAAAAAAAAAAAAAAAAAAAAAAAAAAAAAAAAAAAAAAAAAAAAAAAAAAAAAAAAAAAAAAAAAAAAAAAAAAAAAAAAAAAAAAAAAAAAAAAAAAAAAAAAAAAAAAAAAAAAAAAAAAAAAAAAAAAAAAAAAAAAAAAAAAAAAAAAAAAAAAAAAAAAAAAAAAAAAAAAAAAAAAAAAAAAAAAAAAAAAAAAAAAAAAAAAAAAAAAAAAAAAAAAAAAAAAAAAAAAAAAAAAAAAAAAAAAAAAAAAAAAAAAAAAAAAAAAAAAAAAAAAAAAAAAAAAAAAAAAAAAAAAAAAAAAAAAAAAAAAAAAAAAAAAAAAAAAAAAAAAAAAAAAAAAAAAAAAAAAAAAAAAAAAAAAAAAAAAAAAAAAAAAAAAAAAAAAAAAAAAAAAAAAAAAAAAAAAAAAAAAAAAAAAAAAAAAAAAAAAAAAAAAAAAAAAAAAAAAAAAAAAAAAAAAAAAAAAAAAAAAAAAAAAAAAAAAAAAAAAAAAAAAAAAAAAAAAAAAAAAAAAAAAAAAAAAAAAAAAAAAAAAAAAAAAAAAAAAAAAAAAAAAAAAAAAAAAAAAAAAAAAAAAAAAAAAAAAAAAAAAAAAAAAAAAAAAAAAAAAAAAAAAAAAAAAAAAAAAAAAAAAAAAAAAAAAAAAAAAAAAAAAAAAAAAAAAAAAAAAAAAAAAAAAAAAAAAAAAAAAAAAAAAAAAAAAAAAAAAAAAAAAAAAAAAAAAAAAAAAAAAAAAAAAAAAAAAAAAAAAAAAAAAAAAAAAAAAAAAAAAAAAAAAAAAAAAAAAAAAAAAAAAAAAAAAAAAAAAAAAAAAAAAAAAAAAAAAAAAAAAAAAAAAAAAAAAAAAAAAAAAAAAAAAAAAAAAAAAAAAAAAAAAAAAAAAAAAAAAAAAAAAAAAAAAAAAAAAAAAAAAAAAAAAAAAAAAAAAAAAAAAAAAAAAAAAAAAAAAAAAAAAAAAAAAAAAAAAAAAAAAAAAAAAAAAAAAAAAAAAAAAAAAAAAAAAAAAACuR+F6FK7vP65H4XoUru8/rkfhehSu7z+uR+F6FK7vP65H4XoUru8/rkfhehSu7z+uR+F6FK7vP65H4XoUru8/rkfhehSu7z+uR+F6FK7vP65H4XoUru8/rkfhehSu7z8UrkfhehTuP65H4XoUru8/cT0K16Nw7T+uR+F6FK7vP4XrUbgehes/rkfhehSu5z9SuB6F61HoP4/C9Shcj+o/rkfhehSu5z8pXI/C9SjkP4XrUbgehds/AAAAAAAAAAAAAAAAAAAAAOxRuB6F67E/AAAAAAAAAAAAAAAAAAAAAAAAAAAAAAAAAAAAAAAAAAAAAAAAAAAAAAAAAAAAAAAAAAAAAAAAAAAAAAAAAAAAAAAAAAAAAAAAAAAAAAAAAADhehSuR+HiP+xRuB6F6+E/uB6F61G4vj8AAAAAAAAAAAAAAAAAAAAAAAAAAAAAAAAAAAAAAAAAAAAAAAAAAAAAAAAAAAAAAAAAAAAAAAAAAAAAAAAAAAAAAAAAAAAAAAAAAAAAAAAAAAAAAAAAAAAAAAAAAAAAAAAAAAAAAAAAAAAAAAAAAAAAAAAAAAAAAAAAAAAAAAAAAAAAAAAAAAAAAAAAAAAAAAAAAAAAAAAAAAAAAAAAAAAAAAAAAAAAAAAAAAAAAAAAAAAAAAAAAAAAAAAAAAAAAAAAAAAAAAAAAAAAAAAAAAAAAAAAAAAAAAAAAAAAAAAAAAAAAAAAAAAAAAAAAAAAAAAAAAAAAAAAAAAAAAAAAAAAAAAAAAAAAAAAAAAAAAAAAAAAAAAAAAAAAAAAAAAAAAAAAAAAAAAAAAAAAAAAAAAAAAAAAAAAAAAAAAAAAAAAAAAAAAAAAAAAAAAAAAAAAAAAAAAAAAAAAAAAAAAAAAAAAAAAAAAAAAAAAAAAAAAAAAAAAAAAAAAAAAAAAAAAAAAAAAAAAAAAAAAAAAAAAAAAAAAAAAAAAAAAAAAAAAAAAAAAAAAAAAAAAAAAAAAAAAAAAAAAAAAAAAAAAAAAAAAAAAAAAAAAAAAAAAAAAAAAAAAAAAAAAAAAAAAAAAAAAAAAAAAAAAAAAAAAAAAAAAAAAAAAAAAAAAAAAAAAAAAAAAAAAAAAAAAAAAAAAAAAAAAAAAAAAAAAAAAAAAAAAAAAAAAAAAAAAAAAAAAAAAAAAAAAAAAAAAAAAAAAAAAAAAAAAAAAAAAAAAAAAAAAAAAAAAAAAAAAAAAAAAAAAAAAAAAAAAAAAAAAAAAAAAAAAAAAAAAAAAAAAAAAAAAAAAAAAAAAAAAAAAAAAAAAAAAAAAAAAAAAAAAAAAAAAAAAAAAAAAAAAAAAAAAAAAAAAAAAAAAAAAAAAAAAAAAAAAAAAAAAAAAAAAAAAAAAAAAAAAAAAAAAAAAAAAAAAAAAAAAAAAAAAAAAAAAAAAAAAAAAAAAAAAAAAAAAAAAAAAAAAAAAAAAAAAAAAAAAAAAAAAAAAAAAAAAAAAAAAAAAAAAAAAAAAAAAAAAAAAAAAAAAAAAAAAAAAAAAAAAAAAAAAAAAAAAAAAAAAAAAAAAAAAAAAAAAAAAAAAAAAAAAAAAAAAAAAAAAAAAAAAAAAAAAAAAAAAAAAAAAAAAAAAAAAAAAAAAAAAAAAAAAAAAAAAAAAAAAAAAAAAAAAAAAAAAAAAAAAAAAAAAAAAAAAAAAAAAAAAAAAAAAAAAAAAAAAAAAAAAAAAAAAAAAAAAAAAAAAAAAAAAAAAAAAAAAAAAAAAAAAAAAAAAAAAAAAAAAAAAAAAAAAAAAAAAAAAAAAAAAAAAAAAAAAAAAAAAAAAAAAAAAAAAAAAAAAAAAAAAAAAAAAAAAAAAAAAAAAAAAAAAAAAAAAAAAAAAAAAAAAAAAAAAAAAAAAAAAAAAAAAAAAAAAAAAAAAAAAAAAAAAAAAAAAAAAAAAAAAAAAAAAAAAAAAAAAAAAAAAAAAAAAAAAAAAAAAAAAAAAAAAAAAAAAAAAAAAAAAAAAAAAAAAAAAAAAAAAAAAAAAAAAAAAAAAAAAAAAAAAAAAAAAAAAAAAAAAAAAAAAAAAAAAAAAAAAAAAAAAAAAAAAAAAAAAAAAAAAAAAAAAAAAAAAAAAAK5H4XoUru8/rkfhehSu7z+uR+F6FK7vP65H4XoUru8/rkfhehSu7z+uR+F6FK7vP65H4XoUru8/rkfhehSu7z+uR+F6FK7vP65H4XoUru8/uB6F61G45j+uR+F6FK7vPxSuR+F6FO4/UrgehetR6D+kcD0K16PoP4XrUbgehes/zczMzMzM7D9I4XoUrkfpP1yPwvUoXOc/CtejcD0Ktz/sUbgehevBP3sUrkfheqQ/AAAAAAAAAAAAAAAAAAAAAAAAAAAAAAAAAAAAAAAAAAAAAAAAAAAAAAAAAAAAAAAAAAAAAAAAAAAAAAAAAAAAAAAAAAAAAAAAzczMzMzM3D/NzMzMzMzcPwAAAAAAAAAAAAAAAAAAAAAAAAAAAAAAAAAAAAAAAAAAAAAAAAAAAAAAAAAAAAAAAAAAAAAAAAAAAAAAAAAAAAAAAAAAAAAAAAAAAAAAAAAAAAAAAAAAAAAAAAAAAAAAAAAAAAAAAAAAAAAAAAAAAAAAAAAAAAAAAAAAAAAAAAAAAAAAAAAAAAAAAAAAAAAAAAAAAAAAAAAAAAAAAAAAAAAAAAAAAAAAAAAAAAAAAAAAAAAAAAAAAAAAAAAAAAAAAAAAAAAAAAAAAAAAAAAAAAAAAAAAAAAAAAAAAAAAAAAAAAAAAAAAAAAAAAAAAAAAAAAAAAAAAAAAAAAAAAAAAAAAAAAAAAAAAAAAAAAAAAAAAAAAAAAAAAAAAAAAAAAAAAAAAAAAAAAAAAAAAAAAAAAAAAAAAAAAAAAAAAAAAAAAAAAAAAAAAAAAAAAAAAAAAAAAAAAAAAAAAAAAAAAAAAAAAAAAAAAAAAAAAAAAAAAAAAAAAAAAAAAAAAAAAAAAAAAAAAAAAAAAAAAAAAAAAAAAAAAAAAAAAK5H4XoUru8/rkfhehSu7z+4HoXrUbi+Px+F61G4HtU/AAAAAAAAAAAAAAAAAAAAAAAAAAAAAAAAAAAAAAAAAAAAAAAAAAAAAAAAAAAAAAAAAAAAAAAAAAAAAAAAAAAAAAAAAAAAAAAAAAAAAAAAAAAAAAAAAAAAAAAAAAAAAAAAAAAAAAAAAAAAAAAAAAAAAAAAAAAAAAAAAAAAAAAAAAAAAAAAAAAAAAAAAAAAAAAAAAAAAAAAAAAAAAAAAAAAAAAAAAAAAAAAAAAAAAAAAAAAAAAAAAAAAAAAAAAAAAAAAAAAAAAAAAAAAAAAAAAAAAAAAAAAAAAAAAAAAAAAAAAAAAAAAAAAAAAAAAAAAAAAAAAAAAAAAAAAAAAAAAAAAAAAAAAAAAAAAAAAAAAAAAAAAAAAAAAAAAAAAAAAAAAAAAAAAAAAAAAAAAAAAAAAAAAAAAAAAAAAAAAAAAAAAAAAAAAAAAAAAAAAAAAAAAAAAAAAAAAAAAAAAAAAAAAAAAAAAAAAAAAAAAAAAAAAAAAAAAAAAAAAAAAAAAAAAAAArkfhehSu7z+uR+F6FK7vP65H4XoUru8/rkfhehSu7z+uR+F6FK7vPzMzMzMzM+s/AAAAAAAAAACamZmZmZnZPwrXo3A9Crc/KVyPwvUovD+4HoXrUbiePwAAAAAAAAAAAAAAAAAAAAAAAAAAAAAAAAAAAAAAAAAAAAAAAAAAAAAAAAAAAAAAAAAAAAAAAAAAAAAAAAAAAAAAAAAAAAAAAAAAAAAAAAAAAAAAAAAAAAAAAAAAAAAAAAAAAAAAAAAAAAAAAAAAAAAAAAAAAAAAAAAAAAAAAAAAAAAAAAAAAAAAAAAAAAAAAAAAAAAAAAAAAAAAAAAAAAAAAAAAAAAAAAAAAAAAAAAAAAAAAAAAAAAAAAAAAAAAAAAAAAAAAAAAAAAAAAAAAAAAAAAAAAAAAAAAAAAAAAAAAAAAAAAAAAAAAAAAAAAAAAAAAAAAAAAAAAAAAAAAAAAAAAAAAAAAAAAAAAAAAAAAAAAAAAAAAAAAAAAAAAAAAAAAAAAAAAAAAAAAAAAAAAAAAAAAAAAAAAAAAAAAAAAAAAAAAAAAAAAAAAAAAAAAAAAAAAAAAAAAAAAAAAAAAAAAAAAAAAAAAAAAAAAAAAAAAAAAAAAAAAAAAAAAAAAAAAAAAAAAAAAAAAAAAAAAAAAAAAAAAAAAAAAAAAAAAAAAAAAAAAAAAAAAAAAAAAAAAAAAAAAAAAAAAAAAAAAAAAAAAAAAAAAAAAAAAAAAAAAAAAAAAAAAAAAAAAAAAAAAAAAAAAAAAAAAAAAAAAAAAAAAAAAAAAAAAAAAAAAAAAAAAAAAAAAAAAAAAAAAAAAAAAAAAAAAAAAAAAAAAAAAAAAAAAAAAAAAAAAAAAAAAAAAAAAAAAAAAAAAAAAAAAAAAAAAAAAAAAAAAAAAAAAAAAAAAAAAAAAAAAAAAAAAAAAAAAAAAAAAAAAAAAAAAAAAAAAAAAAAAAAAAAAAAAAAAAAAAAAAAAAAAAAAAAAAAAAAAAAAAAAAAAAAAAAAAAAAAAAAAAAAAAAAAAAAAAAAAAAAAAAAAAAAAAAAAAAAAAAAAAAAAAAAAAAAAAAAAAAAAAAAAAAAAAAAAAAAAAAAAAAAAAAAAAAAAAAAAAAAAAAAAAAAAAAAAAAAAAAAAAAAAAAAAAAAAAAAAAAAAAAAAAAAAAAAAAAAAAAAAAAAAAAAAAAAAAAAAAAAAAAAAAAAAAAAAAAAAAAAAAAAAAAAAAAAAAAAAAAAAAAAAAAAAAAAAAAAAAAAAAAAAAAAAAAAAAAAAAAAAAAAAAAAAAAAAAAAAAAAAAAAAAAAAAAAAAAAAAAAAAAAAAAAAAAAAAAAAAAAAAAAAAAAAAAAAAAAAAAAAAAAAAAAAAAAAAAAAAAAAAAAAAAAAAAAAAAAAAAAAK5H4XoUru8/rkfhehSu7z+uR+F6FK7vP65H4XoUru8/rkfhehSu7z+uR+F6FK7vP65H4XoUru8/rkfhehSu7z+uR+F6FK7vP65H4XoUru8/rkfhehSu7z+uR+F6FK7vPwAAAAAAAOg/AAAAAAAAAACkcD0K16PgPwAAAAAAAAAACtejcD0Ktz8AAAAAAAAAAAAAAAAAAAAAAAAAAAAAAAAAAAAAAAAAAAAAAAAAAAAAAAAAAAAAAAAAAAAAAAAAAAAAAAAAAAAAAAAAAAAAAAAAAAAAAAAAAAAAAAAAAAAAAAAAAAAAAAAAAAAAAAAAAAAAAAAAAAAAAAAAAAAAAAAAAAAAAAAAAAAAAAAAAAAAAAAAAAAAAAAAAAAAAAAAAAAAAAAAAAAAAAAAAAAAAAAAAAAAAAAAAAAAAAAAAAAAAAAAAAAAAAAAAAAAAAAAAAAAAAAAAAAAAAAAAAAAAAAAAAAAAAAAAAAAAAAAAAAAAAAAAAAAAAAAAAAAAAAAAAAAAAAAAAAAAAAAAAAAAAAAAAAAAAAAAAAAAAAAAAAAAAAAAAAAAAAAAAAAAAAAAAAAAAAAAAAAAAAAAAAAAAAAAAAAAAAAAAAAAAAAAAAAAAAAAAAAAAAAAAAAAAAAAAAAAAAAAAAAAAAAAAAAAAAAAAAAAAAAAAAAAAAAAAAAAAAAAAAAAAAAAAAAAAAAAAAAAAAAAAAAAAAAAAAAAAAAAAAAAAAAAAAAAAAAAAAAAAAAAAAAAAAAAAAAAAAAAAAAAAAAAAAAAAAAAAAAAAAAAAAAAAAAAAAAAAAAAAAAAAAAAAAAAAAAAAAAAAAAAAAAAAAAAAAAAAAAAAAAAAAAAAAAAAAAAAAAAAAAAAAAAAAAAAAAAAAAAAAAAAAAAAAAAAAAAAAAAAAAAAAAAAAAAAAAAAAAAAAAAAAAAAAAAAAAAAAAAAAAAAAAAAAAAAAAAAAAAAAAAAAAAAAAAAAAAAAAAAAAAAAAAAAAAAAAAAAAAAAAAAAAAAAAAAAAAAAAAAAAAAAAAAAAAAAAAAAAAAAAAAAAAAAAAAAAAAAAAAAAAAAAAAAAAAAAAAAAAAAAAAAAAAAAAAAAAAAAAAAAAAAAAAAAAAAAAAAAAAAAAAAAAAAAAAAAAAAAAAAAAAAAAAAAAAAAAAAAAAAAAAAAAAAAAAAAAAAAAAAAAAAAAAAAAAAAAAAAAAAAAAAAAAAAAAAAAAAAAAAAAAAAAAAAAAAAAAAAAAAAAAAAAAAAAAAAAAAAAAAAAAAAAAAAAAAAAAAAAAAAAAAAAAAAAAAAAAAAAAAAAAAAAAAAAAAAAAAAAAAAAAAAAAAAAAAAAAAAAAAAAAAAAAAAAAAAAAAAAAAAAAAAAAAAAAAAAAAAAAAAAAAAAAAAAAAAAAAAAAAAAAAAAAAAAAAAAAAAAAAAAAAAAAAAAAAAAAAAAAAAAAAAAAAAAAAAAAAAAAAAAAAAAAAAAAAAAAAAAAAAAAAAAAAAAAAAAAAAAAAAAAAAAAAAAAAAAAAAAAAAAAAAAAAAAAAAAAAAAAAAAAAAAAAAAAAAAAAAAAAAAAAAAAAAAAAAAAAAAAAAAAAAAAAAAAAAAAAAAAAAAAAAAAAAAAAAAAAAAAAAAAAAAAAAAAAAAAAAAAAAAAAAAAAAAAAAAAAAAAAAAAAAAAAAAAAAAAAAAAAAAAAAAK5H4XoUru8/rkfhehSu7z+uR+F6FK7vP65H4XoUru8/rkfhehSu7z+uR+F6FK7vP65H4XoUru8/exSuR+F6hD+uR+F6FK7vP8P1KFyPwtU/AAAAAAAAAAAAAAAAAAAAAAAAAAAAAAAAAAAAAAAAAAAAAAAAAAAAAAAAAAAAAAAAAAAAAAAAAAAAAAAAAAAAAAAAAAAAAAAAAAAAAAAAAAAAAAAAAAAAAAAAAAAAAAAAAAAAAAAAAAAAAAAAAAAAAAAAAAAAAAAAAAAAAAAAAAAAAAAAAAAAAAAAAAAAAAAAAAAAAAAAAAAAAAAAAAAAAAAAAAAAAAAAAAAAAAAAAAAAAAAAAAAAAAAAAAAAAAAAAAAAAAAAAAAAAAAAAAAAAAAAAAAAAAAAAAAAAAAAAAAAAAAAAAAAAAAAAAAAAAAAAAAAAAAAAAAAAAAAAAAAAAAAAAAAAAAAAAAAAAAAAAAAAAAAAAAAAAAAAAAAAAAAAAAAAAAAAAAAAAAAAAAAAAAAAAAAAAAAAAAAAAAAAAAAAAAAAAAAAAAAAAAAAAAAAAAAAAAAAAAAAAAAAAAAAAAAAAAAAAAAAAAAAAAAAAAAAAAAAAAAAAAAAAAAAAAAAAAAAAAAAAAAAAAAAAAAAAAAAAAAAAAAAAAAAAAAAAAAAAAAAAAAAAAAAAAAAAAAAAAAAAAAAAAAAAAAAAAAAAAAAAAAAAAAAAAAAAAAAAAAAAAAAAAAAAAAAAAAAAAAAAAAAAAAAAAAAAAAAAAAAAAAAAAAAAAAAAAAAAAAAAAAAAAAAAAAAAAAAAAAAAAAAAAAAAAAAAAAAAAAAAAAAAAAAAAAAAAAAAAAAAAAAAAAAAAAAAAAAAAAAAAAAAAAAAAAAAAAAAAAAAAAAAAAAAAAAAAAAAAAAAAAAAAAAAAAAAAAAAAAAAAAAAAAAAAAAAAAAAAAAAAAAAAAAAAAAAAAAAAAAAAAAAAAAAAAAAAAAAAAAAAAAAAAAAAAAAAAAAAAAAAAAAAAAAAAAAAAAAAAAAAAAAAAAAAAAAAAAAAAAAAAAAAAAAAAAAAAAAAAAAAAAAAAAAA=",
          "dtype": "f8"
         },
         "yaxis": "y5"
        },
        {
         "hovertemplate": "Distance: %{x:.1f}m<br>Steering: %{y:.3f}<extra></extra>",
         "line": {
          "color": "#8A2BE2",
          "width": 3
         },
         "mode": "lines",
         "name": "Steering",
         "type": "scatter",
         "x": {
          "bdata": "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",
          "dtype": "f8"
         },
         "xaxis": "x6",
         "y": {
          "bdata": "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",
          "dtype": "f8"
         },
         "yaxis": "y6"
        }
       ],
       "layout": {
        "annotations": [
         {
          "font": {
           "size": 16
          },
          "showarrow": false,
          "text": "Gear vs Distance",
          "x": 0.13999999999999999,
          "xanchor": "center",
          "xref": "paper",
          "y": 1,
          "yanchor": "bottom",
          "yref": "paper"
         },
         {
          "font": {
           "size": 16
          },
          "showarrow": false,
          "text": "Speed vs Distance",
          "x": 0.49999999999999994,
          "xanchor": "center",
          "xref": "paper",
          "y": 1,
          "yanchor": "bottom",
          "yref": "paper"
         },
         {
          "font": {
           "size": 16
          },
          "showarrow": false,
          "text": "RPM vs Distance",
          "x": 0.86,
          "xanchor": "center",
          "xref": "paper",
          "y": 1,
          "yanchor": "bottom",
          "yref": "paper"
         },
         {
          "font": {
           "size": 16
          },
          "showarrow": false,
          "text": "Throttle vs Distance",
          "x": 0.13999999999999999,
          "xanchor": "center",
          "xref": "paper",
          "y": 0.425,
          "yanchor": "bottom",
          "yref": "paper"
         },
         {
          "font": {
           "size": 16
          },
          "showarrow": false,
          "text": "Brake vs Distance",
          "x": 0.49999999999999994,
          "xanchor": "center",
          "xref": "paper",
          "y": 0.425,
          "yanchor": "bottom",
          "yref": "paper"
         },
         {
          "font": {
           "size": 16
          },
          "showarrow": false,
          "text": "Steering vs Distance",
          "x": 0.86,
          "xanchor": "center",
          "xref": "paper",
          "y": 0.425,
          "yanchor": "bottom",
          "yref": "paper"
         }
        ],
        "height": 600,
        "paper_bgcolor": "white",
        "plot_bgcolor": "white",
        "showlegend": false,
        "template": {
         "data": {
          "bar": [
           {
            "error_x": {
             "color": "#2a3f5f"
            },
            "error_y": {
             "color": "#2a3f5f"
            },
            "marker": {
             "line": {
              "color": "#E5ECF6",
              "width": 0.5
             },
             "pattern": {
              "fillmode": "overlay",
              "size": 10,
              "solidity": 0.2
             }
            },
            "type": "bar"
           }
          ],
          "barpolar": [
           {
            "marker": {
             "line": {
              "color": "#E5ECF6",
              "width": 0.5
             },
             "pattern": {
              "fillmode": "overlay",
              "size": 10,
              "solidity": 0.2
             }
            },
            "type": "barpolar"
           }
          ],
          "carpet": [
           {
            "aaxis": {
             "endlinecolor": "#2a3f5f",
             "gridcolor": "white",
             "linecolor": "white",
             "minorgridcolor": "white",
             "startlinecolor": "#2a3f5f"
            },
            "baxis": {
             "endlinecolor": "#2a3f5f",
             "gridcolor": "white",
             "linecolor": "white",
             "minorgridcolor": "white",
             "startlinecolor": "#2a3f5f"
            },
            "type": "carpet"
           }
          ],
          "choropleth": [
           {
            "colorbar": {
             "outlinewidth": 0,
             "ticks": ""
            },
            "type": "choropleth"
           }
          ],
          "contour": [
           {
            "colorbar": {
             "outlinewidth": 0,
             "ticks": ""
            },
            "colorscale": [
             [
              0,
              "#0d0887"
             ],
             [
              0.1111111111111111,
              "#46039f"
             ],
             [
              0.2222222222222222,
              "#7201a8"
             ],
             [
              0.3333333333333333,
              "#9c179e"
             ],
             [
              0.4444444444444444,
              "#bd3786"
             ],
             [
              0.5555555555555556,
              "#d8576b"
             ],
             [
              0.6666666666666666,
              "#ed7953"
             ],
             [
              0.7777777777777778,
              "#fb9f3a"
             ],
             [
              0.8888888888888888,
              "#fdca26"
             ],
             [
              1,
              "#f0f921"
             ]
            ],
            "type": "contour"
           }
          ],
          "contourcarpet": [
           {
            "colorbar": {
             "outlinewidth": 0,
             "ticks": ""
            },
            "type": "contourcarpet"
           }
          ],
          "heatmap": [
           {
            "colorbar": {
             "outlinewidth": 0,
             "ticks": ""
            },
            "colorscale": [
             [
              0,
              "#0d0887"
             ],
             [
              0.1111111111111111,
              "#46039f"
             ],
             [
              0.2222222222222222,
              "#7201a8"
             ],
             [
              0.3333333333333333,
              "#9c179e"
             ],
             [
              0.4444444444444444,
              "#bd3786"
             ],
             [
              0.5555555555555556,
              "#d8576b"
             ],
             [
              0.6666666666666666,
              "#ed7953"
             ],
             [
              0.7777777777777778,
              "#fb9f3a"
             ],
             [
              0.8888888888888888,
              "#fdca26"
             ],
             [
              1,
              "#f0f921"
             ]
            ],
            "type": "heatmap"
           }
          ],
          "histogram": [
           {
            "marker": {
             "pattern": {
              "fillmode": "overlay",
              "size": 10,
              "solidity": 0.2
             }
            },
            "type": "histogram"
           }
          ],
          "histogram2d": [
           {
            "colorbar": {
             "outlinewidth": 0,
             "ticks": ""
            },
            "colorscale": [
             [
              0,
              "#0d0887"
             ],
             [
              0.1111111111111111,
              "#46039f"
             ],
             [
              0.2222222222222222,
              "#7201a8"
             ],
             [
              0.3333333333333333,
              "#9c179e"
             ],
             [
              0.4444444444444444,
              "#bd3786"
             ],
             [
              0.5555555555555556,
              "#d8576b"
             ],
             [
              0.6666666666666666,
              "#ed7953"
             ],
             [
              0.7777777777777778,
              "#fb9f3a"
             ],
             [
              0.8888888888888888,
              "#fdca26"
             ],
             [
              1,
              "#f0f921"
             ]
            ],
            "type": "histogram2d"
           }
          ],
          "histogram2dcontour": [
           {
            "colorbar": {
             "outlinewidth": 0,
             "ticks": ""
            },
            "colorscale": [
             [
              0,
              "#0d0887"
             ],
             [
              0.1111111111111111,
              "#46039f"
             ],
             [
              0.2222222222222222,
              "#7201a8"
             ],
             [
              0.3333333333333333,
              "#9c179e"
             ],
             [
              0.4444444444444444,
              "#bd3786"
             ],
             [
              0.5555555555555556,
              "#d8576b"
             ],
             [
              0.6666666666666666,
              "#ed7953"
             ],
             [
              0.7777777777777778,
              "#fb9f3a"
             ],
             [
              0.8888888888888888,
              "#fdca26"
             ],
             [
              1,
              "#f0f921"
             ]
            ],
            "type": "histogram2dcontour"
           }
          ],
          "mesh3d": [
           {
            "colorbar": {
             "outlinewidth": 0,
             "ticks": ""
            },
            "type": "mesh3d"
           }
          ],
          "parcoords": [
           {
            "line": {
             "colorbar": {
              "outlinewidth": 0,
              "ticks": ""
             }
            },
            "type": "parcoords"
           }
          ],
          "pie": [
           {
            "automargin": true,
            "type": "pie"
           }
          ],
          "scatter": [
           {
            "fillpattern": {
             "fillmode": "overlay",
             "size": 10,
             "solidity": 0.2
            },
            "type": "scatter"
           }
          ],
          "scatter3d": [
           {
            "line": {
             "colorbar": {
              "outlinewidth": 0,
              "ticks": ""
             }
            },
            "marker": {
             "colorbar": {
              "outlinewidth": 0,
              "ticks": ""
             }
            },
            "type": "scatter3d"
           }
          ],
          "scattercarpet": [
           {
            "marker": {
             "colorbar": {
              "outlinewidth": 0,
              "ticks": ""
             }
            },
            "type": "scattercarpet"
           }
          ],
          "scattergeo": [
           {
            "marker": {
             "colorbar": {
              "outlinewidth": 0,
              "ticks": ""
             }
            },
            "type": "scattergeo"
           }
          ],
          "scattergl": [
           {
            "marker": {
             "colorbar": {
              "outlinewidth": 0,
              "ticks": ""
             }
            },
            "type": "scattergl"
           }
          ],
          "scattermap": [
           {
            "marker": {
             "colorbar": {
              "outlinewidth": 0,
              "ticks": ""
             }
            },
            "type": "scattermap"
           }
          ],
          "scattermapbox": [
           {
            "marker": {
             "colorbar": {
              "outlinewidth": 0,
              "ticks": ""
             }
            },
            "type": "scattermapbox"
           }
          ],
          "scatterpolar": [
           {
            "marker": {
             "colorbar": {
              "outlinewidth": 0,
              "ticks": ""
             }
            },
            "type": "scatterpolar"
           }
          ],
          "scatterpolargl": [
           {
            "marker": {
             "colorbar": {
              "outlinewidth": 0,
              "ticks": ""
             }
            },
            "type": "scatterpolargl"
           }
          ],
          "scatterternary": [
           {
            "marker": {
             "colorbar": {
              "outlinewidth": 0,
              "ticks": ""
             }
            },
            "type": "scatterternary"
           }
          ],
          "surface": [
           {
            "colorbar": {
             "outlinewidth": 0,
             "ticks": ""
            },
            "colorscale": [
             [
              0,
              "#0d0887"
             ],
             [
              0.1111111111111111,
              "#46039f"
             ],
             [
              0.2222222222222222,
              "#7201a8"
             ],
             [
              0.3333333333333333,
              "#9c179e"
             ],
             [
              0.4444444444444444,
              "#bd3786"
             ],
             [
              0.5555555555555556,
              "#d8576b"
             ],
             [
              0.6666666666666666,
              "#ed7953"
             ],
             [
              0.7777777777777778,
              "#fb9f3a"
             ],
             [
              0.8888888888888888,
              "#fdca26"
             ],
             [
              1,
              "#f0f921"
             ]
            ],
            "type": "surface"
           }
          ],
          "table": [
           {
            "cells": {
             "fill": {
              "color": "#EBF0F8"
             },
             "line": {
              "color": "white"
             }
            },
            "header": {
             "fill": {
              "color": "#C8D4E3"
             },
             "line": {
              "color": "white"
             }
            },
            "type": "table"
           }
          ]
         },
         "layout": {
          "annotationdefaults": {
           "arrowcolor": "#2a3f5f",
           "arrowhead": 0,
           "arrowwidth": 1
          },
          "autotypenumbers": "strict",
          "coloraxis": {
           "colorbar": {
            "outlinewidth": 0,
            "ticks": ""
           }
          },
          "colorscale": {
           "diverging": [
            [
             0,
             "#8e0152"
            ],
            [
             0.1,
             "#c51b7d"
            ],
            [
             0.2,
             "#de77ae"
            ],
            [
             0.3,
             "#f1b6da"
            ],
            [
             0.4,
             "#fde0ef"
            ],
            [
             0.5,
             "#f7f7f7"
            ],
            [
             0.6,
             "#e6f5d0"
            ],
            [
             0.7,
             "#b8e186"
            ],
            [
             0.8,
             "#7fbc41"
            ],
            [
             0.9,
             "#4d9221"
            ],
            [
             1,
             "#276419"
            ]
           ],
           "sequential": [
            [
             0,
             "#0d0887"
            ],
            [
             0.1111111111111111,
             "#46039f"
            ],
            [
             0.2222222222222222,
             "#7201a8"
            ],
            [
             0.3333333333333333,
             "#9c179e"
            ],
            [
             0.4444444444444444,
             "#bd3786"
            ],
            [
             0.5555555555555556,
             "#d8576b"
            ],
            [
             0.6666666666666666,
             "#ed7953"
            ],
            [
             0.7777777777777778,
             "#fb9f3a"
            ],
            [
             0.8888888888888888,
             "#fdca26"
            ],
            [
             1,
             "#f0f921"
            ]
           ],
           "sequentialminus": [
            [
             0,
             "#0d0887"
            ],
            [
             0.1111111111111111,
             "#46039f"
            ],
            [
             0.2222222222222222,
             "#7201a8"
            ],
            [
             0.3333333333333333,
             "#9c179e"
            ],
            [
             0.4444444444444444,
             "#bd3786"
            ],
            [
             0.5555555555555556,
             "#d8576b"
            ],
            [
             0.6666666666666666,
             "#ed7953"
            ],
            [
             0.7777777777777778,
             "#fb9f3a"
            ],
            [
             0.8888888888888888,
             "#fdca26"
            ],
            [
             1,
             "#f0f921"
            ]
           ]
          },
          "colorway": [
           "#636efa",
           "#EF553B",
           "#00cc96",
           "#ab63fa",
           "#FFA15A",
           "#19d3f3",
           "#FF6692",
           "#B6E880",
           "#FF97FF",
           "#FECB52"
          ],
          "font": {
           "color": "#2a3f5f"
          },
          "geo": {
           "bgcolor": "white",
           "lakecolor": "white",
           "landcolor": "#E5ECF6",
           "showlakes": true,
           "showland": true,
           "subunitcolor": "white"
          },
          "hoverlabel": {
           "align": "left"
          },
          "hovermode": "closest",
          "mapbox": {
           "style": "light"
          },
          "paper_bgcolor": "white",
          "plot_bgcolor": "#E5ECF6",
          "polar": {
           "angularaxis": {
            "gridcolor": "white",
            "linecolor": "white",
            "ticks": ""
           },
           "bgcolor": "#E5ECF6",
           "radialaxis": {
            "gridcolor": "white",
            "linecolor": "white",
            "ticks": ""
           }
          },
          "scene": {
           "xaxis": {
            "backgroundcolor": "#E5ECF6",
            "gridcolor": "white",
            "gridwidth": 2,
            "linecolor": "white",
            "showbackground": true,
            "ticks": "",
            "zerolinecolor": "white"
           },
           "yaxis": {
            "backgroundcolor": "#E5ECF6",
            "gridcolor": "white",
            "gridwidth": 2,
            "linecolor": "white",
            "showbackground": true,
            "ticks": "",
            "zerolinecolor": "white"
           },
           "zaxis": {
            "backgroundcolor": "#E5ECF6",
            "gridcolor": "white",
            "gridwidth": 2,
            "linecolor": "white",
            "showbackground": true,
            "ticks": "",
            "zerolinecolor": "white"
           }
          },
          "shapedefaults": {
           "line": {
            "color": "#2a3f5f"
           }
          },
          "ternary": {
           "aaxis": {
            "gridcolor": "white",
            "linecolor": "white",
            "ticks": ""
           },
           "baxis": {
            "gridcolor": "white",
            "linecolor": "white",
            "ticks": ""
           },
           "bgcolor": "#E5ECF6",
           "caxis": {
            "gridcolor": "white",
            "linecolor": "white",
            "ticks": ""
           }
          },
          "title": {
           "x": 0.05
          },
          "xaxis": {
           "automargin": true,
           "gridcolor": "white",
           "linecolor": "white",
           "ticks": "",
           "title": {
            "standoff": 15
           },
           "zerolinecolor": "white",
           "zerolinewidth": 2
          },
          "yaxis": {
           "automargin": true,
           "gridcolor": "white",
           "linecolor": "white",
           "ticks": "",
           "title": {
            "standoff": 15
           },
           "zerolinecolor": "white",
           "zerolinewidth": 2
          }
         }
        },
        "title": {
         "font": {
          "size": 16
         },
         "text": "Lap 1 - Telemetry Analysis (967 samples)"
        },
        "xaxis": {
         "anchor": "y",
         "domain": [
          0,
          0.27999999999999997
         ],
         "gridcolor": "lightgray",
         "gridwidth": 1,
         "showgrid": true,
         "showticklabels": false
        },
        "xaxis2": {
         "anchor": "y2",
         "domain": [
          0.36,
          0.6399999999999999
         ],
         "gridcolor": "lightgray",
         "gridwidth": 1,
         "showgrid": true,
         "showticklabels": false
        },
        "xaxis3": {
         "anchor": "y3",
         "domain": [
          0.72,
          1
         ],
         "gridcolor": "lightgray",
         "gridwidth": 1,
         "showgrid": true,
         "showticklabels": false
        },
        "xaxis4": {
         "anchor": "y4",
         "domain": [
          0,
          0.27999999999999997
         ],
         "gridcolor": "lightgray",
         "gridwidth": 1,
         "showgrid": true,
         "title": {
          "text": "Distance (m)"
         }
        },
        "xaxis5": {
         "anchor": "y5",
         "domain": [
          0.36,
          0.6399999999999999
         ],
         "gridcolor": "lightgray",
         "gridwidth": 1,
         "showgrid": true,
         "title": {
          "text": "Distance (m)"
         }
        },
        "xaxis6": {
         "anchor": "y6",
         "domain": [
          0.72,
          1
         ],
         "gridcolor": "lightgray",
         "gridwidth": 1,
         "showgrid": true,
         "title": {
          "text": "Distance (m)"
         }
        },
        "yaxis": {
         "anchor": "x",
         "domain": [
          0.575,
          1
         ],
         "gridcolor": "lightgray",
         "gridwidth": 1,
         "showgrid": true,
         "title": {
          "text": "Gear"
         }
        },
        "yaxis2": {
         "anchor": "x2",
         "domain": [
          0.575,
          1
         ],
         "gridcolor": "lightgray",
         "gridwidth": 1,
         "showgrid": true,
         "title": {
          "text": "Speed (km/h)"
         }
        },
        "yaxis3": {
         "anchor": "x3",
         "domain": [
          0.575,
          1
         ],
         "gridcolor": "lightgray",
         "gridwidth": 1,
         "showgrid": true,
         "title": {
          "text": "RPM"
         }
        },
        "yaxis4": {
         "anchor": "x4",
         "domain": [
          0,
          0.425
         ],
         "gridcolor": "lightgray",
         "gridwidth": 1,
         "showgrid": true,
         "title": {
          "text": "Throttle (0-1)"
         }
        },
        "yaxis5": {
         "anchor": "x5",
         "domain": [
          0,
          0.425
         ],
         "gridcolor": "lightgray",
         "gridwidth": 1,
         "showgrid": true,
         "title": {
          "text": "Brake (0-1)"
         }
        },
        "yaxis6": {
         "anchor": "x6",
         "domain": [
          0,
          0.425
         ],
         "gridcolor": "lightgray",
         "gridwidth": 1,
         "showgrid": true,
         "title": {
          "text": "Steering"
         }
        }
       }
      }
     },
     "metadata": {},
     "output_type": "display_data"
    },
    {
     "data": {
      "application/vnd.plotly.v1+json": {
       "config": {
        "plotlyServerURL": "https://plot.ly"
       },
       "data": [
        {
         "hovertemplate": "Distance: %{x:.1f}m<br>Gear: %{y}<extra></extra>",
         "line": {
          "color": "#FF6B35",
          "shape": "hv",
          "width": 3
         },
         "mode": "lines",
         "name": "Gear",
         "type": "scatter",
         "x": {
          "bdata": "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",
          "dtype": "f8"
         },
         "xaxis": "x",
         "y": {
          "bdata": "CAgICAgICAgICAgICAgICAgICAgICAgICAgICAgICAgICAgICAgICAgICAgICAgICAgICAgICAgICAgICAgICAgICAgICAgICAgICAgICAgICAgICAgICAgICAgICAcHBwcGBgYGBQUFBQQEBAQDAwMDAgICAgICAgICAgICAgICAgICAgICAgICAgICAgICAgICAgMDAwMDAwMDAwMEBAQEBAQEBAQEBQUFBQUFBQUFBQYGBgYGBgYGBgYHBwcHBwcHBwcHBwcHBwcHBwcHBwcHBwcHBwcHBwcHBwcHBwcHBwcHCAgICAgICAgICAgICAgICAgICAgICAgICAgICAgICAgICAgICAgICAgICAgICAgICAgICAgICAgHBwcHBgYGBgUFBQUEBAQEAwMDAwICAgICAgICAgICAgIAAwMDAwMDAwMDAAQEBAQEBAQEBAAFBQUFBQUFBQUABgYGBgYGBgYGAAcHBwcHBwcHBwcHBwcHBwcHBwYGBgYGBgYGBgYGBgYGBgYGBgYGBgYGBgYGBgYGBgYGBgYGBgcHBwcHBwcHBwcGBgYGBQUFBQUFBQUFBQUFBQUFBQUFBQAGBgYGBgYGBgYGBgcHBwcHBwcHBwcHBwcHBwcHBwcHBwcHBwcHBwcHCAgICAgICAgICAgICAgICAgICAgICAgICAgICAgICAgICAgICAgICAgICAgICAgICAgICAgICAgICAgICAgICAgIBwcHBwYGBgYFBQUFBQUFBQUFBQUFBQUFBQUFBQUFBQUFBQUFBQUGBgYGBgYGBgYGBgYGBgYGBwcHBwcHBwcHBwcHBwcHBwcHBwcHBwcHBwcHBwcHBwcACAgICAgICAgICAgICAgICAgICAgICAgICAgICAgICAgICAgICAgICAgICAgICAgICAgICAgICAgICAgICAgICAgICAgICAgHBwcHBwcHBgYGBgYGBgYGBgYFBQUFBQUFBQUFBQUFBQUFBQUFBQUFBQUFBQUABgYGBgYGBgYGBgYGBgYGBgcHBwcHBwcHBwcHBwcHBwcHBwcHBwcHBwcHBwcHBwcHBwcH",
          "dtype": "i1"
         },
         "yaxis": "y"
        },
        {
         "hovertemplate": "Distance: %{x:.1f}m<br>Speed: %{y:.1f} km/h<extra></extra>",
         "line": {
          "color": "#004E89",
          "width": 3
         },
         "mode": "lines",
         "name": "Speed",
         "type": "scatter",
         "x": {
          "bdata": "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",
          "dtype": "f8"
         },
         "xaxis": "x2",
         "y": {
          "bdata": "4XoUrkc9c0DhehSuR0VzQJqZmZmZTXNA9ihcj8JVc0DhehSuR11zQM3MzMzMZHNAXI/C9Shsc0C4HoXrUXRzQLgehetRfHNA7FG4HoWDc0DD9Shcj4pzQPYoXI/CkXNAFK5H4XqYc0AzMzMzM59zQFK4HoXrpXNAXI/C9Sisc0DXo3A9CrNzQD0K16NwuXNA7FG4HoW/c0BSuB6F68VzQEjhehSuz3NAzczMzMzYc0BSuB6F6+FzQHsUrkfh6nNAMzMzMzPzc0CkcD0K1/tzQOxRuB6FA3RAuB6F61EMdEC4HoXrURR0QBSuR+F6HHRAXI/C9SgkdEAAAAAAACx0QI/C9ShcM3RAw/UoXI86dEBSuB6F60F0QM3MzMzMSHRAuB6F61FQdEAK16NwPVZ0QD0K16NwXXRAXI/C9ShkdEAK16NwPWp0QHE9CtejcHRAexSuR+F2dECF61G4Hn10QNejcD0Kg3RA4XoUrkeJdEDsUbgehY90QD0K16NwlXRAMzMzMzObdEDNzMzMzKB0QFK4HoXrpXRAMzMzMzOrdEBcj8L1KLB0QIXrUbgetXRArkfhehS6dEDsUbgehb90QBSuR+F6xHRAPQrXo3DJdEBmZmZmZs50QI/C9Shc03RAAAAAAADYdEBxPQrXo9x0QClcj8L14HRAPQrXo3DldED2KFyPwul0QJqZmZmZ7XRACtejcD3ydEAK16NwPfZ0QArXo3A9+nRArkfhehT+dED2KFyPwgF1QFK4HoXrBXVAzczMzMwIdUDhehSuRw11QClcj8L1EHVAXI/C9SgUdUCkcD0K1xd1QI/C9ShcG3VAw/UoXI8edUCuR+F6FCJ1QOF6FK5HJXVAFK5H4XoodUBI4XoUrit1QGZmZmZmLnVA4XoUrkcxdUAAAAAAADR1QArXo3A9NnVAH4XrUbjadEBSuB6F6wl0QPYoXI/CNXNApHA9CtdrckC4HoXrUZxxQB+F61G42nBAhetRuB4RcEC4HoXrUaBuQHsUrkfhKm1AmpmZmZmpa0BmZmZmZj5qQB+F61G4zmhAj8L1KFxvZ0A9CtejcBVmQPYoXI/CpWRASOF6FK4/Y0A9CtejcP1hQOF6FK5HyWBACtejcD1KX0A9CtejcB1dQEjhehSuB1tA7FG4HoUrWUDhehSuRzFXQB+F61G4DlZAH4XrUbgOVkAAAAAAAIBVQOF6FK5HcVVAAAAAAABAVUAK16NwPSpVQHsUrkfh6lRAH4XrUbieVECamZmZmblUQNejcD0Kl1VAhetRuB6lVkDhehSuR8FXQIXrUbgetVhAcT0K16OAV0DXo3A9CpdWQIXrUbge5VVAj8L1KFxvVUApXI/C9ThVQM3MzMzM3FRAMzMzMzODVEC4HoXrUThUQD0K16NwTVRAmpmZmZlJVEBSuB6F61FUQEjhehSuN1RAexSuR+EqVEDXo3A9CgdUQLgehetRGFRAMzMzMzPTVEBI4XoUrtdVQKRwPQrX01ZArkfhehTeV0AAAAAAACBZQJqZmZmZOVpAPQrXo3BtW0BmZmZmZpZcQM3MzMzM7F1AhetRuB41X0AUrkfheiRgQEjhehSuz2BAPQrXo3BtYUAAAAAAABBiQOxRuB6Fs2JASOF6FK5PY0C4HoXrUfhjQKRwPQrXi2RAhetRuB4lZUBI4XoUrp9lQAAAAAAACGZAH4XrUbieZkB7FK5H4TJnQEjhehSur2dAAAAAAABAaEDD9Shcj7poQGZmZmZmLmlApHA9CteDaUAAAAAAAPBpQAAAAAAAMGpA4XoUrkdxakDXo3A9Cu9qQJqZmZmZWWtAKVyPwvXAa0DhehSuRylsQHE9CtejkGxArkfhehT2bEBmZmZmZlZtQK5H4XoUrm1AZmZmZmYGbkBmZmZmZj5uQM3MzMzMnG5A7FG4HoXzbkDsUbgehUNvQIXrUbgelW9APQrXo3Dlb0CamZmZmRlwQOxRuB6FP3BArkfhehRmcECF61G4HolwQDMzMzMzn3BAZmZmZmbGcEAAAAAAAORwQEjhehSu/3BAZmZmZmYacUBcj8L1KDRxQI/C9ShcS3FAuB6F61FgcUBcj8L1KHRxQIXrUbgehXFACtejcD2WcUCuR+F6FKZxQArXo3A9tnFAUrgehevFcUDD9Shcj9ZxQHsUrkfh5nFAUrgehev1cUDhehSuRwVyQAAAAAAAFHJACtejcD0ickAUrkfhejByQDMzMzMzP3JAKVyPwvVMckAfhetRuFpyQKRwPQrXZ3JAuB6F61F0ckAzMzMzM39yQBSuR+F6jHJAcT0K16OYckCkcD0K16NyQOxRuB6Fr3JAUrgeheu5ckAK16NwPcZyQPYoXI/C0XJAcT0K16PcckCkcD0K1+dyQDMzMzMz83JAFK5H4Xr8ckAzMzMzMwdzQAAAAAAAEHNAZmZmZmYWc0BxPQrXoxxzQB+F61G4InNAuB6F61Eoc0DD9Shcjy5zQLgehetRNHNAZmZmZmY6c0C4HoXrUUBzQK5H4XoURnNASOF6FK5Lc0DhehSuR1FzQMP1KFyPVnNApHA9Ctdbc0ApXI/C9WBzQGZmZmZmZnNA7FG4HoVrc0A9CtejcHFzQNejcD0Kd3NAzczMzMx8c0DD9Shcj4JzQLgehetRiHNAZmZmZmaOc0C4HoXrUZRzQGZmZmZmmnNApHA9Ctefc0AK16NwPaZzQAAAAAAArHNA9ihcj8Kxc0AzMzMzM7dzQHE9CtejvHNArkfhehTCc0DsUbgehcdzQJqZmZmZzXNAMzMzMzPTc0DNzMzMzNhzQPYoXI/C3XNAMzMzMzPjc0CkcD0K1+dzQIXrUbge7XNAmpmZmZnxc0BmZmZmZvZzQKRwPQrX+3NAFK5H4XoAdEApXI/C9QR0QClcj8L1CHRAZmZmZmYOdECPwvUoXBN0QHsUrkfhFnRApHA9CtcbdEC4HoXrUSB0QClcj8L1/HNA4XoUrkctc0CPwvUoXF9yQKRwPQrXl3FASOF6FK7LcED2KFyPwg1wQNejcD0Kl25AUrgehesZbUAK16NwPaJrQHE9CtejMGpA9ihcj8LFaEAfhetRuHZnQEjhehSu72VAFK5H4XqEZEAzMzMzM0tjQIXrUbgeJWJAuB6F61HwYEAzMzMzM3NfQB+F61G4Ll1AH4XrUbguXEA9CtejcC1cQOF6FK5HgVtAKVyPwvVYW0BmZmZmZoZbQClcj8L1aFtArkfhehQeW0ApXI/C9ehaQAAAAAAAwFtApHA9CteTXEDNzMzMzJxdQEjhehSut15AH4XrUbjuX0ApXI/C9XhfQK5H4XoUXl5AzczMzMw8XkA9CtejcJ1eQFK4HoXr4V5AAAAAAADgX0DXo3A9Ck9gQHE9CtejmGBAexSuR+HSYEDsUbgehSthQD0K16NwpWFAuB6F61FIYkBcj8L1KORiQHsUrkfhgmNAcT0K16MYZEBxPQrXo7BkQClcj8L1OGVAFK5H4Xq8ZUA9CtejcD1mQBSuR+F6xGZA7FG4HoVbZ0AfhetRuOZnQNejcD0Kb2hAmpmZmZnpaEAK16NwPVppQHsUrkfhumlAhetRuB4dakD2KFyPwnVqQHE9Ctej4GpAUrgehetRa0CamZmZmblrQI/C9ShcJ2xAUrgeheuRbEBSuB6F6/lsQMP1KFyPWm1AcT0K16O4bUA9CtejcA1uQM3MzMzMXG5AzczMzMysbkDsUbgehQNvQBSuR+F6VG9AKVyPwvWob0CamZmZmflvQClcj8L1JHBAMzMzMzNLcEBI4XoUrm9wQMP1KFyPlnBAUrgeheu1cEAAAAAAANRwQFK4HoXr8XBApHA9CtcPcUAUrkfheihxQB+F61G4hnBAzczMzMycb0D2KFyPwmVuQD0K16NwFW5AMzMzMzObbUBSuB6F64FtQMP1KFyPUm1AhetRuB49bUDD9Shcj8psQLgehetRaGxA16NwPQr/a0DNzMzMzLRrQOF6FK5HUWtArkfhehTuakC4HoXrUYhqQNejcD0KJ2pAKVyPwvXAaUCPwvUoXF9pQEjhehSuB2lASOF6FK6naECPwvUoXF9oQDMzMzMzE2hA9ihcj8IVaECkcD0K10toQOF6FK5HkWhAKVyPwvXgaEAUrkfhejRpQFK4HoXriWlAZmZmZmbmaUD2KFyPwkVqQOF6FK5HoWpArkfhehT+akBSuB6F61lrQM3MzMzMtGtAPQrXo3ANbEDNzMzMzGRsQD0K16NwvWxAH4XrUbgWbUDD9Shcj2ptQLgehetRwG1AXI/C9SgUbkAAAAAAAGhuQEjhehSut25ACtejcD0Kb0DD9Shcj1pvQHE9CtejqG9A16NwPQr3b0AK16NwPSJwQAAAAAAASHBAmpmZmZltcEA9CtejcI1wQHsUrkfhqnBAmpmZmZnJcED2KFyPwmlwQLgehetRQG9AcT0K16OwbUAAAAAAAAhsQDMzMzMze2pAexSuR+FKaUBxPQrXowBpQOF6FK5HSWhAuB6F61EYaECamZmZmflnQI/C9Shct2dAexSuR+FyZ0AUrkfheixnQKRwPQrXS2dAhetRuB6NZ0ApXI/C9dhnQIXrUbge7WdACtejcD1CaEDXo3A9CpdoQMP1KFyP8mhAw/UoXI9KaUBSuB6F67FpQOxRuB6FE2pAZmZmZmZ+akC4HoXrUehqQDMzMzMzU2tAZmZmZma+a0A9CtejcCVsQNejcD0Kj2xAexSuR+HqbED2KFyPwk1tQClcj8L1oG1AKVyPwvX4bUBmZmZmZk5uQOF6FK5HoW5AhetRuB71bkBxPQrXo0hvQArXo3A9mm9ASOF6FK7nb0D2KFyPwhlwQIXrUbgeQXBAZmZmZmZmcEBI4XoUroNwQHsUrkfhpnBA4XoUrkfBcECF61G4HuVwQM3MzMzMAHFAXI/C9SggcUAfhetRuD5xQJqZmZmZWXFAXI/C9Sh0cUB7FK5H4YpxQFK4HoXroXFASOF6FK63cUA9CtejcM1xQPYoXI/C4XFASOF6FK73cUAfhetRuApyQAAAAAAAIHJAuB6F61E0ckC4HoXrUUhyQEjhehSuW3JAw/UoXI9uckA9CtejcIFyQKRwPQrXk3JAUrgeheulckBI4XoUrrdyQHE9CtejyHJAAAAAAADYckCamZmZmelyQHE9Ctej+HJAFK5H4XoEc0BxPQrXoxBzQDMzMzMzG3NAuB6F61Eoc0BI4XoUrjNzQAAAAAAAQHNApHA9CtdLc0DNzMzMzFhzQClcj8L1ZHNAcT0K16Nwc0A9CtejcH1zQHE9CtejiHNAcT0K16OUc0C4HoXrUaBzQEjhehSuq3NAj8L1KFy3c0BmZmZmZsJzQD0K16NwzXNA7FG4HoXXc0AK16NwPeJzQAAAAAAA7HNArkfhehT2c0AAAAAAAAB0QIXrUbgeCXRAexSuR+ESdEAUrkfhehx0QLgehetRJHRAUrgehestdEBmZmZmZjZ0QGZmZmZmPnRArkfhehRGdEApXI/C9Ux0QLgehetRVHRAexSuR+FadECuR+F6FGJ0QBSuR+F6aHRAexSuR+FudEC4HoXrUXR0QMP1KFyPenRApHA9Ctd/dECF61G4HoV0QHsUrkfhinRAXI/C9SiQdECF61G4HpV0QMP1KFyPmnRAH4XrUbiedEBcj8L1KKR0QKRwPQrXp3RAPQrXo3CtdECuR+F6FLJ0QNejcD0Kt3RApHA9Cte7dEBcj8L1KMB0QFyPwvUoxHRAmpmZmZnJdECuR+F6FM50QHsUrkfh0nRAMzMzMzPXdECPwvUoXNt0QEjhehSu33RAH4XrUbg+dECuR+F6FGpzQDMzMzMzn3JAuB6F61HQcUA9CtejcAlxQFyPwvUoSHBAexSuR+EKb0BxPQrXo5BtQM3MzMzM9GtApHA9CtdbakB7FK5H4cpoQHE9CtejUGdAUrgehev5ZUBmZmZmZqZlQClcj8L1YGVA9ihcj8K9ZEAUrkfhepRkQFyPwvUonGRArkfhehTWZEBSuB6F6yllQBSuR+F6hGVA9ihcj8LdZUCPwvUoXE9mQFK4HoXrwWZA9ihcj8I1Z0D2KFyPwq1nQFyPwvUoJGhASOF6FK6XaEDhehSuRwFpQLgehetRYGlAhetRuB7NaUAfhetRuDZqQMP1KFyPYmpAMzMzMzOzakA9CtejcP1qQOxRuB6FQ2tA16NwPQpfa0CuR+F6FFZrQDMzMzMzQ2tAXI/C9SiMa0ApXI/C9eBrQJqZmZmZOWxAcT0K16OgbEBcj8L1KARtQClcj8L1UG1A9ihcj8KtbUDhehSuR/ltQJqZmZmZOW5AFK5H4Xp0bkB7FK5H4ZJuQPYoXI/CxW5AzczMzMwEb0ApXI/C9UBvQPYoXI/CfW9AAAAAAADAb0AzMzMzMwNwQJqZmZmZJXBAZmZmZmZKcEDsUbgehW9wQLgehetRkHBASOF6FK6ncEDD9Shcj8JwQFK4HoXr4XBAMzMzMzP/cEBmZmZmZh5xQClcj8L1OHFAzczMzMxUcUC4HoXrUWxxQB+F61G4gnFAKVyPwvWUcUDXo3A9CqtxQFK4HoXrvXFAUrgehevRcUAAAAAAAORxQKRwPQrX93FAZmZmZmYKckBxPQrXoxxyQB+F61G4LnJAcT0K16NAckCamZmZmVFyQI/C9ShcY3JA7FG4HoVzckBxPQrXo4RyQM3MzMzMlHJAFK5H4XqkckA9CtejcLVyQHE9CtejxHJAAAAAAADUckB7FK5H4eJyQHE9Ctej8HJAexSuR+H+ckAzMzMzMwtzQB+F61G4FnNASOF6FK4fc0BxPQrXoyhzQFK4HoXrMXNAMzMzMzM7c0AAAAAAAERzQClcj8L1THNAPQrXo3BVc0BmZmZmZl5zQArXo3A9ZnNAZmZmZmZuc0DD9Shcj3ZzQMP1KFyPfnNAw/UoXI+Gc0CuR+F6FI5zQJqZmZmZlXNAhetRuB6dc0Bcj8L1KKRzQI/C9Shcq3NAw/UoXI+yc0A9CtejcLlzQAAAAAAAwHNAw/UoXI/Gc0DhehSuR81zQEjhehSu03NAmpmZmZnZc0CkcD0K199zQPYoXI/C5XNApHA9Ctfrc0CamZmZmfFzQI/C9Shc93NAhetRuB79c0AK16NwPQJ0QKRwPQrXB3RAhetRuB4NdEAK16NwPRJ0QOxRuB6FF3RAuB6F61EcdEDhehSuRyF0QK5H4XoUJnRAH4XrUbgqdEDsUbgehS90QKRwPQrXM3RAAAAAAAA4dEBxPQrXozx0QClcj8L1QHRAKVyPwvVEdEApXI/C9Uh0QIXrUbgeTXRAhetRuB5RdEDNzMzMzFR0QM3MzMzMWHRAXI/C9ShcdEBcj8L1KGB0QDMzMzMzY3RAMzMzMzNndEDD9Shcj2p0QK5H4XoUbnRA4XoUrkdxdEAUrkfhenR0QOxRuB6Fd3RAw/UoXI96dEA9CtejcH10QIXrUbgegXRA7FG4HoWDdEAK16NwPYZ0QLgehetRAHRASOF6FK4rc0DNzMzMzFxyQPYoXI/CjXFA4XoUrkfFcECPwvUoXAtwQOxRuB6Fk25A7FG4HoVjbUBcj8L1KERtQHsUrkfhAmxAMzMzMzOTa0A9CtejcEVrQPYoXI/C9WpASOF6FK6vakBI4XoUrn9qQHE9CtejWGpAmpmZmZkxakBI4XoUrgdqQKRwPQrXy2lAKVyPwvVwaUBxPQrXoxhpQPYoXI/CvWhAzczMzMxkaEDNzMzMzAxoQKRwPQrXu2dAj8L1KFxnZ0AzMzMzMxNnQD0K16NwzWZAH4XrUbieZkCamZmZmclmQNejcD0KB2dA9ihcj8JNZ0DNzMzMzJxnQLgehetR8GdAZmZmZmZGaEAfhetRuJZoQLgehetR6GhA9ihcj8I1aUD2KFyPwoVpQOxRuB6F02lAMzMzMzMjakDXo3A9Cm9qQB+F61G4vmpAw/UoXI8Ka0BxPQrXo1hrQFyPwvUopGtAKVyPwvXwa0CkcD0K1ztsQAAAAAAAiGxAmpmZmZnRbEDD9ShcjxptQArXo3A9Wm1ApHA9CtebbUBSuB6F69ltQIXrUbgeFW5AexSuR+FSbkCuR+F6FI5uQMP1KFyPym5A16NwPQoHb0AzMzMzM0NvQD0K16NwfW9AKVyPwvW4b0DsUbgehfNvQB+F61G4FnBAj8L1KFwzcEAAAAAAAFBwQLgehetRbHBAzczMzMyIcEA9CtejcKFwQKRwPQrXt3BAw/UoXI/OcEC4HoXrUeRwQJqZmZmZ+XBASOF6FK4PcUD2KFyPwiVxQK5H4XoUOnFASOF6FK5PcUBI4XoUrmNxQBSuR+F6eHFAAAAAAACMcUCkcD0K159xQNejcD0Ks3FAmpmZmZnFcUC4HoXrUdhxQI/C9Shc63FAzczMzMz8cUB7FK5H4Q5yQD0K16NwIXJAZmZmZmYyckDXo3A9Cj9yQOxRuB6FU3JA7FG4HoVjckA9CtejcHVyQIXrUbgehXJAzczMzMyUckAAAAAAAKRyQOxRuB6Fs3JAH4XrUbjCckA9CtejcNFyQNejcD0K33JAmpmZmZntckB7FK5H4fpyQNejcD0KB3NA",
          "dtype": "f8"
         },
         "yaxis": "y2"
        },
        {
         "hovertemplate": "Distance: %{x:.1f}m<br>RPM: %{y:.0f}<extra></extra>",
         "line": {
          "color": "#FF9F1C",
          "width": 3
         },
         "mode": "lines",
         "name": "RPM",
         "type": "scatter",
         "x": {
          "bdata": "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",
          "dtype": "f8"
         },
         "xaxis": "x3",
         "y": {
          "bdata": "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",
          "dtype": "i2"
         },
         "yaxis": "y3"
        },
        {
         "hovertemplate": "Distance: %{x:.1f}m<br>Throttle: %{y:.3f}<extra></extra>",
         "line": {
          "color": "#2E8B57",
          "width": 3
         },
         "mode": "lines",
         "name": "Throttle",
         "type": "scatter",
         "x": {
          "bdata": "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",
          "dtype": "f8"
         },
         "xaxis": "x4",
         "y": {
          "bdata": "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",
          "dtype": "f8"
         },
         "yaxis": "y4"
        },
        {
         "hovertemplate": "Distance: %{x:.1f}m<br>Brake: %{y:.3f}<extra></extra>",
         "line": {
          "color": "#DC143C",
          "width": 3
         },
         "mode": "lines",
         "name": "Brake",
         "type": "scatter",
         "x": {
          "bdata": "w/UoXOcA10B1kxgEJgPXQEw3iUFIBddARIts52sH10BMN4lBkAnXQGDl0CKzC9dAtMh2vvcN10AdWmQ7HxDXQPp+arxMEtdAN4lBYHUU10ArhxbZnhbXQJHtfD/VGNdARIts5wMb10D6fmq8NB3XQK5H4XpkH9dAaJHtfJch10B7FK5HySPXQHe+nxr/JddA8tJNYjAo10BvEoPAYirXQLTIdr6fLNdAAAAAANgu10CuR+F6FDHXQGDl0CI7M9dAGy/dJI4110Dl0CLbsTfXQDeJQWDtOddAK4cW2S4810DP91PjbT7XQIlBYOWwQNdAZmZmZvZC10BMN4lBQEXXQC/dJAZxR9dArkfherxJ10AOLbKd90vXQKabxCBITtdABoGVQ4NQ10Aj2/l+0lLXQE5iEFgRVddArkfhelRX10AxCKwcmlnXQCuHFtn2W9dA1XjpJjFe10BOYhBYcWDXQC/dJAa5YtdADAIrhxZl10AGgZVDW2fXQLTIdr6faddAtMh2vudr10CDwMqhTW7XQPhT46WTcNdAi2zn++Fy10CLbOf7KXXXQN0kBoF9d9dATDeJQdB510B7FK5HIXzXQKabxCB4ftdAUrgehcuA10DXo3A9IoPXQLTIdr5vhddAGy/dJMaH10B7FK5HGYrXQJ7vp8ZzjNdADAIrh86O10AbL90kJpHXQNEi2/l+k9dA6SYxCLyV10BvEoPAGpjXQAisHFpsmtdAmpmZmcGc10BU46WbNJ/XQLKd76eGoddAiUFg5dij10DP91PjLabXQOxRuB6dqNdA8tJNYviq10BaZDvfT63XQE5iEFipr9dAhetRuP6x10AX2c73Y7TXQDEIrBzCttdAsp3vpxa510DD9Shcd7vXQD0K16PYvddA5dAi2yHA10CF61G4jsLXQJqZmZnxxNdAd76fGlfH10AGgZVDi8nXQFK4HoXDy9dAmpmZmeHN10DVeOkm6c/XQD81XrrZ0ddAUrgehaPT10CYbhKDaNXXQPLSTWIY19dA8tJNYrDY10Boke18N9rXQGZmZmam29dAZmZmZgbd10B3vp8aT97XQGiR7Xx339dAwcqhRZbg10Ce76fGo+HXQHWTGASe4tdAfT81Xorj10AIrBxaZOTXQIXrUbgu5ddA+FPjpevl10D4U+Olm+bXQOOlm8Q459dAZmZmZtbn10BSuB6Fc+jXQClcj8IN6ddA0SLb+abp10ArhxbZPurXQDeJQWDV6tdAI9v5fmrr10AbL90k/uvXQAwCK4eW7NdAVOOlmzTt10Aj2/l+0u3XQPLSTWKA7tdAGy/dJC7v10DRItv51u/XQGiR7Xx38NdA+FPjpRPx10CgGi/drPHXQPhT46VD8tdAukkMAtPy10CR7Xw/ZfPXQOxRuB7189dAsp3vp4b010AdWmQ7F/XXQAwCK4eu9ddAoBov3Tz210A/NV66yfbXQDeJQWBd99dAZmZmZu7310D4U+Olg/jXQHe+nxon+ddA+FPjpcv510Aj2/l+evrXQClcj8It+9dA9P3UePH710DD9Shct/zXQEa28/2E/ddA+FPjpVv+10DsUbgeRf/XQCPb+X4qANhAsp3vpyYB2ECJQWDlIALYQAaBlUMjA9hAKVyPwi0E2ECgGi/dTAXYQMP1KFxnBthAPzVeupkH2ECYbhKDwAjYQB1aZDv/CdhABoGVQ0ML2EC0yHa+fwzYQFpkO9/PDdhAUrgehSsP2EA9CtejiBDYQGDl0CLzEdhAtMh2vk8T2EB1kxgEvhTYQClcj8I1FthArBxaZLMX2EDl0CLbMRnYQM/3U+OdGthA0SLb+SYc2EBaZDvftx3YQIXrUbhOH9hAL90kBukg2EDy0k1iiCLYQLKd76cuJNhATDeJQdgl2EDVeOkmmSfYQDEIrBw6KdhAAAAAAAAr2EBg5dAiqyzYQMP1KFx/LthAPzVeukkw2ECLbOf7+THYQC/dJAbRM9hA3SQGga012EAbL90kjjfYQJqZmZlROdhA+FPjpTs72ED6fmq8DD3YQPLSTWIAP9hA9P3UeNlA2EB3vp8a10LYQD0K16O4RNhA3SQGgZ1G2EDy0k1iqEjYQOXQItuJSthAYhBYOYRM2EDsUbgefU7YQIXrUbh2UNhAPQrXo3BS2EBSuB6Fg1TYQK5H4Xp8VthAI9v5fnJY2EDy0k1iaFrYQIXrUbh2XNhAukkMAnte2ECamZmZmWDYQHWTGASmYthAdZMYBK5k2EAbL90ktmbYQPT91HjBaNhAmG4Sg9Bq2EBiEFg5zGzYQH0/NV7ibthADi2ynf9w2EAMAiuHBnPYQCuHFtkuddhAAAAAADh32ECJQWDlYHnYQNejcD1ye9hAg8DKoYV92EA9CtejsH/YQJhuEoPIgdhA8tJNYuCD2EAUrkfh+oXYQLTIdr4fiNhACKwcWjyK2EAxCKwcWozYQAisHFqUjthABoGVQ7OQ2EAUrkfh2pLYQPT91Hj5lNhAKVyPwh2X2EA9CtejQJnYQDeJQWBlm9hAyXa+n4qd2ECe76fGu5/YQKwcWmTjodhAI9v5fvqj2EBGtvP9NKbYQOXQIttRqNhADi2ynY+q2ECamZmZsazYQMP1KFzvrthAz/dT4xWx2EAIrBxaNLPYQIlBYOVwtdhAaJHtfJe32EDy0k1iwLnYQMl2vp8CvNhAmpmZmSm+2EAxCKwcUsDYQGiR7XyXwthAI9v5fsLE2ECyne+n9sbYQD0K16MgydhACKwcWlTL2EC6SQwCm83YQJHtfD/dz9hAfT81XgrS2EC0yHa+N9TYQFTjpZt81thAGy/dJK7Y2EB3vp8a39rYQA4tsp0f3dhAYhBYOVzf2EBEi2znm+HYQMP1KFzP49hATmIQWAnm2ECYbhKDQOjYQN0kBoGN6thAAAAAAMDs2EAX2c73A+/YQPp+arxE8dhAMQisHIrz2EBoke18v/XYQFK4HoUD+NhAI9v5fjL62EAbL90kTvzYQHWTGAQ+/thA16NwPTIA2UDXo3A9CgLZQCPb+X7SA9lA9P3UeIEF2UDl0CLbGQfZQKAaL92cCNlAN4lBYP0J2UA/NV66WQvZQIXrUbimDNlAYhBYOdwN2UAv3SQG8Q7ZQLTIdr4HENlAi2zn+/kQ2UAAAAAA6BHZQGIQWDnEEtlArBxaZIsT2UA9CtejWBTZQCPb+X4iFdlAFK5H4eIV2UA3iUFgpRbZQOXQIttxF9lABoGVQzMY2UC6SQwC8xjZQLpJDAKzGdlA5dAi23ka2UDJdr6fUhvZQD0K16MoHNlARrbz/QQd2UDl0CLb6R3ZQPp+arzEHtlAvHSTGJwf2UAbL90kdiDZQH0/NV5SIdlA16NwPTIi2UBMN4lBGCPZQB1aZDsHJNlAK4cW2e4k2UA9Ctej6CXZQDEIrBzaJtlATmIQWOEn2UDRItv55ijZQAaBlUPzKdlA+n5qvBQr2UCuR+F6PCzZQEa28/1cLdlAz/dT45Uu2UA3iUFgzS/ZQIXrUbgGMdlArkfhelwy2UAbL90kpjPZQOxRuB4FNdlAvHSTGGw22UAdWmQ7xzfZQClcj8I9OdlAYOXQIrM62UDpJjEILDzZQBsv3SSePdlAaJHtfCc/2UAIrBxarEDZQPp+arw0QtlAiUFg5dBD2UApXI/CbUXZQLKd76cOR9lAoBov3bRI2UAbL90kXkrZQEa28/0MTNlArkfhesRN2UDD9Shcf0/ZQAwCK4c+UdlACKwcWvxS2UB7FK5HwVTZQJqZmZmJVtlAke18P1VY2UD6fmq8LFrZQIPAyqENXNlAhetRuN5d2UAIrBxazF/ZQOxRuB6lYdlAVOOlm5Rj2UBEi2zna2XZQFK4HoVbZ9lARrbz/Rxp2UDy0k1i6GrZQPp+aryMbNlAvHSTGDxu2UAbL90k7m/ZQDeJQWCFcdlAd76fGi9z2UBSuB6Fy3TZQPT91HhxdtlAN4lBYP132UDXo3A9innZQLTIdr4Xe9lAg8DKoY182UB3vp8aH37ZQEa28/2Uf9lAyXa+nwKB2UDdJAaBbYLZQClcj8LVg9lARrbz/USF2UCDwMqhnYbZQAAAAADwh9lAwcqhRVaJ2UAGgZVDq4rZQE5iEFgBjNlA5dAi22GN2UA/NV66wY7ZQPhT46UrkNlAukkMAqOR2UBvEoPAEpPZQGiR7XyPlNlAyXa+nwqW2UAIrBxanJfZQGIQWDkcmdlAmG4Sg7Ca2UBGtvP9TJzZQBfZzvfTndlADi2ynXef2UD0/dR4GaHZQN0kBoHFotlA+FPjpWOk2UA/NV66GabZQFTjpZvUp9lAYOXQIpOp2UCR7Xw/RavZQA4tsp0PrdlAtMh2vt+u2UDy0k1imLDZQOOlm8RostlADi2ynT+02UDD9ShcF7bZQB1aZDv3t9lADAIrh9a52UDl0CLbsbvZQPhT46V7vdlAtMh2vi+/2UAGgZVDy8DZQPT91HhRwtlAYOXQIsPD2UBOYhBYKcXZQD81XrqZxtlAPQrXo/DH2UAIrBxaRMnZQBfZzveTytlA1XjpJvHL2UCyne+nNs3ZQOOlm8SIztlAN4lBYM3P2UCuR+F6LNHZQCPb+X560tlACKwcWtzT2UCyne+nLtXZQH0/NV561tlA46WbxADY2UBMN4lBYNnZQGiR7XzX2tlA7FG4Hk3c2UCDwMqhzd3ZQK5H4XpU39lAPzVeuuHg2UCF61G4ZuLZQFpkO9//49lAL90kBqHl2UCsHFpkM+fZQFpkO9/f6NlAI9v5fpLq2UCYbhKDMOzZQDeJQWDl7dlAYhBYOZzv2UAGgZVDW/HZQAwCK4ce89lAUrgeheP02UAdWmQ7r/bZQJhuEoOA+NlAL90kBlH62UBiEFg5LPzZQH0/NV4C/tlAPQrXo9j/2UCmm8QgwAHaQGDl0CKrA9pA5dAi24EF2kAbL90kdgfaQGiR7XxvCdpAtMh2vk8L2kB9PzVeUg3aQGiR7Xw/D9pAppvEIEAR2kBvEoPAMhPaQMHKoUUmFdpA8tJNYjgX2kDByqFFNhnaQHWTGAQ2G9pA9P3UeDkd2kCe76fGUx/aQFTjpZtcIdpAAAAAAGgj2kAUrkfhciXaQPhT46WDJ9pAMQisHJIp2kD6fmq8vCvaQFTjpZvULdpAukkMAusv2kCLbOf7ATLaQPLSTWIgNNpA+FPjpTs22kA3iUFgZTjaQAisHFpsOtpAukkMAps82kBU46WbzD7aQLpJDALrQNpARrbz/QxD2kC6SQwCQ0XaQJ7vp8ZrR9pAiUFg5YhJ2kC0yHa+n0vaQAisHFrkTdpAI9v5fgJQ2kAv3SQGSVLaQBSuR+FqVNpA8tJNYrhW2kA/NV662VjaQNejcD0aW9pA1XjpJlld2kDP91PjfV/aQOXQItuxYdpAtMh2vv9j2kBOYhBYKWbaQAaBlUN7aNpA0SLb+aZq2kArhxbZ1mzaQFTjpZssb9pABoGVQ2Nx2kBOYhBYmXPaQFpkO9/vddpAdZMYBCZ42kDJdr6fenraQFpkO9+vfNpAK4cW2Q5/2kCLbOf7SYHaQMl2vp+Kg9pAZmZmZsaF2kCgGi/dLIjaQHWTGARmitpARIts57OM2kAGgZVD+47aQLTIdr5PkdpAfT81XpKT2kAj2/l+2pXaQBsv3SQemNpAtMh2vnea2kBoke1815zaQJ7vp8Ybn9pAPQrXo2ih2kCF61G4tqPaQGZmZmYeptpAiUFg5Wio2kCYbhKDuKraQGZmZmburNpArBxaZEOv2kBvEoPAqrHaQEw3iUHos9pAWmQ730+22kCYbhKDmLjaQK5H4Xr8utpABoGVQzu92kA/NV66gb/aQKabxCCQwdpAWmQ736fD2kAMAiuHpsXaQOkmMQiMx9pAKVyPwk3J2kBaZDvf98raQCPb+X6izNpAd76fGh/O2kCe76fGk8/aQMl2vp/y0NpATmIQWCnS2kD6fmq8bNPaQLKd76em1NpAVOOlm8zV2kB7FK5H8dbaQAwCK4cW2NpAAAAAAEDZ2kC8dJMYbNraQFpkO9+f29pABoGVQ8vc2kAbL90kBt7aQIts5/tZ39pAmG4Sg5jg2kBoke187+HaQBSuR+E649pAK4cW2Z7k2kBSuB6F++XaQEa28/1k59pAGy/dJM7o2kB7FK5HSeraQDEIrBy669pAyXa+nzrt2kBvEoPAsu7aQBfZzvdD8NpA1XjpJsHx2kBmZmZmPvPaQPhT46XT9NpA+n5qvFT22kAj2/l+2vfaQIXrUbh2+dpARIts5wP72kD4U+Olq/zaQG8Sg8BC/tpARrbz/fT/2kAUrkfhkgHbQMl2vp9KA9tAhetRuP4E20DByqFFpgbbQH0/NV5qCNtAoBov3RQK20CYbhKD0AvbQJ7vp8aTDdtAL90kBlkP20C0yHa+HxHbQJhuEoPoEttAtMh2vr8U20BOYhBYkRbbQEw3iUFYGNtARIts50Ma20CsHFpkIxzbQPLSTWIAHttAWmQ73+cf20CsHFpkyyHbQJhuEoOoI9tADAIrh6Yl20DJdr6fiifbQGiR7Xx3KdtA6SYxCHwr20Av3SQGaS3bQLpJDAJzL9tAiUFg5WAx20BvEoPAajPbQOXQIttxNdtA7FG4HmU320ApXI/ChTnbQCPb+X5yO9tAtMh2vo8920AxCKwckj/bQESLbOeTQdtAPQrXo7hD20Dy0k1iuEXbQESLbOfbR9tA46WbxOBJ20DVeOkm8UvbQClcj8IdTttAF9nO9yNQ20Cmm8QgSFLbQNV46SZxVNtABoGVQ3tW20BOYhBYqVjbQOOlm8S4WttARrbz/exc20AbL90k/l7bQPT91HgxYdtAI9v5fkpj20BSuB6Fc2XbQJHtfD+tZ9tADi2ynb9p20CuR+F69GvbQCPb+X4qbttAHVpkO09w20DByqFFbnLbQCPb+X6adNtA+n5qvMR220BOYhBYCXnbQLTIdr43e9tAPQrXo2B920CgGi/djH/bQEa28/28gdtADAIrh+6D20CF61G4HobbQHe+nxpPiNtA3SQGgYWK20Boke18t4zbQC/dJAYJj9tAL90kBkGR20Cmm8QgcJPbQIXrUbimldtAGy/dJN6X20CR7Xw/FZrbQOOlm8RQnNtA5dAi24me20D4U+Olw6DbQFK4HoUDo9tADi2ynT+l20A9CtejiKfbQJqZmZnJqdtAoBov3Qys20BmZmZmLq7bQEw3iUFwsNtA16NwPbKy20DVeOkm+bTbQOkmMQg8t9tAPQrXo4C520DVeOkmybvbQAisHFoUvttAaJHtfFfA20Bg5dAig8LbQFTjpZvMxNtA46WbxBjH20Av3SQGYcnbQGIQWDmsy9tAVOOlm/TN20AxCKwcOtDbQN0kBoGF0ttARIts58vU20B1kxgE9tbbQIPAyqE92dtAz/dT44Xb20BaZDvf593bQHWTGAQ24NtAw/UoXF/i20BMN4lBsOTbQPhT46X75ttAPQrXo1Dp20DVeOkmievbQGZmZmbe7dtAiUFg5SDw20BEi2znI/LbQHWTGAQu9NtAw/UoXCf220CDwMqh7ffbQBsv3SS++dtADAIrh17720C8dJMY/PzbQLx0kxic/ttAPzVeujkA3EAUrkfhugHcQE5iEFg5A9xAmG4Sg8gE3EDByqFFPgbcQJ7vp8azB9xAHVpkOycJ3EDpJjEIrArcQEa28/0cDNxAKVyPwoUN3EDD9Shc5w7cQLpJDAJbENxAaJHtfLcR3EAIrBxaHBPcQClcj8JlFNxARrbz/bwV3EBMN4lBCBfcQH0/NV5SGNxAaJHtfJcZ3EApXI/C3RrcQCPb+X4iHNxAKVyPwm0d3EAv3SQGuR7cQLpJDAILINxA8tJNYnAh3EAIrBxaxCLcQH0/NV4iJNxAwcqhRZYl3EDpJjEI/CbcQB1aZDtnKNxAnu+nxtsp3EDsUbgeTSvcQEw3iUHILNxAZmZmZk4u3EB9PzVe2i/cQBSuR+FiMdxA+FPjpeMy3EDByqFFdjTcQG8Sg8AKNtxA8tJNYqg33ECmm8QgSDncQD0K16PgOtxAexSuR4k83EAj2/l+Qj7cQAwCK4fuP9xA8tJNYpBB3EC8dJMYREPcQJHtfD/9RNxAYOXQIrNG3EDl0CLbgUjcQFpkO98vStxACKwcWvxL3EDJdr6fwk3cQBfZzveTT9xA8tJNYlhR3EDy0k1iMFPcQJqZmZn5VNxAiUFg5eBW3EArhxbZtljcQIts5/uJWtxAHVpkO3dc3ECJQWDlUF7cQEw3iUEoYNxAFK5H4SJi3EAj2/l+AmTcQFK4HoXrZdxARIts59Nn3ECuR+F61GncQIlBYOW4a9xAexSuR7lt3EBGtvP9pG/cQIXrUbiWcdxABoGVQ5tz3EBOYhBYkXXcQNejcD2id9xAWmQ735d53ECe76fGk3vcQClcj8KVfdxAbxKDwKJ/3EC0yHa+p4HcQOXQItvBg9xA3SQGgc2F3EDpJjEI3IfcQOOlm8TwidxAppvEIACM3ED6fmq8FI7cQJHtfD8tkNxAFK5H4UqS3EBvEoPAUpTcQDeJQWB1ltxAiUFg5ZiY3EDRItv5nprcQEw3iUHAnNxA",
          "dtype": "f8"
         },
         "xaxis": "x5",
         "y": {
          "bdata": "AAAAAAAAAAAAAAAAAAAAAAAAAAAAAAAAAAAAAAAAAAAAAAAAAAAAAAAAAAAAAAAAAAAAAAAAAAAAAAAAAAAAAAAAAAAAAAAAAAAAAAAAAAAAAAAAAAAAAAAAAAAAAAAAAAAAAAAAAAAAAAAAAAAAAAAAAAAAAAAAAAAAAAAAAAAAAAAAAAAAAAAAAAAAAAAAAAAAAAAAAAAAAAAAAAAAAAAAAAAAAAAAAAAAAAAAAAAAAAAAAAAAAAAAAAAAAAAAAAAAAAAAAAAAAAAAAAAAAAAAAAAAAAAAAAAAAAAAAAAAAAAAAAAAAAAAAAAAAAAAAAAAAAAAAAAAAAAAAAAAAAAAAAAAAAAAAAAAAAAAAAAAAAAAAAAAAAAAAAAAAAAAAAAAAAAAAAAAAAAAAAAAAAAAAAAAAAAAAAAAAAAAAAAAAAAAAAAAAAAAAAAAAAAAAAAAAAAAAAAAAAAAAAAAAAAAAAAAAAAAAAAAAAAAAAAAAAAAAAAAAAAAAAAAAAAAAAAAAAAAAAAAAAAAAAAAAAAAAAAAAAAAAAAAAAAAAAAAAAAAAAAAAAAAAAAAAAAAAAAAAAAAAAAAAAAAAAAAAAAAAAAAAAAAAAAAAAAAAAAAAAAAAAAAAAAAAAAAAAAAAAAAAAAAAAAAAAAAAAAAAAAAAAAAAAAAAAAAAAAAAAAAAAAAAAAAAAAAAAAAAAAAAAAAAAAAAAAAAAAAAAAAAAAAAAAAAAAAAAAAAAAAAAAAAAAAAAAAAAAAAAAAAAAAAAAAAAAAAAAAAAAAAAAAAAAAAAAAAAAAAAAAAAAAAAAAAAAAAAAAAAAAAAAAAAAAAAAAAAAAAAAAAAAAAAAAAAAAAAAAAAAAAAAAAAAAAAAAAAAAAAAAAAAAAAAAAAAAAAAAAAAAAAAAAAAAAAAAAAAAAAAAAAAArkfhehSu7z+uR+F6FK7vP65H4XoUru8/rkfhehSu7z+uR+F6FK7vP65H4XoUru8/rkfhehSu7z+uR+F6FK7vP65H4XoUru8/rkfhehSu7z9mZmZmZmbuP65H4XoUru8/zczMzMzM7D8UrkfhehTuP65H4XoUru8/CtejcD0K7z/Xo3A9CtfrP1K4HoXrUeg/UrgehetR6D+PwvUoXI/qPwAAAAAAAOg/16NwPQrX4z9SuB6F61HgPwAAAAAAAAAAAAAAAAAAAAC4HoXrUbi+PwAAAAAAAAAAAAAAAAAAAAAAAAAAAAAAAAAAAAAAAAAAAAAAAAAAAAAAAAAAAAAAAAAAAAAAAAAAAAAAAAAAAAAAAAAAAAAAAAAAAAAAAAAAAAAAAAAAAAApXI/C9SjcPwrXo3A9Crc/AAAAAAAAAAAAAAAAAAAAAAAAAAAAAAAAAAAAAAAAAAAAAAAAAAAAAAAAAAAAAAAAAAAAAAAAAAAAAAAAAAAAAAAAAAAAAAAAAAAAAAAAAAAAAAAAAAAAAAAAAAAAAAAAAAAAAAAAAAAAAAAAAAAAAAAAAAAAAAAAAAAAAAAAAAAAAAAAAAAAAAAAAAAAAAAAAAAAAAAAAAAAAAAAAAAAAAAAAAAAAAAAAAAAAAAAAAAAAAAAAAAAAAAAAAAAAAAAAAAAAAAAAAAAAAAAAAAAAAAAAAAAAAAAAAAAAAAAAAAAAAAAAAAAAAAAAAAAAAAAAAAAAAAAAAAAAAAAAAAAAAAAAAAAAAAAAAAAAAAAAAAAAAAAAAAAAAAAAAAAAAAAAAAAAAAAAAAAAAAAAAAAAAAAAAAAAAAAAAAAAAAAAAAAAAAAAAAAAAAAAAAAAAAAAAAAAAAAAAAAAAAAAAAAAAAAAAAAAAAAAAAAAAAAAAAAAAAAAAAAAAAAAAAAAAAAAAAAAAAAAAAAAAAAAAAAAAAAAAAAAAAAAAAAAAAAAAAAAAAAAAAAAAAAAAAAAAAAAAAAAAAAAAAAAAAAAAAAAAAAAAAAAAAAAAAAAAAAAAAAAAAAAAAAAAAAAAAAAAAAAAAAAAAAAAAAAAAAAAAAAAAAAAAAAAAAAAAAAAAAAAAAAAAAAAAAAAAAAAAAAAAAAAAAAAAAAAAAAAAAAAAAAAAAAAAAAAAAAAAAAAAAAAAAAAAAAAAAAAAAAAAAAAAAAAAAAAAAAAAAAAAAAAAAAAAAAAAAAAAAAAAAAAAAAAAAAAAAAAAAAAAAAAAAAAAAAAAAAAAAAAAAAAAAAAAAAAAAAAAAAAAAAAAAAAAAAAAAAAAAAAAAAAAAAAAAAAAAAAAAAAAAAAAAAAAAAAAAAAAAAAAAAAAAAAAAAAAAAAAAAAAAAAAAAAAAAAAAAAAAAAAAAAAAAAAAAAAAAAAAAAAAAAAAAAAAAAAAAAAAAAAAAAAAAAAAAAAAAAAAAAAAAAAAAAAAAAAAAAAAAAAAAAAAAAAAAAAAAAAAAAAAAAAAAAAAAAAAAAAAAAAAAAAAAAAAAAAAAAAAAAAAAAAAAAAAAAAAAAAAAAAAAAAAAAAAAAAAAAAAAAAAAAAAAAAAAAAAAAAAAAAAAAAAAAAAAAAAAAAAAAAAAAAAAAAAAAAAAAAAAAAAAAAAAAAAAAAAAAAAAAAAAAAAAAAAAAAAAAAAAAAAAAAAAAAAAAAAAAAAAAAAAAAAAAAAAAAAAAAAAAAAAAAAAAAAAAAAAAAAAAAAAAAAAAAAAAAAAAAAAAAAAAAAAAAAAAAAAAAAAAAAAAAAAAAAAAAAAAAAAAAAAAAAAAAAAAAAAAAAAAAAAAAAAAAAAAAAAAAAAAAAAAAAAAAAAAAAAAAAAAAAAAAAAAAAAAAAAAAAAAAAAAAAAAAAAAAAAAAAAAAAAAAAAAAAAAAAAAAAAAAAAAAAAAAAAAAAAAAAAAAAAAAAAAAAAAAAAAAAAAAAAAAAAAAAAAAAAAAAAAAAAAAAAAAAAAAAAAAAAAAAAAAAAAAAAAAAAAAAAAAAAAAAAAAAAAAAAAAAAAAAAAAAAAAAAAAAAAAAAK5H4XoUru8/rkfhehSu7z+uR+F6FK7vP65H4XoUru8/rkfhehSu7z+uR+F6FK7vP65H4XoUru8/rkfhehSu7z+uR+F6FK7vP65H4XoUru8/rkfhehSu7z+uR+F6FK7vP8P1KFyPwu0/rkfhehSu7z9xPQrXo3DtP4/C9Shcj+o/4XoUrkfh6j9I4XoUrkfpP83MzMzMzNw/AAAAAAAAAADD9Shcj8LVP7gehetRuJ4/AAAAAAAAAAAAAAAAAAAAAAAAAAAAAAAAAAAAAAAAAAAAAAAAAAAAAAAAAAAAAAAAAAAAAAAAAAAAAAAAAAAAAAAAAAAAAAAAAAAAAAAAAABSuB6F61HgPzMzMzMzM8M/AAAAAAAAAAAAAAAAAAAAAAAAAAAAAAAAAAAAAAAAAAAAAAAAAAAAAAAAAAAAAAAAAAAAAAAAAAAAAAAAAAAAAAAAAAAAAAAAAAAAAAAAAAAAAAAAAAAAAAAAAAAAAAAAAAAAAAAAAAAAAAAAAAAAAAAAAAAAAAAAAAAAAAAAAAAAAAAAAAAAAAAAAAAAAAAAAAAAAAAAAAAAAAAAAAAAAAAAAAAAAAAAAAAAAAAAAAAAAAAAAAAAAAAAAAAAAAAAAAAAAAAAAAAAAAAAAAAAAAAAAAAAAAAAAAAAAAAAAAAAAAAAAAAAAAAAAAAAAAAAAAAAAAAAAAAAAAAAAAAAAAAAAAAAAAAAAAAAAAAAAAAAAAAAAAAAAAAAAAAAAAAAAAAAAAAAAAAAAAAAAAAAAAAAAAAAAAAAAAAAAAAAAAAAAAAAAAAAAAAAAAAAAAAAAAAAAAAAAAAAAAAAAAAAAAAAAAAAAAAAAAAAAAAAAAAAAAAAAAAAAAAAAAAAAAAAAAAAAAAAAAAAAAAAAAAAAK5H4XoUru8/rkfhehSu7z97FK5H4Xq0P+F6FK5H4do/AAAAAAAAAAAAAAAAAAAAAAAAAAAAAAAA16NwPQrX0z8AAAAAAAAAAAAAAAAAAAAAAAAAAAAAAAAAAAAAAAAAAAAAAAAAAAAAAAAAAAAAAAAAAAAAAAAAAAAAAAAAAAAAAAAAAAAAAAAAAAAAAAAAAAAAAAAAAAAAAAAAAAAAAAAAAAAAAAAAAAAAAAAAAAAAAAAAAAAAAAAAAAAAAAAAAAAAAAAAAAAAAAAAAAAAAAAAAAAAAAAAAAAAAAAAAAAAAAAAAAAAAAAAAAAAAAAAAAAAAAAAAAAAAAAAAAAAAAAAAAAAAAAAAAAAAAAAAAAAAAAAAAAAAAAAAAAAAAAAAAAAAAAAAAAAAAAAAAAAAAAAAAAAAAAAAAAAAAAAAAAAAAAAAAAAAAAAAAAAAAAAAAAAAAAAAAAAAAAAAAAAAAAAAAAAAAAAAAAAAAAAAAAAAAAAAAAAAAAAAAAAAAAAAAAAAAAAAAAAAAAAAAAAAAAAAAAAAAAAAAAAAAAAAAAAAAAAAAAAAACuR+F6FK7vP65H4XoUru8/rkfhehSu7z+uR+F6FK7vP7gehetRuO4/uB6F61G4vj8zMzMzMzPjP8P1KFyPwsU/AAAAAAAAAAB7FK5H4XqEPwAAAAAAAAAAAAAAAAAAAAAAAAAAAAAAAAAAAAAAAAAAAAAAAAAAAAAAAAAAAAAAAAAAAAAAAAAAAAAAAAAAAAAAAAAAAAAAAAAAAAAAAAAAAAAAAAAAAAAAAAAAAAAAAAAAAAAAAAAAAAAAAAAAAAAAAAAAAAAAAAAAAAAAAAAAAAAAAAAAAAAAAAAAAAAAAAAAAAAAAAAAAAAAAAAAAAAAAAAAAAAAAAAAAAAAAAAAAAAAAAAAAAAAAAAAAAAAAAAAAAAAAAAAAAAAAAAAAAAAAAAAAAAAAAAAAAAAAAAAAAAAAAAAAAAAAAAAAAAAAAAAAAAAAAAAAAAAAAAAAAAAAAAAAAAAAAAAAAAAAAAAAAAAAAAAAAAAAAAAAAAAAAAAAAAAAAAAAAAAAAAAAAAAAAAAAAAAAAAAAAAAAAAAAAAAAAAAAAAAAAAAAAAAAAAAAAAAAAAAAAAAAAAAAAAAAAAAAAAAAAAAAAAAAAAAAAAAAAAAAAAAAAAAAAAAAAAAAAAAAAAAAAAAAAAAAAAAAAAAAAAAAAAAAAAAAAAAAAAAAAAAAAAAAAAAAAAAAAAAAAAAAAAAAAAAAAAAAAAAAAAAAAAAAAAAAAAAAAAAAAAAAAAAAAAAAAAAAAAAAAAAAAAAAAAAAAAAAAAAAAAAAAAAAAAAAAAAAAAAAAAAAAAAAAAAAAAAAAAAAAAAAAAAAAAAAAAAAAAAAAAAAAAAAAAAAAAAAAAAAAAAAAAAAAAAAAAAAAAAAAAAAAAAAAAAAAAAAAAAAAAAAAAAAAAAAAAAAAAAAAAAAAAAAAAAAAAAAAAAAAAAAAAAAAAAAAAAAAAAAAAAAAAAAAAAAAAAAAAAAAAAAAAAAAAAAAAAAAAAAAAAAAAAAAAAAAAAAAAAAAAAAAAAAAAAAAAAAAAAAAAAAAAAAAAAAAAAAAAAAAAAAAAAAAAAAAAAAAAAAAAAAAAAAAAAAAAAAAAAAAAAAAAAAAAAAAAAAAAAAAAAAAAAAAAAAAAAAAAAAAAAAAAAAAAAAAAAAAAAAAAAAAAAAAAAAAAAAAAAAAAAAAAAAAAAAAAAAAAAAAAAAAAAAAAAAAAAAAAAAAAAAAAAAAAAAAAAAAAAAAAAAAAAAAAAAAAAAAAAAAAAAAAAAAAAAAAAAAAAAAAAAAAAAAAAAAAAAAAAAAAAAAAAAAAAAAAAAAAAAAAAAAAAAAAAAAAAAAAAAAAAAAAAAAAAAAAAAAAAAAAAAAAAAAAAAAAAAAAAAAAAAAAAAAAAAAAAAAAAAAAAAAAAAAAArkfhehSu7z+uR+F6FK7vP65H4XoUru8/rkfhehSu7z+uR+F6FK7vP65H4XoUru8/rkfhehSu7z+uR+F6FK7vP65H4XoUru8/rkfhehSu7z+uR+F6FK7vPwrXo3A9Cu8/XI/C9Shc3z8AAAAAAAAAAI/C9Shcj+I/pHA9CtejwD+4HoXrUbiePwAAAAAAAAAAAAAAAAAAAAAAAAAAAAAAAAAAAAAAAAAAAAAAAAAAAAAAAAAAAAAAAAAAAAAAAAAAAAAAAAAAAAAAAAAAAAAAAAAAAAAAAAAAAAAAAAAAAAAAAAAAAAAAAAAAAAAAAAAAAAAAAAAAAAAAAAAAAAAAAAAAAAAAAAAAAAAAAAAAAAAAAAAAAAAAAAAAAAAAAAAAAAAAAAAAAAAAAAAAAAAAAAAAAAAAAAAAAAAAAAAAAAAAAAAAAAAAAAAAAAAAAAAAAAAAAAAAAAAAAAAAAAAAAAAAAAAAAAAAAAAAAAAAAAAAAAAAAAAAAAAAAAAAAAAAAAAAAAAAAAAAAAAAAAAAAAAAAAAAAAAAAAAAAAAAAAAAAAAAAAAAAAAAAAAAAAAAAAAAAAAAAAAAAAAAAAAAAAAAAAAAAAAAAAAAAAAAAAAAAAAAAAAAAAAAAAAAAAAAAAAAAAAAAAAAAAAAAAAAAAAAAAAAAAAAAAAAAAAAAAAAAAAAAAAAAAAAAAAAAAAAAAAAAAAAAAAAAAAAAAAAAAAAAAAAAAAAAAAAAAAAAAAAAAAAAAAAAAAAAAAAAAAAAAAAAAAAAAAAAAAAAAAAAAAAAAAAAAAAAAAAAAAAAAAAAAAAAAAAAAAAAAAAAAAAAAAAAAAAAAAAAAAAAAAAAAAAAAAAAAAAAAAAAAAAAAAAAAAAAAAAAAAAAAAAAAAAAAAAAAAAAAAAAAAAAAAAAAAAAAAAAAAAAAAAAAAAAAAAAAAAAAAAAAAAAAAAAAAAAAAAAAAAAAAAAAAAAAAAAAAAAAAAAAAAAAAAAAAAAAAAAAAAAAAAAAAAAAAAAAAAAAAAAAAAAAAAAAAAAAAAAAAAAAAAAAAAAAAAAAAAAAAAAAAAAAAAAAAAAAAAAAAAAAAAAAAAAAAAAAAAAAAAAAAAAAAAAAAAAAAAAAAAAAAAAAAAAAAAAAAAAAAAAAAAAAAAAAAAAAAAAAAAAAAAAAAAAAAAAAAAAAAAAAAAAAAAAAAAAAAAAAAAAAAAAAAAAAAAAAAAAAAAAAAAAAAAAAAAAAAAAAAAAAAAAAAAAAAAAAAAAAAAAAAAAAAAAAAAAAAAAAAAAAAAAAAAAAAAAAAAAAAAAAAAAAAAAAAAAAAAAAAAAAAAAAAAAAAAAAAAAAAAAAAAAAAAAAAAAAAAAAAAAAAAAAAAAAAAAAAAAAAAAAAAAAAAAAAAAAAAAAAAAAAAAAAAAAAAAAAAAAAAAAAAAAAAAAAAAAAAAAAAAAAAAAAAAAAAAAAAAAAAAAAAAAAAAAAAAAAAAAAAAAAAAAAAAAAAAAAAAAAAAAAAAAAAAAAAAAAAAAAAAAAAAAAAAAAAAAAAAAAAAAAAAAAAAAAAAAAAAAAAAAAAAAAAAAAAAAAAAAAAAAAAAAAAAAAAAAAAAAAAAAAAAAAAAAAAAAAAAAAAAAAAAAAAAAAAAAAAAAAAAAAAAAAAAAAAAAAAAAAAAAAAAAAAAAAAAAAAAK5H4XoUru8/rkfhehSu7z+uR+F6FK7vP65H4XoUru8/rkfhehSu7z+uR+F6FK7vP65H4XoUru8/CtejcD0Kxz+4HoXrUbjmP9ejcD0K19M/AAAAAAAAAAAAAAAAAAAAAAAAAAAAAAAAAAAAAAAAAAAAAAAAAAAAAAAAAAAAAAAAAAAAAAAAAAAAAAAAAAAAAAAAAAAAAAAAAAAAAAAAAAAAAAAAAAAAAAAAAAAAAAAAAAAAAAAAAAAAAAAAAAAAAAAAAAAAAAAAAAAAAAAAAAAAAAAAAAAAAAAAAAAAAAAAAAAAAAAAAAAAAAAAAAAAAAAAAAAAAAAAAAAAAAAAAAAAAAAAAAAAAAAAAAAAAAAAAAAAAAAAAAAAAAAAAAAAAAAAAAAAAAAAAAAAAAAAAAAAAAAAAAAAAAAAAAAAAAAAAAAAAAAAAAAAAAAAAAAAAAAAAAAAAAAAAAAAAAAAAAAAAAAAAAAAAAAAAAAAAAAAAAAAAAAAAAAAAAAAAAAAAAAAAAAAAAAAAAAAAAAAAAAAAAAAAAAAAAAAAAAAAAAAAAAAAAAAAAAAAAAAAAAAAAAAAAAAAAAAAAAAAAAAAAAAAAAAAAAAAAAAAAAAAAAAAAAAAAAAAAAAAAAAAAAAAAAAAAAAAAAAAAAAAAAAAAAAAAAAAAAAAAAAAAAAAAAAAAAAAAAAAAAAAAAAAAAAAAAAAAAAAAAAAAAAAAAAAAAAAAAAAAAAAAAAAAAAAAAAAAAAAAAAAAAAAAAAAAAAAAAAAAAAAAAAAAAAAAAAAAAAAAAAAAAAAAAAAAAAAAAAAAAAAAAAAAAAAAAAAAAAAAAAAAAAAAAAAAAAAAAAAAAAAAAAAAAAAAAAAAAAAAAAAAAAAAAAAAAAAAAAAAAAAAAAAAAAAAAAAAAAAAAAAAAAAAAAAAAAAAAAAAAAAAAAAAAAAAAAAAAAAAAAAAAAAAAAAAAAAAAAAAAAAAAAAAAAAAAAAAAAAAAAAAAAAAAAAAAAAAAAAAAAAAAAAAAAAAAAAAAAAAAAAAAAAAAAAAAAAAAAAAAAAAAAAAAAAAAAAAAAAAAAAAAAAAAAAAAAAAAAAAAAAAAA",
          "dtype": "f8"
         },
         "yaxis": "y5"
        },
        {
         "hovertemplate": "Distance: %{x:.1f}m<br>Steering: %{y:.3f}<extra></extra>",
         "line": {
          "color": "#8A2BE2",
          "width": 3
         },
         "mode": "lines",
         "name": "Steering",
         "type": "scatter",
         "x": {
          "bdata": "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",
          "dtype": "f8"
         },
         "xaxis": "x6",
         "y": {
          "bdata": "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",
          "dtype": "f8"
         },
         "yaxis": "y6"
        }
       ],
       "layout": {
        "annotations": [
         {
          "font": {
           "size": 16
          },
          "showarrow": false,
          "text": "Gear vs Distance",
          "x": 0.13999999999999999,
          "xanchor": "center",
          "xref": "paper",
          "y": 1,
          "yanchor": "bottom",
          "yref": "paper"
         },
         {
          "font": {
           "size": 16
          },
          "showarrow": false,
          "text": "Speed vs Distance",
          "x": 0.49999999999999994,
          "xanchor": "center",
          "xref": "paper",
          "y": 1,
          "yanchor": "bottom",
          "yref": "paper"
         },
         {
          "font": {
           "size": 16
          },
          "showarrow": false,
          "text": "RPM vs Distance",
          "x": 0.86,
          "xanchor": "center",
          "xref": "paper",
          "y": 1,
          "yanchor": "bottom",
          "yref": "paper"
         },
         {
          "font": {
           "size": 16
          },
          "showarrow": false,
          "text": "Throttle vs Distance",
          "x": 0.13999999999999999,
          "xanchor": "center",
          "xref": "paper",
          "y": 0.425,
          "yanchor": "bottom",
          "yref": "paper"
         },
         {
          "font": {
           "size": 16
          },
          "showarrow": false,
          "text": "Brake vs Distance",
          "x": 0.49999999999999994,
          "xanchor": "center",
          "xref": "paper",
          "y": 0.425,
          "yanchor": "bottom",
          "yref": "paper"
         },
         {
          "font": {
           "size": 16
          },
          "showarrow": false,
          "text": "Steering vs Distance",
          "x": 0.86,
          "xanchor": "center",
          "xref": "paper",
          "y": 0.425,
          "yanchor": "bottom",
          "yref": "paper"
         }
        ],
        "height": 600,
        "paper_bgcolor": "white",
        "plot_bgcolor": "white",
        "showlegend": false,
        "template": {
         "data": {
          "bar": [
           {
            "error_x": {
             "color": "#2a3f5f"
            },
            "error_y": {
             "color": "#2a3f5f"
            },
            "marker": {
             "line": {
              "color": "#E5ECF6",
              "width": 0.5
             },
             "pattern": {
              "fillmode": "overlay",
              "size": 10,
              "solidity": 0.2
             }
            },
            "type": "bar"
           }
          ],
          "barpolar": [
           {
            "marker": {
             "line": {
              "color": "#E5ECF6",
              "width": 0.5
             },
             "pattern": {
              "fillmode": "overlay",
              "size": 10,
              "solidity": 0.2
             }
            },
            "type": "barpolar"
           }
          ],
          "carpet": [
           {
            "aaxis": {
             "endlinecolor": "#2a3f5f",
             "gridcolor": "white",
             "linecolor": "white",
             "minorgridcolor": "white",
             "startlinecolor": "#2a3f5f"
            },
            "baxis": {
             "endlinecolor": "#2a3f5f",
             "gridcolor": "white",
             "linecolor": "white",
             "minorgridcolor": "white",
             "startlinecolor": "#2a3f5f"
            },
            "type": "carpet"
           }
          ],
          "choropleth": [
           {
            "colorbar": {
             "outlinewidth": 0,
             "ticks": ""
            },
            "type": "choropleth"
           }
          ],
          "contour": [
           {
            "colorbar": {
             "outlinewidth": 0,
             "ticks": ""
            },
            "colorscale": [
             [
              0,
              "#0d0887"
             ],
             [
              0.1111111111111111,
              "#46039f"
             ],
             [
              0.2222222222222222,
              "#7201a8"
             ],
             [
              0.3333333333333333,
              "#9c179e"
             ],
             [
              0.4444444444444444,
              "#bd3786"
             ],
             [
              0.5555555555555556,
              "#d8576b"
             ],
             [
              0.6666666666666666,
              "#ed7953"
             ],
             [
              0.7777777777777778,
              "#fb9f3a"
             ],
             [
              0.8888888888888888,
              "#fdca26"
             ],
             [
              1,
              "#f0f921"
             ]
            ],
            "type": "contour"
           }
          ],
          "contourcarpet": [
           {
            "colorbar": {
             "outlinewidth": 0,
             "ticks": ""
            },
            "type": "contourcarpet"
           }
          ],
          "heatmap": [
           {
            "colorbar": {
             "outlinewidth": 0,
             "ticks": ""
            },
            "colorscale": [
             [
              0,
              "#0d0887"
             ],
             [
              0.1111111111111111,
              "#46039f"
             ],
             [
              0.2222222222222222,
              "#7201a8"
             ],
             [
              0.3333333333333333,
              "#9c179e"
             ],
             [
              0.4444444444444444,
              "#bd3786"
             ],
             [
              0.5555555555555556,
              "#d8576b"
             ],
             [
              0.6666666666666666,
              "#ed7953"
             ],
             [
              0.7777777777777778,
              "#fb9f3a"
             ],
             [
              0.8888888888888888,
              "#fdca26"
             ],
             [
              1,
              "#f0f921"
             ]
            ],
            "type": "heatmap"
           }
          ],
          "histogram": [
           {
            "marker": {
             "pattern": {
              "fillmode": "overlay",
              "size": 10,
              "solidity": 0.2
             }
            },
            "type": "histogram"
           }
          ],
          "histogram2d": [
           {
            "colorbar": {
             "outlinewidth": 0,
             "ticks": ""
            },
            "colorscale": [
             [
              0,
              "#0d0887"
             ],
             [
              0.1111111111111111,
              "#46039f"
             ],
             [
              0.2222222222222222,
              "#7201a8"
             ],
             [
              0.3333333333333333,
              "#9c179e"
             ],
             [
              0.4444444444444444,
              "#bd3786"
             ],
             [
              0.5555555555555556,
              "#d8576b"
             ],
             [
              0.6666666666666666,
              "#ed7953"
             ],
             [
              0.7777777777777778,
              "#fb9f3a"
             ],
             [
              0.8888888888888888,
              "#fdca26"
             ],
             [
              1,
              "#f0f921"
             ]
            ],
            "type": "histogram2d"
           }
          ],
          "histogram2dcontour": [
           {
            "colorbar": {
             "outlinewidth": 0,
             "ticks": ""
            },
            "colorscale": [
             [
              0,
              "#0d0887"
             ],
             [
              0.1111111111111111,
              "#46039f"
             ],
             [
              0.2222222222222222,
              "#7201a8"
             ],
             [
              0.3333333333333333,
              "#9c179e"
             ],
             [
              0.4444444444444444,
              "#bd3786"
             ],
             [
              0.5555555555555556,
              "#d8576b"
             ],
             [
              0.6666666666666666,
              "#ed7953"
             ],
             [
              0.7777777777777778,
              "#fb9f3a"
             ],
             [
              0.8888888888888888,
              "#fdca26"
             ],
             [
              1,
              "#f0f921"
             ]
            ],
            "type": "histogram2dcontour"
           }
          ],
          "mesh3d": [
           {
            "colorbar": {
             "outlinewidth": 0,
             "ticks": ""
            },
            "type": "mesh3d"
           }
          ],
          "parcoords": [
           {
            "line": {
             "colorbar": {
              "outlinewidth": 0,
              "ticks": ""
             }
            },
            "type": "parcoords"
           }
          ],
          "pie": [
           {
            "automargin": true,
            "type": "pie"
           }
          ],
          "scatter": [
           {
            "fillpattern": {
             "fillmode": "overlay",
             "size": 10,
             "solidity": 0.2
            },
            "type": "scatter"
           }
          ],
          "scatter3d": [
           {
            "line": {
             "colorbar": {
              "outlinewidth": 0,
              "ticks": ""
             }
            },
            "marker": {
             "colorbar": {
              "outlinewidth": 0,
              "ticks": ""
             }
            },
            "type": "scatter3d"
           }
          ],
          "scattercarpet": [
           {
            "marker": {
             "colorbar": {
              "outlinewidth": 0,
              "ticks": ""
             }
            },
            "type": "scattercarpet"
           }
          ],
          "scattergeo": [
           {
            "marker": {
             "colorbar": {
              "outlinewidth": 0,
              "ticks": ""
             }
            },
            "type": "scattergeo"
           }
          ],
          "scattergl": [
           {
            "marker": {
             "colorbar": {
              "outlinewidth": 0,
              "ticks": ""
             }
            },
            "type": "scattergl"
           }
          ],
          "scattermap": [
           {
            "marker": {
             "colorbar": {
              "outlinewidth": 0,
              "ticks": ""
             }
            },
            "type": "scattermap"
           }
          ],
          "scattermapbox": [
           {
            "marker": {
             "colorbar": {
              "outlinewidth": 0,
              "ticks": ""
             }
            },
            "type": "scattermapbox"
           }
          ],
          "scatterpolar": [
           {
            "marker": {
             "colorbar": {
              "outlinewidth": 0,
              "ticks": ""
             }
            },
            "type": "scatterpolar"
           }
          ],
          "scatterpolargl": [
           {
            "marker": {
             "colorbar": {
              "outlinewidth": 0,
              "ticks": ""
             }
            },
            "type": "scatterpolargl"
           }
          ],
          "scatterternary": [
           {
            "marker": {
             "colorbar": {
              "outlinewidth": 0,
              "ticks": ""
             }
            },
            "type": "scatterternary"
           }
          ],
          "surface": [
           {
            "colorbar": {
             "outlinewidth": 0,
             "ticks": ""
            },
            "colorscale": [
             [
              0,
              "#0d0887"
             ],
             [
              0.1111111111111111,
              "#46039f"
             ],
             [
              0.2222222222222222,
              "#7201a8"
             ],
             [
              0.3333333333333333,
              "#9c179e"
             ],
             [
              0.4444444444444444,
              "#bd3786"
             ],
             [
              0.5555555555555556,
              "#d8576b"
             ],
             [
              0.6666666666666666,
              "#ed7953"
             ],
             [
              0.7777777777777778,
              "#fb9f3a"
             ],
             [
              0.8888888888888888,
              "#fdca26"
             ],
             [
              1,
              "#f0f921"
             ]
            ],
            "type": "surface"
           }
          ],
          "table": [
           {
            "cells": {
             "fill": {
              "color": "#EBF0F8"
             },
             "line": {
              "color": "white"
             }
            },
            "header": {
             "fill": {
              "color": "#C8D4E3"
             },
             "line": {
              "color": "white"
             }
            },
            "type": "table"
           }
          ]
         },
         "layout": {
          "annotationdefaults": {
           "arrowcolor": "#2a3f5f",
           "arrowhead": 0,
           "arrowwidth": 1
          },
          "autotypenumbers": "strict",
          "coloraxis": {
           "colorbar": {
            "outlinewidth": 0,
            "ticks": ""
           }
          },
          "colorscale": {
           "diverging": [
            [
             0,
             "#8e0152"
            ],
            [
             0.1,
             "#c51b7d"
            ],
            [
             0.2,
             "#de77ae"
            ],
            [
             0.3,
             "#f1b6da"
            ],
            [
             0.4,
             "#fde0ef"
            ],
            [
             0.5,
             "#f7f7f7"
            ],
            [
             0.6,
             "#e6f5d0"
            ],
            [
             0.7,
             "#b8e186"
            ],
            [
             0.8,
             "#7fbc41"
            ],
            [
             0.9,
             "#4d9221"
            ],
            [
             1,
             "#276419"
            ]
           ],
           "sequential": [
            [
             0,
             "#0d0887"
            ],
            [
             0.1111111111111111,
             "#46039f"
            ],
            [
             0.2222222222222222,
             "#7201a8"
            ],
            [
             0.3333333333333333,
             "#9c179e"
            ],
            [
             0.4444444444444444,
             "#bd3786"
            ],
            [
             0.5555555555555556,
             "#d8576b"
            ],
            [
             0.6666666666666666,
             "#ed7953"
            ],
            [
             0.7777777777777778,
             "#fb9f3a"
            ],
            [
             0.8888888888888888,
             "#fdca26"
            ],
            [
             1,
             "#f0f921"
            ]
           ],
           "sequentialminus": [
            [
             0,
             "#0d0887"
            ],
            [
             0.1111111111111111,
             "#46039f"
            ],
            [
             0.2222222222222222,
             "#7201a8"
            ],
            [
             0.3333333333333333,
             "#9c179e"
            ],
            [
             0.4444444444444444,
             "#bd3786"
            ],
            [
             0.5555555555555556,
             "#d8576b"
            ],
            [
             0.6666666666666666,
             "#ed7953"
            ],
            [
             0.7777777777777778,
             "#fb9f3a"
            ],
            [
             0.8888888888888888,
             "#fdca26"
            ],
            [
             1,
             "#f0f921"
            ]
           ]
          },
          "colorway": [
           "#636efa",
           "#EF553B",
           "#00cc96",
           "#ab63fa",
           "#FFA15A",
           "#19d3f3",
           "#FF6692",
           "#B6E880",
           "#FF97FF",
           "#FECB52"
          ],
          "font": {
           "color": "#2a3f5f"
          },
          "geo": {
           "bgcolor": "white",
           "lakecolor": "white",
           "landcolor": "#E5ECF6",
           "showlakes": true,
           "showland": true,
           "subunitcolor": "white"
          },
          "hoverlabel": {
           "align": "left"
          },
          "hovermode": "closest",
          "mapbox": {
           "style": "light"
          },
          "paper_bgcolor": "white",
          "plot_bgcolor": "#E5ECF6",
          "polar": {
           "angularaxis": {
            "gridcolor": "white",
            "linecolor": "white",
            "ticks": ""
           },
           "bgcolor": "#E5ECF6",
           "radialaxis": {
            "gridcolor": "white",
            "linecolor": "white",
            "ticks": ""
           }
          },
          "scene": {
           "xaxis": {
            "backgroundcolor": "#E5ECF6",
            "gridcolor": "white",
            "gridwidth": 2,
            "linecolor": "white",
            "showbackground": true,
            "ticks": "",
            "zerolinecolor": "white"
           },
           "yaxis": {
            "backgroundcolor": "#E5ECF6",
            "gridcolor": "white",
            "gridwidth": 2,
            "linecolor": "white",
            "showbackground": true,
            "ticks": "",
            "zerolinecolor": "white"
           },
           "zaxis": {
            "backgroundcolor": "#E5ECF6",
            "gridcolor": "white",
            "gridwidth": 2,
            "linecolor": "white",
            "showbackground": true,
            "ticks": "",
            "zerolinecolor": "white"
           }
          },
          "shapedefaults": {
           "line": {
            "color": "#2a3f5f"
           }
          },
          "ternary": {
           "aaxis": {
            "gridcolor": "white",
            "linecolor": "white",
            "ticks": ""
           },
           "baxis": {
            "gridcolor": "white",
            "linecolor": "white",
            "ticks": ""
           },
           "bgcolor": "#E5ECF6",
           "caxis": {
            "gridcolor": "white",
            "linecolor": "white",
            "ticks": ""
           }
          },
          "title": {
           "x": 0.05
          },
          "xaxis": {
           "automargin": true,
           "gridcolor": "white",
           "linecolor": "white",
           "ticks": "",
           "title": {
            "standoff": 15
           },
           "zerolinecolor": "white",
           "zerolinewidth": 2
          },
          "yaxis": {
           "automargin": true,
           "gridcolor": "white",
           "linecolor": "white",
           "ticks": "",
           "title": {
            "standoff": 15
           },
           "zerolinecolor": "white",
           "zerolinewidth": 2
          }
         }
        },
        "title": {
         "font": {
          "size": 16
         },
         "text": "Lap 2 - Telemetry Analysis (807 samples)"
        },
        "xaxis": {
         "anchor": "y",
         "domain": [
          0,
          0.27999999999999997
         ],
         "gridcolor": "lightgray",
         "gridwidth": 1,
         "showgrid": true,
         "showticklabels": false
        },
        "xaxis2": {
         "anchor": "y2",
         "domain": [
          0.36,
          0.6399999999999999
         ],
         "gridcolor": "lightgray",
         "gridwidth": 1,
         "showgrid": true,
         "showticklabels": false
        },
        "xaxis3": {
         "anchor": "y3",
         "domain": [
          0.72,
          1
         ],
         "gridcolor": "lightgray",
         "gridwidth": 1,
         "showgrid": true,
         "showticklabels": false
        },
        "xaxis4": {
         "anchor": "y4",
         "domain": [
          0,
          0.27999999999999997
         ],
         "gridcolor": "lightgray",
         "gridwidth": 1,
         "showgrid": true,
         "title": {
          "text": "Distance (m)"
         }
        },
        "xaxis5": {
         "anchor": "y5",
         "domain": [
          0.36,
          0.6399999999999999
         ],
         "gridcolor": "lightgray",
         "gridwidth": 1,
         "showgrid": true,
         "title": {
          "text": "Distance (m)"
         }
        },
        "xaxis6": {
         "anchor": "y6",
         "domain": [
          0.72,
          1
         ],
         "gridcolor": "lightgray",
         "gridwidth": 1,
         "showgrid": true,
         "title": {
          "text": "Distance (m)"
         }
        },
        "yaxis": {
         "anchor": "x",
         "domain": [
          0.575,
          1
         ],
         "gridcolor": "lightgray",
         "gridwidth": 1,
         "showgrid": true,
         "title": {
          "text": "Gear"
         }
        },
        "yaxis2": {
         "anchor": "x2",
         "domain": [
          0.575,
          1
         ],
         "gridcolor": "lightgray",
         "gridwidth": 1,
         "showgrid": true,
         "title": {
          "text": "Speed (km/h)"
         }
        },
        "yaxis3": {
         "anchor": "x3",
         "domain": [
          0.575,
          1
         ],
         "gridcolor": "lightgray",
         "gridwidth": 1,
         "showgrid": true,
         "title": {
          "text": "RPM"
         }
        },
        "yaxis4": {
         "anchor": "x4",
         "domain": [
          0,
          0.425
         ],
         "gridcolor": "lightgray",
         "gridwidth": 1,
         "showgrid": true,
         "title": {
          "text": "Throttle (0-1)"
         }
        },
        "yaxis5": {
         "anchor": "x5",
         "domain": [
          0,
          0.425
         ],
         "gridcolor": "lightgray",
         "gridwidth": 1,
         "showgrid": true,
         "title": {
          "text": "Brake (0-1)"
         }
        },
        "yaxis6": {
         "anchor": "x6",
         "domain": [
          0,
          0.425
         ],
         "gridcolor": "lightgray",
         "gridwidth": 1,
         "showgrid": true,
         "title": {
          "text": "Steering"
         }
        }
       }
      }
     },
     "metadata": {},
     "output_type": "display_data"
    },
    {
     "data": {
      "application/vnd.plotly.v1+json": {
       "config": {
        "plotlyServerURL": "https://plot.ly"
       },
       "data": [
        {
         "hovertemplate": "Distance: %{x:.1f}m<br>Gear: %{y}<extra></extra>",
         "line": {
          "color": "#FF6B35",
          "shape": "hv",
          "width": 3
         },
         "mode": "lines",
         "name": "Gear",
         "type": "scatter",
         "x": {
          "bdata": "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",
          "dtype": "f8"
         },
         "xaxis": "x",
         "y": {
          "bdata": "BwgICAgICAgICAgICAgICAgICAgICAgICAgICAgICAgICAgICAgICAgICAgICAgICAgICAgICAgICAgICAgICAgICAgICAgICAgICAgICAgICAgICAgICAgICAgICAgHBwcHBgYGBgUFBQUEBAQEAwMDAwICAgIBAQEBAQEBAQEBAQEBAQEBAQEBAQEBAQEBAQICAgICAgICAgICAwMDAwMDAwMDAwQEBAQEBAQEBAQFBQUFBQUFBQUFBgYGBgYGBgYGBgYGBgYGBgcHBwcHBwcHBwcHBwcHBwcHBwcHBwcHBwcHBwcHBwcHBwcHBwcHBwcHBwgICAgICAgICAgICAgICAgICAgICAgICAgICAgICAgICAgICAgICAgICAgICAgICAcHBwcGBgYGBQUFBQQEBAQDAwMDAgICAgICAgICAgICAgMDAwMDAwMDAwMEBAQEBAQEBAQEBQUFBQUFBQUFBQAGBgYGBgYGBgYGBgYGBgcHBwcHBwcHBwcHBwcHBgYGBgYGBgYGBgYGBgYGBgYGBgYGBgYGBgYGBgYGBgYGBgYGBgYGBgYGBgYGBgYGBgYGBQUFBQUFBQUFBQUFBQUFBQUFBQUFBQAGBgYGBgYGBgYGBgYGBgAHBwcHBwcHBwcHBwcHBwcHBwcHBwcHBwcHBwcHCAgICAgICAgICAgICAgICAgICAgICAgICAgICAgICAgICAgICAgICAgICAgICAgICAgICAgICAgICAcHBwcGBgYGBQUFBQUFBQUFBQUFBQUFBQUFBQUFBQUFBQUFBQUFBQUFBQYGBgYGBgYGBgYGBgYGBgYGBgcHBwcHBwcHBwcHBwcHBwcHBwcHBwcHBwcHBwcHBwcHBwcICAgICAgICAgICAgICAgICAgICAgICAgICAgICAgICAgICAgICAgICAgICAgICAgICAgICAgICAgICAgICAgICAgHBwcHBwcHAAYGBgYGBgYGBgYGBQUFBQUFBQUFBQUFBQUFBQUFBQUFBQUFBQUFBgYGBgYGBgYGBgYGBgYGBgAHBwcHBwcHBwcHBwcHBwcHBwcHBwcHBwcHBwcHBwcHBwcHBw==",
          "dtype": "i1"
         },
         "yaxis": "y"
        },
        {
         "hovertemplate": "Distance: %{x:.1f}m<br>Speed: %{y:.1f} km/h<extra></extra>",
         "line": {
          "color": "#004E89",
          "width": 3
         },
         "mode": "lines",
         "name": "Speed",
         "type": "scatter",
         "x": {
          "bdata": "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",
          "dtype": "f8"
         },
         "xaxis": "x2",
         "y": {
          "bdata": "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",
          "dtype": "f8"
         },
         "yaxis": "y2"
        },
        {
         "hovertemplate": "Distance: %{x:.1f}m<br>RPM: %{y:.0f}<extra></extra>",
         "line": {
          "color": "#FF9F1C",
          "width": 3
         },
         "mode": "lines",
         "name": "RPM",
         "type": "scatter",
         "x": {
          "bdata": "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",
          "dtype": "f8"
         },
         "xaxis": "x3",
         "y": {
          "bdata": "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",
          "dtype": "i2"
         },
         "yaxis": "y3"
        },
        {
         "hovertemplate": "Distance: %{x:.1f}m<br>Throttle: %{y:.3f}<extra></extra>",
         "line": {
          "color": "#2E8B57",
          "width": 3
         },
         "mode": "lines",
         "name": "Throttle",
         "type": "scatter",
         "x": {
          "bdata": "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",
          "dtype": "f8"
         },
         "xaxis": "x4",
         "y": {
          "bdata": "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",
          "dtype": "f8"
         },
         "yaxis": "y4"
        },
        {
         "hovertemplate": "Distance: %{x:.1f}m<br>Brake: %{y:.3f}<extra></extra>",
         "line": {
          "color": "#DC143C",
          "width": 3
         },
         "mode": "lines",
         "name": "Brake",
         "type": "scatter",
         "x": {
          "bdata": "46WbxOie3EC0yHa+B6HcQHsUrkc5o9xA+n5qvFSl3EDy0k1icKfcQJqZmZmpqdxA8tJNYtCr3EDD9Shc763cQNEi2/kWsNxAoBov3TSy3ECDwMqhbbTcQJHtfD+NttxAvHSTGLS43EDy0k1i8LrcQHWTGAQmvdxArkfhelS/3EAGgZVDe8HcQGDl0CKrw9xAbxKDwNLF3ECuR+F6FMjcQOkmMQg8ytxAVOOlm3zM3EC8dJMYrM7cQGZmZmbW0NxAFK5H4QLT3EBSuB6FS9XcQKAaL91819xArkfheqzZ3ED0/dR4+dvcQFTjpZs03txAi2zn+3Hg3ECDwMqhpeLcQOxRuB7t5NxAfT81XjLn3EAIrBxaXOncQEa28/2s69xAppvEIODt3ED4U+OlI/DcQFTjpZt88txAmpmZman03EDD9Shc9/bcQIlBYOVI+dxAPzVeuoH73ECgGi/dzP3cQD81XroJAN1A16NwPVoC3UD0/dR4sQTdQK5H4XrsBt1AKVyPwkUJ3UD0/dR4gQvdQClcj8LdDd1ArkfhehwQ3UB9PzVeehLdQIlBYOXAFN1AtMh2vg8X3UCJQWDlaBndQIlBYOW4G91AVOOlmwQe3UDpJjEIPCDdQBsv3SSeIt1AtMh2vu8k3UBEi2znOyfdQM/3U+OdKd1ArBxaZOMr3UBU46WbTC7dQBSuR+GaMN1A+FPjpfMy3UA9CtejQDXdQGIQWDmMN91ABoGVQ/M53UDdJAaBRTzdQClcj8KNPt1AI9v5fvJA3UBoke18V0PdQAisHFqcRd1A7FG4HgVI3UAv3SQGSUrdQFTjpZusTN1ABoGVQxNP3UAOLbKdd1HdQJHtfD/FU91AL90kBhFW3UCsHFpke1jdQKAaL93UWt1ACKwcWjRd3UCuR+F6hF/dQAAAAADoYd1A46WbxFhk3UDJdr6fmmbdQK5H4XrkaN1ARrbz/Rxr3UDpJjEIHG3dQAAAAAAgb91ARrbz/Qxx3UCR7Xw/zXLdQAAAAACQdN1A3SQGgT123UAAAAAAwHfdQPT91HhBed1AL90kBrF63UA9Ctej+HvdQDeJQWA9fd1AWmQ7319+3UArhxbZdn/dQFpkO9+HgN1AwcqhRW6B3UDdJAaBVYLdQJhuEoMog91AUrgeheuD3UAAAAAAoITdQA4tsp1Hhd1AexSuR+GF3UC8dJMYhIbdQN0kBoEdh91AUrgehbOH3UAAAAAAUIjdQJHtfD/liN1AK4cW2X6J3UArhxbZDordQH0/NV6iit1AN4lBYDWL3UB3vp8az4vdQCPb+X5qjN1AtMh2vg+N3UBGtvP9vI3dQM/3U+Nljt1APQrXowCP3UDByqFFno/dQH0/NV46kN1Anu+nxsuQ3UDXo3A9YpHdQPLSTWL4kd1AtMh2vo+S3UAxCKwcIpPdQGIQWDm8k91A8tJNYliU3UC8dJMY9JTdQPT91HiRld1AexSuRzGW3UAUrkfhypbdQPLSTWJol91Ake18PwWY3UCYbhKDmJjdQNEi2/kumd1AdZMYBMaZ3UCDwMqhXZrdQAAAAAAAm91AUrgehaOb3UDRItv5RpzdQE5iEFjxnN1AL90kBqmd3UBMN4lBYJ7dQPT91Hghn91Anu+nxuuf3UDJdr6fwqDdQAaBlUOjod1ARIts54ui3UD4U+Ole6PdQFTjpZt0pN1AN4lBYHWl3UBg5dAic6bdQOOlm8SQp91AyXa+n6qo3UAMAiuHxqndQKabxCD4qt1AUrgehSOs3UDVeOkmWa3dQAAAAACQrt1ADi2ynd+v3UB3vp8aJ7HdQDeJQWB1st1APQrXo8iz3UCgGi/dHLXdQBSuR+GCtt1AaJHtfO+33UCamZmZYbndQNV46SbRut1AYhBYOUy83UAv3SQGsb3dQLx0kxg0v91AoBov3bzA3UAbL90kRsLdQM/3U+Pdw91A7FG4Hn3F3UBSuB6FC8fdQGDl0CKbyN1AF9nO90PK3UAbL90k/svdQAAAAACYzd1AukkMAlPP3UBOYhBYEdHdQNejcD260t1AKVyPwmXU3UCLbOf7MdbdQDeJQWDl191A5dAi27nZ3UBoke18d9vdQAAAAABY3d1AtMh2vh/f3UBmZmZm7uDdQHWTGAS+4t1ABoGVQ5vk3UA3iUFgbebdQMP1KFxH6N1AN4lBYCXq3UCsHFpkC+zdQKwcWmTr7d1AmG4Sg9jv3UAdWmQ7v/HdQD0K16Oo891ADi2ynZf13UDy0k1igPfdQOxRuB51+d1ABoGVQ3P73UB1kxgEfv3dQG8Sg8By/91AGy/dJG4B3kDjpZvEaAPeQESLbOdLBd5Anu+nxmMH3kAdWmQ7TwneQK5H4XpcC95AFK5H4WoN3kC8dJMYZA/eQPhT46VjEd5AFK5H4WIT3kD0/dR4aRXeQEa28/2MF95AUrgehYsZ3kBSuB6FmxveQCPb+X6iHd5A9P3UeLkf3kDpJjEIzCHeQA4tsp3nI95AUrgehfsl3kB7FK5HESjeQPT91HgpKt5ADi2ynVcs3kCuR+F6ZC7eQBsv3SSGMN5ABoGVQ6sy3kDdJAaBtTTeQE5iEFjZNt5Ad76fGv843kDVeOkmKTveQPLSTWJAPd5ArBxaZGs/3kAIrBxanEHeQJHtfD+9Q95AMQisHOJF3kCDwMqhBUjeQOxRuB4tSt5ACKwcWlRM3kC8dJMYfE7eQHsUrkehUN5AFK5H4cpS3kB7FK5H8VTeQAisHFokV95AL90kBlFZ3kDJdr6filveQLKd76e2Xd5A+n5qvMxf3kDRItv5/mHeQLx0kxg0ZN5AYhBYOWRm3kCmm8QgmGjeQOxRuB69at5AYhBYOexs3kCgGi/dJG/eQCuHFtlecd5A46WbxJhz3kB1kxgEznXeQJqZmZn5d95APQrXozh63kBvEoPAYnzeQHWTGASWft5AK4cW2d6A3kAj2/l+EoPeQK5H4XpUhd5AexSuR4GH3kCF61G4voneQGDl0CIDjN5AF9nO9zOO3kCamZmZeZDeQOxRuB6tkt5A7FG4HuWU3kA9CtejMJfeQJhuEoNQmd5AL90kBnGb3kBg5dAiY53eQAisHFpUn95A0SLb+S6h3kBvEoPA8qLeQFpkO9+PpN5A3SQGgS2m3kDjpZvEoKfeQH0/NV4Sqd5A0SLb+W6q3kCYbhKDqKveQLpJDALbrN5AAAAAAPit3kBg5dAi+67eQE5iEFj5r95A16NwPdqw3kAOLbKdt7HeQIXrUbh+st5AGy/dJE6z3kBU46WbDLTeQJHtfD/NtN5AFK5H4ZK13kBaZDvfV7beQOOlm8Qgt95ACKwcWty33kCDwMqhpbjeQBSuR+Fyud5AoBov3Ty63kDjpZvEGLveQIXrUbj2u95Ag8DKod283kCuR+F6vL3eQLKd76eOvt5AYhBYOWS/3kCyne+nRsDeQFTjpZskwd5A+FPjpRPC3kBoke18/8LeQE5iEFjpw95AaJHtfN/E3kDl0CLb4cXeQD81Xrrhxt5AN4lBYO3H3kBiEFg5/MjeQHsUrkchyt5AL90kBkHL3kCLbOf7cczeQKabxCCYzd5APzVeutHO3kCJQWDlENDeQHsUrkdZ0d5AmpmZmaHS3kBg5dAiA9TeQMHKoUVW1d5AiUFg5bDW3kCamZmZGdjeQIPAyqGN2d5AfT81XvLa3kDRItv5ZtzeQIts5/vx3d5ADi2ynW/f3kB3vp8a7+DeQKabxCCA4t5AUrgehRPk3kAOLbKdl+XeQGiR7Xw3595AWmQ739fo3kDD9Shcf+reQC/dJAYp7N5AoBov3dTt3kA/NV66ge/eQM/3U+Ml8d5AN4lBYN3y3kA3iUFgnfTeQGZmZmZe9t5A46WbxBj43kDJdr6f4vneQH0/NV6y+95Az/dT44X93kDy0k1iSP/eQKAaL90kAd9AmpmZmQED30D6fmq8zATfQM/3U+OtBt9AmpmZmXkI30B7FK5HMQrfQHWTGATmC99AyXa+n5IN30C6SQwCOw/fQN0kBoHdEN9AAAAAAIAS30ApXI/CJRTfQAAAAAC4Fd9A8tJNYkgX30Ce76fG0xjfQOxRuB5VGt9ATDeJQeAb30AxCKwcYh3fQN0kBoHVHt9AYhBYOUQg30Dl0CLbsSHfQAisHFoUI99A8tJNYngk30Cmm8Qg0CXfQIXrUbg2J99A16NwPZIo30BSuB6F6ynfQE5iEFhJK99AYhBYOaQs30AAAAAACC7fQBsv3SRuL99AI9v5ftIw30CYbhKDUDLfQB1aZDvHM99AoBov3Tw130AOLbKdrzbfQEa28/08ON9A0SLb+bY530ArhxbZRjvfQKwcWmTbPN9AVOOlm2Q+30Cmm8Qg8D/fQClcj8KVQd9Aw/UoXCdD30AOLbKdz0TfQJqZmZlpRt9AdZMYBB5I30CF61G4vknfQAisHFp8S99A8tJNYihN30D0/dR42U7fQEa28/2cUN9AukkMAmNS30BMN4lBGFTfQBfZzvfjVd9ABoGVQ7NX30BU46WbhFnfQPLSTWJYW99Ad76fGgdd30DP91PjtV7fQB1aZDtPYN9AWmQ7389h30CF61G4LmPfQIts5/uZZN9ATmIQWPll30CYbhKDUGffQJqZmZmpaN9AiUFg5fhp30Ce76fGU2vfQMl2vp+abN9Ag8DKoeVt30B3vp8aP2/fQGIQWDmMcN9AYOXQIutx30DP91PjPXPfQGiR7XyndN9AbxKDwAJ230BiEFg5ZHffQK5H4XrUeN9AexSuR0l630Ce76fGs3vfQGiR7Xw3fd9ARIts57t+30CR7Xw/NYDfQD0K16PAgd9AoBov3VSD30A3iUFg1YTfQJHtfD91ht9A5dAi2xGI30CDwMqhtYnfQHWTGARei99AvHSTGPSM30DXo3A9oo7fQAisHFpUkN9AAAAAABCS30DP91PjzZPfQGDl0CKLld9AhetRuD6X30D4U+OlA5nfQDEIrBzKmt9A3SQGgZ2c30C8dJMYXJ7fQN0kBoE9oN9ARIts5wOi30BvEoPA2qPfQE5iEFjBpd9ARrbz/ZSn30Bg5dAig6nfQD0K16NYq99Arkfhekyt30CLbOf7Ka/fQJqZmZkhsd9AUrgehQuz30AAAAAA+LTfQJHtfD/ltt9A0SLb+da430CamZmZybrfQEa28/3EvN9Ake18P9W+30CamZmZ2cDfQAwCK4fWwt9Az/dT48XE30DRItv5zsbfQPT91HjZyN9Ag8DKoeXK30AIrBxa9MzfQPLSTWIAz99ARrbz/QzR30AAAAAAKNPfQLKd76c21d9AmG4Sg1DX30DsUbgeZdnfQOOlm8SQ299ABoGVQ6vd30Av3SQGyd/fQEw3iUHY4d9AukkMAhPk30BaZDvfL+bfQCPb+X5C6N9Ake18P3Xq30AGgZVDm+zfQDeJQWCt7t9ArBxaZOPw30Bg5dAiG/PfQM/3U+M19d9AtMh2vl/330DByqFFlvnfQHWTGAS2+99AL90kBgH+30DXo3A9FgDgQG8Sg8AqAeBAke18P1EC4EAGgZVDZwPgQNejcD2CBOBAw/UoXJsF4EDy0k1itAbgQPLSTWLUB+BADi2ynfcI4EAOLbKdGwrgQCPb+X4uC+BAFK5H4U4M4EDy0k1idA3gQGiR7XyHDuBAppvEILAP4EDD9Shc1xDgQGDl0CL/EeBAMQisHCIT4EAGgZVDPxTgQEa28/1cFeBADi2ynY8W4EB9PzVethfgQN0kBoHdGOBAFK5H4eIZ4EC6SQwCHxvgQD0K16M8HOBAmG4Sg3Qd4EAj2/l+zh7gQD0K16OEIOBAoBov3Vgj4EDsUbgeNSbgQOxRuB41JuBABoGVQ+Mo4ECYbhKD4CngQIPAyqFJK+BARrbz/XAs4EApXI/CmS3gQAAAAAC8LuBAPQrXo9Av4EAxCKwc2jDgQPLSTWLQMeBAaJHtfM8y4ECR7Xw/uTPgQLTIdr6LNOBAYOXQImM14EC6SQwCLzbgQN0kBoHtNuBAN4lBYJ034ECgGi/dQDjgQOxRuB7dOOBAg8DKoXk54EAxCKwcEjrgQEw3iUGgOuBAtMh2vjM74EA3iUFgxTvgQM/3U+NdPOBAYOXQIvc84EA9CtejiD3gQA4tsp0jPuBADi2yncM+4EBg5dAiYz/gQHWTGAQGQOBAPQrXo6hA4EBMN4lBVEHgQGiR7XwDQuBAw/UoXKtC4ECR7Xw/WUPgQA4tsp0XROBAaJHtfMtE4ED6fmq8hEXgQAaBlUM7RuBAdZMYBO5G4ECYbhKDsEfgQCPb+X5qSOBAoBov3ShJ4EDP91Pj5UngQD0K16OsSuBAN4lBYG1L4ECYbhKDOEzgQPLSTWL4TOBAukkMAsdN4EDXo3A9lk7gQEw3iUFgT+BAukkMAi9Q4EB9PzVeClHgQFpkO9/bUeBAppvEIKxS4EC6SQwCf1PgQJHtfD9dVOBAI9v5fjJV4EBvEoPADlbgQN0kBoHpVuBAfT81XsZX4EBoke18o1jgQEa28/2AWeBAKVyPwmFa4EDP91PjUVvgQKabxCAwXOBA+n5qvBhd4ECR7Xw/AV7gQJhuEoPwXuBAI9v5ftpf4EBMN4lByGDgQBSuR+G6YeBAfT81XqZi4ECDwMqhkWPgQAaBlUOLZOBAmG4Sg3hl4EB9PzVecmbgQJHtfD9pZ+BA3SQGgWFo4ECLbOf7WWngQJHtfD9VauBAFK5H4U5r4EDy0k1iUGzgQN0kBoFNbeBAz/dT401u4EC6SQwCR2/gQBSuR+FScOBAtMh2vktx4EBvEoPAVnLgQMl2vp9Sc+BAppvEIFB04EDXo3A9YnXgQClcj8JlduBAaJHtfGd34ECgGi/deHjgQKAaL92IeeBAPQrXo5B64EDy0k1imHvgQAaBlUOjfOBARrbz/bB94EC0yHa+v37gQKAaL93Mf+BADi2ynduA4EAGgZVD64HgQM/3U+MFg+BABoGVQw+E4ECR7Xw/IYXgQDEIrBwyhuBAYOXQIkOH4EC6SQwCV4jgQAaBlUNnieBAI9v5fnqK4EDP91PjkYvgQHWTGASujOBAoBov3ciN4ECR7Xw/2Y7gQJHtfD/pj+BAz/dT4wmR4EC6SQwCG5LgQEa28/0wk+BAKVyPwk2U4EBoke18X5XgQDeJQWCBluBADi2ynZeX4EApXI/CrZjgQPLSTWLMmeBAAAAAAOia4ECYbhKDAJzgQCPb+X4aneBAaJHtfDee4EBGtvP9VJ/gQM/3U+NxoOBADi2ynZOh4EBaZDvfo6LgQBSuR+HGo+BAtMh2vuek4EBaZDvf/6XgQGDl0CIjp+BAaJHtfEOo4EBg5dAiZ6ngQLpJDAJ7quBA+n5qvKCr4EDXo3A9xqzgQH0/NV7areBAz/dT4/2u4EDJdr6fJrDgQGDl0CJLseBAKVyPwmGy4EAj2/l+irPgQPp+aryktOBAz/dT48G14EDXo3A97rbgQGiR7XwLuOBA+n5qvCi54EDJdr6fUrrgQPp+arxsu+BAbxKDwJa84EBvEoPAwr3gQKabxCDkvuBAoBov3QDA4ECgGi/dNMHgQMl2vp9SwuBARrbz/XDD4EAUrkfhksTgQM/3U+O9xeBAKVyPwuHG4EA3iUFg7cfgQJHtfD/9yOBATDeJQfTJ4EAj2/l+3srgQNejcD3Oy+BAfT81XqbM4EApXI/Cdc3gQEw3iUFQzuBA+n5qvBDP4ECDwMqh2c/gQOxRuB6d0OBA8tJNYmDR4EBvEoPAHtLgQMl2vp/e0uBAdZMYBJ7T4ED6fmq8XNTgQMl2vp8O1eBAppvEIMzV4EDy0k1ifNbgQMl2vp8y1+BAtMh2vu/X4EBaZDvfm9jgQMP1KFxL2eBAg8DKofHZ4EDP91PjndrgQD0K16NA2+BAaJHtfOfb4ECDwMqhhdzgQNejcD0q3eBAI9v5fsrd4EAj2/l+ct7gQLTIdr4b3+BAAAAAAMjf4EBGtvP9cODgQPLSTWIk4eBA7FG4Htnh4EDdJAaBjeLgQDEIrBxC4+BAmG4Sg/jj4EBoke18r+TgQJHtfD9x5eBATDeJQSzm4EAAAAAA8ObgQHWTGAS25+BAtMh2vnvo4ECDwMqhQengQDeJQWAN6uBAI9v5ftbq4EAOLbKdo+vgQMl2vp9y7OBABoGVQ0Pt4EC6SQwCF+7gQMl2vp/q7uBA7FG4HsHv4ECYbhKDmPDgQNejcD1y8eBAKVyPwk3y4ECDwMqhLfPgQMP1KFwL9OBAtMh2vuv04EAxCKwczvXgQLTIdr6z9uBA7FG4Hp334EDD9Shcg/jgQJhuEoNo+eBAI9v5flr64EDD9ShcQ/vgQEa28/0w/OBAMQisHBr94ECmm8QgEP7gQMl2vp8C/+BAfT81Xvb/4EC0yHa+5wDhQIts5/vhAeFAWmQ738sC4UAGgZVDxwPhQFpkO9/DBOFAFK5H4b4F4UDXo3A9tgbhQG8Sg8CuB+FAw/UoXLMI4UAAAAAAtAnhQLpJDAKrCuFAbxKDwKoL4UA9CtejrAzhQIPAyqGtDeFAKVyPwrUO4UDsUbgevQ/hQFpkO9/DEOFAYOXQIscR4UDy0k1izBLhQLTIdr7XE+FAPQrXo+AU4UApXI/C4RXhQNejcD3yFuFA8tJNYgAY4UDJdr6fChnhQJhuEoMYGuFAfT81XiIb4UA9CtejLBzhQClcj8I9HeFAdZMYBFYe4UA=",
          "dtype": "f8"
         },
         "xaxis": "x5",
         "y": {
          "bdata": "AAAAAAAAAAAAAAAAAAAAAAAAAAAAAAAAAAAAAAAAAAAAAAAAAAAAAAAAAAAAAAAAAAAAAAAAAAAAAAAAAAAAAAAAAAAAAAAAAAAAAAAAAAAAAAAAAAAAAAAAAAAAAAAAAAAAAAAAAAAAAAAAAAAAAAAAAAAAAAAAAAAAAAAAAAAAAAAAAAAAAAAAAAAAAAAAAAAAAAAAAAAAAAAAAAAAAAAAAAAAAAAAAAAAAAAAAAAAAAAAAAAAAAAAAAAAAAAAAAAAAAAAAAAAAAAAAAAAAAAAAAAAAAAAAAAAAAAAAAAAAAAAAAAAAAAAAAAAAAAAAAAAAAAAAAAAAAAAAAAAAAAAAAAAAAAAAAAAAAAAAAAAAAAAAAAAAAAAAAAAAAAAAAAAAAAAAAAAAAAAAAAAAAAAAAAAAAAAAAAAAAAAAAAAAAAAAAAAAAAAAAAAAAAAAAAAAAAAAAAAAAAAAAAAAAAAAAAAAAAAAAAAAAAAAAAAAAAAAAAAAAAAAAAAAAAAAAAAAAAAAAAAAAAAAAAAAAAAAAAAAAAAAAAAAAAAAAAAAAAAAAAAAAAAAAAAAAAAAAAAAAAAAAAAAAAAAAAAAAAAAAAAAAAAAAAAAAAAAAAAAAAAAAAAAAAAAAAAAAAAAAAAAAAAAAAAAAAAAAAAAAAAAAAAAAAAAAAAAAAAAAAAAAAAAAAAAAAAAAAAAAAAAAAAAAAAAAAAAAAAAAAAAAAAAAAAAAAAAAAAAAAAAAAAAAAAAAAAAAAAAAAAAAAAAAAAAAAAAAAAAAAAAAAAAAAAAAAAAAAAAAAAAAAAAAAAAAAAAAAAAAAAAAAAAAAAAAAAAAAAAAAAAAAAAAAAAAAAAAAAAAAAAAAAAAAAAAAAAAAAAAAAAAAAAAAAAAAAAAAAAAAAAAAAAAAAAAAAAAAAAAAAAAAAAAAAAAAAAACuR+F6FK7vP65H4XoUru8/rkfhehSu7z+uR+F6FK7vP65H4XoUru8/rkfhehSu7z+uR+F6FK7vP65H4XoUru8/rkfhehSu7z+uR+F6FK7vP65H4XoUru8/CtejcD0K7z9cj8L1KFzvP65H4XoUru8/KVyPwvUo7D9SuB6F61HoPz0K16NwPeo/9ihcj8L16D/2KFyPwvXoP6RwPQrXo+g/mpmZmZmZ6T8fhetRuB7lP6RwPQrXo9A/AAAAAAAAAAAAAAAAAAAAAAAAAAAAAAAAAAAAAAAAAAAAAAAAAAAAAAAAAAAAAAAAAAAAAAAAAAAAAAAAAAAAAAAAAAAAAAAAAAAAAAAAAAAAAAAAAAAAAAAAAAAAAAAAAAAAAAAAAAB7FK5H4XrkP3E9CtejcN0/mpmZmZmZuT8AAAAAAAAAAAAAAAAAAAAAAAAAAAAAAAAAAAAAAAAAAAAAAAAAAAAAAAAAAAAAAAAAAAAAAAAAAAAAAAAAAAAAAAAAAAAAAAAAAAAAAAAAAAAAAAAAAAAAAAAAAAAAAAAAAAAAAAAAAAAAAAAAAAAAAAAAAAAAAAAAAAAAAAAAAAAAAAAAAAAAAAAAAAAAAAAAAAAAAAAAAAAAAAAAAAAAAAAAAAAAAAAAAAAAAAAAAAAAAAAAAAAAAAAAAAAAAAAAAAAAAAAAAAAAAAAAAAAAAAAAAAAAAAAAAAAAAAAAAAAAAAAAAAAAAAAAAAAAAAAAAAAAAAAAAAAAAAAAAAAAAAAAAAAAAAAAAAAAAAAAAAAAAAAAAAAAAAAAAAAAAAAAAAAAAAAAAAAAAAAAAAAAAAAAAAAAAAAAAAAAAAAAAAAAAAAAAAAAAAAAAAAAAAAAAAAAAAAAAAAAAAAAAAAAAAAAAAAAAAAAAAAAAAAAAAAAAAAAAAAAAAAAAAAAAAAAAAAAAAAAAAAAAAAAAAAAAAAAAAAAAAAAAAAAAAAAAAAAAAAAAAAAAAAAAAAAAAAAAAAAAAAAAAAAAAAAAAAAAAAAAAAAAAAAAAAAAAAAAAAAAAAAAAAAAAAAAAAAAAAAAAAAAAAAAAAAAAAAAAAAAAAAAAAAAAAAAAAAAAAAAAAAAAAAAAAAAAAAAAAAAAAAAAAAAAAAAAAAAAAAAAAAAAAAAAAAAAAAAAAAAAAAAAAAAAAAAAAAAAAAAAAAAAAAAAAAAAAAAAAAAAAAAAAAAAAAAAAAAAAAAAAAAAAAAAAAAAAAAAAAAAAAAAAAAAAAAAAAAAAAAAAAAAAAAAAAAAAAAAAAAAAAAAAAAAAAAAAAAAAAAAAAAAAAAAAAAAAAAAAAAAAAAAAAAAAAAAAAAAAAAAAAAAAAAAAAAAAAAAAAAAAAAAAAAAAAAAAAAAAAAAAAAAAAAAAAAAAAAAAAAAAAAAAAAAAAAAAAAAAAAAAAAAAAAAAAAAAAAAAAAAAAAAAAAAAAAAAAAAAAAAAAAAAAAAAAAAAAAAAAAAAAAAAAAAAAAAAAAAAAAAAAAAAAAAAAAAAAAAAAAAAAAAAAAAAAAAAAAAAAAAAAAAAAAAAAAAAAAAAAAAAAAAAAAAAAAAAAAAAAAAAAAAAAAAAAAAAAAAAAAAAAAAAAAAAAAAAAAAAAAAAAAAAAAAAAAAAAAAAAAAAAAAAAAAAAAAAAAAAAAAAAAAAAAAAAAAAAAAAAAAAAAAAAAAAAAAAAAAAAAAAAAAAAAAAAAAAAAAAAAAAAAAAAAAAAAAAAAAAAAAAAAAAAAAAAAAAAAAAAAAAAAAAAAAAAAAAAAAAAAAAAAAAAAAAAAAAAAAAAAAAAAAAAAAAAAAAAAAAAAAAAAAAAAAAAAAAAAAAAAAAAAAAAAAAAAAAAAAAAAAAAAAAAAAAAAAAAAAAAAAAAAAAAAAAAAAAAAAAAAAAAAAAAAAAAAAAAAAAAAAAAAAAAAAAAAAAAAAAAAAAAAAAAAAAAAAAAAAAAAAAAAAAAAAAAAAAAAAAAAAAAAAAAAAAAAAAAAAAAAAAAAAAAAAAAAAAAAAAAAAAAAAAAAAAAAAAAAAAAAAAAAAAAAAAAAAAAAAAAAAAAAAAAAAAAAAAAAAAAAAAAAAAAAAAAAAAAAAAAAAAAAAAAAAAAAACuR+F6FK7vP65H4XoUru8/rkfhehSu7z+uR+F6FK7vP65H4XoUru8/rkfhehSu7z+uR+F6FK7vP65H4XoUru8/rkfhehSu7z+uR+F6FK7vP83MzMzMzOw/rkfhehSu7z/hehSuR+HqP6RwPQrXo+g/rkfhehSu5z97FK5H4XrsP65H4XoUru8/j8L1KFyP6j9cj8L1KFzfPwAAAAAAAAAA7FG4HoXrwT8AAAAAAAAAAAAAAAAAAAAAAAAAAAAAAAAAAAAAAAAAAAAAAAAAAAAAAAAAAAAAAAAAAAAAAAAAAAAAAAAAAAAAAAAAAAAAAAAAAAAAAAAAAIXrUbgehds/MzMzMzMz0z8AAAAAAAAAAAAAAAAAAAAAAAAAAAAAAAAAAAAAAAAAAAAAAAAAAAAAAAAAAAAAAAAAAAAAAAAAAAAAAAAAAAAAAAAAAAAAAAAAAAAAAAAAAAAAAAAAAAAAAAAAAAAAAAAAAAAAAAAAAAAAAAAAAAAAAAAAAAAAAAAAAAAAAAAAAAAAAAAAAAAAAAAAAAAAAAAAAAAAAAAAAAAAAAAAAAAAAAAAAAAAAAAAAAAAAAAAAAAAAAAAAAAAAAAAAAAAAAAAAAAAAAAAAAAAAAAAAAAAAAAAAAAAAAAAAAAAAAAAAAAAAAAAAAAAAAAAAAAAAAAAAAAAAAAAAAAAAAAAAAAAAAAAAAAAAAAAAAAAAAAAAAAAAAAAAAAAAAAAAAAAAAAAAAAAAAAAAAAAAAAAAAAAAAAAAAAAAAAAAAAAAAAAAAAAAAAAAAAAAAAAAAAAAAAAAAAAAAAAAAAAAAAAAAAAAAAAAAAAAAAAAAAAAAAAAAAAAAAAAAAAAAAAAAAAAAAAAAAAAAAAAAAAAAAAAAAAAAAAAAAAAAAAAAAAAAAAAK5H4XoUru8/rkfhehSu7z+4HoXrUbiuP83MzMzMzOQ/AAAAAAAAAAAAAAAAAAAAAAAAAAAAAAAAAAAAAAAAAAAAAAAAAAAAAAAAAAAAAAAAAAAAAAAAAAAAAAAAAAAAAAAAAAAAAAAAAAAAAAAAAAAAAAAAAAAAAAAAAAAAAAAAAAAAAAAAAAAAAAAAAAAAAAAAAAAAAAAAAAAAAAAAAAAAAAAAAAAAAAAAAAAAAAAAAAAAAAAAAAAAAAAAAAAAAAAAAAAAAAAAAAAAAAAAAAAAAAAAAAAAAAAAAAAAAAAAAAAAAAAAAAAAAAAAAAAAAAAAAAAAAAAAAAAAAAAAAAAAAAAAAAAAAAAAAAAAAAAAAAAAAAAAAAAAAAAAAAAAAAAAAAAAAAAAAAAAAAAAAAAAAAAAAAAAAAAAAAAAAAAAAAAAAAAAAAAAAAAAAAAAAAAAAAAAAAAAAAAAAAAAAAAAAAAAAAAAAAAAAAAAAAAAAAAAAAAAAAAAAAAAAAAAAAAAAAAAAAAAAAAAAAAAAAAAAAAAAAAAAAAAAAAAAAAAAAAAAAAAAAAAAAAAAAAAAK5H4XoUru8/rkfhehSu7z+uR+F6FK7vP65H4XoUru8/zczMzMzM3D/Xo3A9CtfjP3E9CtejcM0/AAAAAAAAAAAAAAAAAAAAAAAAAAAAAAAAAAAAAAAAAAAAAAAAAAAAAAAAAAAAAAAAAAAAAAAAAAAAAAAAAAAAAAAAAAAAAAAAAAAAAAAAAAAAAAAAAAAAAAAAAAAAAAAAAAAAAAAAAAAAAAAAAAAAAAAAAAAAAAAAAAAAAAAAAAAAAAAAAAAAAAAAAAAAAAAAAAAAAAAAAAAAAAAAAAAAAAAAAAAAAAAAAAAAAAAAAAAAAAAAAAAAAAAAAAAAAAAAAAAAAAAAAAAAAAAAAAAAAAAAAAAAAAAAAAAAAAAAAAAAAAAAAAAAAAAAAAAAAAAAAAAAAAAAAAAAAAAAAAAAAAAAAAAAAAAAAAAAAAAAAAAAAAAAAAAAAAAAAAAAAAAAAAAAAAAAAAAAAAAAAAAAAAAAAAAAAAAAAAAAAAAAAAAAAAAAAAAAAAAAAAAAAAAAAAAAAAAAAAAAAAAAAAAAAAAAAAAAAAAAAAAAAAAAAAAAAAAAAAAAAAAAAAAAAAAAAAAAAAAAAAAAAAAAAAAAAAAAAAAAAAAAAAAAAAAAAAAAAAAAAAAAAAAAAAAAAAAAAAAAAAAAAAAAAAAAAAAAAAAAAAAAAAAAAAAAAAAAAAAAAAAAAAAAAAAAAAAAAAAAAAAAAAAAAAAAAAAAAAAAAAAAAAAAAAAAAAAAAAAAAAAAAAAAAAAAAAAAAAAAAAAAAAAAAAAAAAAAAAAAAAAAAAAAAAAAAAAAAAAAAAAAAAAAAAAAAAAAAAAAAAAAAAAAAAAAAAAAAAAAAAAAAAAAAAAAAAAAAAAAAAAAAAAAAAAAAAAAAAAAAAAAAAAAAAAAAAAAAAAAAAAAAAAAAAAAAAAAAAAAAAAAAAAAAAAAAAAAAAAAAAAAAAAAAAAAAAAAAAAAAAAAAAAAAAAAAAAAAAAAAAAAAAAAAAAAAAAAAAAAAAAAAAAAAAAAAAAAAAAAAAAAAAAAAAAAAAAAAAAAAAAAAAAAAAAAAAAAAAAAAAAAAAAAAAAAAAAAAAAAAAAAAAAAAAAAAAAAAAAAAAAAAAAAAAAAAAAAAAAAAAAAAAAAAAAAAAAAAAAAAAAAAAAAAAAAAAAAAAAAAAAAAAAAAAAAAAAAAAAAAAAAAAAAAAAAAAAAAAAAAAAAAAAAAAAAAAAAAAAAAAAAAAAAAAAAAAAAAAAAAAAAAAAAAAAAAAAAAAAAAAAAAAAAAAAAAAAAAAAAAAAAAAAAAAAAAAAAAAAAAAAAAAAAAAAAAAAAAAAAAAAAAAAAAAAAAAAAAAAAAAAAAAAAAACuR+F6FK7vP65H4XoUru8/rkfhehSu7z+uR+F6FK7vP65H4XoUru8/rkfhehSu7z+uR+F6FK7vP65H4XoUru8/rkfhehSu7z+uR+F6FK7vP65H4XoUru8/XI/C9Shc7z8UrkfhehTuPwAAAAAAAAAAcT0K16Nw5T+amZmZmZnJPwAAAAAAAAAAAAAAAAAAAAAAAAAAAAAAAAAAAAAAAAAAAAAAAAAAAAAAAAAAAAAAAAAAAAAAAAAAAAAAAAAAAAAAAAAAAAAAAAAAAAAAAAAAAAAAAAAAAAAAAAAAAAAAAAAAAAAAAAAAAAAAAAAAAAAAAAAAAAAAAAAAAAAAAAAAAAAAAAAAAAAAAAAAAAAAAAAAAAAAAAAAAAAAAAAAAAAAAAAAAAAAAAAAAAAAAAAAAAAAAAAAAAAAAAAAAAAAAAAAAAAAAAAAAAAAAAAAAAAAAAAAAAAAAAAAAAAAAAAAAAAAAAAAAAAAAAAAAAAAAAAAAAAAAAAAAAAAAAAAAAAAAAAAAAAAAAAAAAAAAAAAAAAAAAAAAAAAAAAAAAAAAAAAAAAAAAAAAAAAAAAAAAAAAAAAAAAAAAAAAAAAAAAAAAAAAAAAAAAAAAAAAAAAAAAAAAAAAAAAAAAAAAAAAAAAAAAAAAAAAAAAAAAAAAAAAAAAAAAAAAAAAAAAAAAAAAAAAAAAAAAAAAAAAAAAAAAAAAAAAAAAAAAAAAAAAAAAAAAAAAAAAAAAAAAAAAAAAAAAAAAAAAAAAAAAAAAAAAAAAAAAAAAAAAAAAAAAAAAAAAAAAAAAAAAAAAAAAAAAAAAAAAAAAAAAAAAAAAAAAAAAAAAAAAAAAAAAAAAAAAAAAAAAAAAAAAAAAAAAAAAAAAAAAAAAAAAAAAAAAAAAAAAAAAAAAAAAAAAAAAAAAAAAAAAAAAAAAAAAAAAAAAAAAAAAAAAAAAAAAAAAAAAAAAAAAAAAAAAAAAAAAAAAAAAAAAAAAAAAAAAAAAAAAAAAAAAAAAAAAAAAAAAAAAAAAAAAAAAAAAAAAAAAAAAAAAAAAAAAAAAAAAAAAAAAAAAAAAAAAAAAAAAAAAAAAAAAAAAAAAAAAAAAAAAAAAAAAAAAAAAAAAAAAAAAAAAAAAAAAAAAAAAAAAAAAAAAAAAAAAAAAAAAAAAAAAAAAAAAAAAAAAAAAAAAAAAAAAAAAAAAAAAAAAAAAAAAAAAAAAAAAAAAAAAAAAAAAAAAAAAAAAAAAAAAAAAAAAAAAAAAAAAAAAAAAAAAAAAAAAAAAAAAAAAAAAAAAAAAAAAAAAAAAAAAAAAAAAAAAAAAAAAAAAAAAAAAAAAAAAAAAAAAAAAAAAAAAAAAAAAAAAAAAAAAAAAAAAAAAAAAAAAAAAAAAAAAAAAAAAAAAAAAAAAAAAAAAAAAAAAAAAAAAAAAAAAAAAAAAAAAAAAAAAAAAAAAAAAAAAAAAAAAAAAAAAAAAAAAAAAAAAAAAAAAAAAAAAAAAAAAAAAAAAAAAAAAAAAAAAAAAAAAAAAAAAAAAAAAAAAAAAAAAAAAAAAAAAAAAAAAAAAAAAAAAAAAAAAAAAAAAAAAAAAAAAAAAAAAAAAAAAAAAAAAAAAAAAAAAAAAAAAAAAAAAAAAAAAAAAAAAAAAAAAAAAAAAAAAAAAAAAAAAAAAAAAAAAAAAAAAAAAAAAAAAAAAAAAAAAAAAAAAAAAAAAAAAK5H4XoUru8/rkfhehSu7z+uR+F6FK7vP65H4XoUru8/rkfhehSu7z+uR+F6FK7vP65H4XoUru8/FK5H4XoU3j8AAAAAAAAAAOF6FK5H4eI/AAAAAAAAAAAAAAAAAAAAAAAAAAAAAAAAAAAAAAAAAAAAAAAAAAAAAAAAAAAAAAAAAAAAAAAAAAAAAAAAAAAAAAAAAAAAAAAAAAAAAAAAAAAAAAAAAAAAAAAAAAAAAAAAAAAAAAAAAAAAAAAAAAAAAAAAAAAAAAAAAAAAAAAAAAAAAAAAAAAAAAAAAAAAAAAAAAAAAAAAAAAAAAAAAAAAAAAAAAAAAAAAAAAAAAAAAAAAAAAAAAAAAAAAAAAAAAAAAAAAAAAAAAAAAAAAAAAAAAAAAAAAAAAAAAAAAAAAAAAAAAAAAAAAAAAAAAAAAAAAAAAAAAAAAAAAAAAAAAAAAAAAAAAAAAAAAAAAAAAAAAAAAAAAAAAAAAAAAAAAAAAAAAAAAAAAAAAAAAAAAAAAAAAAAAAAAAAAAAAAAAAAAAAAAAAAAAAAAAAAAAAAAAAAAAAAAAAAAAAAAAAAAAAAAAAAAAAAAAAAAAAAAAAAAAAAAAAAAAAAAAAAAAAAAAAAAAAAAAAAAAAAAAAAAAAAAAAAAAAAAAAAAAAAAAAAAAAAAAAAAAAAAAAAAAAAAAAAAAAAAAAAAAAAAAAAAAAAAAAAAAAAAAAAAAAAAAAAAAAAAAAAAAAAAAAAAAAAAAAAAAAAAAAAAAAAAAAAAAAAAAAAAAAAAAAAAAAAAAAAAAAAAAAAAAAAAAAAAAAAAAAAAAAAAAAAAAAAAAAAAAAAAAAAAAAAAAAAAAAAAAAAAAAAAAAAAAAAAAAAAAAAAAAAAAAAAAAAAAAAAAAAAAAAAAAAAAAAAAAAAAAAAAAAAAAAAAAAAAAAAAAAAAAAAAAAAAAAAAAAAAAAAAAAAAAAAAAAAAAAAAAAAAAAAAAAAAAAAAAAAAAAAAAAAAAAAAAAAAAAAAAAAAAAAAAAAAAAAAAAAAAAAAAAAAAAAAAAAAAAAAAAAAAAAAAAAAAAAAAAAAAAAAAAAAAAAAAAAAAAAAAAAAAAAAAAAAAAAAAAAAA=",
          "dtype": "f8"
         },
         "yaxis": "y5"
        },
        {
         "hovertemplate": "Distance: %{x:.1f}m<br>Steering: %{y:.3f}<extra></extra>",
         "line": {
          "color": "#8A2BE2",
          "width": 3
         },
         "mode": "lines",
         "name": "Steering",
         "type": "scatter",
         "x": {
          "bdata": "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",
          "dtype": "f8"
         },
         "xaxis": "x6",
         "y": {
          "bdata": "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",
          "dtype": "f8"
         },
         "yaxis": "y6"
        }
       ],
       "layout": {
        "annotations": [
         {
          "font": {
           "size": 16
          },
          "showarrow": false,
          "text": "Gear vs Distance",
          "x": 0.13999999999999999,
          "xanchor": "center",
          "xref": "paper",
          "y": 1,
          "yanchor": "bottom",
          "yref": "paper"
         },
         {
          "font": {
           "size": 16
          },
          "showarrow": false,
          "text": "Speed vs Distance",
          "x": 0.49999999999999994,
          "xanchor": "center",
          "xref": "paper",
          "y": 1,
          "yanchor": "bottom",
          "yref": "paper"
         },
         {
          "font": {
           "size": 16
          },
          "showarrow": false,
          "text": "RPM vs Distance",
          "x": 0.86,
          "xanchor": "center",
          "xref": "paper",
          "y": 1,
          "yanchor": "bottom",
          "yref": "paper"
         },
         {
          "font": {
           "size": 16
          },
          "showarrow": false,
          "text": "Throttle vs Distance",
          "x": 0.13999999999999999,
          "xanchor": "center",
          "xref": "paper",
          "y": 0.425,
          "yanchor": "bottom",
          "yref": "paper"
         },
         {
          "font": {
           "size": 16
          },
          "showarrow": false,
          "text": "Brake vs Distance",
          "x": 0.49999999999999994,
          "xanchor": "center",
          "xref": "paper",
          "y": 0.425,
          "yanchor": "bottom",
          "yref": "paper"
         },
         {
          "font": {
           "size": 16
          },
          "showarrow": false,
          "text": "Steering vs Distance",
          "x": 0.86,
          "xanchor": "center",
          "xref": "paper",
          "y": 0.425,
          "yanchor": "bottom",
          "yref": "paper"
         }
        ],
        "height": 600,
        "paper_bgcolor": "white",
        "plot_bgcolor": "white",
        "showlegend": false,
        "template": {
         "data": {
          "bar": [
           {
            "error_x": {
             "color": "#2a3f5f"
            },
            "error_y": {
             "color": "#2a3f5f"
            },
            "marker": {
             "line": {
              "color": "#E5ECF6",
              "width": 0.5
             },
             "pattern": {
              "fillmode": "overlay",
              "size": 10,
              "solidity": 0.2
             }
            },
            "type": "bar"
           }
          ],
          "barpolar": [
           {
            "marker": {
             "line": {
              "color": "#E5ECF6",
              "width": 0.5
             },
             "pattern": {
              "fillmode": "overlay",
              "size": 10,
              "solidity": 0.2
             }
            },
            "type": "barpolar"
           }
          ],
          "carpet": [
           {
            "aaxis": {
             "endlinecolor": "#2a3f5f",
             "gridcolor": "white",
             "linecolor": "white",
             "minorgridcolor": "white",
             "startlinecolor": "#2a3f5f"
            },
            "baxis": {
             "endlinecolor": "#2a3f5f",
             "gridcolor": "white",
             "linecolor": "white",
             "minorgridcolor": "white",
             "startlinecolor": "#2a3f5f"
            },
            "type": "carpet"
           }
          ],
          "choropleth": [
           {
            "colorbar": {
             "outlinewidth": 0,
             "ticks": ""
            },
            "type": "choropleth"
           }
          ],
          "contour": [
           {
            "colorbar": {
             "outlinewidth": 0,
             "ticks": ""
            },
            "colorscale": [
             [
              0,
              "#0d0887"
             ],
             [
              0.1111111111111111,
              "#46039f"
             ],
             [
              0.2222222222222222,
              "#7201a8"
             ],
             [
              0.3333333333333333,
              "#9c179e"
             ],
             [
              0.4444444444444444,
              "#bd3786"
             ],
             [
              0.5555555555555556,
              "#d8576b"
             ],
             [
              0.6666666666666666,
              "#ed7953"
             ],
             [
              0.7777777777777778,
              "#fb9f3a"
             ],
             [
              0.8888888888888888,
              "#fdca26"
             ],
             [
              1,
              "#f0f921"
             ]
            ],
            "type": "contour"
           }
          ],
          "contourcarpet": [
           {
            "colorbar": {
             "outlinewidth": 0,
             "ticks": ""
            },
            "type": "contourcarpet"
           }
          ],
          "heatmap": [
           {
            "colorbar": {
             "outlinewidth": 0,
             "ticks": ""
            },
            "colorscale": [
             [
              0,
              "#0d0887"
             ],
             [
              0.1111111111111111,
              "#46039f"
             ],
             [
              0.2222222222222222,
              "#7201a8"
             ],
             [
              0.3333333333333333,
              "#9c179e"
             ],
             [
              0.4444444444444444,
              "#bd3786"
             ],
             [
              0.5555555555555556,
              "#d8576b"
             ],
             [
              0.6666666666666666,
              "#ed7953"
             ],
             [
              0.7777777777777778,
              "#fb9f3a"
             ],
             [
              0.8888888888888888,
              "#fdca26"
             ],
             [
              1,
              "#f0f921"
             ]
            ],
            "type": "heatmap"
           }
          ],
          "histogram": [
           {
            "marker": {
             "pattern": {
              "fillmode": "overlay",
              "size": 10,
              "solidity": 0.2
             }
            },
            "type": "histogram"
           }
          ],
          "histogram2d": [
           {
            "colorbar": {
             "outlinewidth": 0,
             "ticks": ""
            },
            "colorscale": [
             [
              0,
              "#0d0887"
             ],
             [
              0.1111111111111111,
              "#46039f"
             ],
             [
              0.2222222222222222,
              "#7201a8"
             ],
             [
              0.3333333333333333,
              "#9c179e"
             ],
             [
              0.4444444444444444,
              "#bd3786"
             ],
             [
              0.5555555555555556,
              "#d8576b"
             ],
             [
              0.6666666666666666,
              "#ed7953"
             ],
             [
              0.7777777777777778,
              "#fb9f3a"
             ],
             [
              0.8888888888888888,
              "#fdca26"
             ],
             [
              1,
              "#f0f921"
             ]
            ],
            "type": "histogram2d"
           }
          ],
          "histogram2dcontour": [
           {
            "colorbar": {
             "outlinewidth": 0,
             "ticks": ""
            },
            "colorscale": [
             [
              0,
              "#0d0887"
             ],
             [
              0.1111111111111111,
              "#46039f"
             ],
             [
              0.2222222222222222,
              "#7201a8"
             ],
             [
              0.3333333333333333,
              "#9c179e"
             ],
             [
              0.4444444444444444,
              "#bd3786"
             ],
             [
              0.5555555555555556,
              "#d8576b"
             ],
             [
              0.6666666666666666,
              "#ed7953"
             ],
             [
              0.7777777777777778,
              "#fb9f3a"
             ],
             [
              0.8888888888888888,
              "#fdca26"
             ],
             [
              1,
              "#f0f921"
             ]
            ],
            "type": "histogram2dcontour"
           }
          ],
          "mesh3d": [
           {
            "colorbar": {
             "outlinewidth": 0,
             "ticks": ""
            },
            "type": "mesh3d"
           }
          ],
          "parcoords": [
           {
            "line": {
             "colorbar": {
              "outlinewidth": 0,
              "ticks": ""
             }
            },
            "type": "parcoords"
           }
          ],
          "pie": [
           {
            "automargin": true,
            "type": "pie"
           }
          ],
          "scatter": [
           {
            "fillpattern": {
             "fillmode": "overlay",
             "size": 10,
             "solidity": 0.2
            },
            "type": "scatter"
           }
          ],
          "scatter3d": [
           {
            "line": {
             "colorbar": {
              "outlinewidth": 0,
              "ticks": ""
             }
            },
            "marker": {
             "colorbar": {
              "outlinewidth": 0,
              "ticks": ""
             }
            },
            "type": "scatter3d"
           }
          ],
          "scattercarpet": [
           {
            "marker": {
             "colorbar": {
              "outlinewidth": 0,
              "ticks": ""
             }
            },
            "type": "scattercarpet"
           }
          ],
          "scattergeo": [
           {
            "marker": {
             "colorbar": {
              "outlinewidth": 0,
              "ticks": ""
             }
            },
            "type": "scattergeo"
           }
          ],
          "scattergl": [
           {
            "marker": {
             "colorbar": {
              "outlinewidth": 0,
              "ticks": ""
             }
            },
            "type": "scattergl"
           }
          ],
          "scattermap": [
           {
            "marker": {
             "colorbar": {
              "outlinewidth": 0,
              "ticks": ""
             }
            },
            "type": "scattermap"
           }
          ],
          "scattermapbox": [
           {
            "marker": {
             "colorbar": {
              "outlinewidth": 0,
              "ticks": ""
             }
            },
            "type": "scattermapbox"
           }
          ],
          "scatterpolar": [
           {
            "marker": {
             "colorbar": {
              "outlinewidth": 0,
              "ticks": ""
             }
            },
            "type": "scatterpolar"
           }
          ],
          "scatterpolargl": [
           {
            "marker": {
             "colorbar": {
              "outlinewidth": 0,
              "ticks": ""
             }
            },
            "type": "scatterpolargl"
           }
          ],
          "scatterternary": [
           {
            "marker": {
             "colorbar": {
              "outlinewidth": 0,
              "ticks": ""
             }
            },
            "type": "scatterternary"
           }
          ],
          "surface": [
           {
            "colorbar": {
             "outlinewidth": 0,
             "ticks": ""
            },
            "colorscale": [
             [
              0,
              "#0d0887"
             ],
             [
              0.1111111111111111,
              "#46039f"
             ],
             [
              0.2222222222222222,
              "#7201a8"
             ],
             [
              0.3333333333333333,
              "#9c179e"
             ],
             [
              0.4444444444444444,
              "#bd3786"
             ],
             [
              0.5555555555555556,
              "#d8576b"
             ],
             [
              0.6666666666666666,
              "#ed7953"
             ],
             [
              0.7777777777777778,
              "#fb9f3a"
             ],
             [
              0.8888888888888888,
              "#fdca26"
             ],
             [
              1,
              "#f0f921"
             ]
            ],
            "type": "surface"
           }
          ],
          "table": [
           {
            "cells": {
             "fill": {
              "color": "#EBF0F8"
             },
             "line": {
              "color": "white"
             }
            },
            "header": {
             "fill": {
              "color": "#C8D4E3"
             },
             "line": {
              "color": "white"
             }
            },
            "type": "table"
           }
          ]
         },
         "layout": {
          "annotationdefaults": {
           "arrowcolor": "#2a3f5f",
           "arrowhead": 0,
           "arrowwidth": 1
          },
          "autotypenumbers": "strict",
          "coloraxis": {
           "colorbar": {
            "outlinewidth": 0,
            "ticks": ""
           }
          },
          "colorscale": {
           "diverging": [
            [
             0,
             "#8e0152"
            ],
            [
             0.1,
             "#c51b7d"
            ],
            [
             0.2,
             "#de77ae"
            ],
            [
             0.3,
             "#f1b6da"
            ],
            [
             0.4,
             "#fde0ef"
            ],
            [
             0.5,
             "#f7f7f7"
            ],
            [
             0.6,
             "#e6f5d0"
            ],
            [
             0.7,
             "#b8e186"
            ],
            [
             0.8,
             "#7fbc41"
            ],
            [
             0.9,
             "#4d9221"
            ],
            [
             1,
             "#276419"
            ]
           ],
           "sequential": [
            [
             0,
             "#0d0887"
            ],
            [
             0.1111111111111111,
             "#46039f"
            ],
            [
             0.2222222222222222,
             "#7201a8"
            ],
            [
             0.3333333333333333,
             "#9c179e"
            ],
            [
             0.4444444444444444,
             "#bd3786"
            ],
            [
             0.5555555555555556,
             "#d8576b"
            ],
            [
             0.6666666666666666,
             "#ed7953"
            ],
            [
             0.7777777777777778,
             "#fb9f3a"
            ],
            [
             0.8888888888888888,
             "#fdca26"
            ],
            [
             1,
             "#f0f921"
            ]
           ],
           "sequentialminus": [
            [
             0,
             "#0d0887"
            ],
            [
             0.1111111111111111,
             "#46039f"
            ],
            [
             0.2222222222222222,
             "#7201a8"
            ],
            [
             0.3333333333333333,
             "#9c179e"
            ],
            [
             0.4444444444444444,
             "#bd3786"
            ],
            [
             0.5555555555555556,
             "#d8576b"
            ],
            [
             0.6666666666666666,
             "#ed7953"
            ],
            [
             0.7777777777777778,
             "#fb9f3a"
            ],
            [
             0.8888888888888888,
             "#fdca26"
            ],
            [
             1,
             "#f0f921"
            ]
           ]
          },
          "colorway": [
           "#636efa",
           "#EF553B",
           "#00cc96",
           "#ab63fa",
           "#FFA15A",
           "#19d3f3",
           "#FF6692",
           "#B6E880",
           "#FF97FF",
           "#FECB52"
          ],
          "font": {
           "color": "#2a3f5f"
          },
          "geo": {
           "bgcolor": "white",
           "lakecolor": "white",
           "landcolor": "#E5ECF6",
           "showlakes": true,
           "showland": true,
           "subunitcolor": "white"
          },
          "hoverlabel": {
           "align": "left"
          },
          "hovermode": "closest",
          "mapbox": {
           "style": "light"
          },
          "paper_bgcolor": "white",
          "plot_bgcolor": "#E5ECF6",
          "polar": {
           "angularaxis": {
            "gridcolor": "white",
            "linecolor": "white",
            "ticks": ""
           },
           "bgcolor": "#E5ECF6",
           "radialaxis": {
            "gridcolor": "white",
            "linecolor": "white",
            "ticks": ""
           }
          },
          "scene": {
           "xaxis": {
            "backgroundcolor": "#E5ECF6",
            "gridcolor": "white",
            "gridwidth": 2,
            "linecolor": "white",
            "showbackground": true,
            "ticks": "",
            "zerolinecolor": "white"
           },
           "yaxis": {
            "backgroundcolor": "#E5ECF6",
            "gridcolor": "white",
            "gridwidth": 2,
            "linecolor": "white",
            "showbackground": true,
            "ticks": "",
            "zerolinecolor": "white"
           },
           "zaxis": {
            "backgroundcolor": "#E5ECF6",
            "gridcolor": "white",
            "gridwidth": 2,
            "linecolor": "white",
            "showbackground": true,
            "ticks": "",
            "zerolinecolor": "white"
           }
          },
          "shapedefaults": {
           "line": {
            "color": "#2a3f5f"
           }
          },
          "ternary": {
           "aaxis": {
            "gridcolor": "white",
            "linecolor": "white",
            "ticks": ""
           },
           "baxis": {
            "gridcolor": "white",
            "linecolor": "white",
            "ticks": ""
           },
           "bgcolor": "#E5ECF6",
           "caxis": {
            "gridcolor": "white",
            "linecolor": "white",
            "ticks": ""
           }
          },
          "title": {
           "x": 0.05
          },
          "xaxis": {
           "automargin": true,
           "gridcolor": "white",
           "linecolor": "white",
           "ticks": "",
           "title": {
            "standoff": 15
           },
           "zerolinecolor": "white",
           "zerolinewidth": 2
          },
          "yaxis": {
           "automargin": true,
           "gridcolor": "white",
           "linecolor": "white",
           "ticks": "",
           "title": {
            "standoff": 15
           },
           "zerolinecolor": "white",
           "zerolinewidth": 2
          }
         }
        },
        "title": {
         "font": {
          "size": 16
         },
         "text": "Lap 3 - Telemetry Analysis (817 samples)"
        },
        "xaxis": {
         "anchor": "y",
         "domain": [
          0,
          0.27999999999999997
         ],
         "gridcolor": "lightgray",
         "gridwidth": 1,
         "showgrid": true,
         "showticklabels": false
        },
        "xaxis2": {
         "anchor": "y2",
         "domain": [
          0.36,
          0.6399999999999999
         ],
         "gridcolor": "lightgray",
         "gridwidth": 1,
         "showgrid": true,
         "showticklabels": false
        },
        "xaxis3": {
         "anchor": "y3",
         "domain": [
          0.72,
          1
         ],
         "gridcolor": "lightgray",
         "gridwidth": 1,
         "showgrid": true,
         "showticklabels": false
        },
        "xaxis4": {
         "anchor": "y4",
         "domain": [
          0,
          0.27999999999999997
         ],
         "gridcolor": "lightgray",
         "gridwidth": 1,
         "showgrid": true,
         "title": {
          "text": "Distance (m)"
         }
        },
        "xaxis5": {
         "anchor": "y5",
         "domain": [
          0.36,
          0.6399999999999999
         ],
         "gridcolor": "lightgray",
         "gridwidth": 1,
         "showgrid": true,
         "title": {
          "text": "Distance (m)"
         }
        },
        "xaxis6": {
         "anchor": "y6",
         "domain": [
          0.72,
          1
         ],
         "gridcolor": "lightgray",
         "gridwidth": 1,
         "showgrid": true,
         "title": {
          "text": "Distance (m)"
         }
        },
        "yaxis": {
         "anchor": "x",
         "domain": [
          0.575,
          1
         ],
         "gridcolor": "lightgray",
         "gridwidth": 1,
         "showgrid": true,
         "title": {
          "text": "Gear"
         }
        },
        "yaxis2": {
         "anchor": "x2",
         "domain": [
          0.575,
          1
         ],
         "gridcolor": "lightgray",
         "gridwidth": 1,
         "showgrid": true,
         "title": {
          "text": "Speed (km/h)"
         }
        },
        "yaxis3": {
         "anchor": "x3",
         "domain": [
          0.575,
          1
         ],
         "gridcolor": "lightgray",
         "gridwidth": 1,
         "showgrid": true,
         "title": {
          "text": "RPM"
         }
        },
        "yaxis4": {
         "anchor": "x4",
         "domain": [
          0,
          0.425
         ],
         "gridcolor": "lightgray",
         "gridwidth": 1,
         "showgrid": true,
         "title": {
          "text": "Throttle (0-1)"
         }
        },
        "yaxis5": {
         "anchor": "x5",
         "domain": [
          0,
          0.425
         ],
         "gridcolor": "lightgray",
         "gridwidth": 1,
         "showgrid": true,
         "title": {
          "text": "Brake (0-1)"
         }
        },
        "yaxis6": {
         "anchor": "x6",
         "domain": [
          0,
          0.425
         ],
         "gridcolor": "lightgray",
         "gridwidth": 1,
         "showgrid": true,
         "title": {
          "text": "Steering"
         }
        }
       }
      }
     },
     "metadata": {},
     "output_type": "display_data"
    },
    {
     "data": {
      "application/vnd.plotly.v1+json": {
       "config": {
        "plotlyServerURL": "https://plot.ly"
       },
       "data": [
        {
         "hovertemplate": "Distance: %{x:.1f}m<br>Gear: %{y}<extra></extra>",
         "line": {
          "color": "#FF6B35",
          "shape": "hv",
          "width": 3
         },
         "mode": "lines",
         "name": "Gear",
         "type": "scatter",
         "x": {
          "bdata": "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",
          "dtype": "f8"
         },
         "xaxis": "x",
         "y": {
          "bdata": "AAgICAgICAgICAgICAgICAgICAgICAgICAgICAgICAgICAgICAgICAgICAgICAgICAgICAgICAgICAgICAgICAgICAgICAgICAgICAgICAgICAgICAgICAgICAgICAcHBwcGBgYGBQUFBQQEBAQDAwMDAgICAgICAgICAgICAgICAgICAgICAgICAgICAgICAgICAgICAwMDAwMDAwMDAwQEBAQEBAQEBAQFBQUFBQUFBQUFBgYGBgYGBgYGBgYGBgYHBwcHBwcHBwcHBwcHBwcHBwcHBwcHBwcHBwcHBwcHBwcHBwcHBwcHBwcACAgICAgICAgICAgICAgICAgICAgICAgICAgICAgICAgICAgICAgICAgICAgICAgICAgHBwcHBgYGBgUFBQUEBAQEAwMDAwICAgICAgICAgICAgIAAwMDAwMDAwMDAAQEBAQEBAQEBAAFBQUFBQUFBQUFBgYGBgYGBgYGBgYGBgYABwcHBwcHBwcHBwcHBwYGBgYGBgYGBgYGBgYGBgYGBgYGBgYGBgYGBgYGBgYGBgYGBgYGBgYGBgYGBgYGBgYGBgUFBQUFBQUFBQUFBQUFBQUFBQUFBQUFBgYGBgYGBgYGBgYGBgYGBwcHBwcHBwcHBwcHBwcHBwcHBwcHBwcHBwcHBwAICAgICAgICAgICAgICAgICAgICAgICAgICAgICAgICAgICAgICAgICAgICAgICAgICAgICAgICAgICAgICAcHBwcGBgYGBQUFBQUFBQUFBQUFBQUFBQUFBQUFBQUFBQUFBQUFBQUFBgYGBgYGBgYGBgYGBgYGBgYGBgAHBwcHBwcHBwcHBwcHBwcHBwcHBwcHBwcHBwcHBwcHBwcACAgICAgICAgICAgICAgICAgICAgICAgICAgICAgICAgICAgICAgICAgICAgICAgICAgICAgICAgICAgICAgICAgHBwcHBwcHBgYGBgYGBgYGBgYFBQUFBQUFBQUFBQUFBQUFBQUFBQUFBQUFBQUFBgYGBgYGBgYGBgYGBgYGBgcHBwcHBwcHBwcHBwcHBwcHBwcHBwcHBwcHBwcHBwcHBwcHBw==",
          "dtype": "i1"
         },
         "yaxis": "y"
        },
        {
         "hovertemplate": "Distance: %{x:.1f}m<br>Speed: %{y:.1f} km/h<extra></extra>",
         "line": {
          "color": "#004E89",
          "width": 3
         },
         "mode": "lines",
         "name": "Speed",
         "type": "scatter",
         "x": {
          "bdata": "AAAAAGQf4UCLbOf7cSDhQN0kBoGBIeFAmG4Sg5gi4UBvEoPAriPhQJhuEoO4JOFA3SQGgc0l4UB1kxgE5ibhQIts5/v5J+FAWmQ73wsp4UDP91PjISrhQOxRuB45K+FAAAAAAFAs4UDXo3A9Xi3hQN0kBoF1LuFAz/dT45Ev4UAAAAAArDDhQHWTGATGMeFAw/UoXN8y4UC6SQwC8zPhQBSuR+EKNeFA16NwPS424UBvEoPARjfhQLpJDAJfOOFATDeJQXg54UCmm8QgnDrhQMP1KFyrO+FARrbz/dQ84UApXI/C8T3hQClcj8INP+FAI9v5fi5A4UCmm8QgTEHhQAAAAABsQuFAYOXQIotD4UDsUbgeoUThQAAAAADIReFAyXa+n+JG4UD6fmq8BEjhQBSuR+EuSeFAyXa+n05K4UC6SQwCe0vhQLpJDAKXTOFAke18P71N4UAUrkfh4k7hQG8Sg8AKUOFAPQrXoyhR4UA3iUFgSVLhQEw3iUFwU+FAz/dT45VU4UAOLbKdv1XhQN0kBoHhVuFAg8DKoRFY4UAxCKwcMlnhQMP1KFxfWuFAaJHtfINb4UB9PzVeqlzhQGiR7XzTXeFA3SQGgfle4UCgGi/dIGDhQN0kBoFNYeFATDeJQXRi4UCmm8QgmGPhQPLSTWLEZOFAw/UoXPdl4UCDwMqhHWfhQD0K16NMaOFAfT81Xmpp4UDXo3A9lmrhQM/3U+PBa+FAoBov3exs4UBMN4lBGG7hQA4tsp1Pb+FAw/UoXHNw4UD6fmq8qHHhQAaBlUPTcuFAyXa+nwJ04UBoke18K3XhQD0K16NUduFAKVyPwnl34UBaZDvfp3jhQFpkO9/jeeFA8tJNYgh74UAGgZVDO3zhQIPAyqFpfeFAPQrXo5h+4UA3iUFgxX/hQAAAAADsgOFAtMh2vhuC4UBaZDvfQ4PhQDeJQWBhhOFAN4lBYHGF4UDJdr6feobhQJhuEoN0h+FA+n5qvGSI4UB9PzVeRonhQD0K16MgiuFATDeJQeSK4UAOLbKdr4vhQMl2vp9ejOFA3SQGgQ2N4UAxCKwcso3hQMl2vp9OjuFAbxKDwN6O4UCDwMqhZY/hQKabxCDkj+FAi2zn+1mQ4UA9CtejyJDhQH0/NV4ukeFA+n5qvIyR4UA9Ctej5JHhQEw3iUE4kuFAPQrXo4iS4UAUrkfh1pLhQAaBlUMjk+FAoBov3XCT4UD6fmq8vJPhQKAaL90IlOFADi2ynVOU4UCR7Xw/nZThQLTIdr7nlOFA3SQGgTWV4UBaZDvfh5XhQDEIrBzeleFA16NwPTaW4UDP91PjiZbhQMl2vp/aluFA7FG4HimX4UAAAAAAdJfhQG8Sg8DCl+FAyXa+nwqY4UBMN4lBVJjhQDeJQWCdmOFARrbz/eiY4UDsUbgeMZnhQDeJQWB5meFARrbz/cSZ4UCgGi/dDJrhQLpJDAJXmuFAN4lBYJ2a4UB9PzVe5prhQH0/NV42m+FARrbz/YSb4UBGtvP93JvhQFpkO98znOFAyXa+n5Kc4UCR7Xw/8ZzhQEw3iUFYneFAmG4Sg8Cd4UDdJAaBMZ7hQDEIrByinuFAaJHtfBef4UBvEoPAlp/hQKAaL90UoOFAMQisHJag4UAUrkfhIqHhQLTIdr6roeFAFK5H4Tqi4UDP91Pj0aLhQLpJDAJro+FAfT81Xgak4UBMN4lBpKThQIPAyqFFpeFAw/UoXOel4UA3iUFgiabhQClcj8I1p+FA3SQGgeWn4UApXI/ClajhQM/3U+NJqeFAoBov3fyp4UAj2/l+sqrhQCPb+X5uq+FA7FG4Hims4UDdJAaB5azhQDEIrBymreFAMQisHGqu4UCR7Xw/Ma/hQKabxCD4r+FAppvEIMSw4UBMN4lBkLHhQBSuR+FmsuFAaJHtfC+z4UAAAAAACLThQIts5/vhtOFA7FG4HrG14UCmm8QgkLbhQOxRuB5tt+FAPQrXo1C44UC6SQwCI7nhQKabxCAIuuFA3SQGge264UBaZDvf17vhQHWTGAS2vOFAz/dT46W94UDdJAaBhb7hQDEIrBx6v+FAoBov3WDA4UDD9ShcV8HhQMl2vp8+wuFAI9v5fjrD4UDdJAaBHcThQKabxCAcxeFAz/dT4w3G4UB9PzVeAsfhQEa28/34x+FAmG4Sg+zI4UCLbOf74cnhQDeJQWDZyuFAAAAAANzL4UCDwMqh2czhQHWTGATOzeFAtMh2vsPO4UCR7Xw/zc/hQBSuR+HG0OFAoBov3cDR4UAOLbKdy9LhQOxRuB7B0+FAPQrXo8TU4UA9CtejyNXhQGiR7XzL1uFAMQisHNbX4UAOLbKd39jhQG8Sg8De2eFAPQrXo+Da4UCYbhKD5NvhQG8Sg8Dq3OFAi2zn+wHe4UDJdr6fBt/hQBSuR+EK4OFAukkMAhvh4UApXI/CLeLhQGiR7Xwz4+FAke18Pznk4UBvEoPAUuXhQMl2vp9i5uFAaJHtfHPn4UC0yHa+e+jhQKabxCCM6eFAtMh2vpvq4UAOLbKdr+vhQDeJQWDF7OFAKVyPwsnt4UC6SQwC3+7hQMl2vp/y7+FA3SQGgQXx4UDy0k1iFPLhQPp+arww8+FAoBov3Tz04UAOLbKdV/XhQMl2vp9i9uFAg8DKoYH34UC0yHa+j/jhQEw3iUGg+eFAw/UoXL/64UAOLbKdz/vhQNejcD3i/OFA8tJNYgD+4UB9PzVeGv/hQAAAAAAwAOJAdZMYBEYB4kBvEoPAWgLiQA4tsp1zA+JARrbz/YgE4kC0yHa+pwXiQOxRuB65BuJAyXa+n94H4kB9PzVe8gjiQD0K16MQCuJAoBov3SgL4kA9CtejSAziQFpkO99fDeJAz/dT43UO4kDP91PjnQ/iQEw3iUG0EOJAAAAAANQR4kD6fmq89BLiQPLSTWIIFOJAbxKDwCIV4kDP91PjRRbiQIPAyqFpF+JA8tJNYoAY4kCYbhKDpBniQA4tsp27GuJA16NwPdYb4kD6fmq85BziQGiR7XzjHeJAAAAAANwe4kAj2/l+xh/iQD0K16OoIOJAI9v5fnYh4kAGgZVDQyLiQEw3iUEEI+JA7FG4Hrkj4kAxCKwcZiTiQClcj8IJJeJAMQisHJ4l4kBvEoPALibiQClcj8KxJuJAi2zn+zEn4kAAAAAApCfiQCPb+X4SKOJA3SQGgXUo4kD6fmq83CjiQN0kBoE9KeJAukkMAp8p4kBMN4lBACriQJHtfD9hKuJADi2yncMq4kBGtvP9JCviQCPb+X6KK+JAKVyPwvEr4kDsUbgeXSziQPp+arzMLOJAoBov3UAt4kApXI/CrS3iQFpkO98bLuJAfT81Xoou4kB9PzVe9i7iQJhuEoNkL+JA+n5qvNQv4kDdJAaBSTDiQPp+ary8MOJA8tJNYjQx4kCgGi/drDHiQKAaL90sMuJARrbz/bAy4kAj2/l+MjPiQAaBlUO7M+JAI9v5fkY04kBMN4lB2DTiQEw3iUFwNeJA8tJNYgg24kDdJAaBoTbiQEa28/08N+JAukkMAuM34kCgGi/djDjiQDeJQWAxOeJAtMh2vt854kDD9ShckzriQEa28/08O+JA+n5qvPQ74kAOLbKdrzziQFpkO99jPeJAPQrXoyg+4kCLbOf74T7iQEa28/2oP+JAI9v5fmZA4kAUrkfhLkHiQN0kBoEBQuJAKVyPwsVC4kCDwMqhlUPiQMP1KFxnROJAukkMAjtF4kBoke18E0biQBSuR+HmRuJAmG4Sg7xH4kApXI/CmUjiQGiR7Xx3SeJAAAAAAFhK4kC0yHa+N0viQMl2vp8aTOJARrbz/fxM4kCDwMqh5U3iQA4tsp3PTuJA+n5qvLhP4kDP91PjpVDiQH0/NV6SUeJABoGVQ39S4kAAAAAAaFPiQN0kBoFFVOJAAAAAACBV4kDJdr6f7lXiQJhuEoPIVuJAaJHtfKNX4kDsUbgecVjiQIts5/tJWeJATDeJQRRa4kAAAAAA1FriQPLSTWKgW+JAI9v5fmpc4kA9CtejLF3iQCPb+X7iXeJAtMh2vqNe4kAxCKwcWl/iQM/3U+MNYOJAukkMAsdg4kDy0k1idGHiQG8Sg8AiYuJATDeJQdRi4kC6SQwCf2PiQPLSTWIoZOJAaJHtfNNk4kBMN4lBgGXiQN0kBoE5ZuJAbxKDwOpm4kApXI/CnWfiQAaBlUNPaOJAoBov3Qhp4kCYbhKDyGniQBSuR+F+auJA7FG4HkFr4kCmm8Qg/GviQN0kBoHBbOJAz/dT44lt4kDdJAaBUW7iQBSuR+Eab+JAfT81Xt5v4kCDwMqhrXDiQLpJDAJ/ceJAFK5H4VJy4kDdJAaBHXPiQEw3iUH0c+JAz/dT48104kBMN4lBqHXiQPLSTWJ8duJAoBov3WB34kCDwMqhPXjiQN0kBoEdeeJAWmQ73/954kDy0k1i4HriQD0K16PIe+JA16NwPa584kBMN4lBjH3iQHWTGARefuJAaJHtfC9/4kAOLbKd63/iQNejcD2igOJAbxKDwFaB4kD6fmq8BILiQFpkO9+vguJA+n5qvGCD4kB1kxgEBoTiQIts5/uxhOJA8tJNYlSF4kAOLbKd+4XiQD0K16OkhuJAN4lBYFGH4kDdJAaB9YfiQDeJQWChiOJAbxKDwFKJ4kC0yHa+A4riQClcj8KxiuJAppvEIGiL4kAxCKwcHoziQJHtfD/VjOJAoBov3ZCN4kDD9ShcT47iQJhuEoMQj+JAppvEINSP4kAUrkfhlpDiQPp+arxckeJAdZMYBC6S4kA9Ctej+JLiQEa28/3Ek+JAukkMApOU4kBMN4lBZJXiQCPb+X4+luJA+n5qvBCX4kAAAAAA8JfiQDeJQWDFmOJARrbz/aiZ4kBaZDvff5riQClcj8Jhm+JAw/UoXEOc4kBoke18J53iQA4tsp0PnuJA3SQGgfGe4kC0yHa+35/iQKAaL93EoOJAFK5H4bah4kA3iUFgnaLiQIPAyqGRo+JAaJHtfIek4kCgGi/ddKXiQDEIrBxqpuJAWmQ731un4kA9CtejWKjiQGiR7XxDqeJAoBov3Uiq4kCDwMqhQaviQGiR7XwzrOJAppvEIDSt4kC6SQwCL67iQJHtfD8tr+JAtMh2vjew4kDD9ShcO7HiQLpJDAIzsuJA16NwPUKz4kDD9ShcO7TiQEa28/1AteJADi2ynUu24kCR7Xw/VbfiQA4tsp1fuOJATDeJQWy54kDP91PjbbriQMl2vp+Cu+JAmG4Sg4y84kA3iUFgmb3iQH0/NV6qvuJAyXa+n76/4kBGtvP9zMDiQHWTGATeweJAKVyPwunC4kAj2/l+9sPiQLpJDAITxeJA7FG4HiHG4kBg5dAiM8fiQN0kBoFByOJAYOXQImPJ4kAxCKwccsriQJhuEoOUy+JAke18P6XM4kC0yHa+t83iQBSuR+HezuJAMQisHPbP4kCgGi/dENHiQGiR7Xwn0uJAWmQ73zvT4kBoke18Y9TiQLpJDAJ71eJAoBov3aDW4kCDwMqhudfiQDeJQWDZ2OJAN4lBYPHZ4kBvEoPADtviQGiR7Xw73OJAg8DKoVXd4kC0yHa+b97iQIPAyqGd3+JAyXa+n7bg4kBoke18z+HiQClcj8L94uJAtMh2vhvk4kCR7Xw/SeXiQA4tsp1j5uJAoBov3YDn4kC0yHa+r+jiQCPb+X7O6eJAke18P/Hq4kBaZDvfH+ziQDeJQWA97eJAYOXQImPu4kDXo3A9iu/iQJHtfD+x8OJAukkMAtfx4kCmm8QgBPPiQGiR7Xwj9OJAmG4Sg0T14kBMN4lBePbiQLpJDAKj9+JAKVyPwrn44kD6fmq85PniQJhuEoMQ++JAYOXQIj/84kBg5dAiW/3iQN0kBoF9/uJADi2ynZP/4kAOLbKdjwDjQKabxCCMAeNAmG4Sg4AC40Dy0k1iYAPjQClcj8I1BONA3SQGgQEF40CYbhKDxAXjQMP1KFxzBuNAbxKDwCIH40ApXI/CxQfjQGDl0CJjCONA8tJNYvgI40Cmm8QgkAnjQPp+arwkCuNAfT81XrIK40Dy0k1iSAvjQNejcD3aC+NA16NwPXIM40BGtvP9DA3jQA4tsp2rDeNAPQrXo0wO40ApXI/C7Q7jQJhuEoOQD+NA16NwPTYQ40C6SQwC3xDjQJHtfD+JEeNAz/dT4zUS40BaZDvf7xLjQIts5/uhE+NA7FG4HlUU40A3iUFgCRXjQIts5/vBFeNADi2ynYMW40A3iUFgPRfjQJHtfD/5F+NAw/UoXLcY40DP91PjfRnjQEa28/08GuNA3SQGgf0a40AOLbKdvxvjQGDl0CKPHONAbxKDwFYd40A9CtejIB7jQLTIdr7rHuNAaJHtfLsf40Boke18iyDjQJHtfD9lIeNAMQisHDoi40DP91PjESPjQOxRuB7hI+NA8tJNYrgk40Boke18kyXjQD0K16NsJuNAMQisHEYn40A3iUFgLSjjQH0/NV4KKeNAAAAAAOwp40DP91PjzSrjQClcj8KtK+NAtMh2vp8s40Bg5dAigy3jQClcj8JpLuNAfT81XlIv40DD9ShcPzDjQA4tsp03MeNA8tJNYiAy40BGtvP9GDPjQPp+arwENONAaJHtfP8040CR7Xw/7TXjQJhuEoPoNuNAoBov3eQ340CgGi/d1DjjQFpkO9/TOeNAI9v5fsY640BaZDvfxzvjQIPAyqHJPONAaJHtfMM940BaZDvfuz7jQClcj8LBP+NA3SQGgb1A40CYbhKDyEHjQLpJDALDQuNAaJHtfM9D40BaZDvfy0TjQEw3iUHcReNAw/UoXNtG40A9Ctej7EfjQDeJQWDtSONAg8DKof1J40DJdr6fAkvjQD0K16MYTONAukkMAh9N40A9CtejME7jQAAAAAA4T+NA7FG4HlFQ40DdJAaBXVHjQG8Sg8BmUuNABoGVQ39T40C6SQwCi1TjQGiR7XyrVeNAke18P71W40A3iUFg0VfjQH0/NV7WWONA8tJNYvRZ40CR7Xw/BVvjQPLSTWIYXONAz/dT4zld40DsUbgeUV7jQCPb+X5iX+NAppvEIHhg40C0yHa+i2HjQDeJQWClYuNAfT81Xrpj40BvEoPA3mTjQBSuR+HqZeNAFK5H4RJn40B9PzVeKmjjQM/3U+NFaeNAN4lBYF1q40CYbhKDeGvjQM/3U+ORbONAI9v5fq5t40AAAAAAyG7jQOxRuB7lb+NA8tJNYgRx40CgGi/dIHLjQGDl0CI/c+NAbxKDwFp040CR7Xw/eXXjQM/3U+OVduNA3SQGgbV340ApXI/C0XjjQKabxCDweeNAz/dT4w1740DXo3A9LnzjQOxRuB5NfeNAMQisHG5+40DdJAaBjX/jQOxRuB6tgONA3SQGgc2B40A3iUFg7YLjQGDl0CIPhONAFK5H4S6F40DsUbgeYYbjQOxRuB51h+NAaJHtfJeI40DXo3A9uonjQDeJQWDdiuNARrbz/QCM40AOLbKdI43jQMl2vp9GjuNAAAAAAGyP40AAAAAAkJDjQGiR7Xy3keNAfT81Xt6S40D6fmq8BJTjQOxRuB4dleNARrbz/USW40CYbhKDWJfjQLpJDAJXmONAMQisHFaZ40A3iUFgPZrjQLpJDAInm+NAukkMAvub40C6SQwC05zjQPp+aryoneNAw/UoXG+e40AGgZVDL5/jQEa28/3sn+NAWmQ737Og40C6SQwCb6HjQAAAAAAoouNAw/UoXOui40AAAAAApKPjQM/3U+NZpONA7FG4Hhml40BvEoPAyqXjQJhuEoOEpuNAWmQ73zen40D6fmq84KfjQLpJDAKPqONA3SQGgTmp40C6SQwC26njQEw3iUGAquNAPQrXoySr40DXo3A9xqvjQMP1KFxrrONAYOXQIg+t40A3iUFgta3jQNejcD1eruNAWmQ73wev40DJdr6ftq/jQDEIrBxmsONAmG4Sgxix40D6fmq8zLHjQClcj8KFsuNA3SQGgT2z40CR7Xw/+bPjQDEIrBy2tONAI9v5fna140Boke18N7bjQKabxCAAt+NAYOXQIsO340Cmm8QgkLjjQLTIdr5TueNA8tJNYiC640BvEoPA8rrjQDEIrBy+u+NAz/dT45G840AUrkfhZr3jQGiR7Xw7vuNAFK5H4RK/40A9Ctej7L/jQMP1KFzHwONA7FG4HqXB40DXo3A9gsLjQLTIdr5jw+NAaJHtfEfE40Boke18J8XjQEa28/0IxuNAbxKDwPbG40AUrkfh2sfjQD0K16PAyONAfT81XrLJ40AxCKwcmsrjQIPAyqGRy+NAaJHtfHvM40Dy0k1iaM3jQJHtfD9hzuNA+n5qvFDP40DsUbgeQdDjQFpkO98/0eNA3SQGgTHS40DP91PjJdPjQAaBlUMj1ONAg8DKoR3V40B9PzVeEtbjQBSuR+EW1+NAtMh2vg/Y40BGtvP9FNnjQCPb+X4S2uNAukkMAg/b40Dy0k1iDNzjQAAAAAAQ3eNADi2ynRPe40CDwMqhGd/jQClcj8Il4ONAfT81Xi7h40BvEoPAKuLjQAAAAAA04+NA7FG4HkHk40Cmm8QgUOXjQA4tsp1T5uNAbxKDwGLn40AOLbKdZ+jjQG8Sg8B26eNA16NwPYrq40D6fmq8nOvjQAaBlUOv7ONAppvEILjt40A=",
          "dtype": "f8"
         },
         "xaxis": "x2",
         "y": {
          "bdata": "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",
          "dtype": "f8"
         },
         "yaxis": "y2"
        },
        {
         "hovertemplate": "Distance: %{x:.1f}m<br>RPM: %{y:.0f}<extra></extra>",
         "line": {
          "color": "#FF9F1C",
          "width": 3
         },
         "mode": "lines",
         "name": "RPM",
         "type": "scatter",
         "x": {
          "bdata": "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",
          "dtype": "f8"
         },
         "xaxis": "x3",
         "y": {
          "bdata": "DjJ/KoMqjCquKq4qwSriKukq+SoGKx8rJytGK00rbityK3grgiu9K8Mr0yvuK/4rDiwnLFssayxtLHAshSyLLJosuCzFLOws0iwZLREt+SwtLTMtUy1hLXctdy12LX0tgi2ILaAtpC3ELeMt6y3sLe4t+i0DLgcuEC4aLiEuNS42LmYuVy5vLoAubC6ULnIutC6RLogusy6jLsYuqi6/LtAuzi7YLu4u3C7hLt8uQy1UK5QpwydNJkEk2SLHJMEjESLMHoIiux9oHeQcbx01HDka9RYwGhwYKBYOFikYjBlfGNAZUBwhHgwcdxpAHjsfaCA2IlIj/x2CHaIcvBwoHfQbqBvcG+8bPhzwG9EbrxtLGysbaB1VHlAg7yGaIr4lQCYoKdIqnCwNL9ouNS3yKfYqTSyKLdMuRS/jMAcxKTJ2LrAtgS0QL5ovKTEqMD8zpjEVMlkteyv/KzksyCxaLbUtXC6+LnQvoyz6KpArmCuGLGosySz+LEctni0eLngu3C4XL5speymXKdspGSo/Kloqkiq8KgArRCsxK5ArqyvbK+MrNSxILGoslCz/LN4sEy3+LDgthC2WLbwtqS3iLfItFS4nLlcuhi7MLsIu1C4ELyYvWC88L0wzWipOKnEqayqVKogqjiqrKr8qvyrKKuIq4Sr1KgorFiseKzErSCtTK14rjStzK4MrjiuaK7IrvyvcK7wr0yvYK94r7CsqLCssLyweLCYsXCxHLE4sXSxcLO8qCymCJ1ElHCQXIsIkZiN/IQ8ezCEhH2YcYBpTHMcbGBrDFq4aPRr5GikauyCAH1weSB9iKXQrUC10LQ4tZSr4Jz4ofirSKQ0sLi6pLrwvTijWKdEqUStkLJQtHzBPL/UxlDKzLOkrVi0ALvUunS9UMK4wkDHxM60qFyvcK4QszCx+LQMujC4TL4Mvfyr7KnUrryskLIksziw6LX4t8y0zLosu+i5hL0YzlydlJSImqSTMJK8kuCTsI3Uj9yKiIgsikiGqJpck2SOzJCMkJCOcIkUi/SGBIsgi/yJ2I78jMSRvJNgkPCWuJTEmribqJnMnxCcSKIco6Sh7KbkpCyqmKvYqPyuQK/UrPiymLEktRC21LRIucSxdKnonCiUIJJEjOSKQIjAiwSEKJm4kZSYjKcgmrSY2J6gnhSgSKYopbSkfKoYqziqBKzgsnSzfLLotKC6BLggvIyq6KgYrOCumKyEsrCwNLQgtty3/LSYuYy43L/ousym1Kf0pOypmKsMqzyo5K30rnyv7KxcsPCxxLKgs4CwMLSMtYC2MLRAuOS4TLj8uvS6mLhQv7i5fMBgqaCpTKt0qhSrpKu0q5yrzKh0rMiuAK2Ir0ivUK6sr4SvoK+wrGiwfLDEsQixeLJYs0SyJLM0stCznLM8s/SzvLBUtBi0oLSUtWi1CLXctUC2JLWotmi2cLZIttC3ZLaotDy4HLgcu8C3/LfYtKS5/K7cppScQJoAk/yG8JAki5SGOH9QgNR4bHbYfViAqIU0jnSHRInYiEiMcJG4ksiQVJZ4lXSYQJ6UnBinxKFApJyn6KdYqYiupK4krhirnK4ks/SzMLK0tGy6CLjYvSSwLK9csEyrjK4EroCsXLEYsoSz6LDQthi2uLVcusi7GLiQvRy+6Mr0pACo4Knkqoyr+KlcrHSu2K60r8CsJLFAsZiywLM0s8SwsLVAtdy27Lc4tBy4mLlgudy6eLsYu2S4QLzcvTC9lL7gycSqFKqIqwSrEKuIq4ioDKworHis6K0UrRythK3grjiuDK5wrsCvBK90r0SvlKwMs/SsULBUsJSw4LDosTyxfLF8shix0LJcslyybLJ0sqyy8LMMszyzOLNUs5yztLAUt9iwaLQMtFy0ZLS0tNC07LTQtUi1DLaor6yn+JyMmOCRIIlIk+iIJJeogWiKgIUMheyYQJvolgyU7JbUkDiSLIw4jjyISIo8mlSTbI4klQSQjJWAllyU+JsImVCfiJ1ko8yhYKdgpWCrgKmQr2ytGLNIsQy2rLSUuoS4IL24vfyrPKjUrgiu3KwcsYSy8LBotZi2yLQguYC7WLuwuMy8HKqgp/SkcKl4qfiq5KvgqLitMK4IrrivgKyosUSx8LLAs2yzvLCYtbi3RLXstxy3fLRYuSy5jLo8uvS7MLvwuGS8+L04vZi8=",
          "dtype": "i2"
         },
         "yaxis": "y3"
        },
        {
         "hovertemplate": "Distance: %{x:.1f}m<br>Throttle: %{y:.3f}<extra></extra>",
         "line": {
          "color": "#2E8B57",
          "width": 3
         },
         "mode": "lines",
         "name": "Throttle",
         "type": "scatter",
         "x": {
          "bdata": "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",
          "dtype": "f8"
         },
         "xaxis": "x4",
         "y": {
          "bdata": "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",
          "dtype": "f8"
         },
         "yaxis": "y4"
        },
        {
         "hovertemplate": "Distance: %{x:.1f}m<br>Brake: %{y:.3f}<extra></extra>",
         "line": {
          "color": "#DC143C",
          "width": 3
         },
         "mode": "lines",
         "name": "Brake",
         "type": "scatter",
         "x": {
          "bdata": "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",
          "dtype": "f8"
         },
         "xaxis": "x5",
         "y": {
          "bdata": "AAAAAAAAAAAAAAAAAAAAAAAAAAAAAAAAAAAAAAAAAAAAAAAAAAAAAAAAAAAAAAAAAAAAAAAAAAAAAAAAAAAAAAAAAAAAAAAAAAAAAAAAAAAAAAAAAAAAAAAAAAAAAAAAAAAAAAAAAAAAAAAAAAAAAAAAAAAAAAAAAAAAAAAAAAAAAAAAAAAAAAAAAAAAAAAAAAAAAAAAAAAAAAAAAAAAAAAAAAAAAAAAAAAAAAAAAAAAAAAAAAAAAAAAAAAAAAAAAAAAAAAAAAAAAAAAAAAAAAAAAAAAAAAAAAAAAAAAAAAAAAAAAAAAAAAAAAAAAAAAAAAAAAAAAAAAAAAAAAAAAAAAAAAAAAAAAAAAAAAAAAAAAAAAAAAAAAAAAAAAAAAAAAAAAAAAAAAAAAAAAAAAAAAAAAAAAAAAAAAAAAAAAAAAAAAAAAAAAAAAAAAAAAAAAAAAAAAAAAAAAAAAAAAAAAAAAAAAAAAAAAAAAAAAAAAAAAAAAAAAAAAAAAAAAAAAAAAAAAAAAAAAAAAAAAAAAAAAAAAAAAAAAAAAAAAAAAAAAAAAAAAAAAAAAAAAAAAAAAAAAAAAAAAAAAAAAAAAAAAAAAAAAAAAAAAAAAAAAAAAAAAAAAAAAAAAAAAAAAAAAAAAAAAAAAAAAAAAAAAAAAAAAAAAAAAAAAAAAAAAAAAAAAAAAAAAAAAAAAAAAAAAAAAAAAAAAAAAAAAAAAAAAAAAAAAAAAAAAAAAAAAAAAAAAAAAAAAAAAAAAAAAAAAAAAAAAAAAAAAAAAAAAAAAAAAAAAAAAAAAAAAAAAAAAAAAAAAAAAAAAAAAAAAAAAAAAAAAAAAAAAAAAAAAAAAAAAAAAAAAAAAAAAAAAAAAAAAAAAAAAAAAAAAAAAAAAAAAAAAAAAAAAAAAAAAAAAAAAAAAAAAAAAAArkfhehSu7z+uR+F6FK7vP65H4XoUru8/rkfhehSu7z+uR+F6FK7vP65H4XoUru8/rkfhehSu7z+uR+F6FK7vP65H4XoUru8/rkfhehSu7z+uR+F6FK7vP65H4XoUru8/MzMzMzMz6z8fhetRuB7tP65H4XoUru8/uB6F61G47j+F61G4HoXrP0jhehSuR+k/pHA9Ctej6D/hehSuR+HqPxSuR+F6FOY/KVyPwvUo5D89CtejcD3iP3sUrkfheoQ/AAAAAAAAAAB7FK5H4XrEPwAAAAAAAAAAAAAAAAAAAAAAAAAAAAAAAAAAAAAAAAAAAAAAAAAAAAAAAAAAAAAAAAAAAAAAAAAAAAAAAAAAAAAAAAAAAAAAAAAAAAAAAAAAH4XrUbge5T8pXI/C9SjkP7gehetRuL4/AAAAAAAAAAAAAAAAAAAAAAAAAAAAAAAAAAAAAAAAAAAAAAAAAAAAAAAAAAAAAAAAAAAAAAAAAAAAAAAAAAAAAAAAAAAAAAAAAAAAAAAAAAAAAAAAAAAAAAAAAAAAAAAAAAAAAAAAAAAAAAAAAAAAAAAAAAAAAAAAAAAAAAAAAAAAAAAAAAAAAAAAAAAAAAAAAAAAAAAAAAAAAAAAAAAAAAAAAAAAAAAAAAAAAAAAAAAAAAAAAAAAAAAAAAAAAAAAAAAAAAAAAAAAAAAAAAAAAAAAAAAAAAAAAAAAAAAAAAAAAAAAAAAAAAAAAAAAAAAAAAAAAAAAAAAAAAAAAAAAAAAAAAAAAAAAAAAAAAAAAAAAAAAAAAAAAAAAAAAAAAAAAAAAAAAAAAAAAAAAAAAAAAAAAAAAAAAAAAAAAAAAAAAAAAAAAAAAAAAAAAAAAAAAAAAAAAAAAAAAAAAAAAAAAAAAAAAAAAAAAAAAAAAAAAAAAAAAAAAAAAAAAAAAAAAAAAAAAAAAAAAAAAAAAAAAAAAAAAAAAAAAAAAAAAAAAAAAAAAAAAAAAAAAAAAAAAAAAAAAAAAAAAAAAAAAAAAAAAAAAAAAAAAAAAAAAAAAAAAAAAAAAAAAAAAAAAAAAAAAAAAAAAAAAAAAAAAAAAAAAAAAAAAAAAAAAAAAAAAAAAAAAAAAAAAAAAAAAAAAAAAAAAAAAAAAAAAAAAAAAAAAAAAAAAAAAAAAAAAAAAAAAAAAAAAAAAAAAAAAAAAAAAAAAAAAAAAAAAAAAAAAAAAAAAAAAAAAAAAAAAAAAAAAAAAAAAAAAAAAAAAAAAAAAAAAAAAAAAAAAAAAAAAAAAAAAAAAAAAAAAAAAAAAAAAAAAAAAAAAAAAAAAAAAAAAAAAAAAAAAAAAAAAAAAAAAAAAAAAAAAAAAAAAAAAAAAAAAAAAAAAAAAAAAAAAAAAAAAAAAAAAAAAAAAAAAAAAAAAAAAAAAAAAAAAAAAAAAAAAAAAAAAAAAAAAAAAAAAAAAAAAAAAAAAAAAAAAAAAAAAAAAAAAAAAAAAAAAAAAAAAAAAAAAAAAAAAAAAAAAAAAAAAAAAAAAAAAAAAAAAAAAAAAAAAAAAAAAAAAAAAAAAAAAAAAAAAAAAAAAAAAAAAAAAAAAAAAAAAAAAAAAAAAAAAAAAAAAAAAAAAAAAAAAAAAAAAAAAAAAAAAAAAAAAAAAAAAAAAAAAAAAAAAAAAAAAAAAAAAAAAAAAAAAAAAAAAAAAAAAAAAAAAAAAAAAAAAAAAAAAAAAAAAAAAAAAAAAAAAAAAAAAAAAAAAAAAAAAAAAAAAAAAAAAAAAAAAAAAAAAAAAAAAAAAAAAAAAAAAAAAAAAAAAAAAAAAAAAAAAAAAAAAAAAAAAAAAAAAAAAAAAAAAAAAAAAAAAAAAAAAAAAAAAAAAAAAAAAAAAAAAAAAAAAAAAAAAAAAAAAAAAAAAAAAAAAAAAAAAAAAAAAAAAAAAAAAAAAAAAAAAAAAAAAAAAAAAAAAAAAAAAAAAAAAAAAAAAAAAAAAAAAAAAAAAAAAAAAAAAAAAAAAAAAAAAAAAAAAAAAAAAAAAAAAAAAAAAAAAAAAAAAAAAAAAAAAAAAAAAAAAAAAAAAAAAAAAAAAAAAAAAAAAAAAAAK5H4XoUru8/rkfhehSu7z+uR+F6FK7vP65H4XoUru8/rkfhehSu7z+uR+F6FK7vP65H4XoUru8/rkfhehSu7z+uR+F6FK7vP65H4XoUru8/hetRuB6F6z+uR+F6FK7vP/YoXI/C9eg/cT0K16Nw7T9mZmZmZmbmPxSuR+F6FO4/rkfhehSu7z+amZmZmZnpP/YoXI/C9eA/AAAAAAAAAACkcD0K16PAPwAAAAAAAAAAAAAAAAAAAAAAAAAAAAAAAAAAAAAAAAAAAAAAAAAAAAAAAAAAAAAAAAAAAAAAAAAAAAAAAAAAAAAAAAAAAAAAAAAAAAAAAAAA7FG4HoXr4T9SuB6F61HYPwAAAAAAAAAAAAAAAAAAAAAAAAAAAAAAAAAAAAAAAAAAAAAAAAAAAAAAAAAAAAAAAAAAAAAAAAAAAAAAAAAAAAAAAAAAAAAAAAAAAAAAAAAAAAAAAAAAAAAAAAAAAAAAAAAAAAAAAAAAAAAAAAAAAAAAAAAAAAAAAAAAAAAAAAAAAAAAAAAAAAAAAAAAAAAAAAAAAAAAAAAAAAAAAAAAAAAAAAAAAAAAAAAAAAAAAAAAAAAAAAAAAAAAAAAAAAAAAAAAAAAAAAAAAAAAAAAAAAAAAAAAAAAAAAAAAAAAAAAAAAAAAAAAAAAAAAAAAAAAAAAAAAAAAAAAAAAAAAAAAAAAAAAAAAAAAAAAAAAAAAAAAAAAAAAAAAAAAAAAAAAAAAAAAAAAAAAAAAAAAAAAAAAAAAAAAAAAAAAAAAAAAAAAAAAAAAAAAAAAAAAAAAAAAAAAAAAAAAAAAAAAAAAAAAAAAAAAAAAAAAAAAAAAAAAAAAAAAAAAAAAAAAAAAAAAAAAAAAAAAAAAAAAAAAAAAAAAAAAAAAAAAAAAAAAAAAAArkfhehSu7z+uR+F6FK7vPwAAAAAAAAAAw/UoXI/CxT8AAAAAAAAAAAAAAAAAAAAAAAAAAAAAAAAAAAAAAAAAAAAAAAAAAAAAAAAAAAAAAAAAAAAAAAAAAAAAAAAAAAAAAAAAAAAAAAAAAAAAAAAAAAAAAAAAAAAAAAAAAAAAAAAAAAAAAAAAAAAAAAAAAAAAAAAAAAAAAAAAAAAAAAAAAAAAAAAAAAAAAAAAAAAAAAAAAAAAAAAAAAAAAAAAAAAAAAAAAAAAAAAAAAAAAAAAAAAAAAAAAAAAAAAAAAAAAAAAAAAAAAAAAAAAAAAAAAAAAAAAAAAAAAAAAAAAAAAAAAAAAAAAAAAAAAAAAAAAAAAAAAAAAAAAAAAAAAAAAAAAAAAAAAAAAAAAAAAAAAAAAAAAAAAAAAAAAAAAAAAAAAAAAAAAAAAAAAAAAAAAAAAAAAAAAAAAAAAAAAAAAAAAAAAAAAAAAAAAAAAAAAAAAAAAAAAAAAAAAAAAAAAAAAAAAAAAAAAAAAAAAAAAAAAAAAAAAAAAAAAAAAAAAAAAAAAAAAAAAAAAAAAAAAAAAAAArkfhehSu7z+uR+F6FK7vP65H4XoUru8/rkfhehSu7z/Xo3A9CtfTPylcj8L1KOQ/SOF6FK5H0T8AAAAAAAAAAAAAAAAAAAAAexSuR+F6pD8AAAAAAAAAAAAAAAAAAAAAAAAAAAAAAAAAAAAAAAAAAAAAAAAAAAAAAAAAAAAAAAAAAAAAAAAAAAAAAAAAAAAAAAAAAAAAAAAAAAAAAAAAAAAAAAAAAAAAAAAAAAAAAAAAAAAAAAAAAAAAAAAAAAAAAAAAAAAAAAAAAAAAAAAAAAAAAAAAAAAAAAAAAAAAAAAAAAAAAAAAAAAAAAAAAAAAAAAAAAAAAAAAAAAAAAAAAAAAAAAAAAAAAAAAAAAAAAAAAAAAAAAAAAAAAAAAAAAAAAAAAAAAAAAAAAAAAAAAAAAAAAAAAAAAAAAAAAAAAAAAAAAAAAAAAAAAAAAAAAAAAAAAAAAAAAAAAAAAAAAAAAAAAAAAAAAAAAAAAAAAAAAAAAAAAAAAAAAAAAAAAAAAAAAAAAAAAAAAAAAAAAAAAAAAAAAAAAAAAAAAAAAAAAAAAAAAAAAAAAAAAAAAAAAAAAAAAAAAAAAAAAAAAAAAAAAAAAAAAAAAAAAAAAAAAAAAAAAAAAAAAAAAAAAAAAAAAAAAAAAAAAAAAAAAAAAAAAAAAAAAAAAAAAAAAAAAAAAAAAAAAAAAAAAAAAAAAAAAAAAAAAAAAAAAAAAAAAAAAAAAAAAAAAAAAAAAAAAAAAAAAAAAAAAAAAAAAAAAAAAAAAAAAAAAAAAAAAAAAAAAAAAAAAAAAAAAAAAAAAAAAAAAAAAAAAAAAAAAAAAAAAAAAAAAAAAAAAAAAAAAAAAAAAAAAAAAAAAAAAAAAAAAAAAAAAAAAAAAAAAAAAAAAAAAAAAAAAAAAAAAAAAAAAAAAAAAAAAAAAAAAAAAAAAAAAAAAAAAAAAAAAAAAAAAAAAAAAAAAAAAAAAAAAAAAAAAAAAAAAAAAAAAAAAAAAAAAAAAAAAAAAAAAAAAAAAAAAAAAAAAAAAAAAAAAAAAAAAAAAAAAAAAAAAAAAAAAAAAAAAAAAAAAAAAAAAAAAAAAAAAAAAAAAAAAAAAAAAAAAAAAAAAAAAAAAAAAAAAAAAAAAAAAAAAAAAAAAAAAAAAAAAAAAAAAAAAAAAAAAAAAAAAAAAAAAAAAAAAAAAAAAAAAAAAAAAAAAAAAAAAAAAAAAAAAAAAAAAAAAAAAAAAAAAAAAAAAAAAAAAAAAAAAAAAAAAAAAAAAAAAAAAAAAAAAAAAAAAAAAAAAAAAAAAAAAAAAAAAAAAAAAAAAAAAAAAAAAAAAAAAAAAAAAAAAAAAAAAAAAAAAAAAAAAAAAAAAAAAAAAAAAAAAAAAAAAAAAAAAAAAAAAAAAAAAAAAAAAAAAAAAAAAAAAAAACuR+F6FK7vP65H4XoUru8/rkfhehSu7z+uR+F6FK7vP65H4XoUru8/rkfhehSu7z+uR+F6FK7vP65H4XoUru8/rkfhehSu7z+uR+F6FK7vP65H4XoUru8/rkfhehSu7z9I4XoUrkfRPwAAAAAAAAAAUrgehetR2D97FK5H4Xq0PwAAAAAAAAAAAAAAAAAAAAAAAAAAAAAAAAAAAAAAAAAAAAAAAAAAAAAAAAAAAAAAAAAAAAAAAAAAAAAAAAAAAAAAAAAAAAAAAAAAAAAAAAAAAAAAAAAAAAAAAAAAAAAAAAAAAAAAAAAAAAAAAAAAAAAAAAAAAAAAAAAAAAAAAAAAAAAAAAAAAAAAAAAAAAAAAAAAAAAAAAAAAAAAAAAAAAAAAAAAAAAAAAAAAAAAAAAAAAAAAAAAAAAAAAAAAAAAAAAAAAAAAAAAAAAAAAAAAAAAAAAAAAAAAAAAAAAAAAAAAAAAAAAAAAAAAAAAAAAAAAAAAAAAAAAAAAAAAAAAAAAAAAAAAAAAAAAAAAAAAAAAAAAAAAAAAAAAAAAAAAAAAAAAAAAAAAAAAAAAAAAAAAAAAAAAAAAAAAAAAAAAAAAAAAAAAAAAAAAAAAAAAAAAAAAAAAAAAAAAAAAAAAAAAAAAAAAAAAAAAAAAAAAAAAAAAAAAAAAAAAAAAAAAAAAAAAAAAAAAAAAAAAAAAAAAAAAAAAAAAAAAAAAAAAAAAAAAAAAAAAAAAAAAAAAAAAAAAAAAAAAAAAAAAAAAAAAAAAAAAAAAAAAAAAAAAAAAAAAAAAAAAAAAAAAAAAAAAAAAAAAAAAAAAAAAAAAAAAAAAAAAAAAAAAAAAAAAAAAAAAAAAAAAAAAAAAAAAAAAAAAAAAAAAAAAAAAAAAAAAAAAAAAAAAAAAAAAAAAAAAAAAAAAAAAAAAAAAAAAAAAAAAAAAAAAAAAAAAAAAAAAAAAAAAAAAAAAAAAAAAAAAAAAAAAAAAAAAAAAAAAAAAAAAAAAAAAAAAAAAAAAAAAAAAAAAAAAAAAAAAAAAAAAAAAAAAAAAAAAAAAAAAAAAAAAAAAAAAAAAAAAAAAAAAAAAAAAAAAAAAAAAAAAAAAAAAAAAAAAAAAAAAAAAAAAAAAAAAAAAAAAAAAAAAAAAAAAAAAAAAAAAAAAAAAAAAAAAAAAAAAAAAAAAAAAAAAAAAAAAAAAAAAAAAAAAAAAAAAAAAAAAAAAAAAAAAAAAAAAAAAAAAAAAAAAAAAAAAAAAAAAAAAAAAAAAAAAAAAAAAAAAAAAAAAAAAAAAAAAAAAAAAAAAAAAAAAAAAAAAAAAAAAAAAAAAAAAAAAAAAAAAAAAAAAAAAAAAAAAAAAAAAAAAAAAAAAAAAAAAAAAAAAAAAAAAAAAAAAAAAAAAAAAAAAAAAAAAAAAAAAAAAAAAAAAAAAAAAAAAAAAAAAAAAAAAAAAAAAAAAAAAAAAAAAAAAAAAAAAAAAAAAAAAAAAAAAAAAAAAAAAAAAAAAAAAAAAAAAAAAAAAAAAAAAAAAAAAAAAAAAAAAAAAAAAAAAAAAAAAAAAAAAAAAAAAAAAAAAAAAAAAAAAAAAAAAAAAAAAAAAAAAAAAAAAAAAAAAAAAAAAAAAAAAAAAAAAAAAAAAAAAAAAAAAAAAAAAAAAAAAAAAAAAAAAAAAAAAAAAAAAAAAAAAAAAAAAAAAAAAAAAAAAAAAAAAAAAK5H4XoUru8/rkfhehSu7z+uR+F6FK7vP65H4XoUru8/rkfhehSu7z+uR+F6FK7vP65H4XoUru8/XI/C9Shc3z8AAAAAAAAAAFK4HoXrUeg/AAAAAAAAAAAAAAAAAAAAAAAAAAAAAAAAAAAAAAAAAAAAAAAAAAAAAAAAAAAAAAAAAAAAAAAAAAAAAAAAAAAAAAAAAAAAAAAAAAAAAAAAAAAAAAAAAAAAAAAAAAAAAAAAAAAAAAAAAAAAAAAAAAAAAAAAAAAAAAAAAAAAAAAAAAAAAAAAAAAAAAAAAAAAAAAAAAAAAAAAAAAAAAAAAAAAAAAAAAAAAAAAAAAAAAAAAAAAAAAAAAAAAAAAAAAAAAAAAAAAAAAAAAAAAAAAAAAAAAAAAAAAAAAAAAAAAAAAAAAAAAAAAAAAAAAAAAAAAAAAAAAAAAAAAAAAAAAAAAAAAAAAAAAAAAAAAAAAAAAAAAAAAAAAAAAAAAAAAAAAAAAAAAAAAAAAAAAAAAAAAAAAAAAAAAAAAAAAAAAAAAAAAAAAAAAAAAAAAAAAAAAAAAAAAAAAAAAAAAAAAAAAAAAAAAAAAAAAAAAAAAAAAAAAAAAAAAAAAAAAAAAAAAAAAAAAAAAAAAAAAAAAAAAAAAAAAAAAAAAAAAAAAAAAAAAAAAAAAAAAAAAAAAAAAAAAAAAAAAAAAAAAAAAAAAAAAAAAAAAAAAAAAAAAAAAAAAAAAAAAAAAAAAAAAAAAAAAAAAAAAAAAAAAAAAAAAAAAAAAAAAAAAAAAAAAAAAAAAAAAAAAAAAAAAAAAAAAAAAAAAAAAAAAAAAAAAAAAAAAAAAAAAAAAAAAAAAAAAAAAAAAAAAAAAAAAAAAAAAAAAAAAAAAAAAAAAAAAAAAAAAAAAAAAAAAAAAAAAAAAAAAAAAAAAAAAAAAAAAAAAAAAAAAAAAAAAAAAAAAAAAAAAAAAAAAAAAAAAAAAAAAAAAAAAAAAAAAAAAAAAAAAAAAAAAAAAAAAAAAAAAAAAAAAAAAAAAAAAAAAAAAAAAAAAAAAAAAAAAAAAAAAAAAAAAAAAAAAAAAAAAAAAAAAAAAAAAAAAAAAAAAAAAAAAAAAAAAAAAAAAAA=",
          "dtype": "f8"
         },
         "yaxis": "y5"
        },
        {
         "hovertemplate": "Distance: %{x:.1f}m<br>Steering: %{y:.3f}<extra></extra>",
         "line": {
          "color": "#8A2BE2",
          "width": 3
         },
         "mode": "lines",
         "name": "Steering",
         "type": "scatter",
         "x": {
          "bdata": "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",
          "dtype": "f8"
         },
         "xaxis": "x6",
         "y": {
          "bdata": "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",
          "dtype": "f8"
         },
         "yaxis": "y6"
        }
       ],
       "layout": {
        "annotations": [
         {
          "font": {
           "size": 16
          },
          "showarrow": false,
          "text": "Gear vs Distance",
          "x": 0.13999999999999999,
          "xanchor": "center",
          "xref": "paper",
          "y": 1,
          "yanchor": "bottom",
          "yref": "paper"
         },
         {
          "font": {
           "size": 16
          },
          "showarrow": false,
          "text": "Speed vs Distance",
          "x": 0.49999999999999994,
          "xanchor": "center",
          "xref": "paper",
          "y": 1,
          "yanchor": "bottom",
          "yref": "paper"
         },
         {
          "font": {
           "size": 16
          },
          "showarrow": false,
          "text": "RPM vs Distance",
          "x": 0.86,
          "xanchor": "center",
          "xref": "paper",
          "y": 1,
          "yanchor": "bottom",
          "yref": "paper"
         },
         {
          "font": {
           "size": 16
          },
          "showarrow": false,
          "text": "Throttle vs Distance",
          "x": 0.13999999999999999,
          "xanchor": "center",
          "xref": "paper",
          "y": 0.425,
          "yanchor": "bottom",
          "yref": "paper"
         },
         {
          "font": {
           "size": 16
          },
          "showarrow": false,
          "text": "Brake vs Distance",
          "x": 0.49999999999999994,
          "xanchor": "center",
          "xref": "paper",
          "y": 0.425,
          "yanchor": "bottom",
          "yref": "paper"
         },
         {
          "font": {
           "size": 16
          },
          "showarrow": false,
          "text": "Steering vs Distance",
          "x": 0.86,
          "xanchor": "center",
          "xref": "paper",
          "y": 0.425,
          "yanchor": "bottom",
          "yref": "paper"
         }
        ],
        "height": 600,
        "paper_bgcolor": "white",
        "plot_bgcolor": "white",
        "showlegend": false,
        "template": {
         "data": {
          "bar": [
           {
            "error_x": {
             "color": "#2a3f5f"
            },
            "error_y": {
             "color": "#2a3f5f"
            },
            "marker": {
             "line": {
              "color": "#E5ECF6",
              "width": 0.5
             },
             "pattern": {
              "fillmode": "overlay",
              "size": 10,
              "solidity": 0.2
             }
            },
            "type": "bar"
           }
          ],
          "barpolar": [
           {
            "marker": {
             "line": {
              "color": "#E5ECF6",
              "width": 0.5
             },
             "pattern": {
              "fillmode": "overlay",
              "size": 10,
              "solidity": 0.2
             }
            },
            "type": "barpolar"
           }
          ],
          "carpet": [
           {
            "aaxis": {
             "endlinecolor": "#2a3f5f",
             "gridcolor": "white",
             "linecolor": "white",
             "minorgridcolor": "white",
             "startlinecolor": "#2a3f5f"
            },
            "baxis": {
             "endlinecolor": "#2a3f5f",
             "gridcolor": "white",
             "linecolor": "white",
             "minorgridcolor": "white",
             "startlinecolor": "#2a3f5f"
            },
            "type": "carpet"
           }
          ],
          "choropleth": [
           {
            "colorbar": {
             "outlinewidth": 0,
             "ticks": ""
            },
            "type": "choropleth"
           }
          ],
          "contour": [
           {
            "colorbar": {
             "outlinewidth": 0,
             "ticks": ""
            },
            "colorscale": [
             [
              0,
              "#0d0887"
             ],
             [
              0.1111111111111111,
              "#46039f"
             ],
             [
              0.2222222222222222,
              "#7201a8"
             ],
             [
              0.3333333333333333,
              "#9c179e"
             ],
             [
              0.4444444444444444,
              "#bd3786"
             ],
             [
              0.5555555555555556,
              "#d8576b"
             ],
             [
              0.6666666666666666,
              "#ed7953"
             ],
             [
              0.7777777777777778,
              "#fb9f3a"
             ],
             [
              0.8888888888888888,
              "#fdca26"
             ],
             [
              1,
              "#f0f921"
             ]
            ],
            "type": "contour"
           }
          ],
          "contourcarpet": [
           {
            "colorbar": {
             "outlinewidth": 0,
             "ticks": ""
            },
            "type": "contourcarpet"
           }
          ],
          "heatmap": [
           {
            "colorbar": {
             "outlinewidth": 0,
             "ticks": ""
            },
            "colorscale": [
             [
              0,
              "#0d0887"
             ],
             [
              0.1111111111111111,
              "#46039f"
             ],
             [
              0.2222222222222222,
              "#7201a8"
             ],
             [
              0.3333333333333333,
              "#9c179e"
             ],
             [
              0.4444444444444444,
              "#bd3786"
             ],
             [
              0.5555555555555556,
              "#d8576b"
             ],
             [
              0.6666666666666666,
              "#ed7953"
             ],
             [
              0.7777777777777778,
              "#fb9f3a"
             ],
             [
              0.8888888888888888,
              "#fdca26"
             ],
             [
              1,
              "#f0f921"
             ]
            ],
            "type": "heatmap"
           }
          ],
          "histogram": [
           {
            "marker": {
             "pattern": {
              "fillmode": "overlay",
              "size": 10,
              "solidity": 0.2
             }
            },
            "type": "histogram"
           }
          ],
          "histogram2d": [
           {
            "colorbar": {
             "outlinewidth": 0,
             "ticks": ""
            },
            "colorscale": [
             [
              0,
              "#0d0887"
             ],
             [
              0.1111111111111111,
              "#46039f"
             ],
             [
              0.2222222222222222,
              "#7201a8"
             ],
             [
              0.3333333333333333,
              "#9c179e"
             ],
             [
              0.4444444444444444,
              "#bd3786"
             ],
             [
              0.5555555555555556,
              "#d8576b"
             ],
             [
              0.6666666666666666,
              "#ed7953"
             ],
             [
              0.7777777777777778,
              "#fb9f3a"
             ],
             [
              0.8888888888888888,
              "#fdca26"
             ],
             [
              1,
              "#f0f921"
             ]
            ],
            "type": "histogram2d"
           }
          ],
          "histogram2dcontour": [
           {
            "colorbar": {
             "outlinewidth": 0,
             "ticks": ""
            },
            "colorscale": [
             [
              0,
              "#0d0887"
             ],
             [
              0.1111111111111111,
              "#46039f"
             ],
             [
              0.2222222222222222,
              "#7201a8"
             ],
             [
              0.3333333333333333,
              "#9c179e"
             ],
             [
              0.4444444444444444,
              "#bd3786"
             ],
             [
              0.5555555555555556,
              "#d8576b"
             ],
             [
              0.6666666666666666,
              "#ed7953"
             ],
             [
              0.7777777777777778,
              "#fb9f3a"
             ],
             [
              0.8888888888888888,
              "#fdca26"
             ],
             [
              1,
              "#f0f921"
             ]
            ],
            "type": "histogram2dcontour"
           }
          ],
          "mesh3d": [
           {
            "colorbar": {
             "outlinewidth": 0,
             "ticks": ""
            },
            "type": "mesh3d"
           }
          ],
          "parcoords": [
           {
            "line": {
             "colorbar": {
              "outlinewidth": 0,
              "ticks": ""
             }
            },
            "type": "parcoords"
           }
          ],
          "pie": [
           {
            "automargin": true,
            "type": "pie"
           }
          ],
          "scatter": [
           {
            "fillpattern": {
             "fillmode": "overlay",
             "size": 10,
             "solidity": 0.2
            },
            "type": "scatter"
           }
          ],
          "scatter3d": [
           {
            "line": {
             "colorbar": {
              "outlinewidth": 0,
              "ticks": ""
             }
            },
            "marker": {
             "colorbar": {
              "outlinewidth": 0,
              "ticks": ""
             }
            },
            "type": "scatter3d"
           }
          ],
          "scattercarpet": [
           {
            "marker": {
             "colorbar": {
              "outlinewidth": 0,
              "ticks": ""
             }
            },
            "type": "scattercarpet"
           }
          ],
          "scattergeo": [
           {
            "marker": {
             "colorbar": {
              "outlinewidth": 0,
              "ticks": ""
             }
            },
            "type": "scattergeo"
           }
          ],
          "scattergl": [
           {
            "marker": {
             "colorbar": {
              "outlinewidth": 0,
              "ticks": ""
             }
            },
            "type": "scattergl"
           }
          ],
          "scattermap": [
           {
            "marker": {
             "colorbar": {
              "outlinewidth": 0,
              "ticks": ""
             }
            },
            "type": "scattermap"
           }
          ],
          "scattermapbox": [
           {
            "marker": {
             "colorbar": {
              "outlinewidth": 0,
              "ticks": ""
             }
            },
            "type": "scattermapbox"
           }
          ],
          "scatterpolar": [
           {
            "marker": {
             "colorbar": {
              "outlinewidth": 0,
              "ticks": ""
             }
            },
            "type": "scatterpolar"
           }
          ],
          "scatterpolargl": [
           {
            "marker": {
             "colorbar": {
              "outlinewidth": 0,
              "ticks": ""
             }
            },
            "type": "scatterpolargl"
           }
          ],
          "scatterternary": [
           {
            "marker": {
             "colorbar": {
              "outlinewidth": 0,
              "ticks": ""
             }
            },
            "type": "scatterternary"
           }
          ],
          "surface": [
           {
            "colorbar": {
             "outlinewidth": 0,
             "ticks": ""
            },
            "colorscale": [
             [
              0,
              "#0d0887"
             ],
             [
              0.1111111111111111,
              "#46039f"
             ],
             [
              0.2222222222222222,
              "#7201a8"
             ],
             [
              0.3333333333333333,
              "#9c179e"
             ],
             [
              0.4444444444444444,
              "#bd3786"
             ],
             [
              0.5555555555555556,
              "#d8576b"
             ],
             [
              0.6666666666666666,
              "#ed7953"
             ],
             [
              0.7777777777777778,
              "#fb9f3a"
             ],
             [
              0.8888888888888888,
              "#fdca26"
             ],
             [
              1,
              "#f0f921"
             ]
            ],
            "type": "surface"
           }
          ],
          "table": [
           {
            "cells": {
             "fill": {
              "color": "#EBF0F8"
             },
             "line": {
              "color": "white"
             }
            },
            "header": {
             "fill": {
              "color": "#C8D4E3"
             },
             "line": {
              "color": "white"
             }
            },
            "type": "table"
           }
          ]
         },
         "layout": {
          "annotationdefaults": {
           "arrowcolor": "#2a3f5f",
           "arrowhead": 0,
           "arrowwidth": 1
          },
          "autotypenumbers": "strict",
          "coloraxis": {
           "colorbar": {
            "outlinewidth": 0,
            "ticks": ""
           }
          },
          "colorscale": {
           "diverging": [
            [
             0,
             "#8e0152"
            ],
            [
             0.1,
             "#c51b7d"
            ],
            [
             0.2,
             "#de77ae"
            ],
            [
             0.3,
             "#f1b6da"
            ],
            [
             0.4,
             "#fde0ef"
            ],
            [
             0.5,
             "#f7f7f7"
            ],
            [
             0.6,
             "#e6f5d0"
            ],
            [
             0.7,
             "#b8e186"
            ],
            [
             0.8,
             "#7fbc41"
            ],
            [
             0.9,
             "#4d9221"
            ],
            [
             1,
             "#276419"
            ]
           ],
           "sequential": [
            [
             0,
             "#0d0887"
            ],
            [
             0.1111111111111111,
             "#46039f"
            ],
            [
             0.2222222222222222,
             "#7201a8"
            ],
            [
             0.3333333333333333,
             "#9c179e"
            ],
            [
             0.4444444444444444,
             "#bd3786"
            ],
            [
             0.5555555555555556,
             "#d8576b"
            ],
            [
             0.6666666666666666,
             "#ed7953"
            ],
            [
             0.7777777777777778,
             "#fb9f3a"
            ],
            [
             0.8888888888888888,
             "#fdca26"
            ],
            [
             1,
             "#f0f921"
            ]
           ],
           "sequentialminus": [
            [
             0,
             "#0d0887"
            ],
            [
             0.1111111111111111,
             "#46039f"
            ],
            [
             0.2222222222222222,
             "#7201a8"
            ],
            [
             0.3333333333333333,
             "#9c179e"
            ],
            [
             0.4444444444444444,
             "#bd3786"
            ],
            [
             0.5555555555555556,
             "#d8576b"
            ],
            [
             0.6666666666666666,
             "#ed7953"
            ],
            [
             0.7777777777777778,
             "#fb9f3a"
            ],
            [
             0.8888888888888888,
             "#fdca26"
            ],
            [
             1,
             "#f0f921"
            ]
           ]
          },
          "colorway": [
           "#636efa",
           "#EF553B",
           "#00cc96",
           "#ab63fa",
           "#FFA15A",
           "#19d3f3",
           "#FF6692",
           "#B6E880",
           "#FF97FF",
           "#FECB52"
          ],
          "font": {
           "color": "#2a3f5f"
          },
          "geo": {
           "bgcolor": "white",
           "lakecolor": "white",
           "landcolor": "#E5ECF6",
           "showlakes": true,
           "showland": true,
           "subunitcolor": "white"
          },
          "hoverlabel": {
           "align": "left"
          },
          "hovermode": "closest",
          "mapbox": {
           "style": "light"
          },
          "paper_bgcolor": "white",
          "plot_bgcolor": "#E5ECF6",
          "polar": {
           "angularaxis": {
            "gridcolor": "white",
            "linecolor": "white",
            "ticks": ""
           },
           "bgcolor": "#E5ECF6",
           "radialaxis": {
            "gridcolor": "white",
            "linecolor": "white",
            "ticks": ""
           }
          },
          "scene": {
           "xaxis": {
            "backgroundcolor": "#E5ECF6",
            "gridcolor": "white",
            "gridwidth": 2,
            "linecolor": "white",
            "showbackground": true,
            "ticks": "",
            "zerolinecolor": "white"
           },
           "yaxis": {
            "backgroundcolor": "#E5ECF6",
            "gridcolor": "white",
            "gridwidth": 2,
            "linecolor": "white",
            "showbackground": true,
            "ticks": "",
            "zerolinecolor": "white"
           },
           "zaxis": {
            "backgroundcolor": "#E5ECF6",
            "gridcolor": "white",
            "gridwidth": 2,
            "linecolor": "white",
            "showbackground": true,
            "ticks": "",
            "zerolinecolor": "white"
           }
          },
          "shapedefaults": {
           "line": {
            "color": "#2a3f5f"
           }
          },
          "ternary": {
           "aaxis": {
            "gridcolor": "white",
            "linecolor": "white",
            "ticks": ""
           },
           "baxis": {
            "gridcolor": "white",
            "linecolor": "white",
            "ticks": ""
           },
           "bgcolor": "#E5ECF6",
           "caxis": {
            "gridcolor": "white",
            "linecolor": "white",
            "ticks": ""
           }
          },
          "title": {
           "x": 0.05
          },
          "xaxis": {
           "automargin": true,
           "gridcolor": "white",
           "linecolor": "white",
           "ticks": "",
           "title": {
            "standoff": 15
           },
           "zerolinecolor": "white",
           "zerolinewidth": 2
          },
          "yaxis": {
           "automargin": true,
           "gridcolor": "white",
           "linecolor": "white",
           "ticks": "",
           "title": {
            "standoff": 15
           },
           "zerolinecolor": "white",
           "zerolinewidth": 2
          }
         }
        },
        "title": {
         "font": {
          "size": 16
         },
         "text": "Lap 4 - Telemetry Analysis (817 samples)"
        },
        "xaxis": {
         "anchor": "y",
         "domain": [
          0,
          0.27999999999999997
         ],
         "gridcolor": "lightgray",
         "gridwidth": 1,
         "showgrid": true,
         "showticklabels": false
        },
        "xaxis2": {
         "anchor": "y2",
         "domain": [
          0.36,
          0.6399999999999999
         ],
         "gridcolor": "lightgray",
         "gridwidth": 1,
         "showgrid": true,
         "showticklabels": false
        },
        "xaxis3": {
         "anchor": "y3",
         "domain": [
          0.72,
          1
         ],
         "gridcolor": "lightgray",
         "gridwidth": 1,
         "showgrid": true,
         "showticklabels": false
        },
        "xaxis4": {
         "anchor": "y4",
         "domain": [
          0,
          0.27999999999999997
         ],
         "gridcolor": "lightgray",
         "gridwidth": 1,
         "showgrid": true,
         "title": {
          "text": "Distance (m)"
         }
        },
        "xaxis5": {
         "anchor": "y5",
         "domain": [
          0.36,
          0.6399999999999999
         ],
         "gridcolor": "lightgray",
         "gridwidth": 1,
         "showgrid": true,
         "title": {
          "text": "Distance (m)"
         }
        },
        "xaxis6": {
         "anchor": "y6",
         "domain": [
          0.72,
          1
         ],
         "gridcolor": "lightgray",
         "gridwidth": 1,
         "showgrid": true,
         "title": {
          "text": "Distance (m)"
         }
        },
        "yaxis": {
         "anchor": "x",
         "domain": [
          0.575,
          1
         ],
         "gridcolor": "lightgray",
         "gridwidth": 1,
         "showgrid": true,
         "title": {
          "text": "Gear"
         }
        },
        "yaxis2": {
         "anchor": "x2",
         "domain": [
          0.575,
          1
         ],
         "gridcolor": "lightgray",
         "gridwidth": 1,
         "showgrid": true,
         "title": {
          "text": "Speed (km/h)"
         }
        },
        "yaxis3": {
         "anchor": "x3",
         "domain": [
          0.575,
          1
         ],
         "gridcolor": "lightgray",
         "gridwidth": 1,
         "showgrid": true,
         "title": {
          "text": "RPM"
         }
        },
        "yaxis4": {
         "anchor": "x4",
         "domain": [
          0,
          0.425
         ],
         "gridcolor": "lightgray",
         "gridwidth": 1,
         "showgrid": true,
         "title": {
          "text": "Throttle (0-1)"
         }
        },
        "yaxis5": {
         "anchor": "x5",
         "domain": [
          0,
          0.425
         ],
         "gridcolor": "lightgray",
         "gridwidth": 1,
         "showgrid": true,
         "title": {
          "text": "Brake (0-1)"
         }
        },
        "yaxis6": {
         "anchor": "x6",
         "domain": [
          0,
          0.425
         ],
         "gridcolor": "lightgray",
         "gridwidth": 1,
         "showgrid": true,
         "title": {
          "text": "Steering"
         }
        }
       }
      }
     },
     "metadata": {},
     "output_type": "display_data"
    }
   ],
   "source": [
    "# Interactive telemetry visualization dashboard using Plotly\n",
    "# Creates comprehensive 2x3 grid layout for each lap with all key parameters\n",
    "\n",
    "for lap in available_laps:\n",
    "    lap_df = rows_for_lap(df, lap)\n",
    "    if lap_df.empty:\n",
    "        continue\n",
    "\n",
    "    # Create comprehensive subplot layout: 2 rows × 3 columns\n",
    "    fig = make_subplots(\n",
    "        rows=2, cols=3,\n",
    "        subplot_titles=('Gear vs Distance', 'Speed vs Distance', 'RPM vs Distance',\n",
    "                       'Throttle vs Distance', 'Brake vs Distance', 'Steering vs Distance'),\n",
    "        vertical_spacing=0.15,\n",
    "        horizontal_spacing=0.08\n",
    "    )\n",
    "\n",
    "    # Modern color palette for consistent visual identity\n",
    "    colors = {\n",
    "        'gear': '#FF6B35',      # Orange-red for gear changes\n",
    "        'speed': '#004E89',     # Deep blue for speed profile\n",
    "        'rpm': '#FF9F1C',       # Golden orange for engine RPM\n",
    "        'throttle': '#2E8B57',  # Sea green for throttle input\n",
    "        'brake': '#DC143C',     # Crimson for brake input\n",
    "        'steering': '#8A2BE2'   # Blue violet for steering input\n",
    "    }\n",
    "\n",
    "    # Row 1, Column 1: Gear Progression Analysis\n",
    "    if 'Gear' in lap_df.columns and not lap_df['Gear'].isna().all():\n",
    "        fig.add_trace(\n",
    "            go.Scatter(\n",
    "                x=lap_df['Distance'], \n",
    "                y=lap_df['Gear'],\n",
    "                mode='lines',\n",
    "                line=dict(color=colors['gear'], width=3, shape='hv'),  # Step-like for gear changes\n",
    "                name='Gear',\n",
    "                hovertemplate='Distance: %{x:.1f}m<br>Gear: %{y}<extra></extra>'\n",
    "            ),\n",
    "            row=1, col=1\n",
    "        )\n",
    "    else:\n",
    "        fig.add_annotation(\n",
    "            x=0.5, y=0.5, xref='x domain', yref='y domain',\n",
    "            text=\"No Gear Data Available\", showarrow=False,\n",
    "            row=1, col=1\n",
    "        )\n",
    "\n",
    "    # Row 1, Column 2: Speed Profile Analysis\n",
    "    fig.add_trace(\n",
    "        go.Scatter(\n",
    "            x=lap_df['Distance'], \n",
    "            y=lap_df['Speed_kmh'],\n",
    "            mode='lines',\n",
    "            line=dict(color=colors['speed'], width=3),\n",
    "            name='Speed',\n",
    "            hovertemplate='Distance: %{x:.1f}m<br>Speed: %{y:.1f} km/h<extra></extra>'\n",
    "        ),\n",
    "        row=1, col=2\n",
    "    )\n",
    "\n",
    "    # Row 1, Column 3: Engine RPM Analysis\n",
    "    if 'RPM' in lap_df.columns and not lap_df['RPM'].isna().all():\n",
    "        fig.add_trace(\n",
    "            go.Scatter(\n",
    "                x=lap_df['Distance'], \n",
    "                y=lap_df['RPM'],\n",
    "                mode='lines',\n",
    "                line=dict(color=colors['rpm'], width=3),\n",
    "                name='RPM',\n",
    "                hovertemplate='Distance: %{x:.1f}m<br>RPM: %{y:.0f}<extra></extra>'\n",
    "            ),\n",
    "            row=1, col=3\n",
    "        )\n",
    "    else:\n",
    "        fig.add_annotation(\n",
    "            x=0.5, y=0.5, xref='x domain', yref='y domain',\n",
    "            text=\"No RPM Data Available\", showarrow=False,\n",
    "            row=1, col=3\n",
    "        )\n",
    "\n",
    "    # Row 2, Column 1: Throttle Input Analysis\n",
    "    fig.add_trace(\n",
    "        go.Scatter(\n",
    "            x=lap_df['Distance'], \n",
    "            y=lap_df['Throttle'],\n",
    "            mode='lines',\n",
    "            line=dict(color=colors['throttle'], width=3),\n",
    "            name='Throttle',\n",
    "            hovertemplate='Distance: %{x:.1f}m<br>Throttle: %{y:.3f}<extra></extra>'\n",
    "        ),\n",
    "        row=2, col=1\n",
    "    )\n",
    "\n",
    "    # Row 2, Column 2: Brake Input Analysis\n",
    "    fig.add_trace(\n",
    "        go.Scatter(\n",
    "            x=lap_df['Distance'], \n",
    "            y=lap_df['Brake'],\n",
    "            mode='lines',\n",
    "            line=dict(color=colors['brake'], width=3),\n",
    "            name='Brake',\n",
    "            hovertemplate='Distance: %{x:.1f}m<br>Brake: %{y:.3f}<extra></extra>'\n",
    "        ),\n",
    "        row=2, col=2\n",
    "    )\n",
    "\n",
    "    # Row 2, Column 3: Steering Input Analysis\n",
    "    fig.add_trace(\n",
    "        go.Scatter(\n",
    "            x=lap_df['Distance'], \n",
    "            y=lap_df['Steering'],\n",
    "            mode='lines',\n",
    "            line=dict(color=colors['steering'], width=3),\n",
    "            name='Steering',\n",
    "            hovertemplate='Distance: %{x:.1f}m<br>Steering: %{y:.3f}<extra></extra>'\n",
    "        ),\n",
    "        row=2, col=3\n",
    "    )\n",
    "\n",
    "    # Configure layout and styling\n",
    "    fig.update_layout(\n",
    "        title=f\"Lap {lap} - Comprehensive Telemetry Analysis ({len(lap_df):,} data points)\",\n",
    "        title_font_size=16,\n",
    "        height=600,\n",
    "        showlegend=False,  # Subplot titles provide context\n",
    "        plot_bgcolor='white',\n",
    "        paper_bgcolor='white'\n",
    "    )\n",
    "\n",
    "    # Configure axis labels and formatting\n",
    "    for i in range(1, 4):\n",
    "        fig.update_xaxes(title_text=\"Distance (m)\", row=2, col=i)\n",
    "        fig.update_xaxes(row=1, col=i, showticklabels=False)  # Clean top row\n",
    "\n",
    "    # Set descriptive y-axis labels\n",
    "    fig.update_yaxes(title_text=\"Gear\", row=1, col=1)\n",
    "    fig.update_yaxes(title_text=\"Speed (km/h)\", row=1, col=2)\n",
    "    fig.update_yaxes(title_text=\"RPM\", row=1, col=3)\n",
    "    fig.update_yaxes(title_text=\"Throttle (0-1)\", row=2, col=1)\n",
    "    fig.update_yaxes(title_text=\"Brake (0-1)\", row=2, col=2)\n",
    "    fig.update_yaxes(title_text=\"Steering\", row=2, col=3)\n",
    "\n",
    "    # Add subtle grid for better readability\n",
    "    fig.update_xaxes(showgrid=True, gridwidth=1, gridcolor='lightgray')\n",
    "    fig.update_yaxes(showgrid=True, gridwidth=1, gridcolor='lightgray')\n",
    "\n",
    "    fig.show()"
   ]
  },
  {
   "cell_type": "markdown",
   "id": "d5e52444",
   "metadata": {},
   "source": [
    "---"
   ]
  },
  {
   "cell_type": "markdown",
   "id": "5224f557",
   "metadata": {},
   "source": [
    "## 5. Interactive Lap Selector (Individual Analysis)"
   ]
  },
  {
   "cell_type": "code",
   "execution_count": null,
   "id": "c0fc1233",
   "metadata": {},
   "outputs": [
    {
     "data": {
      "application/vnd.jupyter.widget-view+json": {
       "model_id": "db0a6dcaeab54c1eab60f302f95c992c",
       "version_major": 2,
       "version_minor": 0
      },
      "text/plain": [
       "IntSlider(value=1, description='Lap', max=4, min=1)"
      ]
     },
     "metadata": {},
     "output_type": "display_data"
    },
    {
     "data": {
      "application/vnd.jupyter.widget-view+json": {
       "model_id": "7e39375854324a96bc5a805e673e178b",
       "version_major": 2,
       "version_minor": 0
      },
      "text/plain": [
       "Output()"
      ]
     },
     "metadata": {},
     "output_type": "display_data"
    }
   ],
   "source": [
    "# Interactive lap selector with modern Plotly visualizations\n",
    "# Provides dynamic lap selection with real-time plot updates\n",
    "\n",
    "try:\n",
    "    import ipywidgets as widgets\n",
    "    from IPython.display import clear_output\n",
    "    \n",
    "    # Create interactive slider for lap selection\n",
    "    lap_selector = widgets.IntSlider(\n",
    "        value=available_laps[0] if available_laps else 1,\n",
    "        min=available_laps[0] if available_laps else 1,\n",
    "        max=available_laps[-1] if available_laps else 1,\n",
    "        step=1,\n",
    "        description='Select Lap:',\n",
    "        style={'description_width': 'initial'}\n",
    "    )\n",
    "    out = widgets.Output()\n",
    "\n",
    "    # Consistent color palette matching the main dashboard\n",
    "    colors = {\n",
    "        'gear': '#FF6B35',      # Orange-red for gear progression\n",
    "        'speed': '#004E89',     # Deep blue for speed profile\n",
    "        'rpm': '#FF9F1C',       # Golden orange for engine RPM\n",
    "        'throttle': '#2E8B57',  # Sea green for throttle input\n",
    "        'brake': '#DC143C',     # Crimson for brake input\n",
    "        'steering': '#8A2BE2'   # Blue violet for steering input\n",
    "    }\n",
    "\n",
    "    def plot_selected(change):\n",
    "        \"\"\"\n",
    "        Callback function for lap selector widget.\n",
    "        \n",
    "        Generates individual Plotly plots for each telemetry parameter\n",
    "        when a new lap is selected. Provides detailed analysis with\n",
    "        separate plots for better visibility and interaction.\n",
    "        \n",
    "        Args:\n",
    "            change (dict): Widget change event containing new lap selection\n",
    "        \"\"\"\n",
    "        lap = change['new']\n",
    "        with out:\n",
    "            clear_output(wait=True)\n",
    "            lap_df = rows_for_lap(df, lap)\n",
    "            if lap_df.empty:\n",
    "                print(f\"⚠️  No telemetry data available for Lap {lap}\")\n",
    "                return\n",
    "            \n",
    "            print(f\"📊 Analyzing Lap {lap} ({len(lap_df):,} data points)\\n\")\n",
    "            \n",
    "            # 1) Gear Progression Analysis\n",
    "            if 'Gear' in lap_df.columns and not lap_df['Gear'].isna().all():\n",
    "                fig_gear = go.Figure()\n",
    "                fig_gear.add_trace(go.Scatter(\n",
    "                    x=lap_df['Distance'], \n",
    "                    y=lap_df['Gear'],\n",
    "                    mode='lines',\n",
    "                    line=dict(color=colors['gear'], width=3, shape='hv'),\n",
    "                    name='Gear',\n",
    "                    hovertemplate='Distance: %{x:.1f}m<br>Gear: %{y}<extra></extra>'\n",
    "                ))\n",
    "                \n",
    "                # Configure y-axis for integer gear values only\n",
    "                gear_min = lap_df['Gear'].min()\n",
    "                gear_max = lap_df['Gear'].max()\n",
    "                if not (np.isnan(gear_min) or np.isnan(gear_max)):\n",
    "                    gear_range = list(range(int(gear_min), int(gear_max) + 1))\n",
    "                    fig_gear.update_yaxes(\n",
    "                        tickvals=gear_range,\n",
    "                        range=[gear_min - 0.5, gear_max + 0.5]\n",
    "                    )\n",
    "                \n",
    "                fig_gear.update_layout(\n",
    "                    title=f'Lap {lap} - Gear Progression Analysis',\n",
    "                    xaxis_title='Distance (m)',\n",
    "                    yaxis_title='Gear',\n",
    "                    height=400,\n",
    "                    showlegend=False,\n",
    "                    plot_bgcolor='white',\n",
    "                    paper_bgcolor='white'\n",
    "                )\n",
    "                fig_gear.update_xaxes(showgrid=True, gridwidth=1, gridcolor='lightgray')\n",
    "                fig_gear.update_yaxes(showgrid=True, gridwidth=1, gridcolor='lightgray')\n",
    "                fig_gear.show()\n",
    "            else:\n",
    "                print(\"⚠️  Gear data not available for this lap\")\n",
    "\n",
    "            # 2) Speed Profile Analysis\n",
    "            fig_speed = go.Figure()\n",
    "            fig_speed.add_trace(go.Scatter(\n",
    "                x=lap_df['Distance'], \n",
    "                y=lap_df['Speed_kmh'],\n",
    "                mode='lines',\n",
    "                line=dict(color=colors['speed'], width=3),\n",
    "                name='Speed',\n",
    "                hovertemplate='Distance: %{x:.1f}m<br>Speed: %{y:.1f} km/h<extra></extra>'\n",
    "            ))\n",
    "            fig_speed.update_layout(\n",
    "                title=f'Lap {lap} - Speed Profile Analysis',\n",
    "                xaxis_title='Distance (m)',\n",
    "                yaxis_title='Speed (km/h)',\n",
    "                height=400,\n",
    "                showlegend=False,\n",
    "                plot_bgcolor='white',\n",
    "                paper_bgcolor='white'\n",
    "            )\n",
    "            fig_speed.update_xaxes(showgrid=True, gridwidth=1, gridcolor='lightgray')\n",
    "            fig_speed.update_yaxes(showgrid=True, gridwidth=1, gridcolor='lightgray')\n",
    "            fig_speed.show()\n",
    "\n",
    "            # 3) Engine RPM Analysis (if available)\n",
    "            if 'RPM' in lap_df.columns and not lap_df['RPM'].isna().all():\n",
    "                fig_rpm = go.Figure()\n",
    "                fig_rpm.add_trace(go.Scatter(\n",
    "                    x=lap_df['Distance'], \n",
    "                    y=lap_df['RPM'],\n",
    "                    mode='lines',\n",
    "                    line=dict(color=colors['rpm'], width=3),\n",
    "                    name='RPM',\n",
    "                    hovertemplate='Distance: %{x:.1f}m<br>RPM: %{y:.0f}<extra></extra>'\n",
    "                ))\n",
    "                fig_rpm.update_layout(\n",
    "                    title=f'Lap {lap} - Engine RPM Analysis',\n",
    "                    xaxis_title='Distance (m)',\n",
    "                    yaxis_title='RPM',\n",
    "                    height=400,\n",
    "                    showlegend=False,\n",
    "                    plot_bgcolor='white',\n",
    "                    paper_bgcolor='white'\n",
    "                )\n",
    "                fig_rpm.update_xaxes(showgrid=True, gridwidth=1, gridcolor='lightgray')\n",
    "                fig_rpm.update_yaxes(showgrid=True, gridwidth=1, gridcolor='lightgray')\n",
    "                fig_rpm.show()\n",
    "\n",
    "            # 4) Throttle Input Analysis (Separate from brake for clarity)\n",
    "            fig_throttle = go.Figure()\n",
    "            fig_throttle.add_trace(go.Scatter(\n",
    "                x=lap_df['Distance'], \n",
    "                y=lap_df['Throttle'],\n",
    "                mode='lines',\n",
    "                line=dict(color=colors['throttle'], width=3),\n",
    "                name='Throttle',\n",
    "                hovertemplate='Distance: %{x:.1f}m<br>Throttle: %{y:.3f}<extra></extra>'\n",
    "            ))\n",
    "            fig_throttle.update_layout(\n",
    "                title=f'Lap {lap} - Throttle Input Analysis',\n",
    "                xaxis_title='Distance (m)',\n",
    "                yaxis_title='Throttle Input (0-1)',\n",
    "                height=400,\n",
    "                showlegend=False,\n",
    "                plot_bgcolor='white',\n",
    "                paper_bgcolor='white'\n",
    "            )\n",
    "            fig_throttle.update_xaxes(showgrid=True, gridwidth=1, gridcolor='lightgray')\n",
    "            fig_throttle.update_yaxes(showgrid=True, gridwidth=1, gridcolor='lightgray')\n",
    "            fig_throttle.show()\n",
    "\n",
    "            # 5) Brake Input Analysis (Separate for detailed analysis)\n",
    "            fig_brake = go.Figure()\n",
    "            fig_brake.add_trace(go.Scatter(\n",
    "                x=lap_df['Distance'], \n",
    "                y=lap_df['Brake'],\n",
    "                mode='lines',\n",
    "                line=dict(color=colors['brake'], width=3),\n",
    "                name='Brake',\n",
    "                hovertemplate='Distance: %{x:.1f}m<br>Brake: %{y:.3f}<extra></extra>'\n",
    "            ))\n",
    "            fig_brake.update_layout(\n",
    "                title=f'Lap {lap} - Brake Input Analysis',\n",
    "                xaxis_title='Distance (m)',\n",
    "                yaxis_title='Brake Input (0-1)',\n",
    "                height=400,\n",
    "                showlegend=False,\n",
    "                plot_bgcolor='white',\n",
    "                paper_bgcolor='white'\n",
    "            )\n",
    "            fig_brake.update_xaxes(showgrid=True, gridwidth=1, gridcolor='lightgray')\n",
    "            fig_brake.update_yaxes(showgrid=True, gridwidth=1, gridcolor='lightgray')\n",
    "            fig_brake.show()\n",
    "\n",
    "            # 6) Steering Input Analysis\n",
    "            fig_steering = go.Figure()\n",
    "            fig_steering.add_trace(go.Scatter(\n",
    "                x=lap_df['Distance'], \n",
    "                y=lap_df['Steering'],\n",
    "                mode='lines',\n",
    "                line=dict(color=colors['steering'], width=3),\n",
    "                name='Steering',\n",
    "                hovertemplate='Distance: %{x:.1f}m<br>Steering: %{y:.3f}<extra></extra>'\n",
    "            ))\n",
    "            fig_steering.update_layout(\n",
    "                title=f'Lap {lap} - Steering Input Analysis',\n",
    "                xaxis_title='Distance (m)',\n",
    "                yaxis_title='Steering Angle',\n",
    "                height=400,\n",
    "                showlegend=False,\n",
    "                plot_bgcolor='white',\n",
    "                paper_bgcolor='white'\n",
    "            )\n",
    "            fig_steering.update_xaxes(showgrid=True, gridwidth=1, gridcolor='lightgray')\n",
    "            fig_steering.update_yaxes(showgrid=True, gridwidth=1, gridcolor='lightgray')\n",
    "            fig_steering.show()\n",
    "\n",
    "    # Set up widget event handling and display\n",
    "    lap_selector.observe(plot_selected, names='value')\n",
    "    display(lap_selector, out)\n",
    "    \n",
    "    # Generate initial plot for default lap selection\n",
    "    plot_selected({'new': lap_selector.value})\n",
    "    \n",
    "except Exception as e:\n",
    "    print(\"⚠️  Interactive widgets not available or failed to initialize:\")\n",
    "    print(f\"   Error: {e}\")\n",
    "    print(\"\\n💡 Fallback: Use Section 4 (Comprehensive Dashboard) to view all laps sequentially.\")\n",
    "    print(\"   Or install ipywidgets: pip install ipywidgets\")"
   ]
  },
  {
   "cell_type": "markdown",
   "id": "b12bc1ef",
   "metadata": {},
   "source": [
    "---"
   ]
  },
  {
   "cell_type": "markdown",
   "id": "7ef83247",
   "metadata": {},
   "source": [
    "## 7. Data Export and Persistence"
   ]
  },
  {
   "cell_type": "code",
   "execution_count": null,
   "id": "1b2a918f",
   "metadata": {},
   "outputs": [
    {
     "name": "stdout",
     "output_type": "stream",
     "text": [
      "Saved per-lap CSVs to LAPS_OUTPUT\n"
     ]
    }
   ],
   "source": [
    "# Export individual lap data to separate CSV files for detailed analysis\n",
    "# This enables focused analysis of specific laps and external processing\n",
    "\n",
    "out_dir = Path(\"LAPS_OUTPUT\")\n",
    "out_dir.mkdir(exist_ok=True)\n",
    "\n",
    "exported_count = 0\n",
    "for lap in available_laps:\n",
    "    rows = rows_for_lap(df, lap)\n",
    "    if not rows.empty:\n",
    "        filename = out_dir / f\"lap_{lap}_telemetry.csv\"\n",
    "        rows.to_csv(filename, index=False)\n",
    "        exported_count += 1\n",
    "        print(f\"✅ Exported Lap {lap}: {len(rows):,} data points → {filename}\")\n",
    "\n",
    "print(f\"\\n📊 Export Summary:\")\n",
    "print(f\"   Total laps exported: {exported_count}\")\n",
    "print(f\"   Output directory: {out_dir.absolute()}\")\n",
    "print(f\"   Files can be used for:\")\n",
    "print(f\"   • Individual lap performance analysis\")\n",
    "print(f\"   • Machine learning model training\")\n",
    "print(f\"   • External data visualization tools\")\n",
    "print(f\"   • Comparative lap analysis\")"
   ]
  }
 ],
 "metadata": {
  "kernelspec": {
   "display_name": "F1_AC_Digital_Twin_Env",
   "language": "python",
   "name": "python3"
  },
  "language_info": {
   "codemirror_mode": {
    "name": "ipython",
    "version": 3
   },
   "file_extension": ".py",
   "mimetype": "text/x-python",
   "name": "python",
   "nbconvert_exporter": "python",
   "pygments_lexer": "ipython3",
   "version": "3.11.13"
  }
 },
 "nbformat": 4,
 "nbformat_minor": 5
}
