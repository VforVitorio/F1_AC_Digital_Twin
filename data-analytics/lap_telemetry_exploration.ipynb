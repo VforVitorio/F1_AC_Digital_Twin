{
 "cells": [
  {
   "cell_type": "markdown",
   "id": "584c11ee",
   "metadata": {},
   "source": [
    "# Lap Telemetry Exploration"
   ]
  },
  {
   "cell_type": "markdown",
   "id": "c977b943",
   "metadata": {},
   "source": [
    "This notebook analyzes telemetry data collected from hotlaps in Assetto Corsa, providing detailed insights into driving performance and car behavior.\n",
    "\n",
    "**Session Configuration:**\n",
    "* **Track**: Autodromo Nazionale Monza\n",
    "* **Car**: Aston Martin AMR24 (2024 Formula 1)\n",
    "* **Session Type**: Hotlap Analysis\n",
    "\n",
    "**Analysis Features:**\n",
    "* Lap-by-lap telemetry breakdown with normalized distances\n",
    "* Interactive visualizations with hover data\n",
    "* Comprehensive driving input analysis (throttle, brake, steering)\n",
    "* Performance metrics and sector analysis"
   ]
  },
  {
   "cell_type": "markdown",
   "id": "7f4bdb29",
   "metadata": {},
   "source": [
    "---"
   ]
  },
  {
   "cell_type": "markdown",
   "id": "86ba757d",
   "metadata": {},
   "source": [
    "## 1. Dependencies and Configuration"
   ]
  },
  {
   "cell_type": "code",
   "execution_count": 21,
   "id": "ea1f1da3",
   "metadata": {},
   "outputs": [],
   "source": [
    "%matplotlib inline\n",
    "import pandas as pd\n",
    "import numpy as np\n",
    "import matplotlib.pyplot as plt\n",
    "import plotly.graph_objects as go\n",
    "import plotly.subplots as sp\n",
    "from plotly.subplots import make_subplots\n",
    "from pathlib import Path\n",
    "import os\n",
    "from IPython.display import display, HTML"
   ]
  },
  {
   "cell_type": "markdown",
   "id": "fe159894",
   "metadata": {},
   "source": [
    "---"
   ]
  },
  {
   "cell_type": "markdown",
   "id": "14f22e6f",
   "metadata": {},
   "source": [
    "## 2. Data Loading and Preprocessing\n",
    "\n",
    "The following cell implements intelligent telemetry file discovery and data normalization:\n",
    "\n",
    "**Automatic File Discovery:**\n",
    "- Searches multiple common locations for telemetry CSV files\n",
    "- Automatically selects the most recent file based on creation time\n",
    "- Supports various project directory structures\n",
    "\n",
    "**Data Normalization:**\n",
    "- Standardizes column names across different CSV formats and versions\n",
    "- Handles missing columns with appropriate defaults\n",
    "- Creates distance measurements for analysis (relative or absolute)\n",
    "- Ensures data type consistency for numerical analysis"
   ]
  },
  {
   "cell_type": "code",
   "execution_count": 22,
   "id": "5fa9836d",
   "metadata": {},
   "outputs": [
    {
     "name": "stdout",
     "output_type": "stream",
     "text": [
      "Loading telemetry file: ../TELEMETRY\\telemetry_2025-09-13_16-18-26.csv\n",
      "✅ Using normalized distance column (Distance)\n",
      "Columns after normalization: ['Timestamp', 'Speed_kmh', 'RPM', 'Throttle', 'Brake', 'Steering', 'Gear', 'CompletedLaps', 'iCurrentTime_ms', 'CurrentLapTime_str', 'iLastTime_ms', 'iBestTime_ms', 'DistanceTraveled_m', 'LapNumberTotal', 'CurrentSectorIndex', 'LastSectorTime_ms', 'IsInPit', 'IsInPitLane', 'TyreCompound', 'X', 'Y', 'Z', 'Flag', 'SurfaceGrip', 'Distance', 'DistanceTraveled_m_Original']\n",
      "Rows: 2021\n",
      "Data range:\n",
      "  - Laps: 0 to 2\n",
      "  - Speed: 77.0 to 335.0 km/h\n",
      "  - Distance: 0.0 to 6431.5 m\n",
      "  - First few rows:\n"
     ]
    },
    {
     "data": {
      "application/vnd.microsoft.datawrangler.viewer.v0+json": {
       "columns": [
        {
         "name": "index",
         "rawType": "int64",
         "type": "integer"
        },
        {
         "name": "Timestamp",
         "rawType": "int64",
         "type": "integer"
        },
        {
         "name": "Speed_kmh",
         "rawType": "float64",
         "type": "float"
        },
        {
         "name": "RPM",
         "rawType": "int64",
         "type": "integer"
        },
        {
         "name": "Throttle",
         "rawType": "float64",
         "type": "float"
        },
        {
         "name": "Brake",
         "rawType": "float64",
         "type": "float"
        },
        {
         "name": "Steering",
         "rawType": "float64",
         "type": "float"
        },
        {
         "name": "Gear",
         "rawType": "int64",
         "type": "integer"
        },
        {
         "name": "CompletedLaps",
         "rawType": "int64",
         "type": "integer"
        },
        {
         "name": "iCurrentTime_ms",
         "rawType": "int64",
         "type": "integer"
        },
        {
         "name": "CurrentLapTime_str",
         "rawType": "object",
         "type": "string"
        },
        {
         "name": "iLastTime_ms",
         "rawType": "int64",
         "type": "integer"
        },
        {
         "name": "iBestTime_ms",
         "rawType": "int64",
         "type": "integer"
        },
        {
         "name": "DistanceTraveled_m",
         "rawType": "float64",
         "type": "float"
        },
        {
         "name": "LapNumberTotal",
         "rawType": "int64",
         "type": "integer"
        },
        {
         "name": "CurrentSectorIndex",
         "rawType": "int64",
         "type": "integer"
        },
        {
         "name": "LastSectorTime_ms",
         "rawType": "int64",
         "type": "integer"
        },
        {
         "name": "IsInPit",
         "rawType": "bool",
         "type": "boolean"
        },
        {
         "name": "IsInPitLane",
         "rawType": "bool",
         "type": "boolean"
        },
        {
         "name": "TyreCompound",
         "rawType": "object",
         "type": "string"
        },
        {
         "name": "X",
         "rawType": "float64",
         "type": "float"
        },
        {
         "name": "Y",
         "rawType": "float64",
         "type": "float"
        },
        {
         "name": "Z",
         "rawType": "float64",
         "type": "float"
        },
        {
         "name": "Flag",
         "rawType": "int64",
         "type": "integer"
        },
        {
         "name": "SurfaceGrip",
         "rawType": "float64",
         "type": "float"
        },
        {
         "name": "Distance",
         "rawType": "float64",
         "type": "float"
        },
        {
         "name": "DistanceTraveled_m_Original",
         "rawType": "float64",
         "type": "float"
        }
       ],
       "ref": "42aa293d-dc50-4ca3-9ba6-fa492986674e",
       "rows": [
        [
         "0",
         "1757772902",
         "165.27",
         "12109",
         "1.0",
         "0.0",
         "0.1",
         "3",
         "0",
         "19563",
         "0:19.563",
         "0",
         "0",
         "146.824",
         "0",
         "0",
         "0",
         "False",
         "False",
         "Soft (S)",
         "28.94119453430176",
         "-10.632851600646973",
         "805.7172241210938",
         "0",
         "1.0",
         "0.0",
         "146.824"
        ],
        [
         "1",
         "1757772903",
         "166.17",
         "10337",
         "1.0",
         "0.0",
         "0.101",
         "4",
         "0",
         "19668",
         "0:19.668",
         "0",
         "0",
         "151.692",
         "0",
         "0",
         "0",
         "False",
         "False",
         "Soft (S)",
         "27.939252853393555",
         "-10.650772094726562",
         "810.4418334960938",
         "0",
         "1.0",
         "4.868",
         "151.692"
        ],
        [
         "2",
         "1757772903",
         "167.06",
         "10470",
         "1.0",
         "0.0",
         "0.121",
         "4",
         "0",
         "19770",
         "0:19.770",
         "0",
         "0",
         "156.293",
         "0",
         "0",
         "0",
         "False",
         "False",
         "Soft (S)",
         "26.86155128479004",
         "-10.67584228515625",
         "814.895751953125",
         "0",
         "1.0",
         "9.469",
         "156.293"
        ],
        [
         "3",
         "1757772903",
         "167.91",
         "10503",
         "1.0",
         "0.0",
         "0.131",
         "4",
         "0",
         "19869",
         "0:19.869",
         "0",
         "0",
         "160.893",
         "0",
         "0",
         "0",
         "False",
         "False",
         "Soft (S)",
         "25.606433868408203",
         "-10.715822219848633",
         "819.4724731445312",
         "0",
         "1.0",
         "14.069",
         "160.893"
        ],
        [
         "4",
         "1757772903",
         "168.38",
         "10510",
         "1.0",
         "0.0",
         "0.136",
         "4",
         "0",
         "19971",
         "0:19.971",
         "0",
         "0",
         "165.599",
         "0",
         "0",
         "0",
         "False",
         "False",
         "Soft (S)",
         "24.19002914428711",
         "-10.76600170135498",
         "824.0213623046875",
         "0",
         "1.0",
         "18.775",
         "165.599"
        ]
       ],
       "shape": {
        "columns": 26,
        "rows": 5
       }
      },
      "text/html": [
       "<div>\n",
       "<style scoped>\n",
       "    .dataframe tbody tr th:only-of-type {\n",
       "        vertical-align: middle;\n",
       "    }\n",
       "\n",
       "    .dataframe tbody tr th {\n",
       "        vertical-align: top;\n",
       "    }\n",
       "\n",
       "    .dataframe thead th {\n",
       "        text-align: right;\n",
       "    }\n",
       "</style>\n",
       "<table border=\"1\" class=\"dataframe\">\n",
       "  <thead>\n",
       "    <tr style=\"text-align: right;\">\n",
       "      <th></th>\n",
       "      <th>Timestamp</th>\n",
       "      <th>Speed_kmh</th>\n",
       "      <th>RPM</th>\n",
       "      <th>Throttle</th>\n",
       "      <th>Brake</th>\n",
       "      <th>Steering</th>\n",
       "      <th>Gear</th>\n",
       "      <th>CompletedLaps</th>\n",
       "      <th>iCurrentTime_ms</th>\n",
       "      <th>CurrentLapTime_str</th>\n",
       "      <th>...</th>\n",
       "      <th>IsInPit</th>\n",
       "      <th>IsInPitLane</th>\n",
       "      <th>TyreCompound</th>\n",
       "      <th>X</th>\n",
       "      <th>Y</th>\n",
       "      <th>Z</th>\n",
       "      <th>Flag</th>\n",
       "      <th>SurfaceGrip</th>\n",
       "      <th>Distance</th>\n",
       "      <th>DistanceTraveled_m_Original</th>\n",
       "    </tr>\n",
       "  </thead>\n",
       "  <tbody>\n",
       "    <tr>\n",
       "      <th>0</th>\n",
       "      <td>1757772902</td>\n",
       "      <td>165.27</td>\n",
       "      <td>12109</td>\n",
       "      <td>1.0</td>\n",
       "      <td>0.0</td>\n",
       "      <td>0.100</td>\n",
       "      <td>3</td>\n",
       "      <td>0</td>\n",
       "      <td>19563</td>\n",
       "      <td>0:19.563</td>\n",
       "      <td>...</td>\n",
       "      <td>False</td>\n",
       "      <td>False</td>\n",
       "      <td>Soft (S)</td>\n",
       "      <td>28.941195</td>\n",
       "      <td>-10.632852</td>\n",
       "      <td>805.717224</td>\n",
       "      <td>0</td>\n",
       "      <td>1.0</td>\n",
       "      <td>0.000</td>\n",
       "      <td>146.824</td>\n",
       "    </tr>\n",
       "    <tr>\n",
       "      <th>1</th>\n",
       "      <td>1757772903</td>\n",
       "      <td>166.17</td>\n",
       "      <td>10337</td>\n",
       "      <td>1.0</td>\n",
       "      <td>0.0</td>\n",
       "      <td>0.101</td>\n",
       "      <td>4</td>\n",
       "      <td>0</td>\n",
       "      <td>19668</td>\n",
       "      <td>0:19.668</td>\n",
       "      <td>...</td>\n",
       "      <td>False</td>\n",
       "      <td>False</td>\n",
       "      <td>Soft (S)</td>\n",
       "      <td>27.939253</td>\n",
       "      <td>-10.650772</td>\n",
       "      <td>810.441833</td>\n",
       "      <td>0</td>\n",
       "      <td>1.0</td>\n",
       "      <td>4.868</td>\n",
       "      <td>151.692</td>\n",
       "    </tr>\n",
       "    <tr>\n",
       "      <th>2</th>\n",
       "      <td>1757772903</td>\n",
       "      <td>167.06</td>\n",
       "      <td>10470</td>\n",
       "      <td>1.0</td>\n",
       "      <td>0.0</td>\n",
       "      <td>0.121</td>\n",
       "      <td>4</td>\n",
       "      <td>0</td>\n",
       "      <td>19770</td>\n",
       "      <td>0:19.770</td>\n",
       "      <td>...</td>\n",
       "      <td>False</td>\n",
       "      <td>False</td>\n",
       "      <td>Soft (S)</td>\n",
       "      <td>26.861551</td>\n",
       "      <td>-10.675842</td>\n",
       "      <td>814.895752</td>\n",
       "      <td>0</td>\n",
       "      <td>1.0</td>\n",
       "      <td>9.469</td>\n",
       "      <td>156.293</td>\n",
       "    </tr>\n",
       "    <tr>\n",
       "      <th>3</th>\n",
       "      <td>1757772903</td>\n",
       "      <td>167.91</td>\n",
       "      <td>10503</td>\n",
       "      <td>1.0</td>\n",
       "      <td>0.0</td>\n",
       "      <td>0.131</td>\n",
       "      <td>4</td>\n",
       "      <td>0</td>\n",
       "      <td>19869</td>\n",
       "      <td>0:19.869</td>\n",
       "      <td>...</td>\n",
       "      <td>False</td>\n",
       "      <td>False</td>\n",
       "      <td>Soft (S)</td>\n",
       "      <td>25.606434</td>\n",
       "      <td>-10.715822</td>\n",
       "      <td>819.472473</td>\n",
       "      <td>0</td>\n",
       "      <td>1.0</td>\n",
       "      <td>14.069</td>\n",
       "      <td>160.893</td>\n",
       "    </tr>\n",
       "    <tr>\n",
       "      <th>4</th>\n",
       "      <td>1757772903</td>\n",
       "      <td>168.38</td>\n",
       "      <td>10510</td>\n",
       "      <td>1.0</td>\n",
       "      <td>0.0</td>\n",
       "      <td>0.136</td>\n",
       "      <td>4</td>\n",
       "      <td>0</td>\n",
       "      <td>19971</td>\n",
       "      <td>0:19.971</td>\n",
       "      <td>...</td>\n",
       "      <td>False</td>\n",
       "      <td>False</td>\n",
       "      <td>Soft (S)</td>\n",
       "      <td>24.190029</td>\n",
       "      <td>-10.766002</td>\n",
       "      <td>824.021362</td>\n",
       "      <td>0</td>\n",
       "      <td>1.0</td>\n",
       "      <td>18.775</td>\n",
       "      <td>165.599</td>\n",
       "    </tr>\n",
       "  </tbody>\n",
       "</table>\n",
       "<p>5 rows × 26 columns</p>\n",
       "</div>"
      ],
      "text/plain": [
       "    Timestamp  Speed_kmh    RPM  Throttle  Brake  Steering  Gear  \\\n",
       "0  1757772902     165.27  12109       1.0    0.0     0.100     3   \n",
       "1  1757772903     166.17  10337       1.0    0.0     0.101     4   \n",
       "2  1757772903     167.06  10470       1.0    0.0     0.121     4   \n",
       "3  1757772903     167.91  10503       1.0    0.0     0.131     4   \n",
       "4  1757772903     168.38  10510       1.0    0.0     0.136     4   \n",
       "\n",
       "   CompletedLaps  iCurrentTime_ms CurrentLapTime_str  ...  IsInPit  \\\n",
       "0              0            19563           0:19.563  ...    False   \n",
       "1              0            19668           0:19.668  ...    False   \n",
       "2              0            19770           0:19.770  ...    False   \n",
       "3              0            19869           0:19.869  ...    False   \n",
       "4              0            19971           0:19.971  ...    False   \n",
       "\n",
       "   IsInPitLane  TyreCompound          X          Y           Z  Flag  \\\n",
       "0        False      Soft (S)  28.941195 -10.632852  805.717224     0   \n",
       "1        False      Soft (S)  27.939253 -10.650772  810.441833     0   \n",
       "2        False      Soft (S)  26.861551 -10.675842  814.895752     0   \n",
       "3        False      Soft (S)  25.606434 -10.715822  819.472473     0   \n",
       "4        False      Soft (S)  24.190029 -10.766002  824.021362     0   \n",
       "\n",
       "   SurfaceGrip Distance  DistanceTraveled_m_Original  \n",
       "0          1.0    0.000                      146.824  \n",
       "1          1.0    4.868                      151.692  \n",
       "2          1.0    9.469                      156.293  \n",
       "3          1.0   14.069                      160.893  \n",
       "4          1.0   18.775                      165.599  \n",
       "\n",
       "[5 rows x 26 columns]"
      ]
     },
     "metadata": {},
     "output_type": "display_data"
    }
   ],
   "source": [
    "# Automatically find the most recent telemetry CSV file\n",
    "import glob\n",
    "import os\n",
    "\n",
    "# Try different possible locations for telemetry files\n",
    "possible_paths = [\n",
    "    \"TELEMETRY/*.csv\",           # if running from project root\n",
    "    \"../TELEMETRY/*.csv\",        # if running from subdirectory (like data-analytics)\n",
    "    \"../../TELEMETRY/*.csv\",     # if running from deeper subdirectory\n",
    "    \"*.csv\"                      # current directory\n",
    "]\n",
    "\n",
    "telemetry_file = None\n",
    "for pattern in possible_paths:\n",
    "    files = glob.glob(pattern)\n",
    "    if files:\n",
    "        # Get the most recent file\n",
    "        telemetry_file = max(files, key=os.path.getctime)\n",
    "        break\n",
    "\n",
    "if telemetry_file is None:\n",
    "    print(\"No telemetry CSV files found. Please check the file path.\")\n",
    "    print(\"Current working directory:\", os.getcwd())\n",
    "    print(\"Looking for files in these patterns:\", possible_paths)\n",
    "    raise FileNotFoundError(\"No telemetry CSV files found\")\n",
    "\n",
    "print(f\"Loading telemetry file: {telemetry_file}\")\n",
    "df = pd.read_csv(telemetry_file)\n",
    "\n",
    "# Normalize / common rename (adapt to your CSV)\n",
    "col_map = {}\n",
    "# common variants -> normalized names used below\n",
    "if 'Speed (km/h)' in df.columns:\n",
    "    col_map['Speed (km/h)'] = 'Speed_kmh'\n",
    "if 'Speed_kmh' not in df.columns and 'Speed' in df.columns:\n",
    "    col_map['Speed'] = 'Speed_kmh'\n",
    "if 'iCurrentTime' in df.columns and 'iCurrentTime_ms' not in df.columns:\n",
    "    col_map['iCurrentTime'] = 'iCurrentTime_ms'\n",
    "if 'iLastTime' in df.columns and 'iLastTime_ms' not in df.columns:\n",
    "    col_map['iLastTime'] = 'iLastTime_ms'\n",
    "if 'iBestTime' in df.columns and 'iBestTime_ms' not in df.columns:\n",
    "    col_map['iBestTime'] = 'iBestTime_ms'\n",
    "if 'CarX' in df.columns and 'X' not in df.columns:\n",
    "    col_map['CarX'] = 'X'\n",
    "if 'CarY' in df.columns and 'Y' not in df.columns:\n",
    "    col_map['CarY'] = 'Y'\n",
    "if 'CarZ' in df.columns and 'Z' not in df.columns:\n",
    "    col_map['CarZ'] = 'Z'\n",
    "\n",
    "df = df.rename(columns=col_map)\n",
    "\n",
    "# Ensure essential columns exist; set defaults if missing\n",
    "if 'Completed Laps' in df.columns:\n",
    "    df = df.rename(columns={'Completed Laps': 'CompletedLaps'})\n",
    "elif 'CompletedLaps' not in df.columns:\n",
    "    raise KeyError(\"CSV must contain 'CompletedLaps' or 'Completed Laps' column\")\n",
    "\n",
    "if 'Speed_kmh' not in df.columns:\n",
    "    df['Speed_kmh'] = np.nan\n",
    "if 'Throttle' not in df.columns:\n",
    "    df['Throttle'] = np.nan\n",
    "if 'Brake' not in df.columns:\n",
    "    df['Brake'] = np.nan\n",
    "if 'Steering' not in df.columns:\n",
    "    # maybe steerAngle\n",
    "    for candidate in ['steerAngle','SteeringAngle','Steering']:\n",
    "        if candidate in df.columns:\n",
    "            df = df.rename(columns={candidate:'Steering'})\n",
    "            break\n",
    "    else:\n",
    "        df['Steering'] = np.nan\n",
    "\n",
    "# PRIORITIZE normalized distance over absolute distance\n",
    "# Use Distance column (normalized) if available, otherwise fallback to absolute\n",
    "if 'Distance' in df.columns:\n",
    "    # Distance column is already normalized (0-based per lap)\n",
    "    print(\"✅ Using normalized distance column (Distance)\")\n",
    "    pass  # Keep Distance as is\n",
    "elif 'DistanceTraveled_m' in df.columns:\n",
    "    # Fallback to absolute distance if normalized not available\n",
    "    df['Distance'] = df['DistanceTraveled_m']\n",
    "    print(\"⚠️  Using absolute distance (DistanceTraveled_m) as fallback\")\n",
    "else:\n",
    "    # Last resort: create index-based distance\n",
    "    df['Distance'] = np.arange(len(df))\n",
    "    print(\"⚠️  Using index-based distance as fallback\")\n",
    "\n",
    "# Convert CompletedLaps to int for grouping\n",
    "df['CompletedLaps'] = df['CompletedLaps'].fillna(0).astype(int)\n",
    "\n",
    "print(\"Columns after normalization:\", list(df.columns))\n",
    "print(\"Rows:\", len(df))\n",
    "print(\"Data range:\")\n",
    "print(f\"  - Laps: {df['CompletedLaps'].min()} to {df['CompletedLaps'].max()}\")\n",
    "print(f\"  - Speed: {df['Speed_kmh'].min():.1f} to {df['Speed_kmh'].max():.1f} km/h\")\n",
    "print(f\"  - Distance: {df['Distance'].min():.1f} to {df['Distance'].max():.1f} m\")\n",
    "print(f\"  - First few rows:\")\n",
    "display(df.head())"
   ]
  },
  {
   "cell_type": "markdown",
   "id": "4aa39e0f",
   "metadata": {},
   "source": [
    "---"
   ]
  },
  {
   "cell_type": "markdown",
   "id": "6b717a3f",
   "metadata": {},
   "source": [
    "## 3. Lap Data Extraction and Helper Functions"
   ]
  },
  {
   "cell_type": "code",
   "execution_count": 23,
   "id": "8e28c2f6",
   "metadata": {},
   "outputs": [
    {
     "name": "stdout",
     "output_type": "stream",
     "text": [
      "Available laps for analysis: [1, 2]\n",
      "Total laps detected: 2\n"
     ]
    }
   ],
   "source": [
    "# Helper function for lap data extraction and lap list preparation\n",
    "\n",
    "def rows_for_lap(df, lap_number: int) -> pd.DataFrame:\n",
    "    \"\"\"\n",
    "    Extract telemetry data for a specific lap from the complete dataset.\n",
    "    \n",
    "    AC's lap counting logic: data recorded DURING lap K has CompletedLaps == K-1.\n",
    "    This is because CompletedLaps represents the number of laps already finished,\n",
    "    not the current lap being driven.\n",
    "    \n",
    "    Args:\n",
    "        df (pd.DataFrame): Complete telemetry dataset\n",
    "        lap_number (int): Target lap number (1-based, e.g., 1 for first lap)\n",
    "        \n",
    "    Returns:\n",
    "        pd.DataFrame: Filtered dataset containing only data from the specified lap\n",
    "        \n",
    "    Example:\n",
    "        - To get data from lap 1: look for CompletedLaps == 0\n",
    "        - To get data from lap 2: look for CompletedLaps == 1\n",
    "        - etc.\n",
    "    \"\"\"\n",
    "    target = lap_number - 1\n",
    "    return df[df['CompletedLaps'] == target].reset_index(drop=True)\n",
    "\n",
    "# Build available laps list based on data range\n",
    "max_completed = int(df['CompletedLaps'].max())\n",
    "available_laps = list(range(1, max_completed + 1))\n",
    "print(f\"Available laps for analysis: {available_laps}\")\n",
    "print(f\"Total laps detected: {len(available_laps)}\")\n"
   ]
  },
  {
   "cell_type": "markdown",
   "id": "59b8392c",
   "metadata": {},
   "source": [
    "## 4. Comprehensive Telemetry Dashboard (All Laps)"
   ]
  },
  {
   "cell_type": "code",
   "execution_count": 24,
   "id": "13eed0a2",
   "metadata": {},
   "outputs": [
    {
     "data": {
      "application/vnd.plotly.v1+json": {
       "config": {
        "plotlyServerURL": "https://plot.ly"
       },
       "data": [
        {
         "hovertemplate": "Distance: %{x:.1f}m<br>Gear: %{y}<extra></extra>",
         "line": {
          "color": "#FF6B35",
          "shape": "hv",
          "width": 3
         },
         "mode": "lines",
         "name": "Gear",
         "type": "scatter",
         "x": {
          "bdata": "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",
          "dtype": "f8"
         },
         "xaxis": "x",
         "y": {
          "bdata": "AwQEBAQEBAQEBAQEBAQEBAQEBAQEBAQEBAQEBAQEBAQEBAQEBAQEBAQEBAQEBAQEBAQEBAAFBQUFBQUFBQUFBQUFBQUFBQUFBQUABgYGBgYGBgYGBgYGBgYGBgYGBgcHBwcHBwcHBwcHBwcHBwcHBwcHBwcHBwcHBwcHBwcHBwcHBwcHBwcHBwcHBwgICAgICAgICAgICAgICAgICAgICAgICAgICAgICAgICAgICAgICAgICAgICAgICAgICAgICAgICAgICAgICAgICAgICAgICAgICAAHBwcHBgYGBgUFBQUEBAQEAwMDAwICAgIBAQEBAQEBAQEBAQEBAQEBAQEBAQEBAQEBAgICAgICAgICAgMDAwMDAwMDAwMEBAQEBAQEBAQEBQUFBQUFBQUFBQYGBgYGBgYGBgYGBwcHBwcHBwcHBwcHBwcHBwcHBwcHBwcHBwcHBwcHBwcHBwcHCAgICAgICAgICAgICAgICAgICAgICAgICAgICAgICAgICAgICAgICAgICAgICAgICAgICAgICAgIBwcHBwYGBgYFBQUFBAQEBAMDAwMCAgICAgICAgICAgICAgIDAwMDAwMDAwMDBAQEBAQEBAQEBAUFBQUFBQUFBQUGBgYGBgYGBgYGBgcHBwcHBwcHBwcHBwcHBwcGBgYGBgYGBgUFBQUFBQUFBQUFBQUFBQUABgYGBgYGBgYGBgYGBgYHBwcHBwcHBwcHBgYGBgUFBQUFBQUFBQUFBQUFBQUFBQYGBgYGBgYGBgYGBgcHBwcHBwcHBwcHBwcHBwcHBwcHBwcHBwcHBwcHCAgICAgICAgICAgICAgICAgICAgICAgICAgICAgICAgICAgICAgICAgICAgICAgICAgICAgICAgICAgICAgICAgIBwcHBwYGBgYFBQUFBQUFBQUFBQUFBQUFBQUFBQUFBQUFBQUFBQUFBQYGBgYGBgYGBgYGBgYGBgAHBwcHBwcHBwcHBwcHBwcHBwcHBwcHBwcHBwcHBwcHBwcHCAgICAgICAgICAgICAgICAgICAgICAgICAgICAgICAgICAgICAgICAgICAgICAgICAgICAgICAgICAgICAgICAgICAgIBwcHBwcHBwYGBgYGBgYGBgYABQUFBQUFBQUFBQUFBQUFBQUFBQUFBQUFBQYGBgYGBgYGBgYGBgYGBgcHBwcHBwcHBwcHBwcHBwcHBwcHBwcHBwcHBwcHBwcHBwAICAgICA==",
          "dtype": "i1"
         },
         "yaxis": "y"
        },
        {
         "hovertemplate": "Distance: %{x:.1f}m<br>Speed: %{y:.1f} km/h<extra></extra>",
         "line": {
          "color": "#004E89",
          "width": 3
         },
         "mode": "lines",
         "name": "Speed",
         "type": "scatter",
         "x": {
          "bdata": "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",
          "dtype": "f8"
         },
         "xaxis": "x2",
         "y": {
          "bdata": "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",
          "dtype": "f8"
         },
         "yaxis": "y2"
        },
        {
         "hovertemplate": "Distance: %{x:.1f}m<br>RPM: %{y:.0f}<extra></extra>",
         "line": {
          "color": "#FF9F1C",
          "width": 3
         },
         "mode": "lines",
         "name": "RPM",
         "type": "scatter",
         "x": {
          "bdata": "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",
          "dtype": "f8"
         },
         "xaxis": "x3",
         "y": {
          "bdata": "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",
          "dtype": "i2"
         },
         "yaxis": "y3"
        },
        {
         "hovertemplate": "Distance: %{x:.1f}m<br>Throttle: %{y:.3f}<extra></extra>",
         "line": {
          "color": "#2E8B57",
          "width": 3
         },
         "mode": "lines",
         "name": "Throttle",
         "type": "scatter",
         "x": {
          "bdata": "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",
          "dtype": "f8"
         },
         "xaxis": "x4",
         "y": {
          "bdata": "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",
          "dtype": "f8"
         },
         "yaxis": "y4"
        },
        {
         "hovertemplate": "Distance: %{x:.1f}m<br>Brake: %{y:.3f}<extra></extra>",
         "line": {
          "color": "#DC143C",
          "width": 3
         },
         "mode": "lines",
         "name": "Brake",
         "type": "scatter",
         "x": {
          "bdata": "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",
          "dtype": "f8"
         },
         "xaxis": "x5",
         "y": {
          "bdata": "AAAAAAAAAAAAAAAAAAAAAAAAAAAAAAAAAAAAAAAAAAAAAAAAAAAAAAAAAAAAAAAAAAAAAAAAAAAAAAAAAAAAAAAAAAAAAAAAAAAAAAAAAAAAAAAAAAAAAAAAAAAAAAAAAAAAAAAAAAAAAAAAAAAAAAAAAAAAAAAAAAAAAAAAAAAAAAAAAAAAAAAAAAAAAAAAAAAAAAAAAAAAAAAAAAAAAAAAAAAAAAAAAAAAAAAAAAAAAAAAAAAAAAAAAAAAAAAAAAAAAAAAAAAAAAAAAAAAAAAAAAAAAAAAAAAAAAAAAAAAAAAAAAAAAAAAAAAAAAAAAAAAAAAAAAAAAAAAAAAAAAAAAAAAAAAAAAAAAAAAAAAAAAAAAAAAAAAAAAAAAAAAAAAAAAAAAAAAAAAAAAAAAAAAAAAAAAAAAAAAAAAAAAAAAAAAAAAAAAAAAAAAAAAAAAAAAAAAAAAAAAAAAAAAAAAAAAAAAAAAAAAAAAAAAAAAAAAAAAAAAAAAAAAAAAAAAAAAAAAAAAAAAAAAAAAAAAAAAAAAAAAAAAAAAAAAAAAAAAAAAAAAAAAAAAAAAAAAAAAAAAAAAAAAAAAAAAAAAAAAAAAAAAAAAAAAAAAAAAAAAAAAAAAAAAAAAAAAAAAAAAAAAAAAAAAAAAAAAAAAAAAAAAAAAAAAAAAAAAAAAAAAAAAAAAAAAAAAAAAAAAAAAAAAAAAAAAAAAAAAAAAAAAAAAAAAAAAAAAAAAAAAAAAAAAAAAAAAAAAAAAAAAAAAAAAAAAAAAAAAAAAAAAAAAAAAAAAAAAAAAAAAAAAAAAAAAAAAAAAAAAAAAAAAAAAAAAAAAAAAAAAAAAAAAAAAAAAAAAAAAAAAAAAAAAAAAAAAAAAAAAAAAAAAAAAAAAAAAAAAAAAAAAAAAAAAAAAAAAAAAAAAAAAAAAAAAAAAAAAAAAAAAAAAAAAAAAAAAAAAAAAAAAAAAAAAAAAAAAAAAAAAAAAAAAAAAAAAAAAAAAAAAAAAAAAAAAAAAAAAAAAAAAAAAAAAAAAAAAAAAAAAAAAAAAAAAAAAAAAAAAAAAAAAAAAAAAAAAAAAAAAAAAAAAAAAAAAAAAAAAAAAAAAAAAAAAAAAAAAAAAAAAAAAAAAAAAAAAAAAAAAAAAAAAAAAAAAAAAAAAAAAAAAAAAAAAAAAAAAAAAAAAAAAAAAAAAAAAAAAAAAAAAAAAAAAAAAAAAAAAAAAAAAAAAAAAAAAAAAAAAAAAAAAAAAAAAAAAAAAAAAAAAAAAAAAAAAAAAAAAAAAAAAAAAAAAAAAAAAAAAAAAAAAAAAAAAAAAAAAAAAAAAAAAAAAAAAAAAAAAAAAAAAAAAAAAAAAAAAAAAAAAAAAAAAAAAAAAAAAAAAAAAAAAAAAAAAAAAAAAAAAAAAAAAAAAAAAAAAAAAAAAAAAAAAAAAAAAAAAAAAAAAAAAAAAAAAAAAAAAAAAAAAAAAAAAAAAAAAAAAAAAAAAAAAAAAAAAAAAAAAAAAAAAAAAAAAAAAAAAAAAAAAAAAAAAAAAAAAAAAAAAAAAAAAAAAAAAAAAAAAAAAAAAAAAAAAAAAAAAAAAAAAAAAAAAAAAAAAAAAAAAAAAAAAAAAAAAAAAAAAAAAAAAAAAAAAAAAAAAAAAAAAAAAAAAAAAAAAAAAAAAAAAAAAAAAAAAAAAAAAAAAAAAAAAAAAAAAAAAAAAAAAAAAAAAAAAAAAAAAAAAAAAAAAAAAAAAAAAAAAAAAAAAAAAAAAAAAAAAAAAAAAAAAAAAAAAAAAAAAAAAAAAAAAAAAAAAAAAAAAAAAAAAAAAAAAAAAAAAAAAAAAAAAAAAAAAAAAAAAAAAAAAAAAAAAAAAAAAAAAAAAAAAAAAAAAAAAAAAAAAAAAAAAAAAAAAAAAAAAAAAAAAAAAAAAAAAAAAAAAAAAAAAAAAAAAAAAAAAAAAAAAAAAAAAAAAAAAAAAAAAAAAAAAAAAAAAAAAAAAAAAAAAAAAAAAAAAAAAAAAAAAAAAAAAAAAAAAAAAAAAAAAAAAAAAAAAAAAAAAAAAAAAAAAAAAAAAAAAAAAAAAAAAAAAAAAAAAAAAAAAAAAAAAAAAAAAAAAAAAAAAAAAAAAAAAAAAAAAAAAAAAAAAAAAAAAAAAAAAAAAAAAAAAAAAAAAAAAAAAAAAAAAAAAAAAAAAAAAAAAAAAAAAAAAAAAAAAAAAAAAAAAAAAAAAAAAAAAAAAAAAAAAK5H4XoUru8/rkfhehSu7z+uR+F6FK7vP65H4XoUru8/rkfhehSu7z+uR+F6FK7vP65H4XoUru8/rkfhehSu7z+uR+F6FK7vP65H4XoUru8/rkfhehSu7z9xPQrXo3DtP2ZmZmZmZu4/rkfhehSu7z/D9Shcj8LtPz0K16NwPeo/UrgehetR6D9SuB6F61HoPz0K16NwPeo/FK5H4XoU5j+F61G4HoXjP1K4HoXrUcg/AAAAAAAAAAAK16NwPQrXP7gehetRuK4/AAAAAAAAAAAAAAAAAAAAAAAAAAAAAAAAAAAAAAAAAAAAAAAAAAAAAAAAAAAAAAAAAAAAAAAAAAAAAAAAAAAAAAAAAAAAAAAAAAAAAAAAAACPwvUoXI/iPxSuR+F6FOY/4XoUrkfhyj8AAAAAAAAAAAAAAAAAAAAAAAAAAAAAAAAAAAAAAAAAAAAAAAAAAAAAAAAAAAAAAAAAAAAAAAAAAAAAAAAAAAAAAAAAAAAAAAAAAAAAAAAAAAAAAAAAAAAAAAAAAAAAAAAAAAAAAAAAAAAAAAAAAAAAAAAAAAAAAAAAAAAAAAAAAAAAAAAAAAAAAAAAAAAAAAAAAAAAAAAAAAAAAAAAAAAAAAAAAAAAAAAAAAAAAAAAAAAAAAAAAAAAAAAAAAAAAAAAAAAAAAAAAAAAAAAAAAAAAAAAAAAAAAAAAAAAAAAAAAAAAAAAAAAAAAAAAAAAAAAAAAAAAAAAAAAAAAAAAAAAAAAAAAAAAAAAAAAAAAAAAAAAAAAAAAAAAAAAAAAAAAAAAAAAAAAAAAAAAAAAAAAAAAAAAAAAAAAAAAAAAAAAAAAAAAAAAAAAAAAAAAAAAAAAAAAAAAAAAAAAAAAAAAAAAAAAAAAAAAAAAAAAAAAAAAAAAAAAAAAAAAAAAAAAAAAAAAAAAAAAAAAAAAAAAAAAAAAAAAAAAAAAAAAAAAAAAAAAAAAAAAAAAAAAAAAAAAAAAAAAAAAAAAAAAAAAAAAAAAAAAAAAAAAAAAAAAAAAAAAAAAAAAAAAAAAAAAAAAAAAAAAAAAAAAAAAAAAAAAAAAAAAAAAAAAAAAAAAAAAAAAAAAAAAAAAAAAAAAAAAAAAAAAAAAAAAAAAAAAAAAAAAAAAAAAAAAAAAAAAAAAAAAAAAAAAAAAAAAAAAAAAAAAAAAAAAAAAAAAAAAAAAAAAAAAAAAAAAAAAAAAAAAAAAAAAAAAAAAAAAAAAAAAAAAAAAAAAAAAAAAAAAAAAAAAAAAAAAAAAAAAAAAAAAAAAAAAAAAAAAAAAAAAAAAAAAAAAAAAAAAAAAAAAAAAAAAAAAAAAAAAAAAAAAAAAAAAAAAAAAAAAAAAAAAAAAAAAAAAAAAAAAAAAAAAAAAAAAAAAAAAAAAAAAAAAAAAAAAAAAAAAAAAAAAAAAAAAAAAAAAAAAAAAAAAAAAAAAAAAAAAAAAAAAAAAAAAAAAAAAAAAAAAAAAAAAAAAAAAAAAAAAAAAAAAAAAAAAAAAAAAAAAAAAAAAAAAAAAAAAAAAAAAAAAAAAAAAAAAAAAAAAAAAAAAAAAAAAAAAAAAAAAAAAAAAAAAAAAAAAAAAAAAAAAAAAAAAAAAAAAAAAAAAAAAAAAAAAAAAAAAAAAAAAAAAAAAAAAAAAAAAAAAAAAAAAAAAAAAAAAAAAAAAAAAAAAAAAAAAAAAAAAAAAAAAAAAAAAAAAAAAAAAAAAAAAAAAAAAAAAAAAAAAAAAAAAAAAAAAAAAAAAAAAAAAAAAAAAAAAAAAAAAAAAAAAAAAAAAAAAAAAAAAAAAAAAAAAAAAAAAAAAAAAAAAAAAAAAAAAAAAAAAAAAAAAAAAAAAAAAAAAAAAAAAAAAAAAAAAAAAAAAAAAAAAAAAAAAAAAAAAAAAAAAAAAAAAAAAAAAAAAAAAAAAAAAAAAAAAAAAAAAAAAAAAAAAAAAAAAAAAAAAAAAAAAAAAAAAAAAAAAAAAAAAAAAAAAAAAAAAAAAAAAAAAAAAAAAAAAAAAAAAAAAAAAAAAAAAAAAAAAAAAAAAAAAAAAAAAAAAAAAAAAAAAAAAAAAAAAAACuR+F6FK7vP65H4XoUru8/rkfhehSu7z+uR+F6FK7vP65H4XoUru8/rkfhehSu7z+uR+F6FK7vP65H4XoUru8/FK5H4XoU7j+uR+F6FK7vP1K4HoXrUeg/rkfhehSu7z8zMzMzMzPrPxSuR+F6FOY/XI/C9Shc5z/Xo3A9CtfjP/YoXI/C9eg/PQrXo3A96j8AAAAAAADQPwAAAAAAAAAAAAAAAAAAAAAAAAAAAAAAAAAAAAAAAAAAAAAAAAAAAAAAAAAAAAAAAAAAAAAAAAAAAAAAAAAAAAAAAAAAAAAAAAAAAAAAAAAAAAAAAAAAAAAAAAAAAAAAAHsUrkfheuQ/w/UoXI/CxT8AAAAAAAAAAAAAAAAAAAAAAAAAAAAAAAAAAAAAAAAAAAAAAAAAAAAAAAAAAAAAAAAAAAAAAAAAAAAAAAAAAAAAAAAAAAAAAAAAAAAAAAAAAAAAAAAAAAAAAAAAAAAAAAAAAAAAAAAAAAAAAAAAAAAAAAAAAAAAAAAAAAAAAAAAAAAAAAAAAAAAAAAAAAAAAAAAAAAAAAAAAAAAAAAAAAAAAAAAAAAAAAAAAAAAAAAAAAAAAAAAAAAAAAAAAAAAAAAAAAAAAAAAAAAAAAAAAAAAAAAAAAAAAAAAAAAAAAAAAAAAAAAAAAAAAAAAAAAAAAAAAAAAAAAAAAAAAAAAAAAAAAAAAAAAAAAAAAAAAAAAAAAAAAAAAAAAAAAAAAAAAAAAAAAAAAAAAAAAAAAAAAAAAAAAAAAAAAAAAAAAAAAAAAAAAAAAAAAAAAAAAAAAAAAAAAAAAAAAAAAAAAAAAAAAAAAAAAAAAAAAAAAAAAAAAAAAAAAAAAAAAAAAAAAAAAAAAAAAAAAAAAAAAAAAAAAAAAAAAAAAAACuR+F6FK7vP65H4XoUru8/9ihcj8L14D+PwvUoXI/iPwAAAAAAAAAAAAAAAAAAAAAAAAAAAAAAAHsUrkfhetQ/AAAAAAAAAAAAAAAAAAAAAAAAAAAAAAAAAAAAAAAAAAAAAAAAAAAAAAAAAAAAAAAAAAAAAAAAAAAAAAAAAAAAAAAAAAAAAAAAAAAAAAAAAAAAAAAAAAAAAAAAAAAAAAAAAAAAAAAAAAAAAAAAAAAAAAAAAAAAAAAAAAAAAAAAAAAAAAAAAAAAAAAAAAAAAAAAAAAAAAAAAAAAAAAAAAAAAAAAAAAAAAAAAAAAAAAAAAAAAAAAAAAAAAAAAAAAAAAAAAAAAAAAAAAAAAAAAAAAAAAAAAAAAAAAAAAAAAAAAAAAAAAAAAAAAAAAAAAAAAAAAAAAAAAAAAAAAAAAAAAAAAAAAAAAAAAAAAAAAAAAAAAAAAAAAAAAAAAAAAAAAAAAAAAAAAAAAAAAAAAAAAAAAAAAAAAAAAAAAAAAAAAAAAAAAAAAAAAAAAAAAAAAAAAAAAAAAAAAAAAAAAAAAAAAAAAAAAAAAAAArkfhehSu7z8K16NwPQrvP/YoXI/C9eg/rkfhehSu7z+uR+F6FK7vP3sUrkfherQ/pHA9Ctej4D97FK5H4XrEPwAAAAAAAAAAAAAAAAAAAAAAAAAAAAAAAAAAAAAAAAAAAAAAAAAAAAAAAAAAAAAAAAAAAAAAAAAAAAAAAAAAAAAAAAAAAAAAAAAAAAAAAAAAAAAAAAAAAAAAAAAAAAAAAAAAAAAAAAAAAAAAAAAAAAAAAAAAAAAAAAAAAAAAAAAAAAAAAAAAAAAAAAAAAAAAAAAAAAAAAAAAAAAAAAAAAAAAAAAAAAAAAAAAAAAAAAAAAAAAAAAAAAAAAAAAAAAAAAAAAAAAAAAAAAAAAAAAAAAAAAAAAAAAAAAAAAAAAAAAAAAAAAAAAAAAAAAAAAAAAAAAAAAAAAAAAAAAAAAAAAAAAAAAAAAAAAAAAAAAAAAAAAAAAAAAAAAAAAAAAAAAAAAAAAAAAAAAAAAAAAAAAAAAAAAAAAAAAAAAAAAAAAAAAAAAAAAAAAAAAAAAAAAAAAAAAAAAAAAAAAAAAAAAAAAAAAAAAAAAAAAAAAAAAAAAAAAAAAAAAAAAAAAAAAAAAAAAAAAAAAAAAAAAAAAAAAAAAAAAAAAAAAAAAAAAAAAAAAAAAAAAAAAAAAAAAAAAAAAAAAAAAAAAAAAAAAAAAAAAAAAAAAAAAAAAAAAAAAAAAAAAAAAAAAAAAAAAAAAAAAAAAAAAAAAAAAAAAAAAAAAAAAAAAAAAAAAAAAAAAAAAAAAAAAAAAAAAAAAAAAAAAAAAAAAAAAAAAAAAAAAAAAAAAAAAAAAAAAAAAAAAAAAAAAAAAAAAAAAAAAAAAAAAAAAAAAAAAAAAAAAAAAAAAAAAAAAAAAAAAAAAAAAAAAAAAAAAAAAAAAAAAAAAAAAAAAAAAAAAAAAAAAAAAAAAAAAAAAAAAAAAAAAAAAAAAAAAAAAAAAAAAAAAAAAAAAAAAAAAAAAAAAAAAAAAAAAAAAAAAAAAAAAAAAAAAAAAAAAAAAAAAAAAAAAAAAAAAAAAAAAAAAAAAAAAAAAAAAAAAAAAAAAAAAAAAAAAAAAAAAAAAAAAAAAAAAAAAAAAAAAAAAAAAAAAAAAAAAAAAAAAAAAAAAAAAAAAAAAAAAAAAAAAAAAAAAAAAAAAAAAAAAAAAAAAAAAAAAAAAAAAAAAAAAAAAAAAAAAAAAAAAAAAAAAAAAAAAAAAAAAAAAAAAAAAAAAAAAAAAAAAAAAAAAAAAAAAAAAAAAAAAAAAAAAAAAAAAAAAAAAAAAAAAAAAAAAAAAAAAAAAAAAAAAAAAAAAAAAAAAAAAAAAAAAAAAAAAAAAAAAAAAAAAAAAAAAAAAAAAAAAAAAAAAAAAAAAAAAAAAAAAAAAAAAAAAAAAAAAAAAArkfhehSu7z+uR+F6FK7vP65H4XoUru8/rkfhehSu7z+uR+F6FK7vP65H4XoUru8/rkfhehSu7z+uR+F6FK7vP65H4XoUru8/rkfhehSu7z+uR+F6FK7vPwrXo3A9Cu8/CtejcD0Kxz8AAAAAAAAAAOF6FK5H4co/KVyPwvUozD8AAAAAAAAAAAAAAAAAAAAAAAAAAAAAAAAAAAAAAAAAAAAAAAAAAAAAAAAAAAAAAAAAAAAAAAAAAAAAAAAAAAAAAAAAAAAAAAAAAAAAAAAAAAAAAAAAAAAAAAAAAAAAAAAAAAAAAAAAAAAAAAAAAAAAAAAAAAAAAAAAAAAAAAAAAAAAAAAAAAAAAAAAAAAAAAAAAAAAAAAAAAAAAAAAAAAAAAAAAAAAAAAAAAAAAAAAAAAAAAAAAAAAAAAAAAAAAAAAAAAAAAAAAAAAAAAAAAAAAAAAAAAAAAAAAAAAAAAAAAAAAAAAAAAAAAAAAAAAAAAAAAAAAAAAAAAAAAAAAAAAAAAAAAAAAAAAAAAAAAAAAAAAAAAAAAAAAAAAAAAAAAAAAAAAAAAAAAAAAAAAAAAAAAAAAAAAAAAAAAAAAAAAAAAAAAAAAAAAAAAAAAAAAAAAAAAAAAAAAAAAAAAAAAAAAAAAAAAAAAAAAAAAAAAAAAAAAAAAAAAAAAAAAAAAAAAAAAAAAAAAAAAAAAAAAAAAAAAAAAAAAAAAAAAAAAAAAAAAAAAAAAAAAAAAAAAAAAAAAAAAAAAAAAAAAAAAAAAAAAAAAAAAAAAAAAAAAAAAAAAAAAAAAAAAAAAAAAAAAAAAAAAAAAAAAAAAAAAAAAAAAAAAAAAAAAAAAAAAAAAAAAAAAAAAAAAAAAAAAAAAAAAAAAAAAAAAAAAAAAAAAAAAAAAAAAAAAAAAAAAAAAAAAAAAAAAAAAAAAAAAAAAAAAAAAAAAAAAAAAAAAAAAAAAAAAAAAAAAAAAAAAAAAAAAAAAAAAAAAAAAAAAAAAAAAAAAAAAAAAAAAAAAAAAAAAAAAAAAAAAAAAAAAAAAAAAAAAAAAAAAAAAAAAAAAAAAAAAAAAAAAAAAAAAAAAAAAAAAAAAAAAAAAAAAAAAAAAAAAAAAAAAAAAAAAAAAAAAAAAAAAAAAAAAAAAAAAAAAAAAAAAAAAAAAAAAAAAAAAAAAAAAAAAAAAAAAAAAAAAAAAAAAAAAAAAAAAAAAAAAAAAAAAAAAAAAAAAAAAAAAAAAAAAAAAAAAAAAAAAAAAAAAAAAAAAAAAAAAAAAAAAAAAAAAAAAAAAAAAAAAAAAAAAAAAAAAAAAAAAAAAAAAAAAAAAAAAAAAAAAAAAAAAAAAAAAAAAAAAAAAAAAAAAAAAAAAAAAAAAAAAAAAAAAAAAAAAAAAAAAAAAAAAAAAAAAAAAAAAAAAAAAAAAAAAAAAAAAAAAAAAAAAAAAAAAAAAAAAAAAAAAAAAAAAAAAAAAAAAAAAAAAAAAAAAAAAAAAAAAAAAAAAAAAAAAAAAAAAAAAAAAAAAAAAAAAAAAAAAAAAAAAAAAAAAAAAAAAAAAAAAAAAAAAAAAAAAAAAAAAAAAAAAAAAAAAAAAAAAAAAAAAAAAAAAAAAAAAAAAAAAAAAAAAAAAAAAAAAAAAAAAAAAAAAAAAAAAAAAAAAAAAAAAAAAAAAAAAAAAAAAAAAAAAAAAAAAAAAAAAAAAAAAAAAAAAAAACuR+F6FK7vP65H4XoUru8/rkfhehSu7z+uR+F6FK7vP65H4XoUru8/rkfhehSu7z+PwvUoXI/qPwAAAAAAAAAAw/UoXI/C7T8AAAAAAAAAAAAAAAAAAAAAAAAAAAAAAAAAAAAAAAAAAAAAAAAAAAAAAAAAAAAAAAAAAAAAAAAAAAAAAAAAAAAAAAAAAAAAAAAAAAAAAAAAAAAAAAAAAAAAAAAAAAAAAAAAAAAAAAAAAAAAAAAAAAAAAAAAAAAAAAAAAAAAAAAAAAAAAAAAAAAAAAAAAAAAAAAAAAAAAAAAAAAAAAAAAAAAAAAAAAAAAAAAAAAAAAAAAAAAAAAAAAAAAAAAAAAAAAAAAAAAAAAAAAAAAAAAAAAAAAAAAAAAAAAAAAAAAAAAAAAAAAAAAAAAAAAAAAAAAAAAAAAAAAAAAAAAAAAAAAAAAAAAAAAAAAAAAAAAAAAAAAAAAAAAAAAAAAAAAAAAAAAAAAAAAAAAAAAAAAAAAAAAAAAAAAAAAAAAAAAAAAAAAAAAAAAAAAAAAAAAAAAAAAAAAAAAAAAAAAAAAAAAAAAAAAAAAAAAAAAAAAAAAAAAAAAAAAAAAAAAAAAAAAAAAAAAAAAAAAAAAAAAAAAAAAAAAAAAAAAAAAAAAAAAAAAAAAAAAAAAAAAAAAAAAAAAAAAAAAAAAAAAAAAAAAAAAAAAAAAAAAAAAAAAAAAAAAAAAAAAAAAAAAAAAAAAAAAAAAAAAAAAAAAAAAAAAAAAAAAAAAAAAAAAAAAAAAAAAAAAAAAAAAAAAAAAAAAAAAAAAAAAAAAAAAAAAAAAAAAAAAAAAAAAAAAAAAAAAAAAAAAAAAAAAAAAAAAAAAAAAAAAAAAAAAAAAAAAAAAAAAAAAAAAAAAAAAAAAAAAAAAAAAAAAAAAAAAAAAAAAAAAAAAAAAAAAAAAAAAAAAAAAAAAAAAAAAAAAAAAAAAAAAAAAAAAAAAAAAAAAAAAAAAAAAAAAAAAAAAAAAAAAAAAAAAAAAAAAAAAAAAAAAAAAAAAAAAAAAAAAAAAAAAAAAAAAAAAAAAAAAAAAAAAAAAAAAAAAAAAAAAAAAAAAAA=",
          "dtype": "f8"
         },
         "yaxis": "y5"
        },
        {
         "hovertemplate": "Distance: %{x:.1f}m<br>Steering: %{y:.3f}<extra></extra>",
         "line": {
          "color": "#8A2BE2",
          "width": 3
         },
         "mode": "lines",
         "name": "Steering",
         "type": "scatter",
         "x": {
          "bdata": "AAAAAAAAAABGtvP91HgTQOOlm8Qg8CJAF9nO91MjLEBmZmZmZsYyQGDl0CLbmTdAokW28/10PEArhxbZzpdAQJhuEoPA+kJAfT81XrppRUBeukkMArtHQPyp8dJN0klAGy/dJAbxS0ACK4cW2Q5OQL6fGi/dBFBAMQisHFr8UECJQWDl0PpRQHe+nxov9VJAqMZLN4nxU0AX2c73U+tUQKrx0k1i2FVA8tJNYhDoVkDNzMzMzORXQCPb+X5q5FhAXI/C9SjsWUCoxks3ifFaQGQ730+N91tAf2q8dJP4XEBOYhBYOQxeQI/C9ShcF19AppvEILASYEBeukkMAptgQB1aZDvfH2FA0SLb+X6uYUDfT42XbjpiQBBYObTIxmJArBxaZDtXY0BxPQrXo+hjQNnO91PjfWRAYhBYObQUZUDTTWIQWK1lQC2yne+nRmZADi2yne/fZkD0/dR46XpnQKJFtvP9HGhATmIQWDnAaEDn+6nx0l1pQCcxCKwcBmpAz/dT46WnakCmm8QgsFJrQDvfT42X+mtA5/up8dKlbED8qfHSTVZtQPT91HjpAm5AyXa+nxq3bkB7FK5H4WJvQA4tsp3vC3BAmG4Sg8BocEBeukkMAsVwQDm0yHa+H3FAy6FFtvN7cUCR7Xw/NdpxQFYOLbKdN3JA+n5qvHSZckC0yHa+n/pyQJzEILByWnNA+FPjpZu8c0B7FK5H4R50QClcj8L1hHRACKwcWmTldEAlBoGVQ091QESLbOf7tXVAz/dT46UZdkCF61G4HoN2QG3n+6nx7HZA1XjpJjFWd0Cq8dJNYr53QNV46SYxJnhAppvEILCSeEA1XrpJDP54QI2XbhKDbnlAarx0kxjeeUBEi2zn+0l6QAAAAAAAunpAmG4Sg8Aqe0BKDAIrh5x7QMuhRbbzFXxASgwCK4eGfEC8dJMYBPp8QPhT46WbYn1ATDeJQWDlfUAbL90kBld+QLbz/dR41X5AfT81XrpJf0Aj2/l+asR/QHE9CtejHYBATmIQWDlZgEDufD81XpWAQGq8dJMY0IBAnMQgsHIMgUBOYhBYOUmBQF66SQwCiIFAEoPAyqHDgUBEi2zn+wKCQFK4HoXrPYJAexSuR+F6gkDFILByaLqCQLgehetR+IJA2c73U+M3g0AfhetRuHWDQKrx0k1itINAg8DKoUX0g0C8dJMYBDaEQFpkO99PdIRAxSCwcmi0hEC6SQwCK/WEQOf7qfHSNIVA8tJNYhB0hUB3vp8aL7aFQJhuEoPA94VAYOXQItszhkB9PzVeuniGQLpJDAIru4ZALbKd76f5hkBmZmZmZjyHQLKd76fGe4dA+n5qvHTAh0DD9ShcjwGIQLbz/dR4RIhAMzMzMzOFiECBlUOLbMuIQD81XrpJC4lAO99PjZdQiUBI4XoUrpOJQFTjpZvE1YlA+FPjpZsXikCmm8QgsFuKQBBYObTIoIpAf2q8dJPiikBaZDvfTyeLQIPAyqFFaotALbKd76ewi0A1XrpJDPOLQN9PjZduOIxAke18PzV9jEB1kxgEVsCMQHNoke18BY1A7nw/NV5LjUDP91PjpY+NQHsUrkfh1I1AsHJoke0XjkAQWDm0yF6OQI2XbhKDpI5AVOOlm8TojkDLoUW28y6PQIlBYOXQco9A9ihcj8K5j0AfhetRuP6PQESLbOf7IZBAz/dT46VEkEAhsHJokWeQQH0/NV46ipBAi2zn+ymukECoxks3CdCQQCcxCKyc9JBAWmQ7308WkUBt5/up8TmRQC/dJAYBXpFA7FG4HoWAkUAv3SQGgaSRQN0kBoGVx5FAg8DKoUXqkUAdWmQ7Xw2SQO58PzXeMZJAc2iR7XxUkkBI4XoUrniSQPCnxku3nJJAhxbZzve+kkDsUbgeBeSSQMuhRbZzB5NAYhBYOTQqk0BOYhBYOU6TQBfZzvdTcZNAUrgeheuVk0DVeOkmMbmTQE5iEFg53ZNAZmZmZuYBlEA3iUFgZSWUQOf7qfHSSZRA/tR46aZtlEA3iUFgZZCUQEoMAiuHtJRAyXa+nxralECcxCCw8v2UQNEi2/l+IZVAhetRuJ5FlUBeukkMAmmVQCcxCKwcjpVAObTIdr6ylUAj2/l+6taVQNejcD0K+5VA4XoUrkcflkBeukkMAkOWQFyPwvWoaJZAbef7qXGMlkCmm8QgsLGWQM/3U+Ml1ZZAVOOlm8T5lkDn+6nx0h6XQI2XbhIDQ5dA/Knx0s1ll0BiEFg5tIaXQMHKoUU2ppdA2/l+arzEl0CPwvUoXOKXQFK4HoVr/ZdAVOOlm0QXmECoxks3CTGYQAwCK4eWSJhAmpmZmRlemEDdJAaBlXOYQAisHFrkh5hAy6FFtvOamED4U+Olm6uYQMuhRbZzvJhA46WbxCDLmECYbhKDwNmYQJZDi2zn5phAI9v5furymEC8dJMYBP6YQIcW2c53CJlAF9nO99MSmUCamZmZmRyZQFK4HoVrJplAVg4tsh0wmUBoke18vzmZQJhuEoNAQ5lAEoPAyqFMmUACK4cW2VWZQPLSTWIQX5lArBxaZLtnmUASg8DKIXGZQDVeukkMe5lAFK5H4fqEmUD+1Hjppo+ZQESLbOd7mplAYhBYObSkmUDP91PjJa6ZQIts5/upt5lAz/dT4yXBmUD6fmq89MmZQFg5tMj20plAN4lBYOXbmUBMN4lB4OSZQFg5tMj27ZlA46WbxCD3mUC28/3U+P+ZQPCnxks3CZpANV66SYwSmkDRItv5fhuaQMuhRbbzJJpAvHSTGAQumkD+1HjppjeaQDMzMzOzQZpASgwCK4dLmkCTGARWjlaaQESLbOd7YZpAMQisHNpsmkArhxbZzniaQJhuEoNAhZpA5/up8VKSmkCiRbbz/Z+aQGZmZmZmrppAObTIdr68mkDNzMzMTMyaQGZmZmbm25pAvHSTGATsmkD2KFyPwvyaQOf7qfFSDptAGy/dJAYgm0CR7Xw/NTKbQClcj8L1RJtAz/dT4yVYm0CPwvUo3GubQPLSTWKQf5tAMzMzMzOUm0Bg5dAi26ibQPT91HjpvZtA7nw/NV7Tm0A3iUFgZembQHsUrkfh/5tA0SLb+f4VnEDFILBy6CycQEJg5dAiRJxACtejcL1bnECkcD0KV3OcQHNoke18jJxAfT81XrqknEAZBFYOrb2cQH9qvHST1pxAI9v5furwnEBQjZdukgqdQMHKoUW2JJ1Az/dT4yVAnUBOYhBYOVqdQLpJDAKrdZ1ABoGVQwuRnUDpJjEIrKydQC/dJAaByJ1ApHA9CtflnUBaZDvfTwGeQIXrUbieHp5ArkfhehQ8nkDpJjEIrFieQKabxCAwdp5AZDvfTw2UnkCoxks3ibGeQHNoke180J5AwcqhRbbtnkBxPQrXowufQJ7vp8bLKp9ASOF6FK5Jn0Boke18v2efQEjhehSuhp9ADAIrh5aln0D2KFyPwsWfQFCNl26S5J9A+FPjpdsBoEDdJAaBFRKgQGiR7Xz/IaBAc2iR7XwxoEDwp8ZLd0CgQKRwPQoXUqBAkxgEVg5ioECkcD0KV3KgQPYoXI/CgqBAkxgEVk6ToEBzaJHtvKOgQBKDwMqhs6BAwcqhRbbEoEBSuB6FK9SgQGq8dJOY5aBAXI/C9ej1oECLbOf76QahQIts5/upF6FAAiuHFpkooUB9PzVeOjmhQAwCK4cWSqFAw/UoXM9aoUDZzvdTo2uhQF66SQwCfaFAf2q8dNONoUAOLbKd756hQO58PzVesKFAUrgehWvBoUAhsHJo0dKhQB1aZDvf46FAN4lBYKX0oUCYbhKDwAWiQGQ7309NF6JAvHSTGEQookBI4XoUrjmiQHE9CtdjSqJA2/l+avxbokASg8DK4WyiQM3MzMyMfqJAVg4tsh2QokAX2c73E6GiQEjhehQusqJAVOOlmwTEokBoke18P9WiQFYOLbKd5qJAmpmZmRn4okB56SYxiAmjQCuHFtnOGqNAjZduEoMso0C8dJMYBD6jQGDl0CJbT6NAy6FFtvNgo0D6fmq8tHKjQPLSTWJQhKNAPzVeusmVo0DdJAaBVaejQIXrUbheuKNAke18P3XKo0AAAAAAwNujQH9qvHST7aNAI9v5fir/o0BU46WbRBGkQLTIdr7fIqRA2c73U2M0pECDwMqhBUakQHNoke28V6RAHVpkO59ppED0/dR4aXukQBBYObTIjKRAMQisHBqepEB/arx0k7CkQKwcWmT7waRAvHSTGATUpEBSuB6Fq+WkQG8Sg8CK96RAlkOLbCcKpUAtsp3vZxulQM/3U+PlLKVAoBov3SQ9pUCcxCCwckylQLgehesRW6VAvp8aL51ppUDpJjEILHelQCGwcmhRhKVAaJHtfD+QpUCq8dJNIpylQNV46SYxp6VA16NwPYqxpUAUrkfhOrulQKRwPQpXxKVAPQrXozDNpUCPwvUoHNWlQIXrUbie3KVAFK5H4brjpUC+nxovXeqlQMHKoUV28KVA/Knx0s32pUAdWmQ73/ylQJqZmZnZAqZAexSuRyEJpkC0yHa+Hw+mQJZDi2xnFaZACKwcWmQbpkBSuB6FqyGmQD0K16PwJ6ZAWmQ7348upkDjpZvEoDWmQPT91HipPKZAg8DKocVDpkCwcmiRbUqmQGQ7309NUaZA5/up8RJYpkBxPQrX416mQKAaL93kZaZACtejcP1spkBCYOXQYnSmQDMzMzPze6ZAUrgehWuDpkAfhetReIumQFpkO9/Pk6ZA001iEBicpkAbL90kxqSmQDVeuknMraZAKVyPwvW2pkBoke18P8CmQJMYBFbOyaZAUrgehWvTpkDn+6nxUt2mQFCNl26S56ZAhxbZzvfxpkBQjZduUvymQJ7vp8ZLB6dAHVpkOx8Sp0DpJjEIbB2nQKwcWmT7KKdA+n5qvHQ0p0BxPQrX4z+nQEjhehSuS6dAF9nO95NXp0CNl24Sw2OnQHE9CtejcKdAokW28/18p0Db+X5qfImnQPyp8dKNlqdAy6FFtvOjp0Ce76fGy7CnQFTjpZuEvqdAiUFg5RDMp0CwcmiRbdmnQMP1KFwP56dAsHJoke30p0BCYOXQYgOoQO58PzVeEahAJQaBlcMfqECDwMqhhS6oQLx0kxgEPahAf2q8dFNLqED2KFyPQlqoQIXrUbieaahAtvP91Hh4qEDP91PjJYeoQAwCK4fWlahAukkMAmukqEDFILBy6LGoQGiR7Xz/vqhA8KfGS3fMqEBzaJHtvNmoQMP1KFzP5qhAvp8aL53zqECDwMqhRQCpQArXo3A9DalAK4cW2U4ZqUAZBFYO7SWpQOf7qfHSMalAlkOLbKc9qUAbL90kRkmpQEa28/2UVKlAI9v5fipgqUBg5dAiG2upQPp+arz0dalA9ihcj8KAqUAOLbKdb4upQPLSTWIQlqlAbef7qfGgqUA3iUFg5aupQLByaJHttqlAmpmZmdnBqUAX2c73k82pQA4tsp3v2KlA5/up8VLkqUCamZmZWfCpQNnO91Mj/KlAsp3vp0YIqkDXo3A9ihSqQLTIdr5fIapAoBov3WQtqkAzMzMzMzqqQPyp8dJNR6pAexSuR6FUqkDl0CLb+WGqQAwCK4dWb6pA7nw/NZ58qkDpJjEIbIqqQKAaL90kmKpANV66SUymqkD6fmq8NLSqQCPb+X4qwqpANV66SYzQqkDRItv5Pt+qQM/3U+Ol7apAPzVeuon8qkBvEoPAygqrQESLbOe7GatAWmQ7388oq0ACK4cWGTerQDVeuklMRatA/tR46WZSq0AlBoGVg16rQOOlm8QgaqtAnMQgsLJ1q0Dl0CLbeYCrQMl2vp9ai6tAZmZmZiaWq0AAAAAAwKCrQBsv3SSGq6tAaJHtfP+1q0DD9ShcT8CrQEa28/3UyqtAUI2XblLVq0D8qfHSzd+rQN9PjZdu6qtAKVyPwjX1q0DTTWIQGACsQBKDwMqhC6xAqvHSTSIXrECHFtnONyKsQN9PjZcuLqxARrbz/dQ5rEBYObTItkWsQH0/NV56UqxAmG4Sg8BerECq8dJNomusQIGVQ4sseKxA001iEFiFrEC6SQwCa5KsQC/dJAZBn6xAAiuHFpmsrEA/NV66ibqsQARWDi2yx6xAppvEIPDVrEC6SQwCa+OsQM3MzMyM8axAZDvfT83/rED2KFyPAg6tQMP1KFzPHK1AGQRWDm0rrUBCYOXQ4jmtQAAAAACASK1AsHJokW1XrUBOYhBYeWatQPCnxks3da1AtMh2vh+ErUBcj8L1aJOtQOOlm8Qgo61AUrgehWuyrUAUrkfhesGtQM3MzMxM0a1AAiuHFtngrUA9Ctej8PCtQDVeuklMAK5A2c73U2MQrkACK4cWmSCuQI2XbhLDMK5A9ihcj4JArkBvEoPAClGuQKJFtvN9Ya5ALbKd72dxrkAGgZVDy4GuQBKDwMqhkq5APQrXo/CirkAIrBxaJLSuQPhT46XbxK5Aj8L1KJzVrkAlBoGVA+auQPhT46Ub965ADi2ynS8Ir0DTTWIQGBmvQEw3iUFgKq9AVOOlmwQ7r0D0/dR4aUyvQAisHFokXa9A4XoUrkdur0CsHFpku3+vQLKd76dGka9Ac2iR7Xyir0CLbOf7abOvQJZDi2ynxK9ARrbz/RTWr0DD9Shcj+evQCcxCKwc+a9ACtejcD0FsEAUrkfhOg6wQPCnxkvXFrBAXI/C9egfsEDdJAaBtSiwQH9qvHRzMbBAMzMzM1M6sEBaZDvfD0OwQOF6FK4HTLBAvHSTGARVsEAAAAAAAF6wQLTIdr6fZrBAvp8aL71vsEBWDi2y3XiwQN0kBoG1gbBAGQRWDo2KsEA9Ctej0JOwQArXo3C9nLBAJQaBlcOlsECyne+npq6wQPp+arz0t7BAIbByaNHAsED2KFyPAsqwQFCNl27S0rBA/Knx0g3csED+1Hjp5uSwQGq8dJM47rBAppvEIBD3sECPwvUoPACxQBsv3SRmCbFAO99PjZcSsUA730+N1xuxQCcxCKycJLFAMzMzM/MtsUApXI/C9TaxQCGwcmgRQLFAf2q8dDNJsUDb+X5qvFKxQKjGSzfJW7FAppvEINBksUCq8dJN4m2xQMUgsHJod7FAlkOLbGeAsUCuR+F61ImxQOOlm8Qgk7FAnMQgsPKbsUC6SQwCK6WxQKabxCCwrbFAtvP91Ni1sUCWQ4tsp72xQLByaJENxbFAZDvfTy3MsUDl0CLb+dKxQD0K16Nw2bFAAiuHFnnfsUB/arx0U+WxQN9PjZeu6rFAx0s3iaHvsUA5tMh2fvSxQCPb+X5K+bFAtMh2vh/+sUCwcmiRzQKyQJZDi2xHB7JAdZMYBPYLskDwp8ZLlxCyQKJFtvM9FbJADAIrh/YZskAQWDm06B6yQPT91HjpI7JA1XjpJvEoskCuR+F6FC6yQK5H4XpUM7JAkxgEVq44skAMAiuH9j2yQHWTGASWQ7JAPQrXoxBJskBKDAIr506yQLbz/dSYVLJAWmQ7329askC+nxovPWCyQMdLN4khZrJAvHSTGCRsskCwcmiRLXKyQPCnxks3eLJA001iEDh+skDsUbgeRYSyQPT91HhpirJAsp3vp+aQskD0/dR4KZeyQDvfT41XnbJAsp3vp+ajskCWQ4tsp6qyQJqZmZk5sbJAXI/C9ci3skDNzMzMbL6yQHWTGAQWxbJAd76fGs/LskBWDi2yvdKyQGiR7Xx/2bJArBxaZJvgskAxCKwceueyQOf7qfFy7rJA3SQGgXX1skCiRbbznfyyQC2yne/HA7NArkfhehQLs0Bcj8L1aBKzQLbz/dTYGbNAtMh2vl8hs0DXo3A9iiizQJ7vp8YLMLNAbxKDwKo3s0C+nxovPT+zQAAAAADgRrNA7FG4HmVOs0CkcD0KV1azQHe+nxrvXbNAQmDl0KJls0AAAAAAYG2zQM3MzMyMdbNA7nw/NR59s0AhsHJoEYWzQNv5fmo8jbNAO99PjTeVs0CkcD0KN52zQBKDwMpBpbNAJzEIrFyts0C+nxovfbWzQFTjpZukvbNA3SQGgdXFs0AX2c73M86zQH0/NV661rNApHA9Ctfes0Bg5dAiG+ezQNejcD1q77NA001iEBj4s0Cmm8QgcAC0QKRwPQq3CLRAnMQgsHIRtEBiEFg51Bm0QEw3iUGAIrRAppvEIPAqtEAQWDm0aDO0QPYoXI8iPLRAUrgehYtEtEDRItv5/ky0QNnO91PDVbRASOF6FC5etECyne+nBme0QBkEVg6Nb7RAEFg5tGh4tECq8dJN4oC0QLByaJGtibRA0SLb+T6StED0/dR46Zq0QOXQItuZo7RAUI2XbnKstEA730+N97S0QEJg5dDivbRAI9v5fqrGtEASg8DKQc+0QNNNYhD417RABoGVQ+vgtED2KFyPwum0QKjGSzeJ8rRAeekmMSj7tEDdJAaB9QO1QNNNYhDYDLVAkxgEVs4VtUA5tMh2fh61QJqZmZl5J7VA2/l+ahwwtUDjpZvEIDm1QIPAyqHFQbVAeekmMahKtUDHSzeJgVO1QC2yne+HXLVAWmQ7329ltUAdWmQ7f261QEoMAisnd7VAXrpJDCKAtUCsHFpk+4i1QCuHFtnukbVAc2iR7dyatUCe76fGy6O1QOf7qfHSrLVAIbByaNG1tUDNzMzM7L61QOOlm8Tgx7VA8tJNYvDQtUAhsHJokdm1QK5H4Xq04rVA5/up8bLrtUDsUbgepfS1QOOlm8Sg/bVA2/l+atwGtkCyne+npg+2QCuHFtnOGLZANV66SawhtkD2KFyP4iq2QI2XbhLDM7ZAZDvfT+08tkAxCKwc2kW2QPYoXI8iT7ZAVOOlmwRYtkC0yHa+H2G2QAAAAADgabZAqvHSTQJytkBCYOXQAnq2QIcW2c6XgbZAcT0K1+OItkCsHFpk24+2QB+F61F4lrZAy6FFtvOctkDjpZvEQKO2QNEi2/leqbZAf2q8dJOvtkD6fmq8tLW2QH0/NV6au7ZAUI2XbnLBtkA9CtejcMe2QM3MzMxMzbZAPzVeuinTtkAnMQisvNi2QBSuR+F63rZAEFg5tCjktkAZBFYOrem2QC2yne8H77ZA16NwPUr0tkDVeOkmcfm2QI/C9Sic/rZA8tJNYrADt0DdJAaBlQi3QG3n+6mxDbdA001iELgSt0BGtvP91Be3QNv5fmr8HLdA8KfGS1cit0AZBFYOjSe3QMUgsHIILbdAxSCwcqgyt0AAAAAAQDi3QBfZzvfTPbdAJzEIrLxDt0C6SQwCi0m3QDEIrBx6T7dAUI2XbpJVt0CYbhKDgFu3QJ7vp8arYbdARIts59tnt0DRItv5Pm63QNV46SaxdLdAYhBYORR7t0BGtvP9tIG3QLx0kxhEiLdA30+Nl86Ot0DNzMzMrJW3QHE9CteDnLdAF9nO91Ojt0AzMzMzM6q3QESLbOdbsbdA001iEFi4t0Cq8dJNYr+3QClcj8JVxrdAi2zn+8nNt0DLoUW2E9W3QDm0yHY+3LdAmpmZmbnjt0AzMzMzE+u3QOxRuB6F8rdAWmQ738/5t0BSuB6FawG4QLx0kxgECbhADAIrh7YQuEA730+Ndxi4QOXQItsZILhADAIrh/YnuEA/NV66iS+4QLx0kxiEN7hARIts53s/uEAzMzMzE0e4QKRwPQo3T7hAg8DKoUVXuEAdWmQ7P1+4QAaBlUMLZ7hA0SLb+V5vuECBlUOLTHe4QHWTGASWf7hA16NwPYqHuEArhxbZzo+4QLKd76dGmLhAbxKDwCqguEBCYOXQgqi4QKrx0k3isLhAKVyPwhW5uEBzaJHtvMG4QKrx0k0iyrhAObTIdp7SuEC4HoXr8dq4QJqZmZl547hAEFg5tAjsuEAtsp3vp/S4QM/3U+MF/bhA/Knx0q0FuUAdWmQ7Pw65QNv5fmq8FrlA4XoUrocfuUA=",
          "dtype": "f8"
         },
         "xaxis": "x6",
         "y": {
          "bdata": "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",
          "dtype": "f8"
         },
         "yaxis": "y6"
        }
       ],
       "layout": {
        "annotations": [
         {
          "font": {
           "size": 16
          },
          "showarrow": false,
          "text": "Gear vs Distance",
          "x": 0.13999999999999999,
          "xanchor": "center",
          "xref": "paper",
          "y": 1,
          "yanchor": "bottom",
          "yref": "paper"
         },
         {
          "font": {
           "size": 16
          },
          "showarrow": false,
          "text": "Speed vs Distance",
          "x": 0.49999999999999994,
          "xanchor": "center",
          "xref": "paper",
          "y": 1,
          "yanchor": "bottom",
          "yref": "paper"
         },
         {
          "font": {
           "size": 16
          },
          "showarrow": false,
          "text": "RPM vs Distance",
          "x": 0.86,
          "xanchor": "center",
          "xref": "paper",
          "y": 1,
          "yanchor": "bottom",
          "yref": "paper"
         },
         {
          "font": {
           "size": 16
          },
          "showarrow": false,
          "text": "Throttle vs Distance",
          "x": 0.13999999999999999,
          "xanchor": "center",
          "xref": "paper",
          "y": 0.425,
          "yanchor": "bottom",
          "yref": "paper"
         },
         {
          "font": {
           "size": 16
          },
          "showarrow": false,
          "text": "Brake vs Distance",
          "x": 0.49999999999999994,
          "xanchor": "center",
          "xref": "paper",
          "y": 0.425,
          "yanchor": "bottom",
          "yref": "paper"
         },
         {
          "font": {
           "size": 16
          },
          "showarrow": false,
          "text": "Steering vs Distance",
          "x": 0.86,
          "xanchor": "center",
          "xref": "paper",
          "y": 0.425,
          "yanchor": "bottom",
          "yref": "paper"
         }
        ],
        "height": 600,
        "paper_bgcolor": "white",
        "plot_bgcolor": "white",
        "showlegend": false,
        "template": {
         "data": {
          "bar": [
           {
            "error_x": {
             "color": "#2a3f5f"
            },
            "error_y": {
             "color": "#2a3f5f"
            },
            "marker": {
             "line": {
              "color": "#E5ECF6",
              "width": 0.5
             },
             "pattern": {
              "fillmode": "overlay",
              "size": 10,
              "solidity": 0.2
             }
            },
            "type": "bar"
           }
          ],
          "barpolar": [
           {
            "marker": {
             "line": {
              "color": "#E5ECF6",
              "width": 0.5
             },
             "pattern": {
              "fillmode": "overlay",
              "size": 10,
              "solidity": 0.2
             }
            },
            "type": "barpolar"
           }
          ],
          "carpet": [
           {
            "aaxis": {
             "endlinecolor": "#2a3f5f",
             "gridcolor": "white",
             "linecolor": "white",
             "minorgridcolor": "white",
             "startlinecolor": "#2a3f5f"
            },
            "baxis": {
             "endlinecolor": "#2a3f5f",
             "gridcolor": "white",
             "linecolor": "white",
             "minorgridcolor": "white",
             "startlinecolor": "#2a3f5f"
            },
            "type": "carpet"
           }
          ],
          "choropleth": [
           {
            "colorbar": {
             "outlinewidth": 0,
             "ticks": ""
            },
            "type": "choropleth"
           }
          ],
          "contour": [
           {
            "colorbar": {
             "outlinewidth": 0,
             "ticks": ""
            },
            "colorscale": [
             [
              0,
              "#0d0887"
             ],
             [
              0.1111111111111111,
              "#46039f"
             ],
             [
              0.2222222222222222,
              "#7201a8"
             ],
             [
              0.3333333333333333,
              "#9c179e"
             ],
             [
              0.4444444444444444,
              "#bd3786"
             ],
             [
              0.5555555555555556,
              "#d8576b"
             ],
             [
              0.6666666666666666,
              "#ed7953"
             ],
             [
              0.7777777777777778,
              "#fb9f3a"
             ],
             [
              0.8888888888888888,
              "#fdca26"
             ],
             [
              1,
              "#f0f921"
             ]
            ],
            "type": "contour"
           }
          ],
          "contourcarpet": [
           {
            "colorbar": {
             "outlinewidth": 0,
             "ticks": ""
            },
            "type": "contourcarpet"
           }
          ],
          "heatmap": [
           {
            "colorbar": {
             "outlinewidth": 0,
             "ticks": ""
            },
            "colorscale": [
             [
              0,
              "#0d0887"
             ],
             [
              0.1111111111111111,
              "#46039f"
             ],
             [
              0.2222222222222222,
              "#7201a8"
             ],
             [
              0.3333333333333333,
              "#9c179e"
             ],
             [
              0.4444444444444444,
              "#bd3786"
             ],
             [
              0.5555555555555556,
              "#d8576b"
             ],
             [
              0.6666666666666666,
              "#ed7953"
             ],
             [
              0.7777777777777778,
              "#fb9f3a"
             ],
             [
              0.8888888888888888,
              "#fdca26"
             ],
             [
              1,
              "#f0f921"
             ]
            ],
            "type": "heatmap"
           }
          ],
          "histogram": [
           {
            "marker": {
             "pattern": {
              "fillmode": "overlay",
              "size": 10,
              "solidity": 0.2
             }
            },
            "type": "histogram"
           }
          ],
          "histogram2d": [
           {
            "colorbar": {
             "outlinewidth": 0,
             "ticks": ""
            },
            "colorscale": [
             [
              0,
              "#0d0887"
             ],
             [
              0.1111111111111111,
              "#46039f"
             ],
             [
              0.2222222222222222,
              "#7201a8"
             ],
             [
              0.3333333333333333,
              "#9c179e"
             ],
             [
              0.4444444444444444,
              "#bd3786"
             ],
             [
              0.5555555555555556,
              "#d8576b"
             ],
             [
              0.6666666666666666,
              "#ed7953"
             ],
             [
              0.7777777777777778,
              "#fb9f3a"
             ],
             [
              0.8888888888888888,
              "#fdca26"
             ],
             [
              1,
              "#f0f921"
             ]
            ],
            "type": "histogram2d"
           }
          ],
          "histogram2dcontour": [
           {
            "colorbar": {
             "outlinewidth": 0,
             "ticks": ""
            },
            "colorscale": [
             [
              0,
              "#0d0887"
             ],
             [
              0.1111111111111111,
              "#46039f"
             ],
             [
              0.2222222222222222,
              "#7201a8"
             ],
             [
              0.3333333333333333,
              "#9c179e"
             ],
             [
              0.4444444444444444,
              "#bd3786"
             ],
             [
              0.5555555555555556,
              "#d8576b"
             ],
             [
              0.6666666666666666,
              "#ed7953"
             ],
             [
              0.7777777777777778,
              "#fb9f3a"
             ],
             [
              0.8888888888888888,
              "#fdca26"
             ],
             [
              1,
              "#f0f921"
             ]
            ],
            "type": "histogram2dcontour"
           }
          ],
          "mesh3d": [
           {
            "colorbar": {
             "outlinewidth": 0,
             "ticks": ""
            },
            "type": "mesh3d"
           }
          ],
          "parcoords": [
           {
            "line": {
             "colorbar": {
              "outlinewidth": 0,
              "ticks": ""
             }
            },
            "type": "parcoords"
           }
          ],
          "pie": [
           {
            "automargin": true,
            "type": "pie"
           }
          ],
          "scatter": [
           {
            "fillpattern": {
             "fillmode": "overlay",
             "size": 10,
             "solidity": 0.2
            },
            "type": "scatter"
           }
          ],
          "scatter3d": [
           {
            "line": {
             "colorbar": {
              "outlinewidth": 0,
              "ticks": ""
             }
            },
            "marker": {
             "colorbar": {
              "outlinewidth": 0,
              "ticks": ""
             }
            },
            "type": "scatter3d"
           }
          ],
          "scattercarpet": [
           {
            "marker": {
             "colorbar": {
              "outlinewidth": 0,
              "ticks": ""
             }
            },
            "type": "scattercarpet"
           }
          ],
          "scattergeo": [
           {
            "marker": {
             "colorbar": {
              "outlinewidth": 0,
              "ticks": ""
             }
            },
            "type": "scattergeo"
           }
          ],
          "scattergl": [
           {
            "marker": {
             "colorbar": {
              "outlinewidth": 0,
              "ticks": ""
             }
            },
            "type": "scattergl"
           }
          ],
          "scattermap": [
           {
            "marker": {
             "colorbar": {
              "outlinewidth": 0,
              "ticks": ""
             }
            },
            "type": "scattermap"
           }
          ],
          "scattermapbox": [
           {
            "marker": {
             "colorbar": {
              "outlinewidth": 0,
              "ticks": ""
             }
            },
            "type": "scattermapbox"
           }
          ],
          "scatterpolar": [
           {
            "marker": {
             "colorbar": {
              "outlinewidth": 0,
              "ticks": ""
             }
            },
            "type": "scatterpolar"
           }
          ],
          "scatterpolargl": [
           {
            "marker": {
             "colorbar": {
              "outlinewidth": 0,
              "ticks": ""
             }
            },
            "type": "scatterpolargl"
           }
          ],
          "scatterternary": [
           {
            "marker": {
             "colorbar": {
              "outlinewidth": 0,
              "ticks": ""
             }
            },
            "type": "scatterternary"
           }
          ],
          "surface": [
           {
            "colorbar": {
             "outlinewidth": 0,
             "ticks": ""
            },
            "colorscale": [
             [
              0,
              "#0d0887"
             ],
             [
              0.1111111111111111,
              "#46039f"
             ],
             [
              0.2222222222222222,
              "#7201a8"
             ],
             [
              0.3333333333333333,
              "#9c179e"
             ],
             [
              0.4444444444444444,
              "#bd3786"
             ],
             [
              0.5555555555555556,
              "#d8576b"
             ],
             [
              0.6666666666666666,
              "#ed7953"
             ],
             [
              0.7777777777777778,
              "#fb9f3a"
             ],
             [
              0.8888888888888888,
              "#fdca26"
             ],
             [
              1,
              "#f0f921"
             ]
            ],
            "type": "surface"
           }
          ],
          "table": [
           {
            "cells": {
             "fill": {
              "color": "#EBF0F8"
             },
             "line": {
              "color": "white"
             }
            },
            "header": {
             "fill": {
              "color": "#C8D4E3"
             },
             "line": {
              "color": "white"
             }
            },
            "type": "table"
           }
          ]
         },
         "layout": {
          "annotationdefaults": {
           "arrowcolor": "#2a3f5f",
           "arrowhead": 0,
           "arrowwidth": 1
          },
          "autotypenumbers": "strict",
          "coloraxis": {
           "colorbar": {
            "outlinewidth": 0,
            "ticks": ""
           }
          },
          "colorscale": {
           "diverging": [
            [
             0,
             "#8e0152"
            ],
            [
             0.1,
             "#c51b7d"
            ],
            [
             0.2,
             "#de77ae"
            ],
            [
             0.3,
             "#f1b6da"
            ],
            [
             0.4,
             "#fde0ef"
            ],
            [
             0.5,
             "#f7f7f7"
            ],
            [
             0.6,
             "#e6f5d0"
            ],
            [
             0.7,
             "#b8e186"
            ],
            [
             0.8,
             "#7fbc41"
            ],
            [
             0.9,
             "#4d9221"
            ],
            [
             1,
             "#276419"
            ]
           ],
           "sequential": [
            [
             0,
             "#0d0887"
            ],
            [
             0.1111111111111111,
             "#46039f"
            ],
            [
             0.2222222222222222,
             "#7201a8"
            ],
            [
             0.3333333333333333,
             "#9c179e"
            ],
            [
             0.4444444444444444,
             "#bd3786"
            ],
            [
             0.5555555555555556,
             "#d8576b"
            ],
            [
             0.6666666666666666,
             "#ed7953"
            ],
            [
             0.7777777777777778,
             "#fb9f3a"
            ],
            [
             0.8888888888888888,
             "#fdca26"
            ],
            [
             1,
             "#f0f921"
            ]
           ],
           "sequentialminus": [
            [
             0,
             "#0d0887"
            ],
            [
             0.1111111111111111,
             "#46039f"
            ],
            [
             0.2222222222222222,
             "#7201a8"
            ],
            [
             0.3333333333333333,
             "#9c179e"
            ],
            [
             0.4444444444444444,
             "#bd3786"
            ],
            [
             0.5555555555555556,
             "#d8576b"
            ],
            [
             0.6666666666666666,
             "#ed7953"
            ],
            [
             0.7777777777777778,
             "#fb9f3a"
            ],
            [
             0.8888888888888888,
             "#fdca26"
            ],
            [
             1,
             "#f0f921"
            ]
           ]
          },
          "colorway": [
           "#636efa",
           "#EF553B",
           "#00cc96",
           "#ab63fa",
           "#FFA15A",
           "#19d3f3",
           "#FF6692",
           "#B6E880",
           "#FF97FF",
           "#FECB52"
          ],
          "font": {
           "color": "#2a3f5f"
          },
          "geo": {
           "bgcolor": "white",
           "lakecolor": "white",
           "landcolor": "#E5ECF6",
           "showlakes": true,
           "showland": true,
           "subunitcolor": "white"
          },
          "hoverlabel": {
           "align": "left"
          },
          "hovermode": "closest",
          "mapbox": {
           "style": "light"
          },
          "paper_bgcolor": "white",
          "plot_bgcolor": "#E5ECF6",
          "polar": {
           "angularaxis": {
            "gridcolor": "white",
            "linecolor": "white",
            "ticks": ""
           },
           "bgcolor": "#E5ECF6",
           "radialaxis": {
            "gridcolor": "white",
            "linecolor": "white",
            "ticks": ""
           }
          },
          "scene": {
           "xaxis": {
            "backgroundcolor": "#E5ECF6",
            "gridcolor": "white",
            "gridwidth": 2,
            "linecolor": "white",
            "showbackground": true,
            "ticks": "",
            "zerolinecolor": "white"
           },
           "yaxis": {
            "backgroundcolor": "#E5ECF6",
            "gridcolor": "white",
            "gridwidth": 2,
            "linecolor": "white",
            "showbackground": true,
            "ticks": "",
            "zerolinecolor": "white"
           },
           "zaxis": {
            "backgroundcolor": "#E5ECF6",
            "gridcolor": "white",
            "gridwidth": 2,
            "linecolor": "white",
            "showbackground": true,
            "ticks": "",
            "zerolinecolor": "white"
           }
          },
          "shapedefaults": {
           "line": {
            "color": "#2a3f5f"
           }
          },
          "ternary": {
           "aaxis": {
            "gridcolor": "white",
            "linecolor": "white",
            "ticks": ""
           },
           "baxis": {
            "gridcolor": "white",
            "linecolor": "white",
            "ticks": ""
           },
           "bgcolor": "#E5ECF6",
           "caxis": {
            "gridcolor": "white",
            "linecolor": "white",
            "ticks": ""
           }
          },
          "title": {
           "x": 0.05
          },
          "xaxis": {
           "automargin": true,
           "gridcolor": "white",
           "linecolor": "white",
           "ticks": "",
           "title": {
            "standoff": 15
           },
           "zerolinecolor": "white",
           "zerolinewidth": 2
          },
          "yaxis": {
           "automargin": true,
           "gridcolor": "white",
           "linecolor": "white",
           "ticks": "",
           "title": {
            "standoff": 15
           },
           "zerolinecolor": "white",
           "zerolinewidth": 2
          }
         }
        },
        "title": {
         "font": {
          "size": 16
         },
         "text": "Lap 1 - Comprehensive Telemetry Analysis (934 data points)"
        },
        "xaxis": {
         "anchor": "y",
         "domain": [
          0,
          0.27999999999999997
         ],
         "gridcolor": "lightgray",
         "gridwidth": 1,
         "showgrid": true,
         "showticklabels": false
        },
        "xaxis2": {
         "anchor": "y2",
         "domain": [
          0.36,
          0.6399999999999999
         ],
         "gridcolor": "lightgray",
         "gridwidth": 1,
         "showgrid": true,
         "showticklabels": false
        },
        "xaxis3": {
         "anchor": "y3",
         "domain": [
          0.72,
          1
         ],
         "gridcolor": "lightgray",
         "gridwidth": 1,
         "showgrid": true,
         "showticklabels": false
        },
        "xaxis4": {
         "anchor": "y4",
         "domain": [
          0,
          0.27999999999999997
         ],
         "gridcolor": "lightgray",
         "gridwidth": 1,
         "showgrid": true,
         "title": {
          "text": "Distance (m)"
         }
        },
        "xaxis5": {
         "anchor": "y5",
         "domain": [
          0.36,
          0.6399999999999999
         ],
         "gridcolor": "lightgray",
         "gridwidth": 1,
         "showgrid": true,
         "title": {
          "text": "Distance (m)"
         }
        },
        "xaxis6": {
         "anchor": "y6",
         "domain": [
          0.72,
          1
         ],
         "gridcolor": "lightgray",
         "gridwidth": 1,
         "showgrid": true,
         "title": {
          "text": "Distance (m)"
         }
        },
        "yaxis": {
         "anchor": "x",
         "domain": [
          0.575,
          1
         ],
         "gridcolor": "lightgray",
         "gridwidth": 1,
         "showgrid": true,
         "title": {
          "text": "Gear"
         }
        },
        "yaxis2": {
         "anchor": "x2",
         "domain": [
          0.575,
          1
         ],
         "gridcolor": "lightgray",
         "gridwidth": 1,
         "showgrid": true,
         "title": {
          "text": "Speed (km/h)"
         }
        },
        "yaxis3": {
         "anchor": "x3",
         "domain": [
          0.575,
          1
         ],
         "gridcolor": "lightgray",
         "gridwidth": 1,
         "showgrid": true,
         "title": {
          "text": "RPM"
         }
        },
        "yaxis4": {
         "anchor": "x4",
         "domain": [
          0,
          0.425
         ],
         "gridcolor": "lightgray",
         "gridwidth": 1,
         "showgrid": true,
         "title": {
          "text": "Throttle (0-1)"
         }
        },
        "yaxis5": {
         "anchor": "x5",
         "domain": [
          0,
          0.425
         ],
         "gridcolor": "lightgray",
         "gridwidth": 1,
         "showgrid": true,
         "title": {
          "text": "Brake (0-1)"
         }
        },
        "yaxis6": {
         "anchor": "x6",
         "domain": [
          0,
          0.425
         ],
         "gridcolor": "lightgray",
         "gridwidth": 1,
         "showgrid": true,
         "title": {
          "text": "Steering"
         }
        }
       }
      }
     },
     "metadata": {},
     "output_type": "display_data"
    },
    {
     "data": {
      "application/vnd.plotly.v1+json": {
       "config": {
        "plotlyServerURL": "https://plot.ly"
       },
       "data": [
        {
         "hovertemplate": "Distance: %{x:.1f}m<br>Gear: %{y}<extra></extra>",
         "line": {
          "color": "#FF6B35",
          "shape": "hv",
          "width": 3
         },
         "mode": "lines",
         "name": "Gear",
         "type": "scatter",
         "x": {
          "bdata": "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",
          "dtype": "f8"
         },
         "xaxis": "x",
         "y": {
          "bdata": "CAgICAgICAgICAgICAgICAgICAgICAgICAgICAgICAgICAgICAgICAgICAgICAgICAgICAgICAgICAgICAgICAgICAgICAgICAgICAgICAgICAgICAgICAgICAgICAgHBwcHBgYGBgUFBQUEBAQEAwMDAwICAgIBAQEBAQEBAQEBAQEBAQEBAQEBAQEBAQECAgICAgICAgICAwMDAwMDAwMDAwQEBAQEBAQEBAQFBQUFBQUFBQUFBgYGBgYGBgYGBgYHBwcHBwcHBwcHBwcHBwcHBwcHBwcHBwcHBwcHBwcHBwcHBwcHBwcHCAgICAgICAgICAgICAgICAgICAgICAgICAgICAgICAgICAgICAgICAgICAgICAgICAgICAgIBwcHBwYGBgYFBQUFBAQEBAMDAwMCAgICAgICAgICAgICAAMDAwMDAwMDAwAEBAQEBAQEBAQABQUFBQUFBQUFAAYGBgYGBgYGBgYGBwcHBwcHBwcHBwcHBwcHBwcGBgYGBgYGBQUFBQUFBQUFBQUFBQUFBQUFBgYGBgYGBgYGBgYGBgYHBwcHBwcHBwcHBgYGBgUFBQUFBQUFBQUFBQUFBQUFBQYGBgYGBgYGBgYGAAcHBwcHBwcHBwcHBwcHBwcHBwcHBwcHBwcHBwcHCAgICAgICAgICAgICAgICAgICAgICAgICAgICAgICAgICAgICAgICAgICAgICAgICAgICAgICAgICAgICAgICAgIBwcHBwYGBgYFBQUFBQUFBQUFBQUFBQUFBQUFBQUFBQUFBQUFBQUFBgYGBgYGBgYGBgYGBgYGBgAHBwcHBwcHBwcHBwcHBwcHBwcHBwcHBwcHBwcHBwcHBwcICAgICAgICAgICAgICAgICAgICAgICAgICAgICAgICAgICAgICAgICAgICAgICAgICAgICAgICAgICAgICAgICAgICAgIBwcHBwcHBwYGBgYGBgYGBgYFBQUFBQUFBQUFBQUFBQUFBQUFBQUFBQUFAAYGBgYGBgYGBgYGBgYGBwcHBwcHBwcHBwcHBwcHBwcHBwcHBwcHBwcHBwgICAgICAgICAgICA==",
          "dtype": "i1"
         },
         "yaxis": "y"
        },
        {
         "hovertemplate": "Distance: %{x:.1f}m<br>Speed: %{y:.1f} km/h<extra></extra>",
         "line": {
          "color": "#004E89",
          "width": 3
         },
         "mode": "lines",
         "name": "Speed",
         "type": "scatter",
         "x": {
          "bdata": "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",
          "dtype": "f8"
         },
         "xaxis": "x2",
         "y": {
          "bdata": "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",
          "dtype": "f8"
         },
         "yaxis": "y2"
        },
        {
         "hovertemplate": "Distance: %{x:.1f}m<br>RPM: %{y:.0f}<extra></extra>",
         "line": {
          "color": "#FF9F1C",
          "width": 3
         },
         "mode": "lines",
         "name": "RPM",
         "type": "scatter",
         "x": {
          "bdata": "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",
          "dtype": "f8"
         },
         "xaxis": "x3",
         "y": {
          "bdata": "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",
          "dtype": "i2"
         },
         "yaxis": "y3"
        },
        {
         "hovertemplate": "Distance: %{x:.1f}m<br>Throttle: %{y:.3f}<extra></extra>",
         "line": {
          "color": "#2E8B57",
          "width": 3
         },
         "mode": "lines",
         "name": "Throttle",
         "type": "scatter",
         "x": {
          "bdata": "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",
          "dtype": "f8"
         },
         "xaxis": "x4",
         "y": {
          "bdata": "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",
          "dtype": "f8"
         },
         "yaxis": "y4"
        },
        {
         "hovertemplate": "Distance: %{x:.1f}m<br>Brake: %{y:.3f}<extra></extra>",
         "line": {
          "color": "#DC143C",
          "width": 3
         },
         "mode": "lines",
         "name": "Brake",
         "type": "scatter",
         "x": {
          "bdata": "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",
          "dtype": "f8"
         },
         "xaxis": "x5",
         "y": {
          "bdata": "AAAAAAAAAAAAAAAAAAAAAAAAAAAAAAAAAAAAAAAAAAAAAAAAAAAAAAAAAAAAAAAAAAAAAAAAAAAAAAAAAAAAAAAAAAAAAAAAAAAAAAAAAAAAAAAAAAAAAAAAAAAAAAAAAAAAAAAAAAAAAAAAAAAAAAAAAAAAAAAAAAAAAAAAAAAAAAAAAAAAAAAAAAAAAAAAAAAAAAAAAAAAAAAAAAAAAAAAAAAAAAAAAAAAAAAAAAAAAAAAAAAAAAAAAAAAAAAAAAAAAAAAAAAAAAAAAAAAAAAAAAAAAAAAAAAAAAAAAAAAAAAAAAAAAAAAAAAAAAAAAAAAAAAAAAAAAAAAAAAAAAAAAAAAAAAAAAAAAAAAAAAAAAAAAAAAAAAAAAAAAAAAAAAAAAAAAAAAAAAAAAAAAAAAAAAAAAAAAAAAAAAAAAAAAAAAAAAAAAAAAAAAAAAAAAAAAAAAAAAAAAAAAAAAAAAAAAAAAAAAAAAAAAAAAAAAAAAAAAAAAAAAAAAAAAAAAAAAAAAAAAAAAAAAAAAAAAAAAAAAAAAAAAAAAAAAAAAAAAAAAAAAAAAAAAAAAAAAAAAAAAAAAAAAAAAAAAAAAAAAAAAAAAAAAAAAAAAAAAAAAAAAAAAAAAAAAAAAAAAAAAAAAAAAAAAAAAAAAAAAAAAAAAAAAAAAAAAAAAAAAAAAAAAAAAAAAAAAAAAAAAAAAAAAAAAAAAAAAAAAAAAAAAAAAAAAAAAAAAAAAAAAAAAAAAAAAAAAAAAAAAAAAAAAAAAAAAAAAAAAAAAAAAAAAAAAAAAAAAAAAAAAAAAAAAAAAAAAAAAAAAAAAAAAAAAAAAAAAAAAAAAAAAAAAAAAAAAAAAAAAAAAAAAAAAAAAAAAAAAAAAAAAAAAAAAAAAAAAAAAAAAAAAAAAAAAAAAAAAAAAAAAAAAAAAAAAAAAAACuR+F6FK7vP65H4XoUru8/rkfhehSu7z+uR+F6FK7vP65H4XoUru8/rkfhehSu7z+uR+F6FK7vP65H4XoUru8/rkfhehSu7z+uR+F6FK7vP65H4XoUru8/rkfhehSu7z+uR+F6FK7vPxSuR+F6FO4/exSuR+F67D9SuB6F61HoPwAAAAAAAOg/UrgehetR6D9SuB6F61HoP6RwPQrXo+g/rkfhehSu5z9I4XoUrkfhP7gehetRuK4/AAAAAAAAAACPwvUoXI/SPwAAAAAAAAAAAAAAAAAAAAAAAAAAAAAAAAAAAAAAAAAAAAAAAAAAAAAAAAAAAAAAAAAAAAAAAAAAAAAAAAAAAAAAAAAAAAAAAAAAAAAAAAAAAAAAAAAAAAAAAAAAAAAAANejcD0K1+M/AAAAAAAAAAAAAAAAAAAAAAAAAAAAAAAAAAAAAAAAAAAAAAAAAAAAAAAAAAAAAAAAAAAAAAAAAAAAAAAAAAAAAAAAAAAAAAAAAAAAAAAAAAAAAAAAAAAAAAAAAAAAAAAAAAAAAAAAAAAAAAAAAAAAAAAAAAAAAAAAAAAAAAAAAAAAAAAAAAAAAAAAAAAAAAAAAAAAAAAAAAAAAAAAAAAAAAAAAAAAAAAAAAAAAAAAAAAAAAAAAAAAAAAAAAAAAAAAAAAAAAAAAAAAAAAAAAAAAAAAAAAAAAAAAAAAAAAAAAAAAAAAAAAAAAAAAAAAAAAAAAAAAAAAAAAAAAAAAAAAAAAAAAAAAAAAAAAAAAAAAAAAAAAAAAAAAAAAAAAAAAAAAAAAAAAAAAAAAAAAAAAAAAAAAAAAAAAAAAAAAAAAAAAAAAAAAAAAAAAAAAAAAAAAAAAAAAAAAAAAAAAAAAAAAAAAAAAAAAAAAAAAAAAAAAAAAAAAAAAAAAAAAAAAAAAAAAAAAAAAAAAAAAAAAAAAAAAAAAAAAAAAAAAAAAAAAAAAAAAAAAAAAAAAAAAAAAAAAAAAAAAAAAAAAAAAAAAAAAAAAAAAAAAAAAAAAAAAAAAAAAAAAAAAAAAAAAAAAAAAAAAAAAAAAAAAAAAAAAAAAAAAAAAAAAAAAAAAAAAAAAAAAAAAAAAAAAAAAAAAAAAAAAAAAAAAAAAAAAAAAAAAAAAAAAAAAAAAAAAAAAAAAAAAAAAAAAAAAAAAAAAAAAAAAAAAAAAAAAAAAAAAAAAAAAAAAAAAAAAAAAAAAAAAAAAAAAAAAAAAAAAAAAAAAAAAAAAAAAAAAAAAAAAAAAAAAAAAAAAAAAAAAAAAAAAAAAAAAAAAAAAAAAAAAAAAAAAAAAAAAAAAAAAAAAAAAAAAAAAAAAAAAAAAAAAAAAAAAAAAAAAAAAAAAAAAAAAAAAAAAAAAAAAAAAAAAAAAAAAAAAAAAAAAAAAAAAAAAAAAAAAAAAAAAAAAAAAAAAAAAAAAAAAAAAAAAAAAAAAAAAAAAAAAAAAAAAAAAAAAAAAAAAAAAAAAAAAAAAAAAAAAAAAAAAAAAAAAAAAAAAAAAAAAAAAAAAAAAAAAAAAAAAAAAAAAAAAAAAAAAAAAAAAAAAAAAAAAAAAAAAAAAAAAAAAAAAAAAAAAAAAAAAAAAAAAAAAAAAAAAAAAAAAAAAAAAAAAAAAAAAAAAAAAAAAAAAAAAAAAAAAAAAAAAAAAAAAAAAAAAAAAAAAAAAAAAAAAAAAAAAAAAAAAAAAAAAAAAAAAAAAAAAAAAAAAAAAAAAAAAAAAAAAAAAAAAAAAAAAAAAAAAAAAAAAAAAAAAAAAAAAAAAAAAAAAAAAAAAAAAAAAAAAAAAAAAAAAAAAAAAAAAAAAAAAAAAAAAAAAAAAAAAAAAAAAAAAAAAAAAAAAAAAAAAAAAAAAAAAAAAAAAAAAAAAAAAAAAAAAAAAAAAAAAAAAAAAAAAAAAAAAAAAAAAAAAAAAAAAAAAAAAAAAAAAAAAAAAAAAAAAAAAAAAAAAAAAAAAAAAAAAAAAAAAAAAAAAAAAAAAAAAAAAAAAAAAAAAAAAAAAAAAAAAAAAAAAAAAAAAAAAAAAAAAAAAAAAAAAAAAAAAAAAAAAAAAAAAAAAAAAAAAAAAAAAAACuR+F6FK7vP65H4XoUru8/rkfhehSu7z+uR+F6FK7vP65H4XoUru8/rkfhehSu7z+uR+F6FK7vP65H4XoUru8/rkfhehSu7z+uR+F6FK7vP4XrUbgehes/XI/C9Shc7z+uR+F6FK7vP9ejcD0K1+s/w/UoXI/C5T8AAAAAAADoP1K4HoXrUeg/CtejcD0K1z8AAAAAAAAAAMP1KFyPwtU/exSuR+F6lD8AAAAAAAAAAAAAAAAAAAAAAAAAAAAAAAAAAAAAAAAAAAAAAAAAAAAAAAAAAAAAAAAAAAAAAAAAAAAAAAAAAAAAAAAAAAAAAAAAAAAAAAAAAM3MzMzMzOQ/KVyPwvUovD8AAAAAAAAAAAAAAAAAAAAAAAAAAAAAAAAAAAAAAAAAAAAAAAAAAAAAAAAAAAAAAAAAAAAAAAAAAAAAAAAAAAAAAAAAAAAAAAAAAAAAAAAAAAAAAAAAAAAAAAAAAAAAAAAAAAAAAAAAAAAAAAAAAAAAAAAAAAAAAAAAAAAAAAAAAAAAAAAAAAAAAAAAAAAAAAAAAAAAAAAAAAAAAAAAAAAAAAAAAAAAAAAAAAAAAAAAAAAAAAAAAAAAAAAAAAAAAAAAAAAAAAAAAAAAAAAAAAAAAAAAAAAAAAAAAAAAAAAAAAAAAAAAAAAAAAAAAAAAAAAAAAAAAAAAAAAAAAAAAAAAAAAAAAAAAAAAAAAAAAAAAAAAAAAAAAAAAAAAAAAAAAAAAAAAAAAAAAAAAAAAAAAAAAAAAAAAAAAAAAAAAAAAAAAAAAAAAAAAAAAAAAAAAAAAAAAAAAAAAAAAAAAAAAAAAAAAAAAAAAAAAAAAAAAAAAAAAAAAAAAAAAAAAAAAAAAAAAAAAAAAAAAAAAAAAAAAAAAAAAAAAACuR+F6FK7vP65H4XoUru8/CtejcD0Ktz97FK5H4XrUPwAAAAAAAAAAAAAAAAAAAAAAAAAAAAAAAAAAAAAAAAAAAAAAAAAAAAAAAAAAAAAAAAAAAAAAAAAAAAAAAAAAAAAAAAAAAAAAAAAAAAAAAAAAAAAAAAAAAAAAAAAAAAAAAAAAAAAAAAAAAAAAAAAAAAAAAAAAAAAAAAAAAAAAAAAAAAAAAAAAAAAAAAAAAAAAAAAAAAAAAAAAAAAAAAAAAAAAAAAAAAAAAAAAAAAAAAAAAAAAAAAAAAAAAAAAAAAAAAAAAAAAAAAAAAAAAAAAAAAAAAAAAAAAAAAAAAAAAAAAAAAAAAAAAAAAAAAAAAAAAAAAAAAAAAAAAAAAAAAAAAAAAAAAAAAAAAAAAAAAAAAAAAAAAAAAAAAAAAAAAAAAAAAAAAAAAAAAAAAAAAAAAAAAAAAAAAAAAAAAAAAAAAAAAAAAAAAAAAAAAAAAAAAAAAAAAAAAAAAAAAAAAAAAAAAAAAAAAAAAAAAAAAAAAAAAAAAAAAAAAAAAAAAAAAAAAAAAAAAAAAAArkfhehSu7z+uR+F6FK7vP9ejcD0K1+s/rkfhehSu7z+uR+F6FK7vP3sUrkfheoQ/4XoUrkfh4j9xPQrXo3DNPwAAAAAAAAAAAAAAAAAAAAAAAAAAAAAAAAAAAAAAAAAAAAAAAAAAAAAAAAAAAAAAAAAAAAAAAAAAAAAAAAAAAAAAAAAAAAAAAAAAAAAAAAAAAAAAAAAAAAAAAAAAAAAAAAAAAAAAAAAAAAAAAAAAAAAAAAAAAAAAAAAAAAAAAAAAAAAAAAAAAAAAAAAAAAAAAAAAAAAAAAAAAAAAAAAAAAAAAAAAAAAAAAAAAAAAAAAAAAAAAAAAAAAAAAAAAAAAAAAAAAAAAAAAAAAAAAAAAAAAAAAAAAAAAAAAAAAAAAAAAAAAAAAAAAAAAAAAAAAAAAAAAAAAAAAAAAAAAAAAAAAAAAAAAAAAAAAAAAAAAAAAAAAAAAAAAAAAAAAAAAAAAAAAAAAAAAAAAAAAAAAAAAAAAAAAAAAAAAAAAAAAAAAAAAAAAAAAAAAAAAAAAAAAAAAAAAAAAAAAAAAAAAAAAAAAAAAAAAAAAAAAAAAAAAAAAAAAAAAAAAAAAAAAAAAAAAAAAAAAAAAAAAAAAAAAAAAAAAAAAAAAAAAAAAAAAAAAAAAAAAAAAAAAAAAAAAAAAAAAAAAAAAAAAAAAAAAAAAAAAAAAAAAAAAAAAAAAAAAAAAAAAAAAAAAAAAAAAAAAAAAAAAAAAAAAAAAAAAAAAAAAAAAAAAAAAAAAAAAAAAAAAAAAAAAAAAAAAAAAAAAAAAAAAAAAAAAAAAAAAAAAAAAAAAAAAAAAAAAAAAAAAAAAAAAAAAAAAAAAAAAAAAAAAAAAAAAAAAAAAAAAAAAAAAAAAAAAAAAAAAAAAAAAAAAAAAAAAAAAAAAAAAAAAAAAAAAAAAAAAAAAAAAAAAAAAAAAAAAAAAAAAAAAAAAAAAAAAAAAAAAAAAAAAAAAAAAAAAAAAAAAAAAAAAAAAAAAAAAAAAAAAAAAAAAAAAAAAAAAAAAAAAAAAAAAAAAAAAAAAAAAAAAAAAAAAAAAAAAAAAAAAAAAAAAAAAAAAAAAAAAAAAAAAAAAAAAAAAAAAAAAAAAAAAAAAAAAAAAAAAAAAAAAAAAAAAAAAAAAAAAAAAAAAAAAAAAAAAAAAAAAAAAAAAAAAAAAAAAAAAAAAAAAAAAAAAAAAAAAAAAAAAAAAAAAAAAAAAAAAAAAAAAAAAAAAAAAAAAAAAAAAAAAAAAAAAAAAAAAAAAAAAAAAAAAAAAAAAAAAAAAAAAAAAAAAAAAAAAAAAAAAAAAAAAAAAAAAAAAAAAAAAAAAAAAAAAAAAAAAAAAAAAAAAAAAAAAAAAAAAAAAAAAAAAAAAAAAAAAAAAAAAAAAAAAAAAAAAAAAAAArkfhehSu7z+uR+F6FK7vP65H4XoUru8/rkfhehSu7z+uR+F6FK7vPwrXo3A9Cu8/rkfhehSu7z+uR+F6FK7vP65H4XoUru8/rkfhehSu7z+uR+F6FK7vPxSuR+F6FO4/AAAAAAAAAAD2KFyPwvXoPwAAAAAAAOA/AAAAAAAAAAC4HoXrUbiePwAAAAAAAAAAAAAAAAAAAAAAAAAAAAAAAAAAAAAAAAAAAAAAAAAAAAAAAAAAAAAAAAAAAAAAAAAAAAAAAAAAAAAAAAAAAAAAAAAAAAAAAAAAAAAAAAAAAAAAAAAAAAAAAAAAAAAAAAAAAAAAAAAAAAAAAAAAAAAAAAAAAAAAAAAAAAAAAAAAAAAAAAAAAAAAAAAAAAAAAAAAAAAAAAAAAAAAAAAAAAAAAAAAAAAAAAAAAAAAAAAAAAAAAAAAAAAAAAAAAAAAAAAAAAAAAAAAAAAAAAAAAAAAAAAAAAAAAAAAAAAAAAAAAAAAAAAAAAAAAAAAAAAAAAAAAAAAAAAAAAAAAAAAAAAAAAAAAAAAAAAAAAAAAAAAAAAAAAAAAAAAAAAAAAAAAAAAAAAAAAAAAAAAAAAAAAAAAAAAAAAAAAAAAAAAAAAAAAAAAAAAAAAAAAAAAAAAAAAAAAAAAAAAAAAAAAAAAAAAAAAAAAAAAAAAAAAAAAAAAAAAAAAAAAAAAAAAAAAAAAAAAAAAAAAAAAAAAAAAAAAAAAAAAAAAAAAAAAAAAAAAAAAAAAAAAAAAAAAAAAAAAAAAAAAAAAAAAAAAAAAAAAAAAAAAAAAAAAAAAAAAAAAAAAAAAAAAAAAAAAAAAAAAAAAAAAAAAAAAAAAAAAAAAAAAAAAAAAAAAAAAAAAAAAAAAAAAAAAAAAAAAAAAAAAAAAAAAAAAAAAAAAAAAAAAAAAAAAAAAAAAAAAAAAAAAAAAAAAAAAAAAAAAAAAAAAAAAAAAAAAAAAAAAAAAAAAAAAAAAAAAAAAAAAAAAAAAAAAAAAAAAAAAAAAAAAAAAAAAAAAAAAAAAAAAAAAAAAAAAAAAAAAAAAAAAAAAAAAAAAAAAAAAAAAAAAAAAAAAAAAAAAAAAAAAAAAAAAAAAAAAAAAAAAAAAAAAAAAAAAAAAAAAAAAAAAAAAAAAAAAAAAAAAAAAAAAAAAAAAAAAAAAAAAAAAAAAAAAAAAAAAAAAAAAAAAAAAAAAAAAAAAAAAAAAAAAAAAAAAAAAAAAAAAAAAAAAAAAAAAAAAAAAAAAAAAAAAAAAAAAAAAAAAAAAAAAAAAAAAAAAAAAAAAAAAAAAAAAAAAAAAAAAAAAAAAAAAAAAAAAAAAAAAAAAAAAAAAAAAAAAAAAAAAAAAAAAAAAAAAAAAAAAAAAAAAAAAAAAAAAAAAAAAAAAAAAAAAAAAAAAAAAAAAAAAAAAAAAAAAAAAAAAAAAAAAAAAAAAAAAAAAAAAAAAAAAAAAAAAAAAAAAAAAAAAAAAAAAAAAAAAAAAAAAAAAAAAAAAAAAAAAAAAAAAAAAAAAAAAAAAAAAAAAAAAAAAAAAAAAAAAAAAAAAAAAAAAAAAAAAAAAAAAAAAAAAAAAAAAAAAAAAAAAAAAAAAAAAAAAAAAAAAAAAAAAAAAAAAAAAAAAAAAAAAAAAAAAAAAAAAAAAAAAAAAAAAAAAAAAAAAAAAAAAAAAAAAAAAAAAAAAAAAAAAAAAAAAAAAAAAAACuR+F6FK7vP65H4XoUru8/rkfhehSu7z+uR+F6FK7vP65H4XoUru8/rkfhehSu7z+4HoXrUbjmPwAAAAAAAAAArkfhehSu7z97FK5H4XqEPwAAAAAAAAAAAAAAAAAAAAAAAAAAAAAAAAAAAAAAAAAAAAAAAAAAAAAAAAAAAAAAAAAAAAAAAAAAAAAAAAAAAAAAAAAAAAAAAAAAAAAAAAAAAAAAAAAAAAAAAAAAAAAAAAAAAAAAAAAAAAAAAAAAAAAAAAAAAAAAAAAAAAAAAAAAAAAAAAAAAAAAAAAAAAAAAAAAAAAAAAAAAAAAAAAAAAAAAAAAAAAAAAAAAAAAAAAAAAAAAAAAAAAAAAAAAAAAAAAAAAAAAAAAAAAAAAAAAAAAAAAAAAAAAAAAAAAAAAAAAAAAAAAAAAAAAAAAAAAAAAAAAAAAAAAAAAAAAAAAAAAAAAAAAAAAAAAAAAAAAAAAAAAAAAAAAAAAAAAAAAAAAAAAAAAAAAAAAAAAAAAAAAAAAAAAAAAAAAAAAAAAAAAAAAAAAAAAAAAAAAAAAAAAAAAAAAAAAAAAAAAAAAAAAAAAAAAAAAAAAAAAAAAAAAAAAAAAAAAAAAAAAAAAAAAAAAAAAAAAAAAAAAAAAAAAAAAAAAAAAAAAAAAAAAAAAAAAAAAAAAAAAAAAAAAAAAAAAAAAAAAAAAAAAAAAAAAAAAAAAAAAAAAAAAAAAAAAAAAAAAAAAAAAAAAAAAAAAAAAAAAAAAAAAAAAAAAAAAAAAAAAAAAAAAAAAAAAAAAAAAAAAAAAAAAAAAAAAAAAAAAAAAAAAAAAAAAAAAAAAAAAAAAAAAAAAAAAAAAAAAAAAAAAAAAAAAAAAAAAAAAAAAAAAAAAAAAAAAAAAAAAAAAAAAAAAAAAAAAAAAAAAAAAAAAAAAAAAAAAAAAAAAAAAAAAAAAAAAAAAAAAAAAAAAAAAAAAAAAAAAAAAAAAAAAAAAAAAAAAAAAAAAAAAAAAAAAAAAAAAAAAAAAAAAAAAAAAAAAAAAAAAAAAAAAAAAAAAAAAAAAAAAAAAAAAAAAAAAAAAAAAAAAAAAAAAAAAAAAAAAA=",
          "dtype": "f8"
         },
         "yaxis": "y5"
        },
        {
         "hovertemplate": "Distance: %{x:.1f}m<br>Steering: %{y:.3f}<extra></extra>",
         "line": {
          "color": "#8A2BE2",
          "width": 3
         },
         "mode": "lines",
         "name": "Steering",
         "type": "scatter",
         "x": {
          "bdata": "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",
          "dtype": "f8"
         },
         "xaxis": "x6",
         "y": {
          "bdata": "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",
          "dtype": "f8"
         },
         "yaxis": "y6"
        }
       ],
       "layout": {
        "annotations": [
         {
          "font": {
           "size": 16
          },
          "showarrow": false,
          "text": "Gear vs Distance",
          "x": 0.13999999999999999,
          "xanchor": "center",
          "xref": "paper",
          "y": 1,
          "yanchor": "bottom",
          "yref": "paper"
         },
         {
          "font": {
           "size": 16
          },
          "showarrow": false,
          "text": "Speed vs Distance",
          "x": 0.49999999999999994,
          "xanchor": "center",
          "xref": "paper",
          "y": 1,
          "yanchor": "bottom",
          "yref": "paper"
         },
         {
          "font": {
           "size": 16
          },
          "showarrow": false,
          "text": "RPM vs Distance",
          "x": 0.86,
          "xanchor": "center",
          "xref": "paper",
          "y": 1,
          "yanchor": "bottom",
          "yref": "paper"
         },
         {
          "font": {
           "size": 16
          },
          "showarrow": false,
          "text": "Throttle vs Distance",
          "x": 0.13999999999999999,
          "xanchor": "center",
          "xref": "paper",
          "y": 0.425,
          "yanchor": "bottom",
          "yref": "paper"
         },
         {
          "font": {
           "size": 16
          },
          "showarrow": false,
          "text": "Brake vs Distance",
          "x": 0.49999999999999994,
          "xanchor": "center",
          "xref": "paper",
          "y": 0.425,
          "yanchor": "bottom",
          "yref": "paper"
         },
         {
          "font": {
           "size": 16
          },
          "showarrow": false,
          "text": "Steering vs Distance",
          "x": 0.86,
          "xanchor": "center",
          "xref": "paper",
          "y": 0.425,
          "yanchor": "bottom",
          "yref": "paper"
         }
        ],
        "height": 600,
        "paper_bgcolor": "white",
        "plot_bgcolor": "white",
        "showlegend": false,
        "template": {
         "data": {
          "bar": [
           {
            "error_x": {
             "color": "#2a3f5f"
            },
            "error_y": {
             "color": "#2a3f5f"
            },
            "marker": {
             "line": {
              "color": "#E5ECF6",
              "width": 0.5
             },
             "pattern": {
              "fillmode": "overlay",
              "size": 10,
              "solidity": 0.2
             }
            },
            "type": "bar"
           }
          ],
          "barpolar": [
           {
            "marker": {
             "line": {
              "color": "#E5ECF6",
              "width": 0.5
             },
             "pattern": {
              "fillmode": "overlay",
              "size": 10,
              "solidity": 0.2
             }
            },
            "type": "barpolar"
           }
          ],
          "carpet": [
           {
            "aaxis": {
             "endlinecolor": "#2a3f5f",
             "gridcolor": "white",
             "linecolor": "white",
             "minorgridcolor": "white",
             "startlinecolor": "#2a3f5f"
            },
            "baxis": {
             "endlinecolor": "#2a3f5f",
             "gridcolor": "white",
             "linecolor": "white",
             "minorgridcolor": "white",
             "startlinecolor": "#2a3f5f"
            },
            "type": "carpet"
           }
          ],
          "choropleth": [
           {
            "colorbar": {
             "outlinewidth": 0,
             "ticks": ""
            },
            "type": "choropleth"
           }
          ],
          "contour": [
           {
            "colorbar": {
             "outlinewidth": 0,
             "ticks": ""
            },
            "colorscale": [
             [
              0,
              "#0d0887"
             ],
             [
              0.1111111111111111,
              "#46039f"
             ],
             [
              0.2222222222222222,
              "#7201a8"
             ],
             [
              0.3333333333333333,
              "#9c179e"
             ],
             [
              0.4444444444444444,
              "#bd3786"
             ],
             [
              0.5555555555555556,
              "#d8576b"
             ],
             [
              0.6666666666666666,
              "#ed7953"
             ],
             [
              0.7777777777777778,
              "#fb9f3a"
             ],
             [
              0.8888888888888888,
              "#fdca26"
             ],
             [
              1,
              "#f0f921"
             ]
            ],
            "type": "contour"
           }
          ],
          "contourcarpet": [
           {
            "colorbar": {
             "outlinewidth": 0,
             "ticks": ""
            },
            "type": "contourcarpet"
           }
          ],
          "heatmap": [
           {
            "colorbar": {
             "outlinewidth": 0,
             "ticks": ""
            },
            "colorscale": [
             [
              0,
              "#0d0887"
             ],
             [
              0.1111111111111111,
              "#46039f"
             ],
             [
              0.2222222222222222,
              "#7201a8"
             ],
             [
              0.3333333333333333,
              "#9c179e"
             ],
             [
              0.4444444444444444,
              "#bd3786"
             ],
             [
              0.5555555555555556,
              "#d8576b"
             ],
             [
              0.6666666666666666,
              "#ed7953"
             ],
             [
              0.7777777777777778,
              "#fb9f3a"
             ],
             [
              0.8888888888888888,
              "#fdca26"
             ],
             [
              1,
              "#f0f921"
             ]
            ],
            "type": "heatmap"
           }
          ],
          "histogram": [
           {
            "marker": {
             "pattern": {
              "fillmode": "overlay",
              "size": 10,
              "solidity": 0.2
             }
            },
            "type": "histogram"
           }
          ],
          "histogram2d": [
           {
            "colorbar": {
             "outlinewidth": 0,
             "ticks": ""
            },
            "colorscale": [
             [
              0,
              "#0d0887"
             ],
             [
              0.1111111111111111,
              "#46039f"
             ],
             [
              0.2222222222222222,
              "#7201a8"
             ],
             [
              0.3333333333333333,
              "#9c179e"
             ],
             [
              0.4444444444444444,
              "#bd3786"
             ],
             [
              0.5555555555555556,
              "#d8576b"
             ],
             [
              0.6666666666666666,
              "#ed7953"
             ],
             [
              0.7777777777777778,
              "#fb9f3a"
             ],
             [
              0.8888888888888888,
              "#fdca26"
             ],
             [
              1,
              "#f0f921"
             ]
            ],
            "type": "histogram2d"
           }
          ],
          "histogram2dcontour": [
           {
            "colorbar": {
             "outlinewidth": 0,
             "ticks": ""
            },
            "colorscale": [
             [
              0,
              "#0d0887"
             ],
             [
              0.1111111111111111,
              "#46039f"
             ],
             [
              0.2222222222222222,
              "#7201a8"
             ],
             [
              0.3333333333333333,
              "#9c179e"
             ],
             [
              0.4444444444444444,
              "#bd3786"
             ],
             [
              0.5555555555555556,
              "#d8576b"
             ],
             [
              0.6666666666666666,
              "#ed7953"
             ],
             [
              0.7777777777777778,
              "#fb9f3a"
             ],
             [
              0.8888888888888888,
              "#fdca26"
             ],
             [
              1,
              "#f0f921"
             ]
            ],
            "type": "histogram2dcontour"
           }
          ],
          "mesh3d": [
           {
            "colorbar": {
             "outlinewidth": 0,
             "ticks": ""
            },
            "type": "mesh3d"
           }
          ],
          "parcoords": [
           {
            "line": {
             "colorbar": {
              "outlinewidth": 0,
              "ticks": ""
             }
            },
            "type": "parcoords"
           }
          ],
          "pie": [
           {
            "automargin": true,
            "type": "pie"
           }
          ],
          "scatter": [
           {
            "fillpattern": {
             "fillmode": "overlay",
             "size": 10,
             "solidity": 0.2
            },
            "type": "scatter"
           }
          ],
          "scatter3d": [
           {
            "line": {
             "colorbar": {
              "outlinewidth": 0,
              "ticks": ""
             }
            },
            "marker": {
             "colorbar": {
              "outlinewidth": 0,
              "ticks": ""
             }
            },
            "type": "scatter3d"
           }
          ],
          "scattercarpet": [
           {
            "marker": {
             "colorbar": {
              "outlinewidth": 0,
              "ticks": ""
             }
            },
            "type": "scattercarpet"
           }
          ],
          "scattergeo": [
           {
            "marker": {
             "colorbar": {
              "outlinewidth": 0,
              "ticks": ""
             }
            },
            "type": "scattergeo"
           }
          ],
          "scattergl": [
           {
            "marker": {
             "colorbar": {
              "outlinewidth": 0,
              "ticks": ""
             }
            },
            "type": "scattergl"
           }
          ],
          "scattermap": [
           {
            "marker": {
             "colorbar": {
              "outlinewidth": 0,
              "ticks": ""
             }
            },
            "type": "scattermap"
           }
          ],
          "scattermapbox": [
           {
            "marker": {
             "colorbar": {
              "outlinewidth": 0,
              "ticks": ""
             }
            },
            "type": "scattermapbox"
           }
          ],
          "scatterpolar": [
           {
            "marker": {
             "colorbar": {
              "outlinewidth": 0,
              "ticks": ""
             }
            },
            "type": "scatterpolar"
           }
          ],
          "scatterpolargl": [
           {
            "marker": {
             "colorbar": {
              "outlinewidth": 0,
              "ticks": ""
             }
            },
            "type": "scatterpolargl"
           }
          ],
          "scatterternary": [
           {
            "marker": {
             "colorbar": {
              "outlinewidth": 0,
              "ticks": ""
             }
            },
            "type": "scatterternary"
           }
          ],
          "surface": [
           {
            "colorbar": {
             "outlinewidth": 0,
             "ticks": ""
            },
            "colorscale": [
             [
              0,
              "#0d0887"
             ],
             [
              0.1111111111111111,
              "#46039f"
             ],
             [
              0.2222222222222222,
              "#7201a8"
             ],
             [
              0.3333333333333333,
              "#9c179e"
             ],
             [
              0.4444444444444444,
              "#bd3786"
             ],
             [
              0.5555555555555556,
              "#d8576b"
             ],
             [
              0.6666666666666666,
              "#ed7953"
             ],
             [
              0.7777777777777778,
              "#fb9f3a"
             ],
             [
              0.8888888888888888,
              "#fdca26"
             ],
             [
              1,
              "#f0f921"
             ]
            ],
            "type": "surface"
           }
          ],
          "table": [
           {
            "cells": {
             "fill": {
              "color": "#EBF0F8"
             },
             "line": {
              "color": "white"
             }
            },
            "header": {
             "fill": {
              "color": "#C8D4E3"
             },
             "line": {
              "color": "white"
             }
            },
            "type": "table"
           }
          ]
         },
         "layout": {
          "annotationdefaults": {
           "arrowcolor": "#2a3f5f",
           "arrowhead": 0,
           "arrowwidth": 1
          },
          "autotypenumbers": "strict",
          "coloraxis": {
           "colorbar": {
            "outlinewidth": 0,
            "ticks": ""
           }
          },
          "colorscale": {
           "diverging": [
            [
             0,
             "#8e0152"
            ],
            [
             0.1,
             "#c51b7d"
            ],
            [
             0.2,
             "#de77ae"
            ],
            [
             0.3,
             "#f1b6da"
            ],
            [
             0.4,
             "#fde0ef"
            ],
            [
             0.5,
             "#f7f7f7"
            ],
            [
             0.6,
             "#e6f5d0"
            ],
            [
             0.7,
             "#b8e186"
            ],
            [
             0.8,
             "#7fbc41"
            ],
            [
             0.9,
             "#4d9221"
            ],
            [
             1,
             "#276419"
            ]
           ],
           "sequential": [
            [
             0,
             "#0d0887"
            ],
            [
             0.1111111111111111,
             "#46039f"
            ],
            [
             0.2222222222222222,
             "#7201a8"
            ],
            [
             0.3333333333333333,
             "#9c179e"
            ],
            [
             0.4444444444444444,
             "#bd3786"
            ],
            [
             0.5555555555555556,
             "#d8576b"
            ],
            [
             0.6666666666666666,
             "#ed7953"
            ],
            [
             0.7777777777777778,
             "#fb9f3a"
            ],
            [
             0.8888888888888888,
             "#fdca26"
            ],
            [
             1,
             "#f0f921"
            ]
           ],
           "sequentialminus": [
            [
             0,
             "#0d0887"
            ],
            [
             0.1111111111111111,
             "#46039f"
            ],
            [
             0.2222222222222222,
             "#7201a8"
            ],
            [
             0.3333333333333333,
             "#9c179e"
            ],
            [
             0.4444444444444444,
             "#bd3786"
            ],
            [
             0.5555555555555556,
             "#d8576b"
            ],
            [
             0.6666666666666666,
             "#ed7953"
            ],
            [
             0.7777777777777778,
             "#fb9f3a"
            ],
            [
             0.8888888888888888,
             "#fdca26"
            ],
            [
             1,
             "#f0f921"
            ]
           ]
          },
          "colorway": [
           "#636efa",
           "#EF553B",
           "#00cc96",
           "#ab63fa",
           "#FFA15A",
           "#19d3f3",
           "#FF6692",
           "#B6E880",
           "#FF97FF",
           "#FECB52"
          ],
          "font": {
           "color": "#2a3f5f"
          },
          "geo": {
           "bgcolor": "white",
           "lakecolor": "white",
           "landcolor": "#E5ECF6",
           "showlakes": true,
           "showland": true,
           "subunitcolor": "white"
          },
          "hoverlabel": {
           "align": "left"
          },
          "hovermode": "closest",
          "mapbox": {
           "style": "light"
          },
          "paper_bgcolor": "white",
          "plot_bgcolor": "#E5ECF6",
          "polar": {
           "angularaxis": {
            "gridcolor": "white",
            "linecolor": "white",
            "ticks": ""
           },
           "bgcolor": "#E5ECF6",
           "radialaxis": {
            "gridcolor": "white",
            "linecolor": "white",
            "ticks": ""
           }
          },
          "scene": {
           "xaxis": {
            "backgroundcolor": "#E5ECF6",
            "gridcolor": "white",
            "gridwidth": 2,
            "linecolor": "white",
            "showbackground": true,
            "ticks": "",
            "zerolinecolor": "white"
           },
           "yaxis": {
            "backgroundcolor": "#E5ECF6",
            "gridcolor": "white",
            "gridwidth": 2,
            "linecolor": "white",
            "showbackground": true,
            "ticks": "",
            "zerolinecolor": "white"
           },
           "zaxis": {
            "backgroundcolor": "#E5ECF6",
            "gridcolor": "white",
            "gridwidth": 2,
            "linecolor": "white",
            "showbackground": true,
            "ticks": "",
            "zerolinecolor": "white"
           }
          },
          "shapedefaults": {
           "line": {
            "color": "#2a3f5f"
           }
          },
          "ternary": {
           "aaxis": {
            "gridcolor": "white",
            "linecolor": "white",
            "ticks": ""
           },
           "baxis": {
            "gridcolor": "white",
            "linecolor": "white",
            "ticks": ""
           },
           "bgcolor": "#E5ECF6",
           "caxis": {
            "gridcolor": "white",
            "linecolor": "white",
            "ticks": ""
           }
          },
          "title": {
           "x": 0.05
          },
          "xaxis": {
           "automargin": true,
           "gridcolor": "white",
           "linecolor": "white",
           "ticks": "",
           "title": {
            "standoff": 15
           },
           "zerolinecolor": "white",
           "zerolinewidth": 2
          },
          "yaxis": {
           "automargin": true,
           "gridcolor": "white",
           "linecolor": "white",
           "ticks": "",
           "title": {
            "standoff": 15
           },
           "zerolinecolor": "white",
           "zerolinewidth": 2
          }
         }
        },
        "title": {
         "font": {
          "size": 16
         },
         "text": "Lap 2 - Comprehensive Telemetry Analysis (814 data points)"
        },
        "xaxis": {
         "anchor": "y",
         "domain": [
          0,
          0.27999999999999997
         ],
         "gridcolor": "lightgray",
         "gridwidth": 1,
         "showgrid": true,
         "showticklabels": false
        },
        "xaxis2": {
         "anchor": "y2",
         "domain": [
          0.36,
          0.6399999999999999
         ],
         "gridcolor": "lightgray",
         "gridwidth": 1,
         "showgrid": true,
         "showticklabels": false
        },
        "xaxis3": {
         "anchor": "y3",
         "domain": [
          0.72,
          1
         ],
         "gridcolor": "lightgray",
         "gridwidth": 1,
         "showgrid": true,
         "showticklabels": false
        },
        "xaxis4": {
         "anchor": "y4",
         "domain": [
          0,
          0.27999999999999997
         ],
         "gridcolor": "lightgray",
         "gridwidth": 1,
         "showgrid": true,
         "title": {
          "text": "Distance (m)"
         }
        },
        "xaxis5": {
         "anchor": "y5",
         "domain": [
          0.36,
          0.6399999999999999
         ],
         "gridcolor": "lightgray",
         "gridwidth": 1,
         "showgrid": true,
         "title": {
          "text": "Distance (m)"
         }
        },
        "xaxis6": {
         "anchor": "y6",
         "domain": [
          0.72,
          1
         ],
         "gridcolor": "lightgray",
         "gridwidth": 1,
         "showgrid": true,
         "title": {
          "text": "Distance (m)"
         }
        },
        "yaxis": {
         "anchor": "x",
         "domain": [
          0.575,
          1
         ],
         "gridcolor": "lightgray",
         "gridwidth": 1,
         "showgrid": true,
         "title": {
          "text": "Gear"
         }
        },
        "yaxis2": {
         "anchor": "x2",
         "domain": [
          0.575,
          1
         ],
         "gridcolor": "lightgray",
         "gridwidth": 1,
         "showgrid": true,
         "title": {
          "text": "Speed (km/h)"
         }
        },
        "yaxis3": {
         "anchor": "x3",
         "domain": [
          0.575,
          1
         ],
         "gridcolor": "lightgray",
         "gridwidth": 1,
         "showgrid": true,
         "title": {
          "text": "RPM"
         }
        },
        "yaxis4": {
         "anchor": "x4",
         "domain": [
          0,
          0.425
         ],
         "gridcolor": "lightgray",
         "gridwidth": 1,
         "showgrid": true,
         "title": {
          "text": "Throttle (0-1)"
         }
        },
        "yaxis5": {
         "anchor": "x5",
         "domain": [
          0,
          0.425
         ],
         "gridcolor": "lightgray",
         "gridwidth": 1,
         "showgrid": true,
         "title": {
          "text": "Brake (0-1)"
         }
        },
        "yaxis6": {
         "anchor": "x6",
         "domain": [
          0,
          0.425
         ],
         "gridcolor": "lightgray",
         "gridwidth": 1,
         "showgrid": true,
         "title": {
          "text": "Steering"
         }
        }
       }
      }
     },
     "metadata": {},
     "output_type": "display_data"
    }
   ],
   "source": [
    "# Interactive telemetry visualization dashboard using Plotly\n",
    "# Creates comprehensive 2x3 grid layout for each lap with all key parameters\n",
    "\n",
    "for lap in available_laps:\n",
    "    lap_df = rows_for_lap(df, lap)\n",
    "    if lap_df.empty:\n",
    "        continue\n",
    "\n",
    "    # Create comprehensive subplot layout: 2 rows × 3 columns\n",
    "    fig = make_subplots(\n",
    "        rows=2, cols=3,\n",
    "        subplot_titles=('Gear vs Distance', 'Speed vs Distance', 'RPM vs Distance',\n",
    "                       'Throttle vs Distance', 'Brake vs Distance', 'Steering vs Distance'),\n",
    "        vertical_spacing=0.15,\n",
    "        horizontal_spacing=0.08\n",
    "    )\n",
    "\n",
    "    # Modern color palette for consistent visual identity\n",
    "    colors = {\n",
    "        'gear': '#FF6B35',      # Orange-red for gear changes\n",
    "        'speed': '#004E89',     # Deep blue for speed profile\n",
    "        'rpm': '#FF9F1C',       # Golden orange for engine RPM\n",
    "        'throttle': '#2E8B57',  # Sea green for throttle input\n",
    "        'brake': '#DC143C',     # Crimson for brake input\n",
    "        'steering': '#8A2BE2'   # Blue violet for steering input\n",
    "    }\n",
    "\n",
    "    # Row 1, Column 1: Gear Progression Analysis\n",
    "    if 'Gear' in lap_df.columns and not lap_df['Gear'].isna().all():\n",
    "        fig.add_trace(\n",
    "            go.Scatter(\n",
    "                x=lap_df['Distance'], \n",
    "                y=lap_df['Gear'],\n",
    "                mode='lines',\n",
    "                line=dict(color=colors['gear'], width=3, shape='hv'),  # Step-like for gear changes\n",
    "                name='Gear',\n",
    "                hovertemplate='Distance: %{x:.1f}m<br>Gear: %{y}<extra></extra>'\n",
    "            ),\n",
    "            row=1, col=1\n",
    "        )\n",
    "    else:\n",
    "        fig.add_annotation(\n",
    "            x=0.5, y=0.5, xref='x domain', yref='y domain',\n",
    "            text=\"No Gear Data Available\", showarrow=False,\n",
    "            row=1, col=1\n",
    "        )\n",
    "\n",
    "    # Row 1, Column 2: Speed Profile Analysis\n",
    "    fig.add_trace(\n",
    "        go.Scatter(\n",
    "            x=lap_df['Distance'], \n",
    "            y=lap_df['Speed_kmh'],\n",
    "            mode='lines',\n",
    "            line=dict(color=colors['speed'], width=3),\n",
    "            name='Speed',\n",
    "            hovertemplate='Distance: %{x:.1f}m<br>Speed: %{y:.1f} km/h<extra></extra>'\n",
    "        ),\n",
    "        row=1, col=2\n",
    "    )\n",
    "\n",
    "    # Row 1, Column 3: Engine RPM Analysis\n",
    "    if 'RPM' in lap_df.columns and not lap_df['RPM'].isna().all():\n",
    "        fig.add_trace(\n",
    "            go.Scatter(\n",
    "                x=lap_df['Distance'], \n",
    "                y=lap_df['RPM'],\n",
    "                mode='lines',\n",
    "                line=dict(color=colors['rpm'], width=3),\n",
    "                name='RPM',\n",
    "                hovertemplate='Distance: %{x:.1f}m<br>RPM: %{y:.0f}<extra></extra>'\n",
    "            ),\n",
    "            row=1, col=3\n",
    "        )\n",
    "    else:\n",
    "        fig.add_annotation(\n",
    "            x=0.5, y=0.5, xref='x domain', yref='y domain',\n",
    "            text=\"No RPM Data Available\", showarrow=False,\n",
    "            row=1, col=3\n",
    "        )\n",
    "\n",
    "    # Row 2, Column 1: Throttle Input Analysis\n",
    "    fig.add_trace(\n",
    "        go.Scatter(\n",
    "            x=lap_df['Distance'], \n",
    "            y=lap_df['Throttle'],\n",
    "            mode='lines',\n",
    "            line=dict(color=colors['throttle'], width=3),\n",
    "            name='Throttle',\n",
    "            hovertemplate='Distance: %{x:.1f}m<br>Throttle: %{y:.3f}<extra></extra>'\n",
    "        ),\n",
    "        row=2, col=1\n",
    "    )\n",
    "\n",
    "    # Row 2, Column 2: Brake Input Analysis\n",
    "    fig.add_trace(\n",
    "        go.Scatter(\n",
    "            x=lap_df['Distance'], \n",
    "            y=lap_df['Brake'],\n",
    "            mode='lines',\n",
    "            line=dict(color=colors['brake'], width=3),\n",
    "            name='Brake',\n",
    "            hovertemplate='Distance: %{x:.1f}m<br>Brake: %{y:.3f}<extra></extra>'\n",
    "        ),\n",
    "        row=2, col=2\n",
    "    )\n",
    "\n",
    "    # Row 2, Column 3: Steering Input Analysis\n",
    "    fig.add_trace(\n",
    "        go.Scatter(\n",
    "            x=lap_df['Distance'], \n",
    "            y=lap_df['Steering'],\n",
    "            mode='lines',\n",
    "            line=dict(color=colors['steering'], width=3),\n",
    "            name='Steering',\n",
    "            hovertemplate='Distance: %{x:.1f}m<br>Steering: %{y:.3f}<extra></extra>'\n",
    "        ),\n",
    "        row=2, col=3\n",
    "    )\n",
    "\n",
    "    # Configure layout and styling\n",
    "    fig.update_layout(\n",
    "        title=f\"Lap {lap} - Comprehensive Telemetry Analysis ({len(lap_df):,} data points)\",\n",
    "        title_font_size=16,\n",
    "        height=600,\n",
    "        showlegend=False,  # Subplot titles provide context\n",
    "        plot_bgcolor='white',\n",
    "        paper_bgcolor='white'\n",
    "    )\n",
    "\n",
    "    # Configure axis labels and formatting\n",
    "    for i in range(1, 4):\n",
    "        fig.update_xaxes(title_text=\"Distance (m)\", row=2, col=i)\n",
    "        fig.update_xaxes(row=1, col=i, showticklabels=False)  # Clean top row\n",
    "\n",
    "    # Set descriptive y-axis labels\n",
    "    fig.update_yaxes(title_text=\"Gear\", row=1, col=1)\n",
    "    fig.update_yaxes(title_text=\"Speed (km/h)\", row=1, col=2)\n",
    "    fig.update_yaxes(title_text=\"RPM\", row=1, col=3)\n",
    "    fig.update_yaxes(title_text=\"Throttle (0-1)\", row=2, col=1)\n",
    "    fig.update_yaxes(title_text=\"Brake (0-1)\", row=2, col=2)\n",
    "    fig.update_yaxes(title_text=\"Steering\", row=2, col=3)\n",
    "\n",
    "    # Add subtle grid for better readability\n",
    "    fig.update_xaxes(showgrid=True, gridwidth=1, gridcolor='lightgray')\n",
    "    fig.update_yaxes(showgrid=True, gridwidth=1, gridcolor='lightgray')\n",
    "\n",
    "    fig.show()"
   ]
  },
  {
   "cell_type": "markdown",
   "id": "d5e52444",
   "metadata": {},
   "source": [
    "---"
   ]
  },
  {
   "cell_type": "markdown",
   "id": "5224f557",
   "metadata": {},
   "source": [
    "## 5. Interactive Lap Selector (Individual Analysis)"
   ]
  },
  {
   "cell_type": "code",
   "execution_count": 25,
   "id": "c0fc1233",
   "metadata": {},
   "outputs": [
    {
     "data": {
      "application/vnd.jupyter.widget-view+json": {
       "model_id": "fe3b7335a6a349b78c7b3b73c9daf324",
       "version_major": 2,
       "version_minor": 0
      },
      "text/plain": [
       "IntSlider(value=1, description='Select Lap:', max=2, min=1, style=SliderStyle(description_width='initial'))"
      ]
     },
     "metadata": {},
     "output_type": "display_data"
    },
    {
     "data": {
      "application/vnd.jupyter.widget-view+json": {
       "model_id": "cbd4950eda584d1a913cb2214e20051e",
       "version_major": 2,
       "version_minor": 0
      },
      "text/plain": [
       "Output()"
      ]
     },
     "metadata": {},
     "output_type": "display_data"
    }
   ],
   "source": [
    "# Interactive lap selector with modern Plotly visualizations\n",
    "# Provides dynamic lap selection with real-time plot updates\n",
    "\n",
    "try:\n",
    "    import ipywidgets as widgets\n",
    "    from IPython.display import clear_output\n",
    "    \n",
    "    # Create interactive slider for lap selection\n",
    "    lap_selector = widgets.IntSlider(\n",
    "        value=available_laps[0] if available_laps else 1,\n",
    "        min=available_laps[0] if available_laps else 1,\n",
    "        max=available_laps[-1] if available_laps else 1,\n",
    "        step=1,\n",
    "        description='Select Lap:',\n",
    "        style={'description_width': 'initial'}\n",
    "    )\n",
    "    out = widgets.Output()\n",
    "\n",
    "    # Consistent color palette matching the main dashboard\n",
    "    colors = {\n",
    "        'gear': '#FF6B35',      # Orange-red for gear progression\n",
    "        'speed': '#004E89',     # Deep blue for speed profile\n",
    "        'rpm': '#FF9F1C',       # Golden orange for engine RPM\n",
    "        'throttle': '#2E8B57',  # Sea green for throttle input\n",
    "        'brake': '#DC143C',     # Crimson for brake input\n",
    "        'steering': '#8A2BE2'   # Blue violet for steering input\n",
    "    }\n",
    "\n",
    "    def plot_selected(change):\n",
    "        \"\"\"\n",
    "        Callback function for lap selector widget.\n",
    "        \n",
    "        Generates individual Plotly plots for each telemetry parameter\n",
    "        when a new lap is selected. Provides detailed analysis with\n",
    "        separate plots for better visibility and interaction.\n",
    "        \n",
    "        Args:\n",
    "            change (dict): Widget change event containing new lap selection\n",
    "        \"\"\"\n",
    "        lap = change['new']\n",
    "        with out:\n",
    "            clear_output(wait=True)\n",
    "            lap_df = rows_for_lap(df, lap)\n",
    "            if lap_df.empty:\n",
    "                print(f\"⚠️  No telemetry data available for Lap {lap}\")\n",
    "                return\n",
    "            \n",
    "            print(f\"📊 Analyzing Lap {lap} ({len(lap_df):,} data points)\\n\")\n",
    "            \n",
    "            # 1) Gear Progression Analysis\n",
    "            if 'Gear' in lap_df.columns and not lap_df['Gear'].isna().all():\n",
    "                fig_gear = go.Figure()\n",
    "                fig_gear.add_trace(go.Scatter(\n",
    "                    x=lap_df['Distance'], \n",
    "                    y=lap_df['Gear'],\n",
    "                    mode='lines',\n",
    "                    line=dict(color=colors['gear'], width=3, shape='hv'),\n",
    "                    name='Gear',\n",
    "                    hovertemplate='Distance: %{x:.1f}m<br>Gear: %{y}<extra></extra>'\n",
    "                ))\n",
    "                \n",
    "                # Configure y-axis for integer gear values only\n",
    "                gear_min = lap_df['Gear'].min()\n",
    "                gear_max = lap_df['Gear'].max()\n",
    "                if not (np.isnan(gear_min) or np.isnan(gear_max)):\n",
    "                    gear_range = list(range(int(gear_min), int(gear_max) + 1))\n",
    "                    fig_gear.update_yaxes(\n",
    "                        tickvals=gear_range,\n",
    "                        range=[gear_min - 0.5, gear_max + 0.5]\n",
    "                    )\n",
    "                \n",
    "                fig_gear.update_layout(\n",
    "                    title=f'Lap {lap} - Gear Progression Analysis',\n",
    "                    xaxis_title='Distance (m)',\n",
    "                    yaxis_title='Gear',\n",
    "                    height=400,\n",
    "                    showlegend=False,\n",
    "                    plot_bgcolor='white',\n",
    "                    paper_bgcolor='white'\n",
    "                )\n",
    "                fig_gear.update_xaxes(showgrid=True, gridwidth=1, gridcolor='lightgray')\n",
    "                fig_gear.update_yaxes(showgrid=True, gridwidth=1, gridcolor='lightgray')\n",
    "                fig_gear.show()\n",
    "            else:\n",
    "                print(\"⚠️  Gear data not available for this lap\")\n",
    "\n",
    "            # 2) Speed Profile Analysis\n",
    "            fig_speed = go.Figure()\n",
    "            fig_speed.add_trace(go.Scatter(\n",
    "                x=lap_df['Distance'], \n",
    "                y=lap_df['Speed_kmh'],\n",
    "                mode='lines',\n",
    "                line=dict(color=colors['speed'], width=3),\n",
    "                name='Speed',\n",
    "                hovertemplate='Distance: %{x:.1f}m<br>Speed: %{y:.1f} km/h<extra></extra>'\n",
    "            ))\n",
    "            fig_speed.update_layout(\n",
    "                title=f'Lap {lap} - Speed Profile Analysis',\n",
    "                xaxis_title='Distance (m)',\n",
    "                yaxis_title='Speed (km/h)',\n",
    "                height=400,\n",
    "                showlegend=False,\n",
    "                plot_bgcolor='white',\n",
    "                paper_bgcolor='white'\n",
    "            )\n",
    "            fig_speed.update_xaxes(showgrid=True, gridwidth=1, gridcolor='lightgray')\n",
    "            fig_speed.update_yaxes(showgrid=True, gridwidth=1, gridcolor='lightgray')\n",
    "            fig_speed.show()\n",
    "\n",
    "            # 3) Engine RPM Analysis (if available)\n",
    "            if 'RPM' in lap_df.columns and not lap_df['RPM'].isna().all():\n",
    "                fig_rpm = go.Figure()\n",
    "                fig_rpm.add_trace(go.Scatter(\n",
    "                    x=lap_df['Distance'], \n",
    "                    y=lap_df['RPM'],\n",
    "                    mode='lines',\n",
    "                    line=dict(color=colors['rpm'], width=3),\n",
    "                    name='RPM',\n",
    "                    hovertemplate='Distance: %{x:.1f}m<br>RPM: %{y:.0f}<extra></extra>'\n",
    "                ))\n",
    "                fig_rpm.update_layout(\n",
    "                    title=f'Lap {lap} - Engine RPM Analysis',\n",
    "                    xaxis_title='Distance (m)',\n",
    "                    yaxis_title='RPM',\n",
    "                    height=400,\n",
    "                    showlegend=False,\n",
    "                    plot_bgcolor='white',\n",
    "                    paper_bgcolor='white'\n",
    "                )\n",
    "                fig_rpm.update_xaxes(showgrid=True, gridwidth=1, gridcolor='lightgray')\n",
    "                fig_rpm.update_yaxes(showgrid=True, gridwidth=1, gridcolor='lightgray')\n",
    "                fig_rpm.show()\n",
    "\n",
    "            # 4) Throttle Input Analysis (Separate from brake for clarity)\n",
    "            fig_throttle = go.Figure()\n",
    "            fig_throttle.add_trace(go.Scatter(\n",
    "                x=lap_df['Distance'], \n",
    "                y=lap_df['Throttle'],\n",
    "                mode='lines',\n",
    "                line=dict(color=colors['throttle'], width=3),\n",
    "                name='Throttle',\n",
    "                hovertemplate='Distance: %{x:.1f}m<br>Throttle: %{y:.3f}<extra></extra>'\n",
    "            ))\n",
    "            fig_throttle.update_layout(\n",
    "                title=f'Lap {lap} - Throttle Input Analysis',\n",
    "                xaxis_title='Distance (m)',\n",
    "                yaxis_title='Throttle Input (0-1)',\n",
    "                height=400,\n",
    "                showlegend=False,\n",
    "                plot_bgcolor='white',\n",
    "                paper_bgcolor='white'\n",
    "            )\n",
    "            fig_throttle.update_xaxes(showgrid=True, gridwidth=1, gridcolor='lightgray')\n",
    "            fig_throttle.update_yaxes(showgrid=True, gridwidth=1, gridcolor='lightgray')\n",
    "            fig_throttle.show()\n",
    "\n",
    "            # 5) Brake Input Analysis (Separate for detailed analysis)\n",
    "            fig_brake = go.Figure()\n",
    "            fig_brake.add_trace(go.Scatter(\n",
    "                x=lap_df['Distance'], \n",
    "                y=lap_df['Brake'],\n",
    "                mode='lines',\n",
    "                line=dict(color=colors['brake'], width=3),\n",
    "                name='Brake',\n",
    "                hovertemplate='Distance: %{x:.1f}m<br>Brake: %{y:.3f}<extra></extra>'\n",
    "            ))\n",
    "            fig_brake.update_layout(\n",
    "                title=f'Lap {lap} - Brake Input Analysis',\n",
    "                xaxis_title='Distance (m)',\n",
    "                yaxis_title='Brake Input (0-1)',\n",
    "                height=400,\n",
    "                showlegend=False,\n",
    "                plot_bgcolor='white',\n",
    "                paper_bgcolor='white'\n",
    "            )\n",
    "            fig_brake.update_xaxes(showgrid=True, gridwidth=1, gridcolor='lightgray')\n",
    "            fig_brake.update_yaxes(showgrid=True, gridwidth=1, gridcolor='lightgray')\n",
    "            fig_brake.show()\n",
    "\n",
    "            # 6) Steering Input Analysis\n",
    "            fig_steering = go.Figure()\n",
    "            fig_steering.add_trace(go.Scatter(\n",
    "                x=lap_df['Distance'], \n",
    "                y=lap_df['Steering'],\n",
    "                mode='lines',\n",
    "                line=dict(color=colors['steering'], width=3),\n",
    "                name='Steering',\n",
    "                hovertemplate='Distance: %{x:.1f}m<br>Steering: %{y:.3f}<extra></extra>'\n",
    "            ))\n",
    "            fig_steering.update_layout(\n",
    "                title=f'Lap {lap} - Steering Input Analysis',\n",
    "                xaxis_title='Distance (m)',\n",
    "                yaxis_title='Steering Angle',\n",
    "                height=400,\n",
    "                showlegend=False,\n",
    "                plot_bgcolor='white',\n",
    "                paper_bgcolor='white'\n",
    "            )\n",
    "            fig_steering.update_xaxes(showgrid=True, gridwidth=1, gridcolor='lightgray')\n",
    "            fig_steering.update_yaxes(showgrid=True, gridwidth=1, gridcolor='lightgray')\n",
    "            fig_steering.show()\n",
    "\n",
    "    # Set up widget event handling and display\n",
    "    lap_selector.observe(plot_selected, names='value')\n",
    "    display(lap_selector, out)\n",
    "    \n",
    "    # Generate initial plot for default lap selection\n",
    "    plot_selected({'new': lap_selector.value})\n",
    "    \n",
    "except Exception as e:\n",
    "    print(\"⚠️  Interactive widgets not available or failed to initialize:\")\n",
    "    print(f\"   Error: {e}\")\n",
    "    print(\"\\n💡 Fallback: Use Section 4 (Comprehensive Dashboard) to view all laps sequentially.\")\n",
    "    print(\"   Or install ipywidgets: pip install ipywidgets\")"
   ]
  },
  {
   "cell_type": "markdown",
   "id": "b12bc1ef",
   "metadata": {},
   "source": [
    "---"
   ]
  },
  {
   "cell_type": "markdown",
   "id": "7ef83247",
   "metadata": {},
   "source": [
    "## 6. Data Export and Persistence"
   ]
  },
  {
   "cell_type": "markdown",
   "id": "6a5edd19",
   "metadata": {},
   "source": [
    "### 6.1 Investigate the distance issue before exporting"
   ]
  },
  {
   "cell_type": "code",
   "execution_count": 26,
   "id": "20e562ba",
   "metadata": {},
   "outputs": [
    {
     "name": "stdout",
     "output_type": "stream",
     "text": [
      "🔍 Distance columns investigation:\n",
      "Available columns related to distance:\n",
      "  ['DistanceTraveled_m', 'Distance', 'DistanceTraveled_m_Original']\n",
      "\n",
      "📊 Analysis per lap:\n",
      "\n",
      "Lap 1:\n",
      "  Distance: 0.0 - 6431.5 m\n",
      "  DistanceTraveled_m: 146.8 - 6578.4 m\n",
      "  DistanceTraveled_m_Original: 146.8 - 6578.4 m\n",
      "  Starts from ~0?: True\n",
      "  Lap length: 6431.5 m\n",
      "\n",
      "Lap 2:\n",
      "  Distance: 0.0 - 5748.6 m\n",
      "  DistanceTraveled_m: 6586.7 - 12335.3 m\n",
      "  DistanceTraveled_m_Original: 6586.7 - 12335.3 m\n",
      "  Starts from ~0?: True\n",
      "  Lap length: 5748.6 m\n"
     ]
    }
   ],
   "source": [
    "# Investigate distance issue before exporting\n",
    "print(\"🔍 Distance columns investigation:\")\n",
    "print(f\"Available columns related to distance:\")\n",
    "distance_cols = [col for col in df.columns if 'distance' in col.lower() or 'traveled' in col.lower()]\n",
    "print(f\"  {distance_cols}\")\n",
    "\n",
    "print(f\"\\n📊 Analysis per lap:\")\n",
    "for lap in available_laps:\n",
    "    lap_df = rows_for_lap(df, lap)\n",
    "    if not lap_df.empty:\n",
    "        print(f\"\\nLap {lap}:\")\n",
    "        print(f\"  Distance: {lap_df['Distance'].min():.1f} - {lap_df['Distance'].max():.1f} m\")\n",
    "        if 'DistanceTraveled_m' in lap_df.columns:\n",
    "            print(f\"  DistanceTraveled_m: {lap_df['DistanceTraveled_m'].min():.1f} - {lap_df['DistanceTraveled_m'].max():.1f} m\")\n",
    "        if 'DistanceTraveled_m_Original' in lap_df.columns:\n",
    "            print(f\"  DistanceTraveled_m_Original: {lap_df['DistanceTraveled_m_Original'].min():.1f} - {lap_df['DistanceTraveled_m_Original'].max():.1f} m\")\n",
    "        \n",
    "        # Check if Distance is actually normalized\n",
    "        first_distance = lap_df['Distance'].iloc[0]\n",
    "        last_distance = lap_df['Distance'].iloc[-1]\n",
    "        print(f\"  Starts from ~0?: {first_distance < 100}\")\n",
    "        print(f\"  Lap length: {last_distance - first_distance:.1f} m\")\n"
   ]
  },
  {
   "cell_type": "markdown",
   "id": "a4ca1ecb",
   "metadata": {},
   "source": [
    "### 6.2 Exporting the individual lap data"
   ]
  },
  {
   "cell_type": "code",
   "execution_count": 27,
   "id": "1b2a918f",
   "metadata": {},
   "outputs": [
    {
     "name": "stdout",
     "output_type": "stream",
     "text": [
      "✅ Exported Lap 1: 934 data points → ..\\TELEMETRY\\LAPS_OUTPUT\\lap_1_telemetry.csv\n",
      "   📏 Normalized distance range: 0.0 - 6431.5m\n",
      "✅ Exported Lap 2: 814 data points → ..\\TELEMETRY\\LAPS_OUTPUT\\lap_2_telemetry.csv\n",
      "   📏 Normalized distance range: 0.0 - 5748.6m\n"
     ]
    }
   ],
   "source": [
    "# Export individual lap data to separate CSV files for detailed analysis\n",
    "# This enables focused analysis of specific laps and external processing\n",
    "\n",
    "out_dir = Path(\"../TELEMETRY/LAPS_OUTPUT/\")\n",
    "out_dir.mkdir(exist_ok=True)\n",
    "\n",
    "exported_count = 0\n",
    "for lap in available_laps:\n",
    "    rows = rows_for_lap(df, lap)\n",
    "    if not rows.empty:\n",
    "        # Create clean export with normalized distance only\n",
    "        export_df = rows.copy()\n",
    "        \n",
    "        # Remove absolute distance columns to avoid confusion\n",
    "        columns_to_remove = []\n",
    "        if 'DistanceTraveled_m' in export_df.columns:\n",
    "            columns_to_remove.append('DistanceTraveled_m')\n",
    "        if 'DistanceTraveled_m_Original' in export_df.columns:\n",
    "            columns_to_remove.append('DistanceTraveled_m_Original')\n",
    "        \n",
    "        export_df = export_df.drop(columns=columns_to_remove)\n",
    "        \n",
    "        # Ensure Distance column is at the front for clarity\n",
    "        if 'Distance' in export_df.columns:\n",
    "            cols = ['Distance'] + [col for col in export_df.columns if col != 'Distance']\n",
    "            export_df = export_df[cols]\n",
    "        \n",
    "        filename = out_dir / f\"lap_{lap}_telemetry.csv\"\n",
    "        export_df.to_csv(filename, index=False)\n",
    "        exported_count += 1\n",
    "        \n",
    "        # Verify the exported data\n",
    "        distance_range = f\"{export_df['Distance'].min():.1f} - {export_df['Distance'].max():.1f}m\"\n",
    "        print(f\"✅ Exported Lap {lap}: {len(rows):,} data points → {filename}\")\n",
    "        print(f\"   📏 Normalized distance range: {distance_range}\")\n",
    "\n"
   ]
  },
  {
   "cell_type": "markdown",
   "id": "05967d2d",
   "metadata": {},
   "source": [
    "#### 6.2.1 Export Summary"
   ]
  },
  {
   "cell_type": "code",
   "execution_count": 28,
   "id": "e9075f0c",
   "metadata": {},
   "outputs": [
    {
     "name": "stdout",
     "output_type": "stream",
     "text": [
      "\n",
      "📊 Export Summary:\n",
      "   Total laps exported: 2\n",
      "   Output directory: c:\\Users\\victo\\Desktop\\Documents\\Cuarto Año\\Primer Cuatrimestre\\F1_AC_Digital_Twin\\data-analytics\\..\\TELEMETRY\\LAPS_OUTPUT\n",
      "   ✅ Using normalized distance (0-based per lap)\n",
      "   ❌ Absolute distance columns removed to avoid confusion\n",
      "\n",
      "   Files can be used for:\n",
      "   • Individual lap performance analysis\n",
      "   • Machine learning model training\n",
      "   • External data visualization tools\n",
      "   • Comparative lap analysis\n"
     ]
    }
   ],
   "source": [
    "print(f\"\\n📊 Export Summary:\")\n",
    "print(f\"   Total laps exported: {exported_count}\")\n",
    "print(f\"   Output directory: {out_dir.absolute()}\")\n",
    "print(f\"   ✅ Using normalized distance (0-based per lap)\")\n",
    "print(f\"   ❌ Absolute distance columns removed to avoid confusion\")\n",
    "print(f\"\\n   Files can be used for:\")\n",
    "print(f\"   • Individual lap performance analysis\")\n",
    "print(f\"   • Machine learning model training\")\n",
    "print(f\"   • External data visualization tools\")\n",
    "print(f\"   • Comparative lap analysis\")"
   ]
  },
  {
   "cell_type": "markdown",
   "id": "3ea5c48e",
   "metadata": {},
   "source": [
    "---"
   ]
  }
 ],
 "metadata": {
  "kernelspec": {
   "display_name": "F1_AC_Digital_Twin_Env",
   "language": "python",
   "name": "python3"
  },
  "language_info": {
   "codemirror_mode": {
    "name": "ipython",
    "version": 3
   },
   "file_extension": ".py",
   "mimetype": "text/x-python",
   "name": "python",
   "nbconvert_exporter": "python",
   "pygments_lexer": "ipython3",
   "version": "3.11.13"
  }
 },
 "nbformat": 4,
 "nbformat_minor": 5
}
